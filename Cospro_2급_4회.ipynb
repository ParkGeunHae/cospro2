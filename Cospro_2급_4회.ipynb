{
  "nbformat": 4,
  "nbformat_minor": 0,
  "metadata": {
    "colab": {
      "provenance": [],
      "toc_visible": true,
      "include_colab_link": true
    },
    "kernelspec": {
      "name": "python3",
      "display_name": "Python 3"
    },
    "language_info": {
      "name": "python"
    }
  },
  "cells": [
    {
      "cell_type": "markdown",
      "metadata": {
        "id": "view-in-github",
        "colab_type": "text"
      },
      "source": [
        "<a href=\"https://colab.research.google.com/github/ParkGeunHae/cospro2/blob/main/Cospro_2%EA%B8%89_4%ED%9A%8C.ipynb\" target=\"_parent\"><img src=\"https://colab.research.google.com/assets/colab-badge.svg\" alt=\"Open In Colab\"/></a>"
      ]
    },
    {
      "cell_type": "markdown",
      "source": [
        "## 채우기"
      ],
      "metadata": {
        "id": "lAqCj9mgZ-9-"
      }
    },
    {
      "cell_type": "markdown",
      "metadata": {
        "id": "IlaFdFY1d8sx"
      },
      "source": [
        "### 문제 1. 상담일정\n",
        "\n",
        "학생 10명이 상담을 받기 위해 매일 한 명씩, 순서대로 상담실을 찾아갑니다. 상담은 상담 선생님이 계실 때에만 상담을 받을 수 있습니다. 또한 한번 상담실을 방문한 학생은 다시 상담실에 찾아가지 않습니다. 선생님의 일정표가 주어질 때, 누가 상담을 받지 못했는지 알고 싶습니다. 일정표에는 선생님이 있는 날엔 \"O\"가, 없는 날엔 \"X\"가 표시됩니다.\n",
        "\n",
        "예를 들어, 선생님의 일정이 [\"O\", \"X\", \"X\", \"O\", \"O\", \"O\", \"X\", \"O\", \"X\", \"X\"]라면 2번, 3번, 7번, 9번, 10번의 학생은 상담을 받지 못합니다.\n",
        "\n",
        "선생님의 일정을 담은 배열 schedule이 매개변수로 주어질 때, 상담을 받지 못한 학생의 번호를 오름차순으로 정렬하여 return 하도록 solution 함수를 작성하려 합니다. 빈칸을 채워 전체 코드를 완성해주세요.\n",
        "\n",
        "\n",
        "▣ 매개변수 설명\n",
        "\n",
        "선생님의 일정을 담은 배열 schedule이 solution 함수의 매개변수로 주어집니다.\n",
        "* schedule의 원소는 \"O\" 또는 \"X\"입니다.\n",
        "* schedule은 길이가 10인 배열입니다.\n",
        "\n",
        "▣ return값 설명\n",
        "\n",
        "상담을 받지 못한 학생들의 번호를 오름차순으로 정렬하여 return합니다.\n",
        "\n",
        "▣ 예시\n",
        "\n",
        "    | schedule                                           | return           |\n",
        "    |----------------------------------------------------|------------------|\n",
        "    | [\"O\", \"X\", \"X\", \"O\", \"O\", \"O\", \"X\", \"O\", \"X\", \"X\"] | [2, 3, 7, 9, 10] |\n",
        "\n",
        "▣ 예시 설명\n",
        "\n",
        "1일, 4일, 5일, 6일, 8일에만 선생님이 상담실에 있으므로 2번, 3번, 7번, 9번, 10번 학생은 상담을 받지 못합니다.\n"
      ]
    },
    {
      "cell_type": "code",
      "metadata": {
        "id": "B-tEfXz2dxUG"
      },
      "source": [
        "def solution(schedule):\n",
        "    answer = []\n",
        "    for idx, i in enumerate(schedule):\n",
        "        if i == @@@:\n",
        "            answer.append(@@@)\n",
        "    return answer\n",
        "\n",
        "# 아래는 테스트케이스 출력을 해보기 위한 코드입니다.\n",
        "schedule = [\"O\", \"X\", \"X\", \"O\", \"O\", \"O\", \"X\", \"O\", \"X\", \"X\"]\n",
        "ret = solution(schedule)\n",
        "\n",
        "# [실행] 버튼을 누르면 출력 값을 볼 수 있습니다.\n",
        "print(\"solution 함수의 반환 값은\", ret, \"입니다.\")"
      ],
      "execution_count": null,
      "outputs": []
    },
    {
      "cell_type": "markdown",
      "metadata": {
        "id": "CZxg16zSeFTb"
      },
      "source": [
        "### 문제 2. 체력시험 합격인원\n",
        "체력시험 합격 인원을 알아보려고 합니다. 체력시험 종목으로는 윗몸일으키기, 팔굽혀펴기, 달리기가 있습니다. 종목별 합격기준은 다음과 같습니다.\n",
        "\n",
        "    | 윗몸일으키기 | 팔굽혀펴기 | 달리기    |\n",
        "    |--------------|------------|-----------|\n",
        "    | 80점 이상    | 88점 이상  | 70점 이상 |\n",
        "\n",
        "* 통과한 종목이 하나 이하거나, 통과 점수의 반을 넘기지 못한 종목이 있다면 불합격입니다.\n",
        "* 그 외에는 합격입니다.\n",
        "\n",
        "시험에 합격한 인원을 구하기 위해 다음과 같이 프로그램 구조를 작성했습니다.\n",
        "1. 통과한 종목이 몇 개인지 셉니다.\n",
        "2. 통과 점수의 반을 넘기지 못한 종목이 몇 개인지 셉니다.\n",
        "3. 통과한 종목이 하나보다 많고 통과 점수의 반을 넘기지 못한 종목이 없으면 통과한 인원으로 셉니다.\n",
        "\n",
        "각 종목 기록을 담고 있는 배열 scores가 매개변수로 주어질 때, 시험에 합격한 인원을 return 하도록 solution 함수를 작성하려 합니다. 위 구조를 참고하여 코드가 올바르게 동작할 수 있도록 빈칸에 주어진 func_a, func_b func_c 함수와 매개변수를 알맞게 채워주세요.\n",
        "\n",
        "\n",
        "▣ 매개변수 설명\n",
        "\n",
        "각 종목 기록을 담고 있는 배열 scores가 solution 함수의 매개변수로 주어집니다.\n",
        "* scores에는 윗몸일으키기, 팔굽혀펴기, 달리기 점수가 차례로 들어있습니다.\n",
        "* scores의 원소는 0 이상 100 이하인 정수입니다.\n",
        "* scores의 길이는 0 이상 10,000 이하인 정수입니다.\n",
        "\n",
        "▣ return값 설명\n",
        "\n",
        "시험에 합격한 인원을 return합니다.\n",
        "\n",
        "▣ 예시\n",
        "\n",
        "    | score                                                                                  | return |\n",
        "    |----------------------------------------------------------------------------------------|--------|\n",
        "    | [[30, 40, 100], [97, 88, 95]]                                                          | 1      |\n",
        "    | [[90, 88, 70], [85, 90, 90], [100, 100, 70], [30, 90, 80], [40, 10, 20], [83, 88, 80]] | 4      |\n",
        "\n",
        "▣ 예시 설명\n",
        "\n",
        "예시 #1\n",
        "\n",
        "1번째 사람은 윗몸일으키기 30점, 팔굽혀펴기 40점으로 합격 점수의 반을 통과하지 못해 불합격입니다.\n",
        "2번째 사람은 윗몸일으키기 97점, 팔굽혀펴기 88점, 달리기 95점으로 모두 통과하여 합격입니다. 따라서 총 1명이 합격하였습니다.\n",
        "\n",
        "예시 #2\n",
        "\n",
        "1번째, 2번째, 3번째, 6번째 사람이 합격 기준을 만족하여 총 4명이 합격하였습니다.\n",
        "\n"
      ]
    },
    {
      "cell_type": "code",
      "metadata": {
        "id": "ej-C-uqDedzx"
      },
      "source": [
        "def func_a(passed, non_passed):\n",
        "    return ( passed > 1 and non_passed ==0 )\n",
        "\n",
        "def func_b(scores):\n",
        "    answer = 0\n",
        "    if scores[0] < 40:\n",
        "        answer += 1\n",
        "    if scores[1] < 44:\n",
        "        answer += 1\n",
        "    if scores[2] < 35:\n",
        "        answer += 1\n",
        "    return answer\n",
        "\n",
        "def func_c(scores):\n",
        "    answer = 0\n",
        "    if scores[0] >= 80:\n",
        "        answer += 1\n",
        "    if scores[1] >= 88:\n",
        "        answer += 1\n",
        "    if scores[2] >= 70:\n",
        "        answer += 1\n",
        "    return answer\n",
        "\n",
        "def solution(scores):\n",
        "    answer = 0\n",
        "    for my_score in scores:\n",
        "        passed = func_@@@(@@@)\n",
        "        non_passed = func_@@@(@@@)\n",
        "        answer += func_@@@(@@@, @@@)\n",
        "    return answer\n",
        "\n",
        "#아래는 테스트케이스 출력을 해보기 위한 코드입니다.\n",
        "scores1 = [[30, 40, 100], [97, 88, 95]]\n",
        "ret1 = solution(scores1)\n",
        "\n",
        "#[실행] 버튼을 누르면 출력 값을 볼 수 있습니다.\n",
        "print(\"solution 함수의 반환 값은\", ret1, \"입니다.\")\n",
        "\n",
        "scores2 = [[90, 88, 70], [85, 90, 90], [100, 100, 70], [30, 90, 80], [40, 10, 20], [83, 88, 80]]\n",
        "ret2 = solution(scores2)\n",
        "\n",
        "#[실행] 버튼을 누르면 출력 값을 볼 수 있습니다.\n",
        "print(\"solution 함수의 반환 값은\", ret2, \"입니다.\")"
      ],
      "execution_count": null,
      "outputs": []
    },
    {
      "cell_type": "markdown",
      "metadata": {
        "id": "4b5e-JHyeeUA"
      },
      "source": [
        "### 문제 3.카드 게임\n",
        " A와 B가 카드 게임을 할 때, 누가 더 많은 점수를 획득했는지, 또 획득한 점수는 몇 점인지 알아보려고 합니다. 게임 규칙은 다음과 같습니다.\n",
        "* 알파벳 a, b, c, d, e가 적힌 카드뭉치가 있습니다.\n",
        "* A와 B가 서로 번갈아 가면서 n장씩 카드를 뽑습니다.\n",
        "* 소유한 카드 점수를 합산합니다. 알파벳 카드 한 장당 a = 1점, b = 2점, c = 3점, d = 4점, e = 5점으로 점수를 계산합니다.\n",
        "* 점수가 높은 사람이 승리합니다.\n",
        "\n",
        "게임에서 이긴 사람과 획득 점수를 구하기 위해 다음과 같이 프로그램 구조를 작성했습니다.\n",
        "\n",
        "1. A와 B가 번갈아가며 가져간 카드를 각각 배열에 넣습니다.\n",
        "2. A와 B가 각각 획득한 점수를 구합니다.\n",
        "3. 획득한 점수가 큰 사람과 획득한 점수를 순서대로 배열에 담아 return 합니다.\n",
        "\n",
        "뽑아야 하는 카드 개수 n과 카드를 나타내는 문자열 bundle이 매개변수로 주어질 때, 이긴 사람과 점수를 return 하도록 solution 함수를 작성하려 합니다. 위 구조를 참고하여 코드가 올바르게 동작할 수 있도록 빈칸에 주어진 func_a, func_b, func_c 함수와 매개변수를 알맞게 채워주세요.\n",
        "\n",
        "\n",
        "▣ 매개변수 설명\n",
        "\n",
        "뽑아야 하는 카드 개수 n과 카드를 나타내는 문자열 bundle이 solution함수의 매개변수로 주어집니다.\n",
        "* n은 1 이상 25 이하인 자연수입니다.\n",
        "* bundle은 모두 알파벳 소문자입니다.\n",
        "* bundle의 길이는 2이상 2*n이하입니다.\n",
        "\n",
        "▣ return값 설명\n",
        "\n",
        "이긴 사람과 획득한 점수를 return합니다.\n",
        "A가 이겼을 경우에는 1, B가 이겼을 경우에는 2, 무승부일 경우에는 0을 return 해주세요.\n",
        "\n",
        "▣ 예시\n",
        "\n",
        "    | n | bundle         | return  |\n",
        "    |---|----------------|---------|\n",
        "    | 4 | \"cacdbdedccbb\" | [0, 13] |\n",
        "\n",
        "▣ 예시 설명\n",
        "\n",
        "A는 c, c, b, e 카드를 뽑았고 B는 a, d, d, d 카드를 뽑았습니다. A가 획득한 점수는 13점이고 B가 획득한 점수는 13점입니다. 둘다 13점을 획득하여 게임은 무승부로 끝납니다.\n",
        "\n"
      ]
    },
    {
      "cell_type": "code",
      "metadata": {
        "id": "ge4nYhcUemTp"
      },
      "source": [
        "def func_a(bundle, start):\n",
        "    return bundle[start::2]\n",
        "\n",
        "def func_b(score1, score2):\n",
        "    if score1 > score2:\n",
        "        return [1, score1]\n",
        "    elif score2 > score1:\n",
        "        return [2, score2]\n",
        "    else:\n",
        "        return [0, score1]\n",
        "\n",
        "def func_c(bundle):\n",
        "    answer = 0\n",
        "    score_per_cards = {\n",
        "        'a': 1,\n",
        "        'b': 2,\n",
        "        'c': 3,\n",
        "        'd': 4,\n",
        "        'e': 5\n",
        "    }\n",
        "    for card in bundle:\n",
        "        answer += score_per_cards[card]\n",
        "    return answer\n",
        "\n",
        "def solution(n, bundle):\n",
        "    a_cards = func_a(@@@, @@@)[:n]\n",
        "    b_cards = func_a(@@@, @@@)[:n]\n",
        "    a_score = func_c(@@@)\n",
        "    b_score = func_c(@@@)\n",
        "    return func_b(@@@, @@@)\n",
        "\n",
        "#아래는 테스트케이스 출력을 해보기 위한 코드입니다.\n",
        "n = 4\n",
        "bundle = \"cacdbdedccbb\"\n",
        "ret = solution(n, bundle)\n",
        "\n",
        "#[실행] 버튼을 누르면 출력 값을 볼 수 있습니다.\n",
        "print(\"solution 함수의 반환 값은\", ret, \"입니다.\")"
      ],
      "execution_count": null,
      "outputs": []
    },
    {
      "cell_type": "markdown",
      "metadata": {
        "id": "74-paR9hemrr"
      },
      "source": [
        "### 문제 4. 필요한 조교 수\n",
        "프로그래밍 수업 n개를 동시에 진행할 때, 필요한 조교 수를 알아보려고 합니다. 조교 1명이 m명의 학생을 담당합니다.\n",
        "교실별 학생 수 classes, 조교 1명이 담당하는 학생 수 m이 매개변수로 주어질 때, 수업을 진행하기 위한 조교 수를 return 하는 solution 함수를 작성하려 합니다. 빈칸을 채워 전체 코드를 완성해주세요.\n",
        "\n",
        "\n",
        "▣ 매개변수 설명\n",
        "\n",
        "교실별 학생 수 classes, 조교 1명이 담당하는 학생 수 m이 solution 함수의 매개변수로 주어집니다.\n",
        "* classes의 원소는 0이상 1,000이하인 정수입니다.\n",
        "* classes의 길이는 1이상 1,000이하인 자연수입니다.\n",
        "* m은 1이상 1,000이하인 자연수입니다.\n",
        "\n",
        "▣ return값 설명\n",
        "\n",
        "수업을 진행하기 위한 조교 수를 return합니다.\n",
        "\n",
        "▣ 예시\n",
        "\n",
        "    | classes          | m | return |\n",
        "    |------------------|---|--------|\n",
        "    | [80, 45, 33, 20] | 30 | 8     |\n",
        "\n",
        "▣ 예시 설명\n",
        "\n",
        "예시 #1\n",
        "\n",
        "반마다 학생 수가 80명, 45명, 33명, 20명이고 조교 1명이 학생 30명을 담당합니다. 반마다 필요한 조교 수는 3명, 2명, 2명, 1명으로 총 8명의 조교가 필요합니다.\n"
      ]
    },
    {
      "cell_type": "code",
      "metadata": {
        "id": "GXM3z612e1LN"
      },
      "source": [
        "def solution(classes, m):\n",
        "    answer = 0\n",
        "    for students in classes:\n",
        "        answer += students @@@ m\n",
        "        if students @@@ m != 0:\n",
        "            answer += 1\n",
        "    return answer\n",
        "\n",
        "# 아래는 테스트케이스 출력을 해보기 위한 코드입니다.\n",
        "classes = [80, 45, 33, 20]\n",
        "m = 30\n",
        "ret = solution(classes, m)\n",
        "\n",
        "# [실행] 버튼을 누르면 출력 값을 볼 수 있습니다.\n",
        "print(\"solution 함수의 반환 값은\", ret, \"입니다.\")"
      ],
      "execution_count": null,
      "outputs": []
    },
    {
      "cell_type": "markdown",
      "source": [
        "## 한 줄 바꾸기"
      ],
      "metadata": {
        "id": "WrU1FgAyaBnm"
      }
    },
    {
      "cell_type": "markdown",
      "metadata": {
        "id": "hPv4RBYOe3C3"
      },
      "source": [
        "### 문제 5. 식단 총열량\n",
        "열량이 적힌 식단표가 있습니다.\n",
        "다이어트를 하는 A 씨는 오늘 먹는 열량이 그동안 먹은 식단의 열량 중 최솟값보다 큰 경우 운동을 하여 그 차이만큼을 소모합니다.\n",
        "\n",
        "예를 들어, 식단의 열량이 [713, 665, 873, 500, 751]이라면 둘째 날까지는 운동을 하지 않습니다. 셋째 날 식단의 열량이 873이고 그 전의 먹은 열량의 최솟값이 665이므로 208 열량을 소모하기 위한 운동을 합니다. 넷째 날은 운동을 하지 않고 다섯째 날 식단의 열량이 751이고 그 전의 먹은 열량의 최솟값이 500이므로 251 열량을 소모하기 위한 운동을 합니다. 따라서 운동으로 소모하는 총열량은 459입니다.\n",
        "\n",
        "식단의 열량을 담고 있는 배열 calorie가 매개변수로 주어질 때, 운동으로 소모하는 총열량을 return 하도록 solution 함수를 작성했습니다. 그러나, 코드 일부분이 잘못되어있기 때문에, 몇몇 입력에 대해서는 올바르게 동작하지 않습니다. 주어진 코드에서 <U>**한 줄**</U>만 변경해서 모든 입력에 대해 올바르게 동작하도록 수정하세요.\n",
        "\n",
        "\n",
        "▣ 매개변수 설명\n",
        "\n",
        "식단의 열량을 담고 있는 배열 calorie가 solution 함수의 매개변수로 주어집니다.\n",
        "* calorie의 각 원소는 0보다 크고 1,000보다 작거나 같은 자연수입니다.\n",
        "* calorie의 길이는 0보다 크고 100보다 작거나 같은 자연수입니다.\n",
        "\n",
        "▣ return 값 설명\n",
        "\n",
        "운동으로 소모하는 총열량을 return 해주세요.\n",
        "\n",
        "▣ 예시\n",
        "\n",
        "    | calorie                   | return |\n",
        "    |---------------------------|--------|\n",
        "    | [713, 665, 873, 500, 751] | 459     |\n",
        "\n",
        "▣ 예시 설명\n",
        "\n",
        "문제의 예와 같습니다.\n"
      ]
    },
    {
      "cell_type": "code",
      "metadata": {
        "id": "tb91gibgfC3A"
      },
      "source": [
        "def solution(calorie):\n",
        "    min_cal = 0\n",
        "    answer = 0\n",
        "    for cal in calorie:\n",
        "        if cal > min_cal:\n",
        "            answer += cal - min_cal\n",
        "        min_cal = min(min_cal, cal)\n",
        "    return answer\n",
        "\n",
        "# 아래는 테스트케이스 출력을 해보기 위한 코드입니다. 아래에는 잘못된 부분이 없으니, 위의 코드만 수정하세요.\n",
        "calorie = [713, 665, 873, 500, 751]\n",
        "ret = solution(calorie)\n",
        "\n",
        "# [실행] 버튼을 누르면 출력 값을 볼 수 있습니다.\n",
        "print(\"solution 함수의 반환 값은\", ret, \"입니다.\")"
      ],
      "execution_count": null,
      "outputs": []
    },
    {
      "cell_type": "markdown",
      "metadata": {
        "id": "MtpZIxtyfDQS"
      },
      "source": [
        "### 문제 6.포인트 사용\n",
        "적립된 포인트를 최대한으로 사용하려고 합니다. 포인트를 사용하는 규칙은 다음과 같습니다.\n",
        "\n",
        "* 포인트는 100포인트 단위로 사용합니다.\n",
        "* 1000포인트 이상 있을 때만 포인트를 사용할 수 있습니다.\n",
        "\n",
        "적립된 포인트 point가 매개변수로 주어질 때, 최대 몇 포인트를 쓸 수 있는지 return 하도록 solution 함수를 작성했습니다. 그러나, 코드 일부분이 잘못되어있기 때문에, 몇몇 입력에 대해서는 올바르게 동작하지 않습니다. 주어진 코드에서 <U>**한 줄**</U>만 변경해서 모든 입력에 대해 올바르게 동작하도록 수정하세요.\n",
        "\n",
        "\n",
        "▣ 매개변수 설명\n",
        "\n",
        "적립된 포인트 point가 solution함수의 매개변수로 주어집니다.\n",
        "* point는 0 이상 1,000,000 이하인 정수입니다.\n",
        "\n",
        "▣ return 값 설명\n",
        "\n",
        "최대 몇 포인트를 쓸 수 있는지 return합니다\n",
        "\n",
        "▣ 예시\n",
        "\n",
        "    | point | return |\n",
        "    |-------|--------|\n",
        "    | 2323  | 2300   |\n",
        "\n",
        "▣ 예시 설명\n",
        "\n",
        "적립된 포인트가 2323포인트라면 최대로 사용 가능한 포인트는 2300포인트입니다.\n",
        "\n"
      ]
    },
    {
      "cell_type": "code",
      "metadata": {
        "id": "7dnTNPvHfJwy"
      },
      "source": [
        "def solution(point):\n",
        "    if point < 1000:\n",
        "        return 0\n",
        "    return point * 100 // 100\n",
        "\n",
        "# 아래는 테스트케이스 출력을 해보기 위한 코드입니다. 아래에는 잘못된 부분이 없으니, 위의 코드만 수정하세요.\n",
        "point = 2323\n",
        "ret = solution(point)\n",
        "\n",
        "# [실행] 버튼을 누르면 출력 값을 볼 수 있습니다.\n",
        "print(\"solution 함수의 반환 값은\", ret, \"입니다.\")"
      ],
      "execution_count": null,
      "outputs": []
    },
    {
      "cell_type": "markdown",
      "metadata": {
        "id": "jUNGj-csfKGN"
      },
      "source": [
        "### 문제 7. 시험 점수\n",
        "중간시험 점수와 기말시험 점수가 있습니다. 이를 바탕으로 점수가 가장 많이 오른 학생의 점수 차이와 가장 많이 떨어진 학생의 점수 차이를 구하려 합니다. 이를 위해 다음과 같이 프로그램 구조를 작성했습니다.\n",
        "\n",
        "1. 각 학생에 대하여 기말고사 점수에서 중간고사 점수를 뺀 값의 최댓값을 구합니다.\n",
        "2. 각 학생에 대하여 기말고사 점수에서 중간고사 점수를 뺀 값의 최솟값을 구합니다.\n",
        "3. 1번과 2번 과정에서 구한 점수를 배열에 담아 return 합니다.\n",
        "\n",
        "예를 들어 중간시험 점수가 [20, 50, 40]이고, 기말시험 점수가 [10, 50, 70]이면, 학생의 시험 점수 차이는 [-10, 0, 30]입니다. 따라서 성적이 가장 많이 오른 학생은 30점이 올랐습니다. 그리고 성적이 가장 많이 떨어진 학생은 10점이 떨어졌습니다.\n",
        "\n",
        "학번순으로 중간시험 점수를 담은 배열 mid_scores와 학번순으로 기말시험 점수를 담은 배열 final_scores가 solution 함수의 매개변수로 주어집니다. 이 때 성적이 가장 많이 오른 학생의 점수 차이를 **배열 첫 번째 원소** 로, 성적이 가장 많이 떨어진 학생의 점수 차이를 **두 번째 원소** 로 담은 배열을 return 하도록 solution 함수를 작성했습니다. 그러나, 코드 일부분이 잘못되어있기 때문에, 몇몇 입력에 대해서는 올바르게 동작하지 않습니다. 주어진 코드에서 <U>**한 줄**</U>만 변경해서 모든 입력에 대해 올바르게 동작하도록 수정하세요.\n",
        "\n",
        "\n",
        "▣ 매개변수 설명\n",
        "\n",
        "학번순으로 중간시험 점수를 담은 배열 mid_scores와 학번순으로 기말시험 점수를 담은 배열 final_scores가 solution 함수의 매개변수로 주어집니다.\n",
        "* 시험 점수는 100 이하인 자연수입니다.\n",
        "* mid_scores의 길이는 5 이상 50 이하입니다.\n",
        "* 배열 mid_scores의 길이와 배열 final_scores의 길이는 같습니다.\n",
        "\n",
        "▣ return 값 설명\n",
        "\n",
        "성적이 가장 많이 오른 학생의 점수 차이를 **배열 첫 번째 원소** 로 하고,  성적이 가장 많이 떨어진 학생의 점수 차이를 **두 번째 원소** 로 담은 배열을 return 해주세요.\n",
        "* 점수가 오른 학생이 없으면 첫 번째 원소에 0을 넣고, 점수가 떨어진 학생이 없으면 두 번째 원소에 0을 넣도록 합니다.\n",
        "\n",
        "▣ 예시\n",
        "\n",
        "    | mid_scores   |final_scores |return   |\n",
        "    |--------------|-------------|---------|\n",
        "    | [20, 50, 40] | [10, 50, 70]|[30, -10]|\n"
      ]
    },
    {
      "cell_type": "code",
      "metadata": {
        "id": "2VvmsjDkh0Xk"
      },
      "source": [
        "def func_a(scores1, scores2):\n",
        "    answer = 0\n",
        "    for score1, score2 in zip(scores1, scores2):\n",
        "        answer = max(answer, score2 - score1)\n",
        "    return answer\n",
        "\n",
        "def func_b(scores1, scores2):\n",
        "    answer = 0\n",
        "    for score1, score2 in zip(scores1, scores2):\n",
        "        answer = min(answer, score1 - score2)\n",
        "    return answer\n",
        "\n",
        "def solution(mid_scores, final_scores):\n",
        "    up = func_a(mid_scores, final_scores)\n",
        "    down = func_b(mid_scores, final_scores)\n",
        "    answer = [up, down]\n",
        "    return answer\n",
        "\n",
        "# 아래는 테스트케이스 출력을 해보기 위한 코드입니다. 아래에는 잘못된 부분이 없으니, 위의 코드만 수정하세요.\n",
        "mid_scores = [20, 50, 40]\n",
        "final_scores = [10, 50, 70]\n",
        "ret = solution(mid_scores, final_scores)\n",
        "\n",
        "# [실행] 버튼을 누르면 출력 값을 볼 수 있습니다.\n",
        "print(\"solution 함수의 반환 값은\", ret, \"입니다.\")"
      ],
      "execution_count": null,
      "outputs": []
    },
    {
      "cell_type": "markdown",
      "metadata": {
        "id": "_WG4TPuJh0vd"
      },
      "source": [
        "### 문제 8. 투표 결과\n",
        "1번부터 n번까지의 후보에 대한 투표 결과가 주어질 때, 과반수를 득표한 후보자의 번호를 구하려고 합니다. 여기서 과반수란 절반이 넘는 수를 의미합니다.\n",
        "\n",
        "예를 들어, 1번부터 3번까지의 후보에 대한 투표 결과가 [1, 2, 1, 3, 1, 2, 1]이라면 순서대로 [1번, 2번, 1번, 3번, 1번, 2번, 1번] 후보에 투표했음을 나타내고, 이 경우 당선된 후보자의 번호는 1번입니다.\n",
        "\n",
        "후보의 수 n, 투표 결과가 담긴 배열 votes가 매개변수로 주어질 때, 과반수를 득표한 후보자의 번호를 return 하도록 solution 함수를 작성했습니다. 그러나, 코드 일부분이 잘못되어있기 때문에, 몇몇 입력에 대해서는 올바르게 작동하지 않습니다. 주어진 코드에서 <U>**한 줄**</U>만 변경해서 모든 입력에 대해 올바르게 동작하도록 수정하세요.\n",
        "\n",
        "\n",
        "▣ 매개변수 설명\n",
        "\n",
        "후보의 수 n, 투표 결과가 담긴 배열 votes가 solution 함수의 매개변수로 주어집니다.\n",
        "* n은 1 이상 100 이하의 자연수입니다.\n",
        "* votes의 길이는 1 이상 1,000 이하의 자연수입니다.\n",
        "* votes의 각 원소는 1 이상 n 이하의 자연수입니다.\n",
        "\n",
        "▣ return 값 설명\n",
        "\n",
        "과반수를 득표한 후보자의 번호를 return 해주세요.\n",
        "* 만약, 과반수를 득표한 후보자가 없다면 -1을 return 해주세요.\n",
        "\n",
        "▣ 예시\n",
        "\n",
        "    | n | votes           | return |\n",
        "    |---|-----------------|--------|\n",
        "    | 3 | [1,2,1,3,1,2,1] | 1      |\n",
        "    | 2 | [2,1,2,1,2,2,1] | 2      |\n",
        "\n",
        "▣ 예시 설명\n",
        "\n",
        "예시 #1\n",
        "\n",
        "1번부터 3번까지의 후보 3명이 있으며, 투표 결과는 [1, 2, 1, 3, 1, 2, 1]입니다.\n",
        "총 투표 수는 7표이며, 1번 후보가 4표, 2번 후보가 2표, 3번 후보가 1표씩 받았습니다.\n",
        "이 경우, 1번 후보가 과반수를 득표하였으므로 1을 return 합니다.\n",
        "\n",
        "예시 #2\n",
        "\n",
        "1번부터 2번까지의 후보 2명이 있으며, 투표 결과는 [2, 1, 2, 1, 2, 2, 1]입니다.\n",
        "총 투표 수는 7표이며, 1번 후보는 3표, 2번 후보는 4표를 받았습니다.\n",
        "이 경우, 2번 후보가 과반수를 득표하였으므로 2를 return 합니다.\n"
      ]
    },
    {
      "cell_type": "code",
      "metadata": {
        "id": "B9lsgAS5h64Z"
      },
      "source": [
        "def solution(n, votes):\n",
        "    arr = [0] * (n + 1)\n",
        "    for vote in votes:\n",
        "        arr[vote] += 1\n",
        "\n",
        "    for i in range(1, n+1):\n",
        "        if arr[i] > n/2:\n",
        "            return i\n",
        "    return -1\n",
        "\n",
        "# 아래는 테스트케이스 출력을 해보기 위한 코드입니다. 아래에는 잘못된 부분이 없으니, 위의 코드만 수정하세요.\n",
        "n1 = 3\n",
        "votes1 = [1, 2, 1, 3, 1, 2, 1]\n",
        "ret1 = solution(n1, votes1)\n",
        "\n",
        "# [실행] 버튼을 누르면 출력 값을 볼 수 있습니다.\n",
        "print(\"solution 함수의 반환 값은 \", ret1, \" 입니다.\")\n",
        "\n",
        "n2 = 2\n",
        "votes2 = [2, 1, 2, 1, 2, 2, 1]\n",
        "ret2 = solution(n2, votes2)\n",
        "\n",
        "# [실행] 버튼을 누르면 출력 값을 볼 수 있습니다.\n",
        "print(\"solution 함수의 반환 값은 \", ret2, \" 입니다.\")"
      ],
      "execution_count": null,
      "outputs": []
    },
    {
      "cell_type": "markdown",
      "source": [
        "## 함수 작성"
      ],
      "metadata": {
        "id": "gVlf5buBaEj0"
      }
    },
    {
      "cell_type": "markdown",
      "metadata": {
        "id": "7x3EUYZqh_sY"
      },
      "source": [
        "### 문제 9.위험지역\n",
        "4 x 4 크기 격자 모양 지형에 위험 지역이 몇개인지 알고 싶습니다. 위험지역이란 동, 서, 남, 북 인접한 지역이 모두 해당 지역보다 높은 지역입니다. 예를 들어 지역 높이가 아래와 같다면\n",
        "\n",
        "![image.png](data:image/png;base64,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)\n",
        "\n",
        "빨간 영역은 인접한 지역이 모두 해당 지역보다 높은 위험지역입니다.\n",
        "\n",
        "지역별 높이가 담긴 2차원 배열 height가 solution 함수의 매개변수로 주어질 때, 위험 지역이 몇 개인지 return 하도록 solution 함수를 완성해주세요.\n",
        "\n",
        "▣ 매개변수 설명\n",
        "지역별 높이가 담긴 2차원 배열 height가 solution 함수의 매개변수로 주어집니다.\n",
        "* 각 지역의 높이는 1 이상 50 이하인 자연수입니다.\n",
        "\n",
        "▣ return 값 설명\n",
        "위험지역이 몇 개인지 return 해주세요.\n",
        "\n",
        "▣ 예시\n",
        "\n",
        "    | height                                                   | return |\n",
        "    |----------------------------------------------------------|--------|\n",
        "    | [[3, 6, 2, 8], [7, 3, 4, 2], [8, 6, 7, 3], [5, 3, 2, 9]] | 5      |\n",
        "\n",
        "▣ 예시 설명\n",
        "문제에 나온 예와 같습니다.\n",
        "\n"
      ]
    },
    {
      "cell_type": "code",
      "metadata": {
        "id": "MtYoKzoKiKFw"
      },
      "source": [
        "#다음과 같이 import를 사용할 수 있습니다.\n",
        "#import math\n",
        "\n",
        "def solution(height):\n",
        "    #여기에 코드를 작성해주세요.\n",
        "    count = 0\n",
        "    return count\n",
        "\n",
        "#아래는 테스트케이스 출력을 해보기 위한 코드입니다.\n",
        "height = [[3, 6, 2, 8], [7, 3, 4, 2], [8, 6, 7, 3], [5, 3, 2, 9]]\n",
        "ret = solution(height)\n",
        "\n",
        "#[실행] 버튼을 누르면 출력 값을 볼 수 있습니다.\n",
        "print(\"solution 함수의 반환 값은\", ret, \"입니다.\")"
      ],
      "execution_count": null,
      "outputs": []
    },
    {
      "cell_type": "markdown",
      "metadata": {
        "id": "uqYEt7EiiKfE"
      },
      "source": [
        "### 문제 10.합격자 수\n",
        "\n",
        "XX 시험을 친 수험생들의 점수가 주어질 때, 합격자 수를 구하려 합니다. 시험에 합격하기 위해서는 커트라인 이상의 점수를 받아야 합니다.\n",
        "\n",
        "예를 들어 수험생들의 점수가 [80점, 90점, 55점, 60점, 59점]이고, 커트라인이 60점이라면 3명이 합격했습니다.\n",
        "\n",
        "수험생들의 시험 점수가 들어있는 배열 scores, 커트라인 점수 cutline이 매개변수로 주어질 때, 합격자 수를 return 하도록 solution 함수를 완성해주세요.\n",
        "\n",
        "\n",
        "▣ 매개변수 설명\n",
        "\n",
        "수험생들의 시험 점수가 들어있는 배열 scores, 커트라인 점수 cutline이 solution 함수의 매개변수로 주어집니다.\n",
        "* scores의 원소는 각 학생의 시험 점수를 나타내며 0 이상 100 이하의 정수입니다.\n",
        "* scores의 길이는 1 이상 100 이하입니다.\n",
        "* cutline은 0 이상 100 이하의 정수입니다.\n",
        "\n",
        "▣ return 값 설명\n",
        "\n",
        "합격자의 수를 return 합니다.\n",
        "\n",
        "▣ 예시\n",
        "\n",
        "    | scores               | cutline | result |\n",
        "    |----------------------|---------|--------|\n",
        "    | [80, 90, 55, 60, 59] | 60      | 3      |\n",
        "\n",
        "▣ 예시 설명\n",
        "\n",
        "예시 #1\n",
        "\n",
        "* 80점, 90점, 60점은 합격입니다.\n",
        "* 55점, 59점은 불합격입니다.\n",
        "\n",
        "따라서 3명이 합격했습니다.\n"
      ]
    },
    {
      "cell_type": "code",
      "metadata": {
        "id": "QgbcKOeyiiDT"
      },
      "source": [
        "# 다음과 같이 import를 사용할 수 있습니다.\n",
        "# import math\n",
        "\n",
        "def solution(scores, cutline):\n",
        "    # 여기에 코드를 작성해주세요.\n",
        "    answer = 0\n",
        "    return answer\n",
        "\n",
        "# 아래는 테스트케이스 출력을 해보기 위한 코드입니다.\n",
        "scores = [80, 90, 55, 60, 59]\n",
        "cutline = 60\n",
        "ret = solution(scores, cutline)\n",
        "\n",
        "#[실행] 버튼을 누르면 출력 값을 볼 수 있습니다.\n",
        "print(\"solution 함수의 반환 값은\", ret, \"입니다.\")"
      ],
      "execution_count": null,
      "outputs": []
    }
  ]
}