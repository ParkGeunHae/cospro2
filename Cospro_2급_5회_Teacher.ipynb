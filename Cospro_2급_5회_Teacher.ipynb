{
  "nbformat": 4,
  "nbformat_minor": 0,
  "metadata": {
    "colab": {
      "provenance": [],
      "include_colab_link": true
    },
    "kernelspec": {
      "name": "python3",
      "display_name": "Python 3"
    },
    "language_info": {
      "name": "python"
    }
  },
  "cells": [
    {
      "cell_type": "markdown",
      "metadata": {
        "id": "view-in-github",
        "colab_type": "text"
      },
      "source": [
        "<a href=\"https://colab.research.google.com/github/ParkGeunHae/cospro2/blob/main/Cospro_2%EA%B8%89_5%ED%9A%8C_Teacher.ipynb\" target=\"_parent\"><img src=\"https://colab.research.google.com/assets/colab-badge.svg\" alt=\"Open In Colab\"/></a>"
      ]
    },
    {
      "cell_type": "markdown",
      "source": [
        "## 채우기"
      ],
      "metadata": {
        "id": "g8e0SxpfitB2"
      }
    },
    {
      "cell_type": "markdown",
      "source": [
        "### 문제 1.사다리게임\n",
        "6명이 사다리 게임[^1] 을 할 때, 몇 번째 위치에서 시작하는 사람이 상품을 타는지 알고 싶습니다. 가로줄은 항상 인접한 세로줄만 연결할 수 있으며 주어진 순서대로 위에서부터 연결합니다.\n",
        "\n",
        "예를 들어, 아래 사다리의 가로줄은 [[1, 2], [3, 4], [2, 3], [4, 5], [5, 6]] 으로 표현합니다. 이때 1번째 위치에서 시작한 사람이 상품을 탑니다.\n",
        "\n",
        "![image.png](data:image/png;base64,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)\n",
        "\n",
        "가로줄의 위치가 담긴 2차원 배열 ladders와 상품의 위치 win이 매개변수로 주어질 때, 당첨자의 시작 위치를 return 하도록 solution 함수를 작성하려 합니다. 빈칸을 채워 전체 코드를 완성해주세요.\n",
        "\n",
        "\n",
        "▣ 매개변수 설명\n",
        "\n",
        "가로줄의 위치가 담긴 2차원 배열 ladders와 상품이 있는 위치 win이 solution 함수의 매개변수로 주어집니다.\n",
        "* 가로줄의 개수는 1 이상 20 이하인 자연수입니다.\n",
        "* win은 1 이상 6 이하인 자연수입니다.\n",
        "* 가로줄은 항상 연결할 수 있는 형태만 주어집니다.\n",
        "\n",
        "▣ return 값 설명\n",
        "\n",
        "승리하는 사람의 시작 위치를 return 합니다.\n",
        "\n",
        "▣ 예시\n",
        "\n",
        "    | ladders                                  | win | return |\n",
        "    |------------------------------------------|-----|--------|\n",
        "    | [[1, 2], [3, 4], [2, 3], [4, 5], [5, 6]] | 3   | 1      |\n",
        "\n",
        "\n",
        "[^1]: 사다리 게임은 먼저 사람 수만큼 세로줄을 긋고 한쪽 편에는 이름을 쓰고 반대쪽에는 상품 위치를 씁니다. 서로 인접한 세로줄 사이에 가로줄을 무작위로 그은 다음 세로줄을 타고 내려가면서 가로줄을 만날 때마다 가로줄로 연결된 다른 세로줄로 가는 게임입니다.\n"
      ],
      "metadata": {
        "id": "zTTFgL70QVAC"
      }
    },
    {
      "cell_type": "code",
      "source": [
        "# SWAP\n",
        "X, Y = 10, 20\n",
        "X, Y = Y, X\n",
        "print(X, Y)"
      ],
      "metadata": {
        "colab": {
          "base_uri": "https://localhost:8080/"
        },
        "id": "ozve5IxuR0xO",
        "outputId": "dd041a92-b8b1-4b99-8477-5dbd8ca0e839"
      },
      "execution_count": null,
      "outputs": [
        {
          "output_type": "stream",
          "name": "stdout",
          "text": [
            "20 10\n"
          ]
        }
      ]
    },
    {
      "cell_type": "code",
      "execution_count": null,
      "metadata": {
        "id": "s2c-f_NWPr2Y",
        "colab": {
          "base_uri": "https://localhost:8080/"
        },
        "outputId": "4911e153-70c0-4765-9e83-00d5efc5d8a9"
      },
      "outputs": [
        {
          "output_type": "stream",
          "name": "stdout",
          "text": [
            "solution 함수의 반환 값은 1 입니다.\n"
          ]
        }
      ],
      "source": [
        "def solution2(ladders, win):\n",
        "    player = [0, 1, 2, 3, 4, 5, 6]\n",
        "    for a, b in ladders:\n",
        "        player[a], player[b] = player[b], player[a]\n",
        "    return player[win]\n",
        "\n",
        "def solution(ladders, win):\n",
        "    answer = 0\n",
        "    player = [1, 2, 3, 4, 5, 6]\n",
        "    for e in ladders:\n",
        "        # SWAP (player[e[0]-1], player[e[1]-1])\n",
        "        temp = player[e[0]-1]\n",
        "        player[e[0]-1] = player[e[1]-1]\n",
        "        player[e[1]-1] = temp\n",
        "        #print(player)\n",
        "    answer = player[win-1]\n",
        "    return answer\n",
        "\n",
        "#아래는 테스트케이스 출력을 해보기 위한 코드입니다.\n",
        "ladders = [[1, 2], [3, 4], [2, 3], [4, 5], [5, 6]]\n",
        "win = 3\n",
        "ret = solution2(ladders, win)\n",
        "\n",
        "#[실행] 버튼을 누르면 출력 값을 볼 수 있습니다.\n",
        "print(\"solution 함수의 반환 값은\", ret, \"입니다.\")"
      ]
    },
    {
      "cell_type": "markdown",
      "source": [
        "### 문제 2.공강\n",
        "\n",
        "공강이란 수업 시간 사이에 수업이 없이 비는 시간입니다. 시간표가 주어질 때 공강은 총 몇 시간인지 구하려 합니다. 시간표 상에 수업이 있는 시간은 1로, 수업이 없는 시간은 0으로 표시합니다. 모든 수업은 정각에 시작해 1시간 뒤에 끝납니다.\n",
        "\n",
        "    시간표 [1, 1, 0, 0, 1, 0, 1, 0, 0, 0]\n",
        "\n",
        "예를 들어, 위 시간표에서 공강은 총 3시간입니다.\n",
        "공강이 총 몇 시간인지 구하기 위해 다음과 같이 프로그램 구조를 작성했습니다.\n",
        "\n",
        "1. 가장 첫 수업 시작 시각을 구합니다.\n",
        "2. 가장 마지막 수업 시작 시각을 구합니다.\n",
        "3. 1과 2사이에서 수업이 없는 시간을 셉니다.\n",
        "\n",
        "시간표를 표현한 배열 time_table이 매개변수로 주어질 때 공강은 총 몇 시간인지 return 하도록 solution 함수를 작성하려 합니다. 위 구조를 참고하여 코드가 올바르게 동작할 수 있도록 빈칸에 주어진 func_a, func_b, func_c 함수와 매개변수를 알맞게 채워주세요.\n",
        "\n",
        "\n",
        "▣ 매개변수 설명\n",
        "\n",
        "시간표를 표현한 배열 time_table이 solution 함수의 매개변수로 주어집니다.\n",
        "* time_table은 길이가 5 이상 15 이하인 배열입니다.\n",
        "* 시간표에서 수업이 있는 시간은 1로 표현하고 수업이 없는 시간은 0입니다.\n",
        "* time_table의 원소는 0 또는 1입니다.\n",
        "\n",
        "▣ return 값 설명\n",
        "\n",
        "공강이 총 몇 시간인지 return 해주세요.\n",
        "\n",
        "▣ 예시\n",
        "\n",
        "    | time_table                     | return |\n",
        "    |--------------------------------|--------|\n",
        "    | [1, 1, 0, 0, 1, 0, 1, 0, 0, 0] | 3 \t |\n",
        "\n",
        "▣ 예시 설명\n",
        "\n",
        "문제에 나온 예와 같습니다.\n",
        "\n"
      ],
      "metadata": {
        "id": "WXtii4ELQzUO"
      }
    },
    {
      "cell_type": "code",
      "source": [
        "1. 가장 첫 수업 시작 시각을 구합니다.\n",
        "2. 가장 마지막 수업 시작 시각을 구합니다.\n",
        "3. 1과 2사이에서 수업이 없는 시간을 셉니다."
      ],
      "metadata": {
        "id": "-CZ8sr_CZzjZ"
      },
      "execution_count": null,
      "outputs": []
    },
    {
      "cell_type": "code",
      "source": [
        "time_table = [1, 1, 0, 0, 1, 0, 1, 0, 0, 0]\n",
        "list(reversed(list(enumerate(time_table))))"
      ],
      "metadata": {
        "colab": {
          "base_uri": "https://localhost:8080/"
        },
        "id": "EVu8Y19GZ9lJ",
        "outputId": "b929cf9a-68df-4561-8925-85d359bfa7bb"
      },
      "execution_count": null,
      "outputs": [
        {
          "output_type": "execute_result",
          "data": {
            "text/plain": [
              "[(9, 0),\n",
              " (8, 0),\n",
              " (7, 0),\n",
              " (6, 1),\n",
              " (5, 0),\n",
              " (4, 1),\n",
              " (3, 0),\n",
              " (2, 0),\n",
              " (1, 1),\n",
              " (0, 1)]"
            ]
          },
          "metadata": {},
          "execution_count": 7
        }
      ]
    },
    {
      "cell_type": "code",
      "source": [
        "time_table = [1, 1, 0, 0, 1, 0, 1, 0, 0, 0]\n",
        "list(enumerate(time_table))[::-1]"
      ],
      "metadata": {
        "colab": {
          "base_uri": "https://localhost:8080/"
        },
        "id": "fsWnKCsnbhTt",
        "outputId": "b43a96fb-2be4-4ee0-cf47-d3cd481cf678"
      },
      "execution_count": null,
      "outputs": [
        {
          "output_type": "execute_result",
          "data": {
            "text/plain": [
              "[(9, 0),\n",
              " (8, 0),\n",
              " (7, 0),\n",
              " (6, 1),\n",
              " (5, 0),\n",
              " (4, 1),\n",
              " (3, 0),\n",
              " (2, 0),\n",
              " (1, 1),\n",
              " (0, 1)]"
            ]
          },
          "metadata": {},
          "execution_count": 14
        }
      ]
    },
    {
      "cell_type": "code",
      "source": [
        "# 2. 가장 마지막 수업 시작 시각을 구합니다.\n",
        "def func_a(time_table):\n",
        "    answer = 0\n",
        "    #for i, t in reversed(list(enumerate(time_table))):\n",
        "    for i, t in list(enumerate(time_table))[::-1]:\n",
        "        if t == 1:\n",
        "            answer = i\n",
        "            break\n",
        "    return answer\n",
        "\n",
        "# 3. 1과 2사이에서 수업이 없는 시간을 셉니다.\n",
        "def func_b(time_table, class1, class2):\n",
        "    answer = 0\n",
        "    for i in range(class1, class2):\n",
        "        if time_table[i] == 0:\n",
        "            answer += 1\n",
        "    return answer\n",
        "\n",
        "#1. 가장 첫 수업 시작 시각을 구합니다.\n",
        "def func_c(time_table):\n",
        "    answer = 0\n",
        "    for i, t in enumerate(time_table):\n",
        "        if t == 1:\n",
        "            answer = i\n",
        "            break\n",
        "    return answer\n",
        "\n",
        "def solution(time_table):\n",
        "    answer = 0\n",
        "    first_class = func_c(time_table)\n",
        "    last_class = func_a(time_table)\n",
        "    answer = func_b(time_table, first_class, last_class)\n",
        "    return answer\n",
        "\n",
        "#아래는 테스트케이스 출력을 해보기 위한 코드입니다.\n",
        "time_table = [1, 1, 0, 0, 1, 0, 1, 0, 0, 0]\n",
        "ret = solution(time_table)\n",
        "\n",
        "#[실행] 버튼을 누르면 출력 값을 볼 수 있습니다.\n",
        "print(\"solution 함수의 반환 값은\", ret, \"입니다.\")"
      ],
      "metadata": {
        "id": "GBiuAhbORGVH",
        "colab": {
          "base_uri": "https://localhost:8080/"
        },
        "outputId": "c4acc9c9-16f5-47fe-833e-952a0542ee1b"
      },
      "execution_count": null,
      "outputs": [
        {
          "output_type": "stream",
          "name": "stdout",
          "text": [
            "solution 함수의 반환 값은 3 입니다.\n"
          ]
        }
      ]
    },
    {
      "cell_type": "markdown",
      "source": [
        "### 문제 3.벌금\n",
        "\n",
        "모든 속도위반 차량이 낼 벌금이 총 몇만 원인지 알아내려 합니다. 벌금을 매기는 기준은 다음과 같습니다.\n",
        "\n",
        "    | 기준                             | 벌금  |\n",
        "    |----------------------------------|-------|\n",
        "    | 규정 속도 10% 이상 20% 미만 위반 | 3만원 |\n",
        "    | 규정 속도 20% 이상 30% 미만 위반 | 5만원 |\n",
        "    | 규정 속도 30% 이상 위반          | 7만원 |\n",
        "\n",
        "예를 들어 규정 속도가 100인 도로를 112로 달렸다면 규정 속도를 12% 위반하였습니다. 따라서 규정 속도를 10% 이상 20% 미만 위반 하였으므로 벌금 3만 원을 부과합니다.\n",
        "\n",
        "규정 속도 speed와 도로를 달리는 모든 차의 속도가 담긴 배열 cars가 매개변수로 주어질 때, 총벌금은 몇만 원인지 return 하도록 solution 함수를 작성하려 합니다. 빈칸을 채워 전체 코드를 완성해주세요.\n",
        "\n",
        "\n",
        "▣ 매개변수 설명\n",
        "\n",
        "규정 속도 speed와 도로를 달리는 모든 차의 속도가 담긴 배열 cars가 solution 함수의 매개변수로 주어집니다.\n",
        "* 규정 속도는 30 이상 140 이하이며, 10으로 나누어 떨어지는 숫자입니다.\n",
        "* 도로를 달리는 차의 수는 1대 이상 40대 이하입니다.\n",
        "* 모든 차는 0km/h 이상 200km/h 이하로 달립니다.\n",
        "\n",
        "▣ return 값 설명\n",
        "\n",
        "도로를 달리는 모든 차의 벌금은 총 몇만 원인지 return 해주세요.\n",
        "\n",
        "▣ 예시\n",
        "\n",
        "    | speed | cars                              | return |\n",
        "    |-------|-----------------------------------|--------|\n",
        "    | 100   | [110, 98, 125, 148, 120, 112, 89] | 23     |\n",
        "\n",
        "▣ 예시 설명\n",
        "\n",
        "    | 기준                             | 위반 차량 | 총벌금  |\n",
        "    |----------------------------------|-----------|---------|\n",
        "    | 규정 속도 10% 이상 20% 미만 위반 | 2대       | 6만원   |\n",
        "    | 규정 속도 20% 이상 30% 미만 위반 | 2대       | 10만원  |\n",
        "    | 규정 속도 30% 이상 위반   \t   | 1대       | 7만원   |"
      ],
      "metadata": {
        "id": "k-ffEjrkRGmN"
      }
    },
    {
      "cell_type": "code",
      "source": [
        "speed = 100\n",
        "x = 112\n",
        "x >= speed * 11 / 10, x < speed * 12 / 10\n",
        "speed * 11 / 10, speed * 12 / 10, speed * 13 / 10"
      ],
      "metadata": {
        "colab": {
          "base_uri": "https://localhost:8080/"
        },
        "id": "j0Sqo3IDdI6s",
        "outputId": "316ae45f-9d67-451f-d04d-c411cd696c5b"
      },
      "execution_count": null,
      "outputs": [
        {
          "output_type": "execute_result",
          "data": {
            "text/plain": [
              "(110.0, 120.0, 130.0)"
            ]
          },
          "metadata": {},
          "execution_count": 34
        }
      ]
    },
    {
      "cell_type": "code",
      "source": [
        "speed = 100\n",
        "speed * 1.1, speed * 1.2, speed * 1.3"
      ],
      "metadata": {
        "colab": {
          "base_uri": "https://localhost:8080/"
        },
        "id": "7MS0c7g4gXLo",
        "outputId": "530c537c-279f-40b2-f608-d62f1325559a"
      },
      "execution_count": null,
      "outputs": [
        {
          "output_type": "execute_result",
          "data": {
            "text/plain": [
              "(110.00000000000001, 120.0, 130.0)"
            ]
          },
          "metadata": {},
          "execution_count": 33
        }
      ]
    },
    {
      "cell_type": "code",
      "source": [
        "x = 110\n",
        "x >= speed * 1.1  # 오류 - 컴퓨터에서 실수 저장하는 방법 때문에 발생, www.binaryconvert.com\n",
        "# 실수는 실제 메모리에 저장될 때 실제 값보다 약간 작거나 큰 값으로 저장될 수 있기 때문에\n",
        "# 연산시 오차가 발생할 수 있다."
      ],
      "metadata": {
        "colab": {
          "base_uri": "https://localhost:8080/"
        },
        "id": "gAwjf44Pgl9d",
        "outputId": "2f49dac0-a4ff-481c-94f7-84fb14e9fab0"
      },
      "execution_count": null,
      "outputs": [
        {
          "output_type": "execute_result",
          "data": {
            "text/plain": [
              "False"
            ]
          },
          "metadata": {},
          "execution_count": 35
        }
      ]
    },
    {
      "cell_type": "code",
      "source": [
        "def solution(speed, cars):\n",
        "    answer = 0\n",
        "    for x in cars:\n",
        "        if x >= speed * 11 / 10 and x < speed * 12 / 10:\n",
        "            answer += 3\n",
        "        elif x >= speed * 12 / 10 and x < speed * 13 / 10:\n",
        "            answer += 5\n",
        "        elif x >= speed * 13 / 10:\n",
        "            answer += 7\n",
        "    return answer\n",
        "\n",
        "#아래는 테스트케이스 출력을 해보기 위한 코드입니다.\n",
        "speed = 100\n",
        "cars = [110, 98, 125, 148, 120, 112, 89]\n",
        "ret = solution(speed, cars)\n",
        "\n",
        "#[실행] 버튼을 누르면 출력 값을 볼 수 있습니다.\n",
        "print(\"solution 함수의 반환 값은\", ret, \"입니다.\")"
      ],
      "metadata": {
        "id": "fweGMTaMRZiz",
        "colab": {
          "base_uri": "https://localhost:8080/"
        },
        "outputId": "b8e8848e-013a-470e-e109-1a842abbf574"
      },
      "execution_count": null,
      "outputs": [
        {
          "output_type": "stream",
          "name": "stdout",
          "text": [
            "solution 함수의 반환 값은 23 입니다.\n"
          ]
        }
      ]
    },
    {
      "cell_type": "markdown",
      "source": [
        "### 문제 4. 점수 산출\n",
        "종목은 태권도, 500m 달리기, 사격 경기를 하려 합니다. 종목별 점수 산출 방식은 다음과 같습니다.\n",
        "\n",
        "    | 종목        |        점수 산출 방식                                                                  |\n",
        "    |-------------|----------------------------------------------------------------------------------------|\n",
        "    | 태권도      | 25경기 이상 승리하면 250점. 그 외에는 승리당 8점                                       |\n",
        "    | 500m 달리기 | 60초에 완주 시 250점. 그보다 빠르면 1초당 +5점 느리면 1초당 -5점                       |\n",
        "    | 사격        |10번 사격해 과녁에 적힌 숫자의 합만큼 점수 획득. 7번 이상 10점에 맞추면 추가 점수 100점 |\n",
        "\n",
        "태권도에서 승리한 횟수 taekwondo, 달리기 기록 running, 사격 기록이 담긴 배열 shooting이 매개변수로 주어질 때, 이 선수가 획득한 총점수를 return 하도록 solution 함수를 작성하려 합니다. 빈칸을 채워 전체 코드를 완성해주세요.\n",
        "\n",
        "\n",
        "▣ 매개변수 설명\n",
        "\n",
        "태권도에서 승리한 횟수 taekwondo, 달리기 기록 running, 사격 기록이 담긴 배열 shooting이 solution 함수의 매개변수로 주어집니다.\n",
        "* 태권도에서는 0회 이상 35회 이하 승리할 수 있습니다.\n",
        "* 달리기 기록은 초 단위이며 40 이상 120 이하인 정수입니다.\n",
        "* 사격은 총 10번 하며, 과녁에는 0부터 10까지의 숫자가 적혀있습니다.\n",
        "\n",
        "▣ return 값 설명\n",
        "\n",
        "이 선수가 획득한 총점수를 return 해주세요.\n",
        "\n",
        "▣ 예시\n",
        "\n",
        "    | taekwondo | running | shooting                              | return |\n",
        "    |-----------|---------|---------------------------------------|--------|\n",
        "    | 27        | 63      | [9, 10, 8, 10, 10, 10, 7, 10, 10, 10] | 679    |\n",
        "\n",
        "▣ 예시 설명\n",
        "\n",
        "태권도에서 25회 이상 승리했기 때문에 250점을 획득했습니다.\n",
        "달리기에서 60초보다 3초 느렸기 때문에 250점에서 15점을 뺀 235점을 획득했습니다.\n",
        "사격에서 과녁을 맞혀 94점을 받았고, 10점을 7번 맞췄기 때문에 추가 점수 100점을 받아 총 194점을 획득했습니다.\n",
        "따라서 이 선수가 받은 총점수는 679점입니다."
      ],
      "metadata": {
        "id": "2qNTvYxfRc0v"
      }
    },
    {
      "cell_type": "code",
      "source": [
        "running = 63\n",
        "250 + (60 - running) * 5"
      ],
      "metadata": {
        "colab": {
          "base_uri": "https://localhost:8080/"
        },
        "id": "z4qsR2N9klrc",
        "outputId": "4e179a8b-73f7-4d6e-e55a-a7908414306d"
      },
      "execution_count": null,
      "outputs": [
        {
          "output_type": "execute_result",
          "data": {
            "text/plain": [
              "235"
            ]
          },
          "metadata": {},
          "execution_count": 38
        }
      ]
    },
    {
      "cell_type": "code",
      "source": [
        "shooting = [9, 10, 8, 10, 10, 10, 7, 10, 10, 10]\n",
        "shooting.count(10)"
      ],
      "metadata": {
        "colab": {
          "base_uri": "https://localhost:8080/"
        },
        "id": "PM15Un8WnBZR",
        "outputId": "16597d5e-83e9-4178-b76c-e3ca8f5ec06b"
      },
      "execution_count": null,
      "outputs": [
        {
          "output_type": "execute_result",
          "data": {
            "text/plain": [
              "7"
            ]
          },
          "metadata": {},
          "execution_count": 40
        }
      ]
    },
    {
      "cell_type": "code",
      "source": [
        "def solution2(taekwondo, running, shooting):\n",
        "    # 태권도\n",
        "    answer = 250 if taekwondo >= 25 else taekwondo * 8\n",
        "\n",
        "    # 달리기\n",
        "    answer += (250 + (60 - running) * 5)\n",
        "\n",
        "    # 사격\n",
        "    answer += sum(shooting)\n",
        "    if shooting.count(10) >= 7:\n",
        "        answer += 100\n",
        "\n",
        "    return answer\n",
        "\n",
        "def solution(taekwondo, running, shooting):\n",
        "\n",
        "    answer = 0\n",
        "    # 태권도\n",
        "    if taekwondo >= 25:\n",
        "    \tanswer += 250\n",
        "    else:\n",
        "    \tanswer += taekwondo * 8\n",
        "\n",
        "    # 달리기\n",
        "    answer += 250 + (60 - running) * 5\n",
        "\n",
        "    # 사격\n",
        "    count = 0\n",
        "    for s in shooting:\n",
        "    \tanswer += s\n",
        "    \tif s == 10:\n",
        "    \t\tcount += 1\n",
        "    if count >= 7:\n",
        "    \tanswer += 100\n",
        "    return answer\n",
        "\n",
        "#아래는 테스트케이스 출력을 해보기 위한 코드입니다.\n",
        "taekwondo = 27\n",
        "running = 63\n",
        "shooting = [9, 10, 8, 10, 10, 10, 7, 10, 10, 10]\n",
        "ret = solution2(taekwondo, running, shooting)\n",
        "\n",
        "#[실행] 버튼을 누르면 출력 값을 볼 수 있습니다.\n",
        "print(\"solution 함수의 반환 값은\", ret, \"입니다.\")"
      ],
      "metadata": {
        "id": "xpAxRpCORuRu",
        "colab": {
          "base_uri": "https://localhost:8080/"
        },
        "outputId": "799c5ebc-f4e5-49e9-93ab-1c548e1b2d08"
      },
      "execution_count": null,
      "outputs": [
        {
          "output_type": "stream",
          "name": "stdout",
          "text": [
            "solution 함수의 반환 값은 679 입니다.\n"
          ]
        }
      ]
    },
    {
      "cell_type": "markdown",
      "source": [
        "## 한 줄 바꾸기"
      ],
      "metadata": {
        "id": "jlxLGg9tjAYb"
      }
    },
    {
      "cell_type": "markdown",
      "source": [
        "### 문제 5.장날\n",
        "\n",
        "X일장은 X일마다 열리는 시장을 뜻합니다. 예를 들어 오늘 4일장이 열렸다면, 다음 4일장은 4일 뒤에 열립니다. 오늘부터 a일장과 b일장 제도를 시행하려 합니다. 정수 a, b가 주어졌을 때, a일장과 b일장이 같이 열리는 날은 며칠에 한 번씩 있는지 구하려 합니다.\n",
        "\n",
        "예를 들어, a가 4이고 b가 6이라면 시장은 다음과 같이 열립니다.\n",
        "\n",
        "![image.png](data:image/png;base64,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)\n",
        "\n",
        "a와 b가 매개변수로 주어질 때, a일장과 b일장이 같이 열리는 날은 며칠에 한 번씩 있는지 return 하도록 solution 함수를 작성했습니다. 그러나, 그러나, 코드 일부분이 잘못되어있기 때문에, 몇몇 입력에 대해서는 올바르게 동작하지 않습니다. 주어진 코드에서 **한 줄**만 변경해서 모든 입력에 대해 올바르게 동작하도록 수정하세요.\n",
        "\n",
        "\n",
        "▣ 매개변수 설명\n",
        "\n",
        "a일장이 열리는 주기인 a와 b일장이 열리는 주기인 b가 solution 함수의 매개변수로 주어집니다.\n",
        "\n",
        "* a와 b는 1 이상 30 이하인 자연수입니다.\n",
        "\n",
        "▣ return 값 설명\n",
        "\n",
        "a일장과 b일장이 같이 열리는 날은 며칠에 한 번씩 있는지 return 해주세요.\n",
        "\n",
        "▣ 예시\n",
        "\n",
        "    | a   | b    | return |\n",
        "    |-----|------|--------|\n",
        "    | 4   | 6    | 12     |\n",
        "\n",
        "▣ 예시 설명\n",
        "\n",
        "문제의 예와 같습니다.\n"
      ],
      "metadata": {
        "id": "yOZLryyhRumP"
      }
    },
    {
      "cell_type": "code",
      "source": [
        "# 4 8 12 16 20 24 ..\n",
        "# 6 12 18 24 ..\n",
        "# 최소 공배수"
      ],
      "metadata": {
        "id": "eSGHOOf8WpTg"
      },
      "execution_count": null,
      "outputs": []
    },
    {
      "cell_type": "code",
      "source": [
        "def solution(a, b):\n",
        "    answer = 0\n",
        "    for i in range(1, b + 1):  # i = 1, 2, ... 6\n",
        "        if (a * i) % b == 0:   # 4 % 6, 8 % 6, 12 % 6,# 16 % 6, 20 % 6, 24 % 6\n",
        "            answer = a * i   # 수정된 부분\n",
        "            break\n",
        "    return answer\n",
        "\n",
        "#아래는 테스트케이스 출력을 해보기 위한 코드입니다. 아래에는 잘못된 부분이 없으니, 위의 코드만 수정하세요.\n",
        "a = 4\n",
        "b = 6\n",
        "ret = solution(a, b)\n",
        "\n",
        "#[실행] 버튼을 누르면 출력 값을 볼 수 있습니다.\n",
        "print(\"solution 함수의 반환 값은\", ret, \"입니다.\")"
      ],
      "metadata": {
        "id": "e26GNUPvSA3q",
        "colab": {
          "base_uri": "https://localhost:8080/"
        },
        "outputId": "3be4b6c7-b9dd-4a36-e4d3-5819520a4f18"
      },
      "execution_count": null,
      "outputs": [
        {
          "output_type": "stream",
          "name": "stdout",
          "text": [
            "solution 함수의 반환 값은 12 입니다.\n"
          ]
        }
      ]
    },
    {
      "cell_type": "markdown",
      "source": [
        "### 문제 6.점수 구하기\n",
        "\n",
        "국어 시험 점수와 영어 시험 점수가 나왔습니다. 이때 국어, 영어, 수학 시험의 평균이 70점 이상이려면 수학 시험 점수가 최소 몇 점이어야 하는지 알고 싶습니다.\n",
        "\n",
        "국어 점수 korean과 영어 점수 english가 매개변수로 주어질 때, 평균 점수를 70점 이상 받기 위해 받아야 하는 수학 점수의 최솟값을 return 하도록 solution 함수를 작성했습니다. 그러나, 코드 일부분이 잘못되어있기 때문에, 몇몇 입력에 대해서는 올바르게 동작하지 않습니다. 주어진 코드에서 _**한 줄**_만 변경해서 모든 입력에 대해 올바르게 동작하도록 수정하세요.\n",
        "\n",
        "\n",
        "▣ 매개변수 설명\n",
        "\n",
        "국어 점수 korean과 영어 점수 english가 solution 함수의 매개변수로 주어집니다.\n",
        "* korean과 english는 0 이상 100 이하인 정수입니다.\n",
        "\n",
        "▣ return 값 설명\n",
        "\n",
        "평균 70점을 넘기기 위해 받아야 하는 수학 점수의 최솟값을 return 합니다.\n",
        "* 수학 점수를 100점을 받아도 평균 70점이 되지 않는 경우에는 -1을 return 합니다.\n",
        "\n",
        "▣ 예시\n",
        "\n",
        "    | korean | english | return |\n",
        "    |--------|---------|--------|\n",
        "    | 70 \t| 60      | 80     |\n",
        "\n",
        "▣ 예시 설명\n",
        "\n",
        "국어 점수가 70점, 영어 점수가 60점입니다. 따라서 평균이 70점 이상을 받으려면 수학 시험에서 최소 80점을 받아야 합니다.\n",
        "\n"
      ],
      "metadata": {
        "id": "Qn3hAVzbSBLW"
      }
    },
    {
      "cell_type": "code",
      "source": [
        "def solution2(korean, english):\n",
        "    math = 210 - (korean + english)  # 수정사항\n",
        "    return -1 if math > 100 else math\n",
        "\n",
        "def solution(korean, english):\n",
        "    answer = 0\n",
        "    math = 210 - (korean + english)  # 수정사항\n",
        "    if math > 100:\n",
        "        answer = -1\n",
        "    else:\n",
        "        answer = math\n",
        "    return answer\n",
        "\n",
        "#아래는 테스트케이스 출력을 해보기 위한 코드입니다. 아래에는 잘못된 부분이 없으니 위의 코드만 수정하세요.\n",
        "korean = 70\n",
        "english = 60\n",
        "ret = solution(korean, english)\n",
        "\n",
        "#[실행] 버튼을 누르면 출력 값을 볼 수 있습니다.\n",
        "print(\"solution 함수의 반환 값은\", ret, \"입니다.\")"
      ],
      "metadata": {
        "id": "Xn5oGitQSJ6O",
        "colab": {
          "base_uri": "https://localhost:8080/"
        },
        "outputId": "ae9b0491-d289-435b-b8cc-a7262678cfb0"
      },
      "execution_count": null,
      "outputs": [
        {
          "output_type": "stream",
          "name": "stdout",
          "text": [
            "solution 함수의 반환 값은 80 입니다.\n"
          ]
        }
      ]
    },
    {
      "cell_type": "markdown",
      "source": [
        "### 문제 7.계산시간\n",
        "XX 마트에선 구매할 물건이 3개 이하이면 소량 계산대에서, 그렇지 않으면 일반 계산대에서 계산해야 합니다. 두 계산대 모두 물건 한 개를 계산하는 데 1분이 걸립니다.\n",
        "\n",
        "손님들이 구매할 물건 수가 담긴 배열 stuffs가 매개변수로 주어질 때, 모든 물건을 계산하는 데 필요한 시간을 return 하도록 solution 함수를 작성했습니다. 그러나, 코드 일부분이 잘못되어있기 때문에, 몇몇 입력에 대해서는 올바르게 동작하지 않습니다. 주어진 코드에서 _**한 줄**_만 변경해서 모든 입력에 대해 올바르게 동작하도록 수정하세요.\n",
        "\n",
        "\n",
        "▣ 매개변수 설명\n",
        "\n",
        "손님들이 구매할 물건 수가 담긴 배열 stuffs가 solution 함수의 매개변수로 주어집니다.\n",
        "* 계산을 할 손님은 1명 이상 100명 이하입니다.\n",
        "* 손님이 구입할 물건은 1개 이상 20개 이하입니다.\n",
        "\n",
        "▣ return 값 설명\n",
        "\n",
        "모든 물건을 계산하는데 걸리는 시간을 return 해주세요.\n",
        "\n",
        "▣ 예시\n",
        "\n",
        "    | stuffs             | return |\n",
        "    |--------------------|--------|\n",
        "    | [5, 3, 4, 2, 3, 2] | 10     |\n",
        "\n",
        "▣ 예시 설명\n",
        "\n",
        "첫 번째 손님, 세 번째 손님은 일반 계산대에서 계산합니다. 이때 9분이 걸립니다.\n",
        "두 번째, 네 번째, 다섯 번째, 여섯 번째 손님은 소량 계산대에서 계산합니다. 이때 10분이 걸립니다.\n",
        "따라서 모든 물건을 계산하는데 걸리는 시간은 10분입니다.\n"
      ],
      "metadata": {
        "id": "vHAc3h1YSKU7"
      }
    },
    {
      "cell_type": "code",
      "source": [
        "def solution(stuffs):\n",
        "    answer = 0\n",
        "    small_counter, general_counter = 0, 0\n",
        "    for s in stuffs:\n",
        "        if s > 3:\n",
        "            general_counter += s\n",
        "        else:\n",
        "            small_counter += s\n",
        "    # expression의 형태\n",
        "    if small_counter > general_counter:   # 수정부분\n",
        "        answer = small_counter\n",
        "    else:\n",
        "        answer = general_counter\n",
        "    return answer\n",
        "\n",
        "#아래는 테스트케이스 출력을 해보기 위한 코드입니다. 아래에는 잘못된 부분이 없으니 위의 코드만 수정하세요.\n",
        "stuffs = [5, 3, 4, 2, 3, 2]\n",
        "ret = solution(stuffs)\n",
        "\n",
        "#[실행] 버튼을 누르면 출력 값을 볼 수 있습니다.\n",
        "print(\"solution 함수의 반환 값은 \", ret, \" 입니다.\")"
      ],
      "metadata": {
        "id": "Dx4nbtmTSg5z",
        "colab": {
          "base_uri": "https://localhost:8080/"
        },
        "outputId": "b1006877-a311-42eb-bf3d-da301135d06e"
      },
      "execution_count": null,
      "outputs": [
        {
          "output_type": "stream",
          "name": "stdout",
          "text": [
            "solution 함수의 반환 값은  10  입니다.\n"
          ]
        }
      ]
    },
    {
      "cell_type": "markdown",
      "source": [
        "### 문제 8.상수도 요금\n",
        "\n",
        "상수도 요금을 계산하려 합니다. 가정용 상수도 사용요금 계산방법은 아래와 같습니다.\n",
        "\n",
        "    | 단계  | 사용량    | 요금  |\n",
        "    |-------|-----------|-------|\n",
        "    | 1단계 | 0~20톤    | 430원 |\n",
        "    | 2단계 | 21~30톤   | 570원 |\n",
        "    | 3단계 | 31톤 이상 | 840원 |\n",
        "\n",
        "사용료는 사용량에 따라 단계별로 적용됩니다. 예를 들어, 물을 35톤 사용했다면 다음과 같은 방식으로 계산합니다.\n",
        "\n",
        "* 1단계 적용 : 20톤 x 430원 = 8,600원\n",
        "* 2단계 적용 : 10톤 x 570원 = 5,700원\n",
        "* 3단계 적용 : 5톤 x 840원 = 4,200원\n",
        "\n",
        "총 사용요금 : 18,500원\n",
        "\n",
        "상수도 사용량 usage가 매개변수로 주어질 때, 사용요금을 return 하도록 solution 함수를 작성했습니다. 그러나, 코드 일부분이 잘못되어있기 때문에, 몇몇 입력에 대해서는 올바르게 동작하지 않습니다. 주어진 코드에서 **한 줄**만 변경해서 모든 입력에 대해 올바르게 동작하도록 수정하세요.\n",
        "\n",
        "\n",
        "▣ 매개변수 설명\n",
        "\n",
        "상수도 사용량 usage가 solution 함수의 매개변수로 주어집니다.\n",
        "* 상수도 사용량은 0톤 이상 100톤 이하인 정수입니다.\n",
        "\n",
        "▣ return 값 설명\n",
        "\n",
        "사용요금을 return 해주세요.\n",
        "\n",
        "▣ 예시\n",
        "\n",
        "    | usage | return |\n",
        "    |-------|--------|\n",
        "    | 35\t| 18500  |\n",
        "\n",
        "▣ 예시 설명\n",
        "\n",
        "문제에 나온 예와 같습니다.\n",
        "\n"
      ],
      "metadata": {
        "id": "jSoS3dszShLW"
      }
    },
    {
      "cell_type": "code",
      "source": [
        "| 1단계 | 0~20톤    | 430원 |\n",
        "| 2단계 | 21~30톤   | 570원 |\n",
        "| 3단계 | 31톤 이상 | 840원 |"
      ],
      "metadata": {
        "id": "Ch_NwYb7jrNb"
      },
      "execution_count": null,
      "outputs": []
    },
    {
      "cell_type": "code",
      "source": [
        "usage = 35\n",
        "infoT = [[20, 430], [10, 570], [70, 840]]\n",
        "answer = 0\n",
        "for ton, price in infoT:\n",
        "    #print(ton, price)\n",
        "    if ton <= usage:\n",
        "        answer += (ton * price)\n",
        "        usage -= ton\n",
        "    else:\n",
        "        answer += (usage * price)\n",
        "    print(answer)\n",
        "#answer"
      ],
      "metadata": {
        "colab": {
          "base_uri": "https://localhost:8080/"
        },
        "id": "Ua2TYT4ykCBm",
        "outputId": "dc64f4e6-ec00-4f5d-ddcd-2710b2c6c84c"
      },
      "execution_count": null,
      "outputs": [
        {
          "output_type": "stream",
          "name": "stdout",
          "text": [
            "8600\n",
            "14300\n",
            "18500\n"
          ]
        }
      ]
    },
    {
      "cell_type": "code",
      "source": [
        "# 반복문, infoT\n",
        "def solution2(usage):\n",
        "    infoT = [[20, 430], [10, 570], [70, 840]]\n",
        "    answer = 0\n",
        "    for ton, price in infoT:\n",
        "        if ton <= usage:\n",
        "            answer += (ton * price)\n",
        "            usage -= ton\n",
        "        else:\n",
        "            answer += (usage * price)\n",
        "    return answer\n",
        "\n",
        "def solution(usage):\n",
        "    answer = 0\n",
        "    if usage > 30:  # 3단계\n",
        "        answer = 20 * 430 + 10 * 570 + (usage - 30) * 840   # 수정부분\n",
        "    elif usage > 20:  # 2단계\n",
        "        answer = 20 * 430 + (usage - 20) * 570\n",
        "    else:\n",
        "        answer = usage * 430\n",
        "    return answer\n",
        "\n",
        "#아래는 테스트케이스 출력을 해보기 위한 코드입니다. 아래에는 잘못된 부분이 없으니 위의 코드만 수정하세요.\n",
        "usage = 35\n",
        "ret = solution2(usage)\n",
        "\n",
        "#[실행] 버튼을 누르면 출력 값을 볼 수 있습니다.\n",
        "print(\"solution 함수의 반환 값은\", ret, \"입니다.\")"
      ],
      "metadata": {
        "id": "trFL2QqWSuQG",
        "colab": {
          "base_uri": "https://localhost:8080/"
        },
        "outputId": "3d6923ce-2563-4d74-cdae-198e72a3c1f1"
      },
      "execution_count": null,
      "outputs": [
        {
          "output_type": "stream",
          "name": "stdout",
          "text": [
            "solution 함수의 반환 값은 18500 입니다.\n"
          ]
        }
      ]
    },
    {
      "cell_type": "markdown",
      "source": [
        "## 함수 작성"
      ],
      "metadata": {
        "id": "3tQMm-d1jEg2"
      }
    },
    {
      "cell_type": "markdown",
      "source": [
        "### 문제 9. 순위 구하기\n",
        "\n",
        "시험 점수에 따라 학생의 순위를 매기려 합니다. 동점자 순위는 가능한 순위 중 가장 높은 순위로 매깁니다.\n",
        "예를 들어 학생별 점수가 [90, 87, 87, 23, 35, 28, 12, 46]이면, 학생별 순위는 [1, 2, 2, 7, 5, 6, 8, 4]입니다.\n",
        "\n",
        "모든 학생의 점수를 담은 배열 score가 매개변수로 주어질 때, 순위를 담은 배열을 return 하도록 solution 함수를 작성해주세요.\n",
        "\n",
        "\n",
        "▣ 매개변수 설명\n",
        "\n",
        "모든 학생의 점수를 담은 배열 score가 solution 함수의 매개변수로 주어집니다.\n",
        "* 학생 수는 1명 이상 1,000명 이하입니다.\n",
        "* 점수는 1 이상 100 이하인 정수입니다.\n",
        "\n",
        "▣ return 값 설명\n",
        "\n",
        "* 순위를 담은 배열을 return 합니다.\n",
        "\n",
        "▣ 예시\n",
        "\n",
        "    | score                            |return                    |\n",
        "    |----------------------------------|--------------------------|\n",
        "    | [90, 87, 87, 23, 35, 28, 12, 46] | [1, 2, 2, 7, 5, 6, 8, 4] |\n",
        "    | [10, 20, 20, 30]                 | [4, 2, 2, 1]             |\n",
        "\n",
        "▣ 예시 설명\n",
        "\n",
        "예시 #1 : 문제에 나온 예와 같습니다.\n",
        "\n",
        "예시 #2 : 이들의 순위는 [4, 2, 2, 1]입니다.\n",
        "\n"
      ],
      "metadata": {
        "id": "DjYsEYQXSuhQ"
      }
    },
    {
      "cell_type": "code",
      "source": [
        "score = [10, 20, 20, 30]\n",
        "answer = [4, 2, 2, 1]\n",
        "for i, curr_score in enumerate(score):\n",
        "    print(i, curr_score)"
      ],
      "metadata": {
        "colab": {
          "base_uri": "https://localhost:8080/"
        },
        "id": "H3Iu9uNNqTDk",
        "outputId": "6a3ad386-7224-4d8d-d1a0-d477956bdde0"
      },
      "execution_count": null,
      "outputs": [
        {
          "output_type": "stream",
          "name": "stdout",
          "text": [
            "0 10\n",
            "1 20\n",
            "2 20\n",
            "3 30\n"
          ]
        }
      ]
    },
    {
      "cell_type": "code",
      "source": [
        "score = [10, 20, 20, 30]\n",
        "answer = [1, 1, 1, 1]\n",
        "for i in range(len(score)-1):  # curr_score의 index\n",
        "    for j in range(i+1, len(score)): # curr_score의 뒤에 있는 것의 index\n",
        "        print(i, j)\n",
        "        if score[i] > score[j]:\n",
        "            answer[j] += 1\n",
        "        elif score[i] < score[j]:\n",
        "            answer[i] += 1\n",
        "print(answer)"
      ],
      "metadata": {
        "colab": {
          "base_uri": "https://localhost:8080/"
        },
        "id": "AX_6qZrorTpP",
        "outputId": "4d5b57bd-8027-4b76-dd2d-33a0e53aa131"
      },
      "execution_count": null,
      "outputs": [
        {
          "output_type": "stream",
          "name": "stdout",
          "text": [
            "0 1\n",
            "0 2\n",
            "0 3\n",
            "1 2\n",
            "1 3\n",
            "2 3\n",
            "[4, 2, 2, 1]\n"
          ]
        }
      ]
    },
    {
      "cell_type": "code",
      "source": [
        "#다음과 같이 import를 사용할 수 있습니다.\n",
        "#import math\n",
        "\n",
        "def solution2(score):\n",
        "\t# 여기에 코드를 작성해주세요.\n",
        "    answer = [1] * len(score)\n",
        "    for i in range(len(score)-1):  # curr_score의 index\n",
        "        for j in range(i+1, len(score)): # curr_score의 뒤에 있는 것의 index\n",
        "            if score[i] > score[j]:\n",
        "                answer[j] += 1\n",
        "            elif score[i] < score[j]:\n",
        "                answer[i] += 1\n",
        "    return answer\n",
        "\n",
        "def solution(score):\n",
        "\t# 여기에 코드를 작성해주세요.\n",
        "    answer = [1] * len(score)\n",
        "    for i, curr_score in enumerate(score):\n",
        "        for comp_score in score:\n",
        "            if comp_score > curr_score:\n",
        "                answer[i] += 1\n",
        "    return answer\n",
        "\n",
        "#아래는 테스트케이스 출력을 해보기 위한 코드입니다.\n",
        "score1 = [90, 87, 87, 23, 35, 28, 12, 46]\n",
        "ret1 = solution2(score1)\n",
        "\n",
        "#[실행] 버튼을 누르면 출력 값을 볼 수 있습니다.\n",
        "print(\"solution 함수의 반환 값은 \", ret1, \" 입니다.\")\n",
        "\n",
        "score2 = [10, 20, 20, 30]\n",
        "ret2 = solution(score2)\n",
        "\n",
        "#[실행] 버튼을 누르면 출력 값을 볼 수 있습니다.\n",
        "print(\"solution 함수의 반환 값은 \", ret2, \" 입니다.\")"
      ],
      "metadata": {
        "id": "p4g_iaByTVAR",
        "colab": {
          "base_uri": "https://localhost:8080/"
        },
        "outputId": "ccb6be64-9530-42d2-e69a-ed1c976f0a2e"
      },
      "execution_count": null,
      "outputs": [
        {
          "output_type": "stream",
          "name": "stdout",
          "text": [
            "solution 함수의 반환 값은  [1, 2, 2, 7, 5, 6, 8, 4]  입니다.\n",
            "solution 함수의 반환 값은  [4, 2, 2, 1]  입니다.\n"
          ]
        }
      ]
    },
    {
      "cell_type": "markdown",
      "source": [
        "### 문제 10. 근무 시간표\n",
        "\n",
        "n명이 시간표에 따라 교대 근무에 들어갑니다. 이때 가장 오래 일한 사람이 몇 시간 일했는지 알아내려 합니다. 근무 순번은 첫 번째 사람부터 n번째 사람 순으로 합니다. n번 사람이 일을 한 뒤에는 다시 첫 번째 사람부터 일을 합니다.\n",
        "\n",
        "예를 들어 시간표가 [1, 5, 1, 9]이고 n이 3이면 첫 번째 사람은 1+9시간, 두 번째 사람은 5시간, 세 번째 사람은 1시간 근무합니다. 따라서 첫 번째 사람이 가장 오래 일했으며, 10시간 일했습니다.\n",
        "\n",
        "근무 시간표를 담은 배열 time_table과 사람 수 n이 매개변수로 주어질 때, 가장 오래 일한 사람은 몇 시간 일했는지 return 하도록 solution 함수를 작성해주세요.\n",
        "\n",
        "\n",
        "▣ 매개변수 설명\n",
        "\n",
        "시간표를 담은 배열 time_table과 사람 수 n이 solution 함수의 매개변수로 주어집니다.\n",
        "* time_table의 길이는 1 이상 100 이하입니다.\n",
        "* time_table의 원소는 1 이상 100 이하인 자연수입니다.\n",
        "* n은 1 이상 `time_table의 길이` 이하인 자연수입니다.\n",
        "\n",
        "▣ return 값 설명\n",
        "\n",
        "가장 오래 일한 사람이 몇 시간 일했는지 return 합니다.\n",
        "\n",
        "▣ 예시\n",
        "\n",
        "    | time_table           | n | return |\n",
        "    |----------------------|---|--------|\n",
        "    |[1, 5, 1, 9]          | 3 | 10     |\n",
        "    | [4, 8, 2, 5, 4, 6, 7]| 4 | 14     |\n",
        "\n",
        "▣ 예시 설명\n",
        "\n",
        "예시 #1\n",
        "\n",
        "앞선 예와 같습니다.\n",
        "\n",
        "예시 #2\n",
        "\n",
        "첫 번째 사람은 4+4시간만큼 근무를 합니다.\n",
        "두 번째 사람은 8+6시간만큼 근무를 합니다.\n",
        "세 번째 사람은 2+7시간만큼 근무를 합니다.\n",
        "네 번째 사람은 5시간만큼 근무를 합니다.\n",
        "따라서, 가장 오래 근무를 한 사람은 14시간 일했습니다.\n"
      ],
      "metadata": {
        "id": "VT_xZULvTVQp"
      }
    },
    {
      "cell_type": "code",
      "source": [
        "time_table = [4, 8, 2, 5, 4, 6, 7]\n",
        "n = 4\n",
        "#for i in range(len(time_table)):\n",
        "#    print(i%n)  # 근무자 번호\n",
        "\n",
        "for i, time in enumerate(time_table):\n",
        "    print(i%n, time)"
      ],
      "metadata": {
        "colab": {
          "base_uri": "https://localhost:8080/"
        },
        "id": "lhxBzCDGvvk0",
        "outputId": "7cb2f22e-fa74-4f02-ac4b-745d04d63020"
      },
      "execution_count": null,
      "outputs": [
        {
          "output_type": "stream",
          "name": "stdout",
          "text": [
            "0 4\n",
            "1 8\n",
            "2 2\n",
            "3 5\n",
            "0 4\n",
            "1 6\n",
            "2 7\n"
          ]
        }
      ]
    },
    {
      "cell_type": "code",
      "source": [
        "#다음과 같이 import를 사용할 수 있습니다.\n",
        "#import math\n",
        "\n",
        "def solution(time_table, n):\n",
        "    #여기에 코드를 작성해주세요.\n",
        "    how_long = [0] * n\n",
        "    for i, time in enumerate(time_table):\n",
        "        how_long[i%n] += time\n",
        "    return max(how_long)\n",
        "\n",
        "#아래는 테스트케이스 출력을 해보기 위한 코드입니다.\n",
        "time_table1 = [1, 5, 1, 9]\n",
        "n1 = 3\n",
        "ret1 = solution(time_table1, n1)\n",
        "\n",
        "#[실행] 버튼을 누르면 출력 값을 볼 수 있습니다.\n",
        "print(\"solution 함수의 반환 값은\", ret1, \"입니다.\")\n",
        "\n",
        "time_table2 = [4, 8, 2, 5, 4, 6, 7]\n",
        "n2 = 4\n",
        "ret2 = solution(time_table2, n2)\n",
        "\n",
        "#[실행] 버튼을 누르면 출력 값을 볼 수 있습니다.\n",
        "print(\"solution 함수의 반환 값은\", ret2, \"입니다.\")"
      ],
      "metadata": {
        "id": "5xUkEiM5Tjum",
        "colab": {
          "base_uri": "https://localhost:8080/"
        },
        "outputId": "b6e9a9e7-2796-4792-daa0-e8c9c782e6ae"
      },
      "execution_count": null,
      "outputs": [
        {
          "output_type": "stream",
          "name": "stdout",
          "text": [
            "solution 함수의 반환 값은 10 입니다.\n",
            "solution 함수의 반환 값은 14 입니다.\n"
          ]
        }
      ]
    }
  ]
}