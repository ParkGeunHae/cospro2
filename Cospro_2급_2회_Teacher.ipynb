{
  "nbformat": 4,
  "nbformat_minor": 0,
  "metadata": {
    "colab": {
      "provenance": [],
      "toc_visible": true,
      "include_colab_link": true
    },
    "kernelspec": {
      "name": "python3",
      "display_name": "Python 3"
    },
    "language_info": {
      "name": "python"
    }
  },
  "cells": [
    {
      "cell_type": "markdown",
      "metadata": {
        "id": "view-in-github",
        "colab_type": "text"
      },
      "source": [
        "<a href=\"https://colab.research.google.com/github/ParkGeunHae/cospro2/blob/main/Cospro_2%EA%B8%89_2%ED%9A%8C_Teacher.ipynb\" target=\"_parent\"><img src=\"https://colab.research.google.com/assets/colab-badge.svg\" alt=\"Open In Colab\"/></a>"
      ]
    },
    {
      "cell_type": "markdown",
      "metadata": {
        "id": "dVh-tuHMzdsQ"
      },
      "source": [
        "### 문제 1. 장갑\n",
        "\n",
        "왼손 장갑의 제품 번호가 들어있는 배열과 오른손 장갑의 제품 번호가 들어있는 배열이 있습니다. 제품 번호는 1부터 10 사이의 자연수입니다. 제품 번호가 같은 왼손장갑과 오른손 장갑을 합쳐 장갑 한 쌍을 만들 수 있습니다. 이때, 최대한 많은 쌍의 장갑을 만들면 최대 몇 쌍을 만들 수 있는지 구하려 합니다. 이를 위해 다음과 같이 프로그램 구조를 작성했습니다.\n",
        "\n",
        "1. 왼손 장갑이 제품 번호별로 몇 개씩 있는지 개수를 셉니다.\n",
        "2. 오른손 장갑이 제품 번호별로 몇 개씩 있는지 개수를 셉니다.\n",
        "3. 각 제품 번호별로 최대한 많은 장갑 쌍을 만들면서 개수를 셉니다.\n",
        "\n",
        "왼손 장갑의 제품 번호가 들어있는 배열 left_gloves와 오른손 장갑의 제품 번호가 들어있는 배열 right_gloves가 매개변수로 주어질 때, 최대 몇 개의 장갑 쌍을 만들 수 있는지 return 하도록 solution 함수를 작성하려 합니다. 이때, 위 구조를 참고하여 중복되는 부분은 func_a라는 함수로 작성했습니다. 코드가 올바르게 동작할 수 있도록 빈칸을 알맞게 채워주세요.\n",
        "\n",
        "\n",
        "▣ 매개변수 설명\n",
        "\n",
        "왼손 장갑의 제품 번호가 들어있는 배열 left_gloves와 오른손 장갑의 제품 번호가 들어있는 배열 right_gloves가 solution 함수의 매개변수로 주어집니다.\n",
        "* left_gloves의 길이는 1 이상 100 이하입니다.\n",
        "* left_gloves의 원소는 1 이상 10 이하의 자연수입니다.\n",
        "* right_gloves의 길이는 1 이상 100 이하입니다.\n",
        "* right_gloves의 원소는 1 이상 10 이하의 자연수입니다.\n",
        "\n",
        "▣ return 값 설명\n",
        "\n",
        "왼손과 오른손의 제품 번호가 같은 장갑 끼리 한 쌍을 만들 때, 최대 몇 개의 쌍을 만들 수 있는지 개수를 return 해주세요.\n",
        "\n",
        "▣ 예시\n",
        "\n",
        "    | left_gloves     | right_gloves       | return |\n",
        "    |-----------------|--------------------|--------|\n",
        "    | [2, 1, 2, 2, 4] | [1, 2, 2, 4, 4, 7] | 4      |\n",
        "\n",
        "▣ 예시 설명\n",
        "\n",
        "예시 #1\n",
        "\n",
        "왼손 장갑 : 1번 장갑 1개, 2번 장갑 3개, 4번 장갑 1개가 있습니다.\n",
        "오른손 장갑 : 1번 장갑 1개, 2번 장갑 2개, 4번 장갑 2개, 7번 장갑 1개가 있습니다.\n",
        "\n",
        "따라서 1번 장갑 한 쌍, 2번 장갑 두 쌍, 4번 장갑 한 쌍을 만들면 최대 4개의 장갑 쌍을 만들 수 있습니다.\n"
      ]
    },
    {
      "cell_type": "code",
      "source": [
        "max_product_number = 10\n",
        "counter = [0] * (max_product_number+1) #[0 for _ in range(max_product_number + 1)]\n",
        "gloves = [2, 1, 2, 2, 4]\n",
        "for x in gloves:\n",
        "    counter[x] += 1\n",
        "    print(x, counter)"
      ],
      "metadata": {
        "colab": {
          "base_uri": "https://localhost:8080/"
        },
        "id": "ZE5O4ADTHnMu",
        "outputId": "b061be17-d924-4fa9-e59c-eeca871b3ac5"
      },
      "execution_count": null,
      "outputs": [
        {
          "output_type": "stream",
          "name": "stdout",
          "text": [
            "2 [0, 0, 1, 0, 0, 0, 0, 0, 0, 0, 0]\n",
            "1 [0, 1, 1, 0, 0, 0, 0, 0, 0, 0, 0]\n",
            "2 [0, 1, 2, 0, 0, 0, 0, 0, 0, 0, 0]\n",
            "2 [0, 1, 3, 0, 0, 0, 0, 0, 0, 0, 0]\n",
            "4 [0, 1, 3, 0, 1, 0, 0, 0, 0, 0, 0]\n"
          ]
        }
      ]
    },
    {
      "cell_type": "code",
      "source": [
        "# 출연한 번호 가짓수 => [2, 1, 2, 2, 4], 3\n",
        "max_product_number = 10\n",
        "counter = [0] * (max_product_number+1) #[0 for _ in range(max_product_number + 1)]\n",
        "gloves = [2, 1, 2, 2, 4]\n",
        "A = 0\n",
        "for x in gloves:\n",
        "    if counter[x] == 0:\n",
        "        A += 1\n",
        "    counter[x] += 1\n",
        "    print(x, A, counter)"
      ],
      "metadata": {
        "colab": {
          "base_uri": "https://localhost:8080/"
        },
        "id": "Y75dQyJdIOQj",
        "outputId": "4308b186-0ad6-4e72-f03b-1c56c902952d"
      },
      "execution_count": null,
      "outputs": [
        {
          "output_type": "stream",
          "name": "stdout",
          "text": [
            "2 1 [0, 0, 1, 0, 0, 0, 0, 0, 0, 0, 0]\n",
            "1 2 [0, 1, 1, 0, 0, 0, 0, 0, 0, 0, 0]\n",
            "2 2 [0, 1, 2, 0, 0, 0, 0, 0, 0, 0, 0]\n",
            "2 2 [0, 1, 3, 0, 0, 0, 0, 0, 0, 0, 0]\n",
            "4 3 [0, 1, 3, 0, 1, 0, 0, 0, 0, 0, 0]\n"
          ]
        }
      ]
    },
    {
      "cell_type": "code",
      "source": [
        "max_product_number = 10\n",
        "def func(gloves):\n",
        "    counter = [0] * (max_product_number+1)\n",
        "    for x in gloves:\n",
        "        counter[x] += 1\n",
        "    return counter\n",
        "\n",
        "left_gloves = [2, 1, 2, 2, 4]\n",
        "right_gloves = [1, 2, 2, 4, 4, 7]\n",
        "left_counter = func(left_gloves)\n",
        "right_counter = func(right_gloves)\n",
        "print(left_counter, right_counter, sep='\\n')\n",
        "\n",
        "# min 함수 사용 없이 풀이하기\n",
        "total = 0\n",
        "for a, b in zip(left_counter, right_counter):\n",
        "    total += a if a < b else b\n",
        "print(total)"
      ],
      "metadata": {
        "colab": {
          "base_uri": "https://localhost:8080/"
        },
        "id": "5Bh3Co3vJOay",
        "outputId": "d7a5a6ca-7c2a-4dab-dcea-21eb7942ec3f"
      },
      "execution_count": null,
      "outputs": [
        {
          "output_type": "stream",
          "name": "stdout",
          "text": [
            "[0, 1, 3, 0, 1, 0, 0, 0, 0, 0, 0]\n",
            "[0, 1, 2, 0, 2, 0, 0, 1, 0, 0, 0]\n",
            "4\n"
          ]
        }
      ]
    },
    {
      "cell_type": "code",
      "metadata": {
        "id": "CjoeucxlzaZA",
        "colab": {
          "base_uri": "https://localhost:8080/"
        },
        "outputId": "5c560e07-0ddc-4383-e996-923e58292c70"
      },
      "source": [
        "max_product_number = 10\n",
        "\n",
        "def func_a(gloves):\n",
        "    counter = [0 for _ in range(max_product_number + 1)]\n",
        "    for x in gloves:\n",
        "        counter[x] += 1\n",
        "    return counter\n",
        "\n",
        "def solution(left_gloves, right_gloves):\n",
        "    left_counter = func_a(left_gloves)\n",
        "    right_counter = func_a(right_gloves)\n",
        "\n",
        "    total = 0\n",
        "    for i in range(1, max_product_number + 1):\n",
        "        total += min(left_counter[i], right_counter[i])\n",
        "    return total\n",
        "\n",
        "#아래는 테스트케이스 출력을 해보기 위한 코드입니다.\n",
        "left_gloves = [2, 1, 2, 2, 4]\n",
        "right_gloves = [1, 2, 2, 4, 4, 7]\n",
        "ret = solution(left_gloves, right_gloves)\n",
        "\n",
        "#[실행] 버튼을 누르면 출력 값을 볼 수 있습니다.\n",
        "print(\"solution 함수의 반환 값은\", ret, \"입니다.\")"
      ],
      "execution_count": null,
      "outputs": [
        {
          "output_type": "stream",
          "name": "stdout",
          "text": [
            "[0, 1, 3, 0, 1, 0, 0, 0, 0, 0, 0]\n",
            "[0, 1, 2, 0, 2, 0, 0, 1, 0, 0, 0]\n",
            "solution 함수의 반환 값은 4 입니다.\n"
          ]
        }
      ]
    },
    {
      "cell_type": "markdown",
      "metadata": {
        "id": "sxkjrlNZ3rdi"
      },
      "source": [
        "### 문제 2. 배수의 개수 세기\n",
        "\n",
        "자연수가 들어있는 배열에 3의 배수와 5의 배수 중 어떤 수가 더 많은지 알아보려 합니다. 이를 위해 다음과 같이 프로그램 구조를 작성했습니다.\n",
        "\n",
        "1. 3의 배수의 개수를 셉니다.\n",
        "2. 5의 배수의 개수를 셉니다.\n",
        "3. 3의 배수와 5의 배수의 개수를 비교 후 다음을 수행합니다.  \n",
        "  - 3-1. 만약 3의 배수가 더 많다면 \"three\"를 return 합니다.\n",
        "  - 3-2. 만약 5의 배수가 더 많다면 \"five\"를 return 합니다.\n",
        "  - 3-3. 만약 3의 배수와 5의 배수의 개수가 같다면 \"same\"을 return 합니다.\n",
        "\n",
        "자연수가 들어있는 배열 arr가 매개변수로 주어질 때, 배열에 3의 배수의 개수가 더 많다면 \"three\"를, 5의 배수의 개수가 더 많다면 \"five\"를, 3의 배수와 5의 배수의 개수가 같다면 \"same\"을 return 하도록 solution 함수를 작성하려 합니다. 위 구조를 참고하여 코드가 올바르게 동작할 수 있도록 빈칸에 주어진 func_a, func_b, func_c 함수와 매개변수를 알맞게 채워주세요.\n",
        "\n",
        "\n",
        "▣ 매개변수 설명\n",
        "\n",
        "자연수가 들어있는 배열 arr가 solution 함수의 매개변수로 주어집니다.\n",
        "* arr의 길이는 1 이상 100 이하입니다.\n",
        "* arr에 들어있는 숫자는 1 이상 1,000 이하의 자연수입니다.\n",
        "\n",
        "▣ return 값 설명\n",
        "\n",
        "배열에 3의 배수의 개수가 더 많다면 \"three\"를, 5의 배수의 개수가 더 많다면 \"five\"를, 3의 배수와 5의 배수의 개수가 같다면 \"same\"을 return 해주세요.\n",
        "\n",
        "▣ 예시\n",
        "\n",
        "    | arr                                  | return  |\n",
        "    |--------------------------------------|---------|\n",
        "    | [2, 3, 6, 9, 12, 15, 10, 20, 22, 25] | \"three\" |\n",
        "\n",
        "▣예시 설명\n",
        "\n",
        "* 3의 배수 : 3, 6, 9, 12, 15\n",
        "* 5의 배수 : 10, 15, 20, 25\n",
        "\n",
        "3의 배수는 5개, 5의 배수는 4개이므로 3의 배수가 더 많습니다. 따라서 \"three\"를 return 합니다.\n",
        "\n"
      ]
    },
    {
      "cell_type": "code",
      "source": [
        "# 이것도 알아보아요.  (비슷한 함수 합치기(func_a, func_b), not 연산자, conditional expression)\n",
        "# cospro2급 시험에 응시하실 경우는 이렇게 변경하시면 안됩니다 ^^  문제에 주어진 그대로 풀이하시면 됩니다.\n",
        "\n",
        "# 1, 2단계 (target의 배수 개수)\n",
        "def func_a(arr, target):\n",
        "    count = 0\n",
        "    for n in arr:\n",
        "        if not n % target:\n",
        "            count += 1\n",
        "    return count\n",
        "\n",
        "# 3단계\n",
        "def func_b(three, five):\n",
        "    return \"three\" if three > five else \"five\" if three < five else \"same\""
      ],
      "metadata": {
        "id": "IuXKAwMixgl9"
      },
      "execution_count": null,
      "outputs": []
    },
    {
      "cell_type": "code",
      "metadata": {
        "id": "_1S-OLWU35qd",
        "colab": {
          "base_uri": "https://localhost:8080/"
        },
        "outputId": "e6f1316d-eb6f-4198-d7db-a0a0ce9942e2"
      },
      "source": [
        "# 2단계 (5의 배수 개수)\n",
        "def func_a(arr):\n",
        "    count = 0\n",
        "    for n in arr:\n",
        "        if n % 5 == 0:\n",
        "            count += 1\n",
        "    return count\n",
        "\n",
        "# 3단계\n",
        "def func_b(three, five):\n",
        "    if three > five:\n",
        "        return \"three\"\n",
        "    elif three < five:\n",
        "        return \"five\"\n",
        "    else:\n",
        "        return \"same\"\n",
        "\n",
        "# 1단계 (3의 배수 개수)\n",
        "def func_c(arr):\n",
        "    count = 0\n",
        "    for n in arr:\n",
        "        if n % 3 == 0:\n",
        "            count += 1\n",
        "    return count\n",
        "\n",
        "def solution(arr):\n",
        "    count_three = func_c(arr)\n",
        "    count_five = func_a(arr)\n",
        "    answer = func_b(count_three, count_five)\n",
        "    return answer\n",
        "\n",
        "#아래는 테스트케이스 출력을 해보기 위한 코드입니다.\n",
        "arr = [2, 3, 6, 9, 12, 15, 10, 20, 22, 25]\n",
        "ret = solution(arr)\n",
        "\n",
        "#[실행] 버튼을 누르면 출력 값을 볼 수 있습니다.\n",
        "print(\"solution 함수의 반환 값은\", ret, \"입니다.\")"
      ],
      "execution_count": null,
      "outputs": [
        {
          "output_type": "stream",
          "name": "stdout",
          "text": [
            "solution 함수의 반환 값은 three 입니다.\n"
          ]
        }
      ]
    },
    {
      "cell_type": "markdown",
      "metadata": {
        "id": "fxJTqGYR36Ez"
      },
      "source": [
        "### 문제 3. 짝수들의 제곱의 합\n",
        "\n",
        "서로 다른 두 자연수 N과 M이 매개변수로 주어질 때, N부터 M까지의 자연수 중에서 짝수들의 제곱의 합을 return 하도록 solution 함수를 완성해주세요.\n",
        "\n",
        "\n",
        "▣ 매개변수 설명\n",
        "\n",
        "두 자연수 N과 M이 solution 함수의 매개변수로 주어집니다.\n",
        "* N과 M은 1 이상 1,000 이하의 자연수이며, N < M을 항상 만족합니다.\n",
        "\n",
        "▣ return 값 설명\n",
        "\n",
        "N부터 M까지의 수 중에서 짝수인 수의 제곱의 합을 return 해주세요.\n",
        "\n",
        "▣ 예시\n",
        "\n",
        "    | N | M | return |\n",
        "    |---|---|--------|\n",
        "    | 4 | 7 | 52     |\n",
        "\n",
        "▣ 예시 설명\n",
        "\n",
        "4부터 7까지의 자연수 중에서 짝수는 4와 6입니다.\n",
        "\n",
        "* 4^2 + 6^2 = 16 + 36 = 52\n",
        "\n",
        "따라서 52를 return 하면 됩니다.\n"
      ]
    },
    {
      "cell_type": "markdown",
      "source": [
        "#### 3-1.문제 풀이 코드"
      ],
      "metadata": {
        "id": "W7IzCZJSLEiG"
      }
    },
    {
      "cell_type": "code",
      "source": [
        "N, M = 1, 10\n",
        "N = N+1 if N % 2 else N  # N을 짝수로 만드는 작업\n",
        "print(N)\n",
        "list(range(N, M+1, 2))"
      ],
      "metadata": {
        "colab": {
          "base_uri": "https://localhost:8080/"
        },
        "id": "kRQUvPRtIXte",
        "outputId": "3fb4321f-1503-4a03-b165-02bede5b975b"
      },
      "execution_count": null,
      "outputs": [
        {
          "output_type": "stream",
          "name": "stdout",
          "text": [
            "2\n"
          ]
        },
        {
          "output_type": "execute_result",
          "data": {
            "text/plain": [
              "[2, 4, 6, 8, 10]"
            ]
          },
          "metadata": {},
          "execution_count": 9
        }
      ]
    },
    {
      "cell_type": "code",
      "metadata": {
        "id": "MrHqISG_4HgA",
        "colab": {
          "base_uri": "https://localhost:8080/"
        },
        "outputId": "df09f9ec-00df-4cf6-90ce-58ccd1e70b51"
      },
      "source": [
        "#다음과 같이 import를 사용할 수 있습니다.\n",
        "#import math\n",
        "\n",
        "def solution(N, M):\n",
        "    N = N+1 if N % 2 else N   # N을 짝수로 만드는 작업\n",
        "    answer = [x**2 for x in range(N, M+1, 2)]  # comprehension\n",
        "    return sum(answer)\n",
        "\n",
        "def solution3(N, M):\n",
        "    answer = [x**2 for x in range(N, M+1) if not x % 2]  # comprehension\n",
        "    return sum(answer)\n",
        "\n",
        "def solution2(N, M):\n",
        "    #여기에 코드를 작성해주세요.\n",
        "    answer = 0\n",
        "    for x in range(N, M+1):\n",
        "        if not x % 2:   # if x % 2 == 0:\n",
        "            answer += x ** 2\n",
        "    return answer\n",
        "\n",
        "#아래는 테스트케이스 출력을 해보기 위한 코드입니다.\n",
        "N = 4\n",
        "M = 7\n",
        "ret = solution(N, M)\n",
        "\n",
        "#[실행] 버튼을 누르면 출력 값을 볼 수 있습니다.\n",
        "print(\"solution 함수의 반환 값은\", ret, \"입니다.\")"
      ],
      "execution_count": null,
      "outputs": [
        {
          "output_type": "stream",
          "name": "stdout",
          "text": [
            "solution 함수의 반환 값은 52 입니다.\n"
          ]
        }
      ]
    },
    {
      "cell_type": "markdown",
      "source": [
        "#### 3-2.statement 보충"
      ],
      "metadata": {
        "id": "cB6hqDl6K5gr"
      }
    },
    {
      "cell_type": "markdown",
      "source": [
        "**comprehension**\n",
        "- list, set, dict, iterator 를 만드는 식(expression)\n",
        "- 예) [x**2 for x in range(N, M+1) if not x % 2]\n",
        "\n",
        "expression, expresion이 아닌 statement는 무엇이 있나?\n",
        "\n",
        "**statement의 분류**\n",
        "\n",
        "- simple statement\n",
        "  - expression : 1개의 객체로 표현될 수 있는 것, 이름을 부여할 수 있는 것\n",
        "    10, 3.14, True, (1,2), [1,2], {1, 2}, {1:2}, 1+2, ```3**2```, 4 > 5, 6 == 9, sum([1,2,3]), print('abc')\n",
        "    'A' if a>b else 'B', lambda x : x**2, comprehension\n",
        "  - expression 아닌 simple statement : return, break, continue, del, A = 10, A += 1\n",
        "- compound statement : block을 가질 수 있는 것, 콜론(:)이 사용되고 들여쓰기, 내어쓰기를 사용해 블록 생성 가능\n",
        "  if, for, while, with, try, def, class"
      ],
      "metadata": {
        "id": "6XG8WojP2uNH"
      }
    },
    {
      "cell_type": "code",
      "source": [
        "# comprehension, conditional expression\n",
        "# comprehension youtube 영상 : https://www.youtube.com/watch?v=Z9kcim1CQYs&list=PLnp1rUgG4UVaMbL-G7kuAyuR2l0729SRQ&index=19"
      ],
      "metadata": {
        "id": "bDK_zshl0ntb"
      },
      "execution_count": null,
      "outputs": []
    },
    {
      "cell_type": "code",
      "source": [
        "#conditional expression\n",
        "# 0, 0.0, None, (), [], {}, set(), '', \"\" : False\n",
        "#expression if expression else expression\n",
        "result = 'A' if (1,2,3) else 'B'\n",
        "result"
      ],
      "metadata": {
        "colab": {
          "base_uri": "https://localhost:8080/",
          "height": 36
        },
        "id": "7JJylG_UCxUp",
        "outputId": "5559abff-57f2-4178-dcf9-e1faa062ff6b"
      },
      "execution_count": null,
      "outputs": [
        {
          "output_type": "execute_result",
          "data": {
            "application/vnd.google.colaboratory.intrinsic+json": {
              "type": "string"
            },
            "text/plain": [
              "'A'"
            ]
          },
          "metadata": {},
          "execution_count": 5
        }
      ]
    },
    {
      "cell_type": "code",
      "source": [
        "# lambda x : expression\n",
        "func = lambda x : x + 10\n",
        "func(10)"
      ],
      "metadata": {
        "colab": {
          "base_uri": "https://localhost:8080/"
        },
        "id": "wRKcocsrIq-7",
        "outputId": "a7f89ffd-d804-417e-ba43-eab81ebaeeda"
      },
      "execution_count": null,
      "outputs": [
        {
          "output_type": "execute_result",
          "data": {
            "text/plain": [
              "20"
            ]
          },
          "metadata": {},
          "execution_count": 6
        }
      ]
    },
    {
      "cell_type": "code",
      "source": [
        "# comprehension\n",
        "# [expression for x in iterable if x ]\n",
        "a = [pow(x, 2) for x in [2, 5, 3, 4]]\n",
        "a"
      ],
      "metadata": {
        "colab": {
          "base_uri": "https://localhost:8080/"
        },
        "id": "f2ivQuwWJADp",
        "outputId": "bd1d42dd-adca-4d50-9caf-3e13435646d0"
      },
      "execution_count": null,
      "outputs": [
        {
          "output_type": "execute_result",
          "data": {
            "text/plain": [
              "[4, 25, 9, 16]"
            ]
          },
          "metadata": {},
          "execution_count": 7
        }
      ]
    },
    {
      "cell_type": "code",
      "source": [
        "# if statement  =>   if expression\n",
        "a = [0, 1, 2, 3]\n",
        "if a[1]:\n",
        "    print('True')\n",
        "else:\n",
        "    print('False')"
      ],
      "metadata": {
        "colab": {
          "base_uri": "https://localhost:8080/"
        },
        "id": "o4Czx54WJd1v",
        "outputId": "e4b5bd6f-857e-427a-bed9-19cde163072c"
      },
      "execution_count": null,
      "outputs": [
        {
          "output_type": "stream",
          "name": "stdout",
          "text": [
            "True\n"
          ]
        }
      ]
    },
    {
      "cell_type": "code",
      "source": [
        "# while statement  =>  while expression\n",
        "while int(input('input a number :')) > 5:\n",
        "    print('a ', end=' ')"
      ],
      "metadata": {
        "colab": {
          "base_uri": "https://localhost:8080/"
        },
        "id": "zA9Rh_E_J2RG",
        "outputId": "1c86a685-36fd-4b10-f5bb-3854cad33fe5"
      },
      "execution_count": null,
      "outputs": [
        {
          "name": "stdout",
          "output_type": "stream",
          "text": [
            "input a number :10\n",
            "a  input a number :6\n",
            "a  input a number :8\n",
            "a  input a number :4\n"
          ]
        }
      ]
    },
    {
      "cell_type": "markdown",
      "metadata": {
        "id": "_zMr7Z-F4JLs"
      },
      "source": [
        "### 문제 4. 단어 이어붙이기\n",
        "\n",
        "단어들이 들어있는 배열에서 길이가 5 이상인 단어를 배열에 들어있는 순서대로 이어 붙이려 합니다.\n",
        "\n",
        "예를 들어 배열이 다음과 같은 경우\n",
        "\n",
        "[\"my\", \"favorite\", \"color\", \"is\", \"violet\"]\n",
        "\n",
        "\"favoritecolorviolet\"을 만들면 됩니다.\n",
        "\n",
        "단어들이 들어있는 배열 words가 solution 함수의 매개변수로 주어질 때, 길이가 5 이상인 단어를 순서대로 이어 붙인 문자열을 return 하도록 solution 함수를 완성해주세요.\n",
        "\n",
        "\n",
        "▣매개변수 설명\n",
        "\n",
        "단어들이 들어있는 배열 words가 solution 함수의 매개변수로 주어집니다.\n",
        "* words의 길이는 1 이상 100 이하입니다.\n",
        "* words에 들어있는 각 단어의 길이는 1 이상 10 이하이며, 알파벳 소문자로만 이루어져 있습니다.\n",
        "\n",
        "▣ return 값 설명\n",
        "\n",
        "길이가 5 이상인 단어를 순서대로 이어 붙여 return 해주세요.\n",
        "* 만약 return 할 문자열이 빈 문자열이면 \"empty\"를 return 해주세요.\n",
        "\n",
        "▣ 예시\n",
        "\n",
        "    | words                                       | return                |\n",
        "    |---------------------------------------------|-----------------------|\n",
        "    | [\"my\", \"favorite\", \"color\", \"is\", \"violet\"] | \"favoritecolorviolet\" |\n",
        "    | [\"yes\", \"i\", \"am\"]                          | \"empty\"               |\n",
        "\n",
        "▣ 예시 설명\n",
        "\n",
        "예시 #1\n",
        "\n",
        "길이가 5 이상인 단어는 \"favorite\", \"color\", \"violet\" 입니다. 이를 배열에 들어있는 순서대로 이어 붙이면 \"favoritecolorviolet\"이 됩니다.\n",
        "\n",
        "예시 #2\n",
        "\n",
        "길이가 5 이상인 단어가 없으므로 \"empty\"를 return 하면 됩니다.\n"
      ]
    },
    {
      "cell_type": "markdown",
      "source": [
        "#### 4-1.기본 풀이 방법"
      ],
      "metadata": {
        "id": "VKjJZCShOG3l"
      }
    },
    {
      "cell_type": "code",
      "metadata": {
        "id": "UXOxao2k5SoG",
        "colab": {
          "base_uri": "https://localhost:8080/"
        },
        "outputId": "ec60db54-9173-4384-a8c6-ca6ddf5a589f"
      },
      "source": [
        "#다음과 같이 import를 사용할 수 있습니다.\n",
        "#import math\n",
        "\n",
        "def solution(words):\n",
        "    #여기에 코드를 작성해주세요.\n",
        "    answer = ''\n",
        "    for x in words:\n",
        "        if len(x) >= 5:\n",
        "            answer += x\n",
        "    return answer if len(answer)>0 else \"empty\"\n",
        "\n",
        "#아래는 테스트케이스 출력을 해보기 위한 코드입니다.\n",
        "words1 = [\"my\", \"favorite\", \"color\", \"is\", \"violet\"]\n",
        "ret1 = solution(words1);\n",
        "\n",
        "#[실행] 버튼을 누르면 출력 값을 볼 수 있습니다.\n",
        "print(\"solution 함수의 반환 값은 \", ret1, \" 입니다.\")\n",
        "\n",
        "words2 = [\"yes\", \"i\", \"am\"]\n",
        "ret2 = solution(words2);\n",
        "\n",
        "#[실행] 버튼을 누르면 출력 값을 볼 수 있습니다.\n",
        "print(\"solution 함수의 반환 값은 \", ret2, \" 입니다.\")"
      ],
      "execution_count": null,
      "outputs": [
        {
          "output_type": "stream",
          "name": "stdout",
          "text": [
            "solution 함수의 반환 값은  favoritecolorviolet  입니다.\n",
            "solution 함수의 반환 값은  empty  입니다.\n"
          ]
        }
      ]
    },
    {
      "cell_type": "markdown",
      "source": [
        "#### 4-2.다른 풀이 방법"
      ],
      "metadata": {
        "id": "6z354_2rOC1J"
      }
    },
    {
      "cell_type": "code",
      "source": [
        "# str.join()\n",
        "'-'.join(['A', 'B', 'C'])"
      ],
      "metadata": {
        "colab": {
          "base_uri": "https://localhost:8080/",
          "height": 36
        },
        "id": "dbCvFsnDKLiM",
        "outputId": "17e4d114-c8a9-41ee-aa71-22050f13ea49"
      },
      "execution_count": null,
      "outputs": [
        {
          "output_type": "execute_result",
          "data": {
            "application/vnd.google.colaboratory.intrinsic+json": {
              "type": "string"
            },
            "text/plain": [
              "'A-B-C'"
            ]
          },
          "metadata": {},
          "execution_count": 16
        }
      ]
    },
    {
      "cell_type": "code",
      "source": [
        "'-'.join(map(str, [2022, 2, 4]))"
      ],
      "metadata": {
        "colab": {
          "base_uri": "https://localhost:8080/",
          "height": 36
        },
        "id": "ENR94fJcKYwJ",
        "outputId": "555c7126-2262-49eb-e492-4c87d7d612b4"
      },
      "execution_count": null,
      "outputs": [
        {
          "output_type": "execute_result",
          "data": {
            "application/vnd.google.colaboratory.intrinsic+json": {
              "type": "string"
            },
            "text/plain": [
              "'2022-2-4'"
            ]
          },
          "metadata": {},
          "execution_count": 18
        }
      ]
    },
    {
      "cell_type": "code",
      "source": [
        "'-'.join( [str(x) for x in [2022, 2, 4] ] )"
      ],
      "metadata": {
        "colab": {
          "base_uri": "https://localhost:8080/",
          "height": 36
        },
        "id": "Ujb8rxAEKhqt",
        "outputId": "81f519f6-0656-4dbf-e357-1eed7313bc91"
      },
      "execution_count": null,
      "outputs": [
        {
          "output_type": "execute_result",
          "data": {
            "application/vnd.google.colaboratory.intrinsic+json": {
              "type": "string"
            },
            "text/plain": [
              "'2022-2-4'"
            ]
          },
          "metadata": {},
          "execution_count": 19
        }
      ]
    },
    {
      "cell_type": "code",
      "source": [
        "# generator = iterator = iterable\n",
        "'-'.join( str(x) for x in [2022, 2, 4] )"
      ],
      "metadata": {
        "colab": {
          "base_uri": "https://localhost:8080/",
          "height": 36
        },
        "id": "kzEoAOaEKsGG",
        "outputId": "ab40e682-6a36-439c-da61-cabadde30004"
      },
      "execution_count": null,
      "outputs": [
        {
          "output_type": "execute_result",
          "data": {
            "application/vnd.google.colaboratory.intrinsic+json": {
              "type": "string"
            },
            "text/plain": [
              "'2022-2-4'"
            ]
          },
          "metadata": {},
          "execution_count": 20
        }
      ]
    },
    {
      "cell_type": "code",
      "source": [
        "# comprehension => list, set, dict, generator\n",
        "g = (x for x in range(1, 5))\n",
        "g"
      ],
      "metadata": {
        "colab": {
          "base_uri": "https://localhost:8080/"
        },
        "id": "m8d9HPkvLAYp",
        "outputId": "2180569a-9bd8-4ed1-fc24-3c06fe62dec1"
      },
      "execution_count": null,
      "outputs": [
        {
          "output_type": "execute_result",
          "data": {
            "text/plain": [
              "<generator object <genexpr> at 0x7f238893fcd0>"
            ]
          },
          "metadata": {},
          "execution_count": 21
        }
      ]
    },
    {
      "cell_type": "code",
      "source": [
        "# Youtube :쉽지는 않지만 이해해 두시면 좋습니다.\n",
        "iterable, iterator : https://youtu.be/Mt7QhLNQK6Y\n",
        "iterator related object : https://youtu.be/N_nNB0ADo0A\n",
        "generator : https://youtu.be/XXx4Uqh6pLs"
      ],
      "metadata": {
        "id": "yVQ4UFb-LMPC"
      },
      "execution_count": null,
      "outputs": []
    },
    {
      "cell_type": "code",
      "source": [
        "## 다른 풀이방법\n",
        "def solution(words):\n",
        "    answer = ''.join( x for x in words if len(x) >= 5 )\n",
        "    if len(answer) <= 0:    # if answer == '': 으로 사용하셔도 됩니다.\n",
        "        answer = 'empty'\n",
        "    return answer"
      ],
      "metadata": {
        "id": "OhL5Ts1onFd2"
      },
      "execution_count": null,
      "outputs": []
    },
    {
      "cell_type": "markdown",
      "metadata": {
        "id": "R2YS20ZN7KGa"
      },
      "source": [
        "### 문제 5. 게임 캐릭터\n",
        "\n",
        "게임 캐릭터가 몬스터와 1:1 전투를 하려 합니다. 몬스터는 처음에 일정 수치의 체력(HP)을 가지고 있습니다. 캐릭터가 전투에서 이기려면 몬스터를 공격해 몬스터의 체력을 0이하로 만들어야합니다. 캐릭터는 공격 마법만 사용하며, 공격 마법은 항상 같은 데미지를 입힙니다. 몬스터는 힐링 마법만을 사용하며, 힐링 마법은 항상 같은 수치로 체력을 회복합니다. 둘은 항상 번갈아 가며 마법을 사용하고, 처음에는 항상 캐릭터가 먼저 공격을 시작합니다.\n",
        "\n",
        "캐릭터의 공격력 attack과 몬스터가 자신의 차례에 회복하는 체력 recovery, 몬스터의 초기 체력 hp가 매개변수로 주어질 때, 몬스터를 잡기 위해서 최소 몇 번 공격해야 하는지 return 하도록 solution 함수를 작성하려 합니다. 빈칸을 채워 전체 코드를 완성해주세요.\n",
        "\n",
        "\n",
        "▣ 매개변수 설명\n",
        "\n",
        "캐릭터의 공격력 attack과 몬스터가 자신의 차례에 회복하는 체력 recovery, 몬스터의 초기 체력 hp가 solution 함수의 매개변수로 주어집니다.\n",
        "* attack은 1 이상 100 이하의 자연수입니다.\n",
        "* recovery는 1 이상 100 이하의 자연수입니다.\n",
        "* 캐릭터의 공격력은 항상 몬스터의 회복력보다 큽니다(recovery < attack).\n",
        "* hp는 200 이상 1,000 이하의 자연수입니다.\n",
        "\n",
        "▣ return 값 설명\n",
        "\n",
        "몬스터를 잡기 위해서 최소 몇 번 공격해야 하는지 return 해주세요.\n",
        "\n",
        "▣ 예시\n",
        "\n",
        "    | attack | recovery | hp  | return |\n",
        "    |--------|----------|-----|--------|\n",
        "    | 30     | 10       | 60  | 3      |\n",
        "\n",
        "▣예시 설명\n",
        "\n",
        "몬스터의 체력 변화는 아래와 같습니다.\n",
        "\n",
        "    | 차례   | hp 변화  | 남은 hp |\n",
        "    |--------|----------|---------|\n",
        "    | 캐릭터 | 없음     | 60      |\n",
        "    | 몬스터 | 공격 -30 | 30      |\n",
        "    | 캐릭터 | 회복 +10 | 40      |\n",
        "    | 몬스터 | 공격 -30 | 10      |\n",
        "    | 캐릭터 | 회복 +10 | 20      |\n",
        "    | 몬스터 | 공격 -30 | -10     |\n",
        "\n",
        "따라서 최소 3번 공격해야 몬스터를 잡을 수 있습니다.\n"
      ]
    },
    {
      "cell_type": "code",
      "metadata": {
        "id": "9XFKbluw7Jz8",
        "colab": {
          "base_uri": "https://localhost:8080/"
        },
        "outputId": "aab7e5af-1fe9-4b8e-95c8-f18a79acc659"
      },
      "source": [
        "def solution(attack, recovery, hp):\n",
        "    count = 0\n",
        "    while True:\n",
        "        count += 1\n",
        "        hp -= attack\n",
        "        if hp <= 0:\n",
        "            break\n",
        "        hp += recovery\n",
        "    return count\n",
        "\n",
        "#아래는 테스트케이스 출력을 해보기 위한 코드입니다.\n",
        "attack = 30\n",
        "recovery = 10\n",
        "hp = 60\n",
        "ret = solution(attack, recovery, hp)\n",
        "\n",
        "#[실행] 버튼을 누르면 출력 값을 볼 수 있습니다.\n",
        "print(\"solution 함수의 반환 값은\", ret, \"입니다.\")"
      ],
      "execution_count": null,
      "outputs": [
        {
          "output_type": "stream",
          "name": "stdout",
          "text": [
            "solution 함수의 반환 값은 3 입니다.\n"
          ]
        }
      ]
    },
    {
      "cell_type": "markdown",
      "metadata": {
        "id": "d7LVWpEDyppw"
      },
      "source": [
        "### 문제 6. 엘리베이터\n",
        "하루 동안 엘리베이터가 멈춘 층이 순서대로 들어있는 배열이 있습니다. 이때, 엘리베이터의 총 이동거리를 구하려 합니다. 단, 층과 층 사이의 거리는 1입니다.\n",
        "\n",
        "예를 들어 배열에 [1, 2, 5, 4, 2]가 들어있다면, 엘리베이터가 이동한 거리는 7입니다.\n",
        "\n",
        "하루 동안 엘리베이터가 멈춰 선 층이 순서대로 들어있는 배열 floors가 매개변수로 주어질 때, 엘리베이터의 총 이동 거리를 return 하도록 solution 함수를 작성하려 합니다. 빈칸을 채워 전체 코드를 완성해주세요.\n",
        "\n",
        "\n",
        "▣ 매개변수 설명\n",
        "\n",
        "하루 동안 엘리베이터가 멈춘 층이 순서대로 들어있는 배열 floors가 solution 함수의 매개변수로 주어집니다.\n",
        "* floors의 길이는 2 이상 100 이하입니다.\n",
        "* floors의 원소는 1 이상 100 이하의 자연수이며, 인접한 두 원소의 값이 같은 경우는 주어지지 않습니다.\n",
        "* floors의 첫 번째 원소는 엘리베이터의 처음 위치를 나타냅니다.\n",
        "\n",
        "▣ return 값 설명\n",
        "\n",
        "엘리베이터의 총 이동 거리를 return 해주세요.\n",
        "\n",
        "▣ 예시\n",
        "\n",
        "    | floors          | return |\n",
        "    |-----------------|--------|\n",
        "    | [1, 2, 5, 4, 2] | 7      |\n",
        "\n",
        "▣예시 설명\n",
        "\n",
        "엘리베이터는 처음에 1층에 있으며, 다음 순서대로 움직였습니다.\n",
        "* 1층 - 2층 - 5층 - 4층 - 2층\n",
        "\n",
        "층과 층사이의 거리는 1이므로, 엘리베이터가 이동한 거리는 다음과 같습니다.\n",
        "* 1층 - 2층 (이동 거리 : 1)\n",
        "* 2층 - 5층 (이동 거리 : 3)\n",
        "* 5층 - 4층 (이동 거리 : 1)\n",
        "* 4층 - 2층 (이동 거리 : 2)\n",
        "\n",
        "따라서 총 이동 거리는 7입니다.\n"
      ]
    },
    {
      "cell_type": "code",
      "metadata": {
        "id": "dee211HZy3ty",
        "colab": {
          "base_uri": "https://localhost:8080/"
        },
        "outputId": "5880ee51-fddc-47c7-bae8-3747464a1610"
      },
      "source": [
        "def solution2(floors):\n",
        "    dist = 0\n",
        "    length = len(floors)\n",
        "    for i in range(1, length):\n",
        "        dist += abs(floors[i] - floors[i-1])    # 절대값 abs(x)\n",
        "    return dist\n",
        "\n",
        "def solution(floors):\n",
        "    dist = 0\n",
        "    length = len(floors)\n",
        "    for i in range(1, length):\n",
        "        #print(i-1, i, floors[i-1], floors[i])\n",
        "        if floors[i] > floors[i-1]:\n",
        "            dist += floors[i] - floors[i-1]\n",
        "        else:\n",
        "            dist += floors[i-1] - floors[i]\n",
        "    return dist\n",
        "\n",
        "#아래는 테스트케이스 출력을 해보기 위한 코드입니다.\n",
        "floors = [1, 2, 5, 4, 2]\n",
        "ret = solution2(floors)\n",
        "\n",
        "#[실행] 버튼을 누르면 출력 값을 볼 수 있습니다.\n",
        "print(\"solution 함수의 반환 값은\", ret, \"입니다.\")"
      ],
      "execution_count": null,
      "outputs": [
        {
          "output_type": "stream",
          "name": "stdout",
          "text": [
            "solution 함수의 반환 값은 7 입니다.\n"
          ]
        }
      ]
    },
    {
      "cell_type": "markdown",
      "metadata": {
        "id": "meDwxSKzy7i7"
      },
      "source": [
        "### 문제 7. 온도 환산\n",
        "\n",
        "화씨온도(℉)를 섭씨온도(℃)로, 섭씨온도(℃)를 화씨온도(℉)로 바꾸려고 합니다. 두 온도 사이의 환산 공식은 다음과 같습니다.\n",
        "\n",
        "[환산공식]\n",
        "\n",
        "* 화씨온도(℉)에서 섭씨온도(℃)로 환산 : (화씨온도 - 32) ÷ 1.8 = 섭씨온도\n",
        "* 섭씨온도(℃)에서 화씨온도(℉)로 환산 : (섭씨온도 x 1.8) + 32 = 화씨온도\n",
        "\n",
        "현재 온도 value와 현재 단위 unit이 매개변수로 주어질 때, 환산한 온도의 정수 부분을 return 하도록 solution 함수를 작성했습니다. 그러나, 코드 일부분이 잘못되어있기 때문에, 몇몇 입력에 대해서는 올바르게 동작하지 않습니다. 주어진 코드에서 _**한 줄**_만 변경해서 모든 입력에 대해 올바르게 동작하도록 수정하세요.\n",
        "\n",
        "\n",
        "▣ 매개변수 설명\n",
        "\n",
        "현재 온도 value와 현재 단위 unit이 solution 함수의 매개변수로 주어집니다.\n",
        "* unit은 화씨온도 \"F\"와 섭씨온도 \"C\" 둘 중 하나로 주어집니다.\n",
        "  * unit이 \"F\"인 경우 value는 화씨온도(℉)를 나타냅니다.\n",
        "  * unit이 \"C\"인 경우 value는 섭씨온도(℃)를 나타냅니다.\n",
        "* value는 -460 이상 1,000 이하의 정수입니다.\n",
        "\n",
        "▣ return 값 설명\n",
        "\n",
        "환산한 온도의 정수 부분을 return 해주세요.\n",
        "* unit이 \"F\"인 경우에는 화씨온도(℉)에서 섭씨온도(℃)로 환산해주세요.\n",
        "* unit이 \"C\"인 경우에는 섭씨온도(℃)에서 화씨온도(℉)로 환산해주세요.\n",
        "\n",
        "▣ 예시\n",
        "\n",
        "    | value | unit | return |\n",
        "    |-------|------|--------|\n",
        "    | 527   | \"C\"  | 980    |\n",
        "\n",
        "▣예시 설명\n",
        "\n",
        "unit이 \"C\" 이므로 주어진 value는 527℃를 나타냅니다. 이를 화씨온도(℉)로 환산하면 다음과 같습니다.\n",
        "(섭씨온도 x 1.8) + 32 = (527 x 1.8) + 32 = 980.6\n",
        "\n",
        "따라서 환산 결과는 980.6℉이며, 정수 부분만 return 하면 되므로 980을 return 하면 됩니다.\n"
      ]
    },
    {
      "cell_type": "code",
      "metadata": {
        "colab": {
          "base_uri": "https://localhost:8080/"
        },
        "id": "T3m_dWfKzOZw",
        "outputId": "0bf71e7a-5eb3-4cbd-9f4d-429215844d98"
      },
      "source": [
        "def solution(value, unit):\n",
        "    converted = 0\n",
        "    if unit == \"C\":\n",
        "        value = value * 1.8 + 32\n",
        "    if unit == \"F\":\n",
        "        value = (value - 32) / 1.8   # 연산자 우선순위 (*, /, //, %)가 (+, -) 보다 높다, 괄호를 이용해서 연산 우선순위 변경\n",
        "    converted = int(value)\n",
        "    return converted\n",
        "\n",
        "#아래는 테스트케이스 출력을 해보기 위한 코드입니다. 아래 코드는 잘못된 부분이 없으니, solution함수만 수정하세요.\n",
        "value = 527\n",
        "unit = \"F\"\n",
        "ret = solution(value, unit)\n",
        "\n",
        "\n",
        "#[실행] 버튼을 누르면 출력 값을 볼 수 있습니다.\n",
        "print(\"solution 함수의 반환 값은\", ret, \"입니다.\")"
      ],
      "execution_count": null,
      "outputs": [
        {
          "output_type": "stream",
          "name": "stdout",
          "text": [
            "solution 함수의 반환 값은 275 입니다.\n"
          ]
        }
      ]
    },
    {
      "cell_type": "markdown",
      "metadata": {
        "id": "MvOUdIFSzUAZ"
      },
      "source": [
        "### 문제 8. 소수의 개수\n",
        "자연수의 각 자릿수 중에서 소수는 몇 개인지 구하려 합니다. 즉, 자연수를 각 자릿수별로 나누었을 때, 2, 3, 5, 7이 몇 개 있는지 구하려 합니다.\n",
        "\n",
        "예를 들어, 자연수가 29022531일 때, 각 자릿수 중 소수의 위치는 다음과 같습니다.\n",
        "\n",
        "    '2' 9 0 '2' '2' '5' '3' 1\n",
        "\n",
        "따라서 소수의 개수는 총 5개입니다.\n",
        "\n",
        "자연수 number가 매개변수로 주어질 때, number의 각 자릿수 중 소수는 몇 개인지 return 하도록 solution 함수를 작성했습니다. 그러나, 코드 일부분이 잘못되어있기 때문에, 몇몇 입력에 대해서는 올바르게 동작하지 않습니다. 주어진 코드에서 _**한 줄**_만 변경해서 모든 입력에 대해 올바르게 동작하도록 수정하세요.\n",
        "\n",
        "\n",
        "▣ 매개변수 설명\n",
        "\n",
        "자연수 number가 solution 함수의 매개변수로 주어집니다.\n",
        "* number는 1 이상 1,000,000,000 이하의 자연수입니다.\n",
        "\n",
        "▣ return 값 설명\n",
        "\n",
        "number의 각 자릿수 중 소수는 몇 개인지 return 해주세요.\n",
        "\n",
        "▣ 예시\n",
        "\n",
        "    | number   | return |\n",
        "    |----------|--------|\n",
        "    | 29022531 | 5      |\n"
      ]
    },
    {
      "cell_type": "code",
      "metadata": {
        "id": "BOzsEcJgz7gx",
        "colab": {
          "base_uri": "https://localhost:8080/"
        },
        "outputId": "fb1e7516-4271-4308-c862-2eb3f4282493"
      },
      "source": [
        "def solution3(number):\n",
        "    #number = [int(x) for x in str(number) if int(x) in [2, 3, 5, 7]]\n",
        "    number = [x for x in str(number) if x in ['2', '3', '5', '7']]\n",
        "    return len(number)\n",
        "\n",
        "def solution2(number):\n",
        "    count = 0\n",
        "    number = [int(x) for x in str(number)]\n",
        "    print(number)\n",
        "    for n in number:\n",
        "        if n in [2, 3, 5, 7]:\n",
        "            count += 1\n",
        "    return count\n",
        "\n",
        "def solution(number):\n",
        "    count = 0\n",
        "    while number > 0:    # number가 0과 같은 경우 무한반복을 하게됨, 종료조건 확인\n",
        "        n = number % 10\n",
        "        print(number, n)\n",
        "        if n == 2 or n == 3 or n == 5 or n == 7:\n",
        "            count += 1\n",
        "        number //= 10\n",
        "    return count\n",
        "\n",
        "#아래는 테스트케이스 출력을 해보기 위한 코드입니다. 아래 코드는 잘못된 부분이 없으니, solution함수만 수정하세요.\n",
        "number = 29022531\n",
        "ret = solution3(number)\n",
        "\n",
        "\n",
        "#[실행] 버튼을 누르면 출력 값을 볼 수 있습니다.\n",
        "print(\"solution 함수의 반환 값은\", ret, \"입니다.\")"
      ],
      "execution_count": null,
      "outputs": [
        {
          "output_type": "stream",
          "name": "stdout",
          "text": [
            "solution 함수의 반환 값은 5 입니다.\n"
          ]
        }
      ]
    },
    {
      "cell_type": "markdown",
      "metadata": {
        "id": "vLL5ebztz_6G"
      },
      "source": [
        "### 문제 9. 투표 결과\n",
        "N명의 후보에 대해 투표한 결과가 들어있는 배열이 있습니다. 예를 들어 5명의 후보에 대해 투표를 진행한 결과가 [2, 5, 3, 4, 1, 5, 1, 5, 5, 3]이라면 순서대로 [2번, 5번, 3번, 4번, 1번, 5번, 1번, 5번, 5번, 3번] 후보에 투표했음을 나타냅니다. 이때, 정확히 K 표를 받은 후보는 총 몇 명인지 구하려 합니다.\n",
        "\n",
        "예를 들어 K = 2일 때, 위 투표 결과에서 정확히 2표를 받은 후보는 1번, 3번 후보로, 총 2명입니다.\n",
        "\n",
        "투표 결과가 들어있는 배열 votes, 후보의 수 N, 표의 개수 K가 매개변수로 주어질 때, K 표를 받은 후보는 몇 명인지 return 하도록 solution 함수를 작성했습니다. 그러나, 코드 일부분이 잘못되어있기 때문에, 몇몇 입력에 대해서는 올바르게 동작하지 않습니다. 주어진 코드에서 _**한 줄**_만 변경해서 모든 입력에 대해 올바르게 동작하도록 수정하세요.\n",
        "\n",
        "\n",
        "▣ 매개변수 설명\n",
        "\n",
        "투표 결과가 들어있는 배열 votes, 후보의 수 N, 표의 개수 K가 solution 함수의 매개변수로 주어집니다.\n",
        "* votes의 길이는 10 이상, 100 이하입니다.\n",
        "* votes의 원소는 1 이상, 전체 후보의 수 N 이하의 자연수입니다.\n",
        "* N은 3 이상 10 이하의 자연수입니다.\n",
        "* K는 0 이상 100 이하의 정수입니다.\n",
        "\n",
        "▣ return 값 설명\n",
        "\n",
        "K 표를 받은 후보는 몇 명인지 return 해주세요.\n",
        "\n",
        "▣예시\n",
        "\n",
        "        | votes                          | N | K | return |\n",
        "        |--------------------------------|---|---|--------|\n",
        "        | [2, 5, 3, 4, 1, 5, 1, 5, 5, 3] | 5 | 2 | 2      |\n",
        "\n",
        "▣예시 설명\n",
        "\n",
        "각 후보가 받은 표는 다음과 같습니다.\n",
        "* 1번 후보 : 2표\n",
        "* 2번 후보 : 1표\n",
        "* 3번 후보 : 2표\n",
        "* 4번 후보 : 1표\n",
        "* 5번 후보 : 4표\n",
        "\n",
        "따라서 2표를 받은 후보는 1번, 3번 후보로 총 2명입니다.\n",
        "\n"
      ]
    },
    {
      "cell_type": "code",
      "metadata": {
        "id": "yODFUbii0L2F",
        "colab": {
          "base_uri": "https://localhost:8080/"
        },
        "outputId": "3ca42f66-bd12-495d-f1d5-b849eaf7d41a"
      },
      "source": [
        "def solution2(votes, N, K):\n",
        "    counter = [0] * (N+1)\n",
        "    for x in votes:\n",
        "        counter[x] += 1\n",
        "    a = [1 for c in counter if c == K ]\n",
        "    return len(a)\n",
        "\n",
        "def solution(votes, N, K):\n",
        "    counter = [0 for _ in range(N + 1)]\n",
        "    for x in votes:\n",
        "        counter[x] += 1\n",
        "    #print(counter)\n",
        "    answer = 0        # 초기값이 0이어야 함\n",
        "    for c in counter:\n",
        "        if c == K:\n",
        "            answer += 1\n",
        "    return answer\n",
        "\n",
        "#아래는 테스트케이스 출력을 해보기 위한 코드입니다. 아래 코드는 잘못된 부분이 없으니, solution함수만 수정하세요.\n",
        "votes = [2, 5, 3, 4, 1, 5, 1, 5, 5, 3]\n",
        "N = 5\n",
        "K = 2\n",
        "ret = solution2(votes, N, K)\n",
        "\n",
        "\n",
        "#[실행] 버튼을 누르면 출력 값을 볼 수 있습니다.\n",
        "print(\"solution 함수의 반환 값은\", ret, \"입니다.\")"
      ],
      "execution_count": null,
      "outputs": [
        {
          "output_type": "stream",
          "name": "stdout",
          "text": [
            "solution 함수의 반환 값은 2 입니다.\n"
          ]
        }
      ]
    },
    {
      "cell_type": "markdown",
      "metadata": {
        "id": "13KakHas0O7i"
      },
      "source": [
        "### 문제 10. 백화점 상품권\n",
        "A 백화점에서는 고객의 구매금액에 따라 다음과 같이 상품권을 지급합니다.\n",
        "\n",
        "    | 구매 금액          | 상품권       |\n",
        "    |--------------------|--------------|\n",
        "    | 100만 원 이상 구매 | 5만 원 상품권 |\n",
        "    | 60만 원 이상 구매  | 3만 원 상품권 |\n",
        "    | 40만 원 이상 구매  | 2만 원 상품권 |\n",
        "    | 20만 원 이상 구매  | 1만 원 상품권 |\n",
        "\n",
        "이때, 상품권은 지급 가능한 가장 큰 금액으로 한 장만 지급합니다. 예를 들어 고객이 65만 원을 구매했다면, 3만 원 상품권 한 장만 지급합니다.\n",
        "\n",
        "고객들의 구매 금액이 들어있는 배열 purchase가 주어질 때, 고객들에게 지급해야 하는 상품권 총액을 return 하도록 solution 함수를 작성했습니다. 그러나, 코드 일부분이 잘못되어있기 때문에, 코드가 올바르게 동작하지 않습니다. 주어진 코드에서 _**한 줄**_만 변경해서 모든 입력에 대해 올바르게 동작하도록 수정해주세요.\n",
        "\n",
        "\n",
        "▣ 매개변수 설명\n",
        "\n",
        "고객들의 구매 금액이 들어있는 배열 purchase가 solution 함수의 매개변수로 주어집니다.\n",
        "* purchase의 길이는 1 이상 100 이하입니다.\n",
        "* purchase의 원소는 10 이상 1,500,000 이하의 자연수이며, 10원 단위로 주어집니다.\n",
        "\n",
        "▣ return 값 설명\n",
        "\n",
        "고객들에게 지급해야 하는 상품권 총액을 return 해주세요.\n",
        "\n",
        "▣ 예시\n",
        "\n",
        "    | purchase                                  | return |\n",
        "    |-------------------------------------------|--------|\n",
        "    | [150000, 210000, 399990, 990000, 1000000] | 100000 |\n",
        "\n",
        "▣예시 설명\n",
        "\n",
        "* 210,000원, 399,990원을 구매한 고객에게 1만 원 상품권을 지급해야 합니다.\n",
        "* 990,000원을 구매한 고객에게 3만 원 상품권을 지급해야 합니다.\n",
        "* 1,000,000원을 구매한 고객에게 5만 원 상품권을 지급해야 합니다.\n",
        "\n",
        "따라서 지급해야 하는 상품권은 1만 원 상품권 2장, 3만 원 상품권 1장, 5만 원 상품권 1장으로, 총액은 10만 원 입니다.\n"
      ]
    },
    {
      "cell_type": "code",
      "metadata": {
        "id": "AhBrFiHQ0bb9",
        "colab": {
          "base_uri": "https://localhost:8080/"
        },
        "outputId": "cecaf23b-fd00-4195-d91d-40bdab9563fb"
      },
      "source": [
        "def solution(purchase):\n",
        "    total = 0\n",
        "    for p in purchase:\n",
        "        if p >= 1000000:\n",
        "            total += 50000\n",
        "        elif p >= 600000:\n",
        "            total += 30000\n",
        "        elif p >= 400000:\n",
        "            total += 20000\n",
        "        elif p >= 200000:   # else를 elif로 수정하였습니다.\n",
        "            total += 10000\n",
        "        #print(p, total)\n",
        "    return total\n",
        "\n",
        "#아래는 테스트케이스 출력을 해보기 위한 코드입니다. 아래 코드는 잘못된 부분이 없으니, solution함수만 수정하세요.\n",
        "purchase = [150000, 210000, 399990, 990000, 1000000]\n",
        "ret = solution(purchase)\n",
        "\n",
        "\n",
        "#[실행] 버튼을 누르면 출력 값을 볼 수 있습니다.\n",
        "print(\"solution 함수의 반환 값은\", ret, \"입니다.\")"
      ],
      "execution_count": null,
      "outputs": [
        {
          "output_type": "stream",
          "name": "stdout",
          "text": [
            "solution 함수의 반환 값은 100000 입니다.\n"
          ]
        }
      ]
    }
  ]
}