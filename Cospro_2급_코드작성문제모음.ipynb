{
  "nbformat": 4,
  "nbformat_minor": 0,
  "metadata": {
    "colab": {
      "provenance": [],
      "toc_visible": true,
      "include_colab_link": true
    },
    "kernelspec": {
      "name": "python3",
      "display_name": "Python 3"
    },
    "language_info": {
      "name": "python"
    }
  },
  "cells": [
    {
      "cell_type": "markdown",
      "metadata": {
        "id": "view-in-github",
        "colab_type": "text"
      },
      "source": [
        "<a href=\"https://colab.research.google.com/github/ParkGeunHae/cospro2/blob/main/Cospro_2%EA%B8%89_%EC%BD%94%EB%93%9C%EC%9E%91%EC%84%B1%EB%AC%B8%EC%A0%9C%EB%AA%A8%EC%9D%8C.ipynb\" target=\"_parent\"><img src=\"https://colab.research.google.com/assets/colab-badge.svg\" alt=\"Open In Colab\"/></a>"
      ]
    },
    {
      "cell_type": "markdown",
      "source": [
        "## Cospro 2급 1회"
      ],
      "metadata": {
        "id": "Ws0K1-SsUxR2"
      }
    },
    {
      "cell_type": "markdown",
      "metadata": {
        "id": "nSUoW9ppt8WF"
      },
      "source": [
        "### 문제 1. 티셔츠 주문\n",
        "A 학교에서는 단체 티셔츠를 주문하기 위해 학생별로 원하는 티셔츠 사이즈를 조사했습니다. 선택할 수 있는 티셔츠 사이즈는 작은 순서대로 \"XS\", \"S\", \"M\", \"L\", \"XL\", \"XXL\" 총 6종류가 있습니다.\n",
        "\n",
        "학생별로 원하는 티셔츠 사이즈를 조사한 결과가 들어있는 배열 shirt_size가 매개변수로 주어질 때, 사이즈별로 티셔츠가 몇 벌씩 필요한지 가장 작은 사이즈부터 순서대로 배열에 담아 return 하도록 solution 함수를 완성해주세요.\n",
        "\n",
        "\n",
        "▣ 매개변수 설명\n",
        "\n",
        "학생별로 원하는 사이즈를 조사한 결과가 들어있는 배열 shirt_size가 solution 함수의 매개변수로 주어집니다.\n",
        "* shirt_size 의 길이는 1 이상 100 이하입니다.\n",
        "* shirt_size 에는 치수를 나타내는 문자열 \"XS\", \"S\", \"M\", \"L\", \"XL\", \"XXL\" 이 들어있습니다.\n",
        "\n",
        "▣ return 값 설명\n",
        "\n",
        "티셔츠가 사이즈별로 몇 벌씩 필요한지 가장 작은 사이즈부터 순서대로 배열에 담아 return 해주세요.\n",
        "* return 하는 배열에는 [ \"XS\" 개수, \"S\" 개수, \"M\" 개수, \"L\" 개수, \"XL\" 개수, \"XXL\" 개수] 순서로 들어있어야 합니다.\n",
        "\n",
        "▣ 예시\n",
        "\n",
        "        | shirt_size                       | return             |\n",
        "        |----------------------------------|--------------------|\n",
        "        | [\"XS\", \"S\", \"L\", \"L\", \"XL\", \"S\"] | [1, 2, 0, 2, 1, 0] |\n",
        "\n",
        "▣ 예시 설명\n",
        "\n",
        "* \"XS\"와 \"XL\"은 각각 한 명씩 신청했습니다.\n",
        "* \"S\"와 \"L\"은 각각 두 명씩 신청했습니다.\n",
        "* \"M\"과 \"XXL\"을 신청한 학생은 없습니다.\n",
        "\n",
        "따라서 순서대로 [1, 2, 0, 2, 1, 0]을 배열에 담아 return 하면 됩니다.\n"
      ]
    },
    {
      "cell_type": "code",
      "metadata": {
        "id": "u7D_-jOQt11h"
      },
      "source": [
        "#You may use import as below.\n",
        "#import math\n",
        "\n",
        "def solution(shirt_size):\n",
        "    #Write code here.\n",
        "    answer = []\n",
        "    return answer\n",
        "\n",
        "#The following is code to output testcase.\n",
        "shirt_size = [\"XS\", \"S\", \"L\", \"L\", \"XL\", \"S\"]\n",
        "ret = solution(shirt_size);\n",
        "\n",
        "#Press Run button to receive output.\n",
        "print(\"Solution: return value of the function is \", ret, \" .\")"
      ],
      "execution_count": null,
      "outputs": []
    },
    {
      "cell_type": "markdown",
      "metadata": {
        "id": "Fwdenj4BuhIA"
      },
      "source": [
        "### 문제 2. 회원 등급\n",
        "\n",
        "A 쇼핑몰에서는 회원 등급에 따라 할인 서비스를 제공합니다.\n",
        "회원 등급에 따른 할인율은 다음과 같습니다.\n",
        "(S = 실버, G = 골드, V = VIP)\n",
        "\n",
        "        | 등급  | 할인율 |\n",
        "        |-------|--------|\n",
        "        | \"S\"   | 5%     |\n",
        "        | \"G\"   | 10%    |\n",
        "        | \"V\"   | 15%    |\n",
        "\n",
        "상품의 가격 price와 구매자의 회원 등급을 나타내는 문자열 grade가 매개변수로 주어질 때, 할인 서비스를 적용한 가격을 return 하도록 solution 함수를 완성해주세요.\n",
        "\n",
        "\n",
        "▣매개변수 설명\n",
        "\n",
        "상품의 가격 price와 회원 등급 grade가 매개변수로 주어집니다.\n",
        "* price는 100 이상 100,000 이하의 100단위 자연수입니다.\n",
        "* grade는 \"S\", \"G\", \"V\" 세 가지 중 하나입니다.\n",
        "\n",
        "▣return 값 설명\n",
        "\n",
        "할인한 가격을 return 하도록 solution 함수를 작성해주세요.\n",
        "\n",
        "▣예시\n",
        "\n",
        "        | price | grade    | return |\n",
        "        |-------|----------|--------|\n",
        "        | 2500  | \"V\"      | 2125   |\n",
        "        | 96900 | \"S\"      | 92055  |\n",
        "\n",
        "▣ 예시 설명\n",
        "\n",
        "예시 #1\n",
        "2500원의 15%는 375원 입니다. 2500 - 375 = 2125 입니다.\n",
        "\n",
        "예시 #2\n",
        "96900원의 5%는 4845원 입니다. 96900 - 4845 = 92055 입니다.\n",
        "\n"
      ]
    },
    {
      "cell_type": "code",
      "metadata": {
        "id": "AicSrnPRvZSC"
      },
      "source": [
        "#You may use import as below.\n",
        "#import math\n",
        "\n",
        "def solution(price, grade):\n",
        "    #Write code here.\n",
        "    answer = 0\n",
        "    return answer\n",
        "\n",
        "#The following is code to output testcase.\n",
        "price1 = 2500\n",
        "grade1 = \"V\"\n",
        "ret1 = solution(price1, grade1)\n",
        "\n",
        "#Press Run button to receive output.\n",
        "print(\"Solution: return value of the function is\", ret1, \".\")\n",
        "\n",
        "price2 = 96900\n",
        "grade2 = \"S\"\n",
        "ret2 = solution(price2, grade2)\n",
        "\n",
        "#Press Run button to receive output.\n",
        "print(\"Solution: return value of the function is\", ret2, \".\")"
      ],
      "execution_count": null,
      "outputs": []
    },
    {
      "cell_type": "markdown",
      "source": [
        "## Cospro 2급 2회"
      ],
      "metadata": {
        "id": "rYKkM2k8UTGq"
      }
    },
    {
      "cell_type": "markdown",
      "metadata": {
        "id": "fxJTqGYR36Ez"
      },
      "source": [
        "### 문제 3. 짝수들의 제곱의 합\n",
        "\n",
        "서로 다른 두 자연수 N과 M이 매개변수로 주어질 때, N부터 M까지의 자연수 중에서 짝수들의 제곱의 합을 return 하도록 solution 함수를 완성해주세요.\n",
        "\n",
        "\n",
        "▣ 매개변수 설명\n",
        "\n",
        "두 자연수 N과 M이 solution 함수의 매개변수로 주어집니다.\n",
        "* N과 M은 1 이상 1,000 이하의 자연수이며, N < M을 항상 만족합니다.\n",
        "\n",
        "▣ return 값 설명\n",
        "\n",
        "N부터 M까지의 수 중에서 짝수인 수의 제곱의 합을 return 해주세요.\n",
        "\n",
        "▣ 예시\n",
        "\n",
        "    | N | M | return |\n",
        "    |---|---|--------|\n",
        "    | 4 | 7 | 52     |\n",
        "\n",
        "▣ 예시 설명\n",
        "\n",
        "4부터 7까지의 자연수 중에서 짝수는 4와 6입니다.\n",
        "\n",
        "* 4^2 + 6^2 = 16 + 36 = 52\n",
        "\n",
        "따라서 52를 return 하면 됩니다.\n"
      ]
    },
    {
      "cell_type": "code",
      "metadata": {
        "id": "MrHqISG_4HgA"
      },
      "source": [
        "#다음과 같이 import를 사용할 수 있습니다.\n",
        "#import math\n",
        "\n",
        "def solution(N, M):\n",
        "    #여기에 코드를 작성해주세요.\n",
        "    answer = 0\n",
        "    return answer\n",
        "\n",
        "#아래는 테스트케이스 출력을 해보기 위한 코드입니다.\n",
        "N = 4\n",
        "M = 7\n",
        "ret = solution(N, M)\n",
        "\n",
        "#[실행] 버튼을 누르면 출력 값을 볼 수 있습니다.\n",
        "print(\"solution 함수의 반환 값은\", ret, \"입니다.\")"
      ],
      "execution_count": null,
      "outputs": []
    },
    {
      "cell_type": "markdown",
      "metadata": {
        "id": "_zMr7Z-F4JLs"
      },
      "source": [
        "### 문제 4. 단어이어붙이기\n",
        "\n",
        "단어들이 들어있는 배열에서 길이가 5 이상인 단어를 배열에 들어있는 순서대로 이어 붙이려 합니다.\n",
        "\n",
        "예를 들어 배열이 다음과 같은 경우\n",
        "\n",
        "[\"my\", \"favorite\", \"color\", \"is\", \"violet\"]\n",
        "\n",
        "\"favoritecolorviolet\"을 만들면 됩니다.\n",
        "\n",
        "단어들이 들어있는 배열 words가 solution 함수의 매개변수로 주어질 때, 길이가 5 이상인 단어를 순서대로 이어 붙인 문자열을 return 하도록 solution 함수를 완성해주세요.\n",
        "\n",
        "\n",
        "▣매개변수 설명\n",
        "\n",
        "단어들이 들어있는 배열 words가 solution 함수의 매개변수로 주어집니다.\n",
        "* words의 길이는 1 이상 100 이하입니다.\n",
        "* words에 들어있는 각 단어의 길이는 1 이상 10 이하이며, 알파벳 소문자로만 이루어져 있습니다.\n",
        "\n",
        "▣ return 값 설명\n",
        "\n",
        "길이가 5 이상인 단어를 순서대로 이어 붙여 return 해주세요.\n",
        "* 만약 return 할 문자열이 빈 문자열이면 \"empty\"를 return 해주세요.\n",
        "\n",
        "▣ 예시\n",
        "\n",
        "    | words                                       | return                |\n",
        "    |---------------------------------------------|-----------------------|\n",
        "    | [\"my\", \"favorite\", \"color\", \"is\", \"violet\"] | \"favoritecolorviolet\" |\n",
        "    | [\"yes\", \"i\", \"am\"]                          | \"empty\"               |\n",
        "\n",
        "▣ 예시 설명\n",
        "\n",
        "예시 #1\n",
        "\n",
        "길이가 5 이상인 단어는 \"favorite\", \"color\", \"violet\" 입니다. 이를 배열에 들어있는 순서대로 이어 붙이면 \"favoritecolorviolet\"이 됩니다.\n",
        "\n",
        "예시 #2\n",
        "\n",
        "길이가 5 이상인 단어가 없으므로 \"empty\"를 return 하면 됩니다.\n"
      ]
    },
    {
      "cell_type": "code",
      "metadata": {
        "id": "UXOxao2k5SoG"
      },
      "source": [
        "#다음과 같이 import를 사용할 수 있습니다.\n",
        "#import math\n",
        "\n",
        "def solution(words):\n",
        "    #여기에 코드를 작성해주세요.\n",
        "    answer = ''\n",
        "    return answer\n",
        "\n",
        "#아래는 테스트케이스 출력을 해보기 위한 코드입니다.\n",
        "words1 = [\"my\", \"favorite\", \"color\", \"is\", \"violet\"]\n",
        "ret1 = solution(words1);\n",
        "\n",
        "#[실행] 버튼을 누르면 출력 값을 볼 수 있습니다.\n",
        "print(\"solution 함수의 반환 값은 \", ret1, \" 입니다.\")\n",
        "\n",
        "words2 = [\"yes\", \"i\", \"am\"]\n",
        "ret2 = solution(words2);\n",
        "\n",
        "#[실행] 버튼을 누르면 출력 값을 볼 수 있습니다.\n",
        "print(\"solution 함수의 반환 값은 \", ret2, \" 입니다.\")"
      ],
      "execution_count": null,
      "outputs": []
    },
    {
      "cell_type": "markdown",
      "source": [
        "## Cospro 2급 3회"
      ],
      "metadata": {
        "id": "JiOBbeD3UD8x"
      }
    },
    {
      "cell_type": "markdown",
      "metadata": {
        "id": "4Wms0wlRl3um"
      },
      "source": [
        "### 문제 3. 체조선수 최종점수\n",
        "\n",
        "체조선수는 여러 심사위원의 점수 중 가장 높은 점수 하나와 가장 낮은 점수 하나를 제외하고 나머지 점수들의 평균을 계산하여 최종점수를 받습니다. _단, 이때 소수점 이하의 수는 버립니다._\n",
        "\n",
        "예를 들어, A 선수가 10명의 심사위원에게 [35, 28, 98, 34, 20, 50, 85, 74, 71, 7]의 점수를 받았습니다. 가장 높은 점수인 98점과 가장 낮은 점수인 7점을 제외하고 나머지 8명의 심사위원 점수 평균을 구하면 49.625점입니다. 여기서 소수점 이하의 수를 버리면 49점입니다.\n",
        "\n",
        "각 심사위원이 매긴 점수가 담긴 배열 scores가 매개 변수로 주어질 때, 이 선수가 받은 점수를 return 하도록 solution 함수를 작성해주세요.\n",
        "\n",
        "\n",
        "▣ 매개변수 설명\n",
        "\n",
        "심사위원이 준 점수가 들어있는 배열 scores가 solution 함수의 매개변수로 주어집니다.\n",
        "* scores의 길이는 3 이상 100 이하입니다.\n",
        "* 심사위원이 부여하는 점수의 범위는 0 이상 100 이하의 정수입니다.\n",
        "\n",
        "▣ return 값 설명\n",
        "\n",
        "심사위원이 준 점수 중 가장 높은 점수와 가장 낮은 점수를 제외한 점수의 평균에서 소수점을 버린 값을 return 합니다.\n",
        "\n",
        "▣ 예시\n",
        "\n",
        "    | scores                                  | return |\n",
        "    |-----------------------------------------|--------|\n",
        "    | [35, 28, 98, 34, 20, 50, 85, 74, 71, 7] | 49 \t   |\n",
        "    | [1, 1, 1, 1, 1]                     \t| 1  \t   |\n",
        "\n",
        "▣ 예시 설명\n",
        "\n",
        "예시 #1\n",
        "\n",
        "문제에 나온 예와 같습니다.\n",
        "\n",
        "예시 #2\n",
        "\n",
        "가장 높은 점수는 1점이며, 가장 낮은 점수도 1점입니다. 1점을 두 개 제외한 나머지 점수의 합은 3점이며, 평균은 1점이 됩니다.\n",
        "\n"
      ]
    },
    {
      "cell_type": "code",
      "metadata": {
        "id": "T5r-uf7TmF56"
      },
      "source": [
        "#다음과 같이 import를 사용할 수 있습니다.\n",
        "#import math\n",
        "\n",
        "def solution(scores):\n",
        "    #여기에 코드를 작성해주세요.\n",
        "    answer = 0\n",
        "    return answer\n",
        "\n",
        "#아래는 테스트케이스 출력을 해보기 위한 코드입니다.\n",
        "scores1 = [35, 28, 98, 34, 20, 50, 85, 74, 71, 7]\n",
        "ret1 = solution(scores1)\n",
        "\n",
        "#[실행] 버튼을 누르면 출력 값을 볼 수 있습니다.\n",
        "print(\"solution 함수의 반환 값은\", ret1, \"입니다.\")\n",
        "\n",
        "scores2 = [1, 1, 1, 1, 1]\n",
        "ret2 = solution(scores2)\n",
        "\n",
        "#[실행] 버튼을 누르면 출력 값을 볼 수 있습니다.\n",
        "print(\"solution 함수의 반환 값은\", ret2, \"입니다.\")"
      ],
      "execution_count": null,
      "outputs": []
    },
    {
      "cell_type": "markdown",
      "metadata": {
        "id": "yb_3EeEAmGRX"
      },
      "source": [
        "### 문제 4.오타수정\n",
        "영어 단어를 외우기 위해 단어를 반복하여 타이핑합니다. 그런데, 타이핑하고 보니 오타가 많습니다. 오타를 수정하려면 문자를 몇 개 바꿔야 하는지 구하려 합니다.\n",
        "\n",
        "예를 들어, \"CODE\"라는 단어를 3번 타이핑했더니 [\"CODE\", \"COED\", \"CDEO\"] 가 적혀있었습니다.\n",
        "\n",
        "1. \"CODE\"는 바르게 적혔습니다.\n",
        "2. \"COED\"는 E와 D를 각각 D와 E로 바꾸면 됩니다.\n",
        "3. \"CDEO\"는 D, E, O를 각각 O, D, E로 바꾸면 됩니다.\n",
        "따라서 바꿔야 하는 문자는 총 5개입니다.\n",
        "\n",
        "타이핑한 단어를 담은 배열 words와 원래 치려 한 단어인 word가 주어질 때 바꿔야 하는 문자 개수를 return 하도록 solution 함수를 완성해주세요.\n",
        "\n",
        "\n",
        "▣ 매개변수 설명\n",
        "타이핑한 단어를 담은 배열 words와 원래 치려 한 단어인 word가 solution 함수의 매개변수로 주어집니다.\n",
        "* word는 10개 이하의 알파벳 대문자로만 이루어진 단어입니다.\n",
        "* words에 담긴 문자열의 길이는 word의 길이와 같으며 모든 문자열은 알파벳 대문자로만 이루어져 있습니다.\n",
        "* words에 담긴 문자열의 개수는 15 이하 자연수입니다.\n",
        "\n",
        "▣ return 값 설명\n",
        "\n",
        "바꾸어야 하는 문자 수를 return 해주세요.\n",
        "\n",
        "▣ 예시\n",
        "\n",
        "    | words            \t   | word   | return |\n",
        "    |--------------------------|--------|--------|\n",
        "    | [\"CODE\", \"COED\", \"CDEO\"] | \"CODE\" | 5      |\n",
        "\n",
        "▣ 예시 설명\n",
        "\n",
        "문제에 나온 예와 같습니다.\n",
        "\n"
      ]
    },
    {
      "cell_type": "code",
      "metadata": {
        "id": "UpnN6W3Sbozi"
      },
      "source": [
        "#다음과 같이 import를 사용할 수 있습니다.\n",
        "#import math\n",
        "\n",
        "def solution(words, word):\n",
        "    #여기에 코드를 작성해주세요.\n",
        "    count = 0\n",
        "    return count\n",
        "\n",
        "#아래는 테스트케이스 출력을 해보기 위한 코드입니다.\n",
        "words = [\"CODE\", \"COED\", \"CDEO\"]\n",
        "word = \"CODE\"\n",
        "ret = solution(words, word)\n",
        "\n",
        "#[실행] 버튼을 누르면 출력 값을 볼 수 있습니다.\n",
        "print(\"solution 함수의 반환 값은\", ret, \"입니다.\")"
      ],
      "execution_count": null,
      "outputs": []
    },
    {
      "cell_type": "markdown",
      "source": [
        "## Cospro 2급 4회"
      ],
      "metadata": {
        "id": "a8e2jr9uVKN2"
      }
    },
    {
      "cell_type": "markdown",
      "metadata": {
        "id": "7x3EUYZqh_sY"
      },
      "source": [
        "### 문제 9.위험지역\n",
        "4 x 4 크기 격자 모양 지형에 위험 지역이 몇개인지 알고 싶습니다. 위험지역이란 동, 서, 남, 북 인접한 지역이 모두 해당 지역보다 높은 지역입니다. 예를 들어 지역 높이가 아래와 같다면\n",
        "\n",
        "![image.png](data:image/png;base64,iVBORw0KGgoAAAANSUhEUgAAAJ8AAAChCAYAAADZa209AAAAAXNSR0IArs4c6QAAAARnQU1BAACxjwv8YQUAAAAJcEhZcwAADsMAAA7DAcdvqGQAADGlSURBVHhe7V0JfBRF1n/JhIEJgZDEUUFZFHHFAw/kEEV3/VgFkcMDxVsUXAUFURARL1BUvBERcEUR8AK8UEFxEUVBEERZEBAvUBCQkISQe5KZ+d7/ddek05nAHD3dWXf++b30Od2vX72qevWq6lVKkEFJJOEAailfUheTSCRSUlL0vTDKl0QSdqGW8v3444+0p7CQUhukcTGoa2kK36L26wLuAcz37e+35t+Y7+VjsOfi3JIWCJKv0kdB3tYXNGjQgFwuF1UQ86x4N35DXftGGH8HxPMMBp7i5v+pgQBVVFbWq5rM4/HQ8SccT2ku1i1GLeUbcutwaj7pGTqT90uYUuWsMwBjDZmWMY1lmjt3LjVr1oz8fn+N4ttuQGRut5umz5xJr8+aRe/xuQZMASbnuNLen870BNPGv59NU+4YSa60NAqwIjolL8gqjXko5AJtwoQJtOTTJdQko4lcq6V8Y8aPp2vvvZeOaXciUXGhpgEi0gPlIPVx5vv291vzb8Lc26gRrdm5hQad04dWcGI3Sod46wdmvPIKzbz6avqsXTuioiI+A96N31DXvhHqPLZAHM/ApnEGvfDdBvrhscfo8TvukKv1Ab6qSrr7rjF03/33hZSvVsEW4FKlFDv7Csm/pZSCW0El+nZ/hHvC3be/35p/U/PewNZyotwiKiv0UXF5GZVX8DHDlF9sh3p/RUUFcfakyoJ9RMw7+K37e2p+W+3z2Br3zdfN+0bSzvu3sHzyCwlSqmBZ+bnaBZyUl3p3eVmZyMuIWsqHW5GBUIhj6yyhItH2ta2252SVC6j3h7Yam8IvzjhJ1WBpmfh0AkYeVPopOGnSJfE/Bm4+6nsaksqXhGNIKl8StsHsJbJc+VCwBvixipwzdesGjGAjOQm8vT7LzEoZKVemgmXKp54L5RYRujXCMa7VJ4GK8WsgwGyPJBpKJni7yEyXF2TnpMzMcjDKyGpYonxKiHjc7kyiTTkB+k+TAG1i2pOBa6khgdYH/Prrr7Ru3Tpau3YtbdiwgfYW7mX+EiPgcFDyAkHddrHMNrCs1jFtzSIqd2vyckJmRjls3bqV/vOf/wht375dP2sd4lY+Jch1rHB3Ze6jAWX5dFxeHp3MhO1FZbk0MauEfmcBOyFMI7744gu67bbbqHef3nTSSSfRKaecQieccAL17dNXFBJIdDWs5FXqZn68VXRbRgFdUZxLJ7CsTmLqWZBLA1176CO+VumyT2bGEm/9+vV0++230/nnn08nn3yyUL9+/WjMmDG0efNm/a74YU21y4L8KFBKEwrL6EOfXz+p4Qs+vK2gmI4uzKVfOFc7oYBQqClTptBZZ51FEydOpPXr1utXNHz++edUXFysHyUOSvH8LPapjYvprNwCmlTso08NItvE9FqZn87ja880LQ79JtEyUyXep59+SieeeCI9/fTTtHHjRjkHfPXVV/TII49Q27ZtadWqVfrZ+GB5g+OVnExa4s0SujfTI+dOZCpj+legkKpszM0Ks2fPpptvvpmOPvpoOb7yyivpzTffpKVLl9KCBQs4h/eUAQJ2we8K0I5KTePO5tc+mOWhD1ler3oz6e86G8cy3VFQRiu8mgc7aH1S1QKq1v/7v//Tj4juvfdeWr58udQYKAkVIMu8/Dz9KHJY3tqV5/mIzktNpz8yvXRlnpvOLkwTur+wqQh2Hd/iZXq50Ed5bAPaAVV9Ivdee+21dOSRR8qInalTp9Lz/3qeLr74YikJe/bsSXPnzaOj2hwl9yfKuDajISv7DM6o77i9dFdBBvVgeV2R66ZXM7yikCgBgWVVpWIXoiGSqAyrZPX1mq9lC0A+o+4cRaeffjp17dqVxtw9hs4++2zJpF9//TWt/Xat3BeNmZJq0j5LshNe3y4vlQ7WxyEEfKlUxRnbxQI7J00bCID/fzBVyRHuS2xOhhJBMG+99ZYcb9myhe666y765z//SY3TG8u1Kn+VjPhI96RTgzSMS0kslOjT/Kk00p9BAzijZnKVgMIOMoPsWrAMBzRjA1nHt+U+8nEr2A5U+rS+YOCUk0+hjMYZIh/IKic7h0499VQZUQSUlaEuiw7mlrQlGgCh4rHq0ejjTAOPbAv+HtDUDeZ8T7eLMriUBFS/bUKgM/LH7j/ovvvuoxYtWsjxFVdcQamp2idDOTGuDMfR5F4rgFIsWzcxldxwTiFoSBUvlzSpBpswkWjcuLG+R7Rj5w7ZQj6QVWVVJe3YoZ0DsrOz9b3IYa5VLC1+8GhFqCrWNAnQlL0Y96FhUGZTyekQdk02LIb+8N9+/U22EBqqkVZHtJL9JUuWSIm4YsUK+uWXX2yrao1Q6m6UVwpnVpglU/MLKUeuEnVo6CE3l5SJlJn6/tO6nCbVLIAG2jvvvCMlHwbxznljDr322mtybfDgwXRqh1NlPxrZmTO5JconguPtKjaOR2YU0sNZxTQ8o4A65OXRJ5xrT+Brr7Mx3TOfpWsj4J9SgEtl6WdL6bDDDqNu3bqJ6wCCPuqoo2ge23x2w5hkyqYr5vp3oquYvmKZqYTpGoDMYO9ZWk6ERXZWNk2fPp169Tpfji+66CK65ZahdPOQm+nqq6+Wc/fcfY80RBq6Mcw3Plj3RSyjbVzFPlnso7u5lfYsb4/g02ho3JaTQRez4jX0a0ZzonKwGRg9C2RkZNBHH31EvXv3luPzzjtPtsDhhx9Ol156KS1atEg/Yx8gCxB6Nn7LIhpC+TS+sExaurlMb3KDpHWBfg8roB049thjaQgrG/DXv/6VG2hTRCHbtGkj5y7udzE1b95c9uOFpdmpsW5PdeYcDJN5KxOE+FReMQ1w59NPOdVdR3agUh9MCZsPfqqrrrqKvv32W3r55Zdle80114Q8988884z0dNgFlQmlxsgMUNuCXJpd5qeWfIyW7suseBfmNeI9e/HKK6+IBwD44YcfxCPQsWNH+umnn+QcHPMLFy6U/Whh7kWyRPkkV3JD4mwu3fIzvLTI7aVfePtvbxadx42MDXwPHKdX7c3j65rA7VBATPAB1AhaND7grT/44INlO2LECDl/yCGH0Icffkg//agJONENEKV4wPveKuqcW+0z28b0EcvtGm4JQ67GexONjz/+OFS9SoZd9RUt/HAhLf5kschHAT0f6JoEopFVQlq7AB6LapXNPWlUoDX3j+I0eqZJM7l+DBNsmaUevblrA1SLDF1ncIz+5S9/kWMlsGPaHiMO5j/+gBOIaF/RPtnaBXSh9cktoCN5H46LHpxRN+XkUPfCtFAGtUvxioqL6NlnJ+lHXFhw46JTx07ilmrapCn16NGDZs6cqV8laYzAVRVPY83SaheGMwhCwxYSbVmURkMy3KR6BDf77FM+5WIB0GrzB2r6LCA4Y8+GK7V6P1FQCrWN7RJ0ocHnvoVpMMtoljub2ualkp9FpMlRk2UioTJiaUkpffDBAqkFAJVRITcQ0KFDB9lmZWXR4sWL4+6StEz5IFBN9QyGMTdCKlwB2lRWrXCHpiW+xasEqoxkr9crPRv5eflyrJRwx+876N//Xiz7wEEHHaTvJQZK8SClV0lLOPwf7HHTk75M8up5A1lAyTLRJZ8qudRW+UGVMzkQrE7P0lKZWkYFBQV06KGHRt0laWn3mpRurEtbuKX2Yk6Z+KjK+RjvwIPhOpiXXiYd5+jfBU6hNPlNIqEE2bp1axmJkZuLZg/Rq6++SiWlJeJcLi4plmpEeerR+MD9QDxVSSTIywjQXdyqVeVy94zGIrftTBhepWgHE2Sa6NIPSG+cLq6VnTt3yvH8+fPFv6cc8TBJ0FBTOPPMM0NTICNFQgaTVqQGaBC3aM8py6W73IU0gxVxWk4J9ffn0w18Hq4D9O+OyfTQcXv5lTbUvCj9ILQLL7xQjlEKjh49mm668SYR4i0330Jjx44NVTPDhg2TGfXRGNCxYntDrTRBlYuy+QaufrOLc6llYS41N9BhTA+RNhgDSCRn6EpD1yMAWY0cOZLuHnO3DMB44405NGzoMHruuedksjzQvXt32UYjr4S0dtUjv+USbmKxj65nhRvMtFAfXgXXwTC2adCf2YBPgd3Eli3VpRfsFBjPylUAV8J1110XMp7R2Hjvvfek31KQaMYYf3BmBX5gAldauRwee7j6S3x20ACFgk9PyeqJJ56gSy65hC6//LKQvHxss8MnCn8gEFUtYbq1VsSCO8eNo8u5RDi5VUsK/Fq+X+1USlTGmeHjzCpa4yunn5m5H1npkD9OYVvm8AYuOistnTrkp0ateHJvTgNanreDBvQ6n76eNZsy2diNBRiDhuFT8Pft2rVLRmogh5977rl03HHH6XdFh+dfeommDRxIq1u0orQdpQf8NnUdA28XVpVSOjdwlEVl/B3ug9wryE+t2Ea+KN8tfeUHej7MoNQWDejZHdvpxwcfpIlc0qemaXFRosF3330nCgYvwZo1a6TPF4NvYZbAB9iqVSv9zsiB1vQ9Y+6h8Q+PrztcRjTKB4QEAm3j6nSvp9rua8rmlNGzciDhmSH3W6R8CrD/kHuzsrNkNEs8iFb5gBryigRRmChWKZ8C7OG9e/dKwwLyimfkD5QP1fhDDz9Ud7iMaKGEHdSF1IwV7tBCokOYoHgQtqJoFM9qqDyGli/6d+NVvFgBGYg8IJtISH7lDGADoysNTnkrhpwlxOYDQkrIhBwoAmbCeUVOwmibmAp722GUSSTkJBIpK8uUTwHCUv4ppwVXFxLtSvkzIZGyslz5kkiiLgRMjr6k8iVhGxIWscAOJG4KTYzQ7SHjsPf6hXomLxP+q5RPGy9dj6Czo+LzOQ8zI/Xbtg2rfOIZSm9Cqc0bETlIKdhmNSQMNkkJplBqPWsopKRo2SG1qYeohc6vgyTplZEuAxOEr3okrzR9IpIRtZzMY8c9QOvG3k+deR9d7k6yD8aQEX5mev/YY+mfV1xJ6RmNZYiP43y50mjFl8tp+dy5NJSPkeBOV3J4P7xxS5kKevSg3t26ccZ1OepawpvhpC4pLqa1K1fSvDlvyBhBoLbyjR1Li7/5hjqd2p7Ky8oddUuAs7Q0F2377Td6d/ZsGsDnEAPB7loOEjAnH5QNY3l/btuWLuzdW6K+O5nIAN6P0duY1L3ro4/oHD5n5j3ct1iBcM9V5yArhEvf2bEDvbt0KTXWHfy1u9dGj6Zrr7qKjjsBc87qB75avZr+0akT7WzThjJKy4kwNSP2XqP4ganIGWn0wpat9PIVl9OymbMoJY5uLKsxbcYMWn/99fQc0jDPvnkpYQFZpbuofPs+urNTWxr/ySfUxKOFUall80FbK/WBhPUhJwN+fSRtVRFr3Y5KCuZWcDZyjuT9+T4pgbEojT+oyctpKHlVYfQxbwPFpRq/Jv7tJJHVbh/r4L5aC/j8V7V26xWMBZ3ddkCkqC+pi3o3DOq18v3XdIPVMz7/W0qUEJ/maW1JJJFoJKvdJBxDSPnMY62SSCLR+NOXfDAm9kdJ1EY4OSmyEn965UN5vj9KhFD/W6FkEU5OiqyUlyXKh1BkiHWHSTqYoLM/WrV6lcyZtQvwwGE5hmXeKpqd46PJWWX0Uk4ZLeFjLNtgFGp9AILzfPnllyJPRFO1C0alK/QQrfUG6E2W13Msq5leH31ukbxSjL9ED4cRd955Z3Dt2rWyHwgEZLs/VFZVBvv3748nRkwbNmyQ30byfGD5ypVBzJ0uOKRVMEiHBAPk5e3+yc/3YbvEmxWWB5CLaa43M+hzab+J5LkguS+nRXAa/77LZZcFKysqdE5jg5LDrl27avD3+OOPy/lIoZ7z3PTpwZv49/7Wrav53Q+p6yVub/BdllcPt6sGH0Z6i+VVpcs2EnnJPRnNg0UuV3Bo59OC+0pLhUfAkpLPvI5qOCAgNzqYMUkb8fKAhPvx3ES/BqrjDJuBTp5LcwtpQbaKFO0MlBxUJCiEIQMwgcdO/JAZoAtyC+gj03IWCki1i1leH3FJaAXiVj4E1xkwYIBMNp41a5ZEAxCa+TLNmDFDJmwPGjRIqhDE/0DUABWExg5ggNHtGW5al5NDuRleymNa5s2S8B2q8n88v0DCUsRTncQKLgBkizmykBOwJ1+LKaOuJRoq6qlf76m5weOmOTmZtJ5ltivTS4tZXue7XSIvdFbcywqqrSwVn7ziVj7k2r59+9LAgQMlthuWHRC65lpRSsT/KCkp0e/WQq0CiRasBBznDNq91E2PF2dRu6JUOoilh9BtZxSn0aMsUADhKr7kjJ6PEBZcUtoRftYIyA+hxp5//nnJnKgVqmyM5AWo4Owe/naEL57kz6JLi9x0Ql6qTIHtxvIam6mFukN8mW+ZfvZov4laXoZkT5ikMeYOQMCZ119/XfYnT54cKvUSXeWqXIlYgZhNp8KOSdwTPveXgNY5qyrcxHITHioDfrrkU1ndp92J7WT1HxUNyi6obz82j+iyXDc18gVCSzNIMCiWV+uyVOrGskPwSmAfFDbSie9GGASdEOWDUBGkB3FQHnjgAf0shcKt2gWlgAB0Dkqolmj4Wg8FgNC9F3GVcmgpi4JPJXSJBgMgI2RAVLe33nqrnBt6y1C64YYbQrGk7YaSF8gcni2PawYEd1dW6EEBTV7xICHKp0o1BODBqo7ApEmTpNFhN8AJwnfATQA7ZTtvZzTx0U151Ql8e2ZTymDBQuhGgScSkBHCtSFzbtq0SUq9/pf1p/R0ZyIpKOD7lQwk/Ab/x3ZuQCuNMbodKyS1RmZlxJNZE6J8AEq9xx57TD8iCcgD2GVEA1JlsOKt5VbcIYW5dIoehux6VjwI8To2rDewUX1GbpqEprBL8RReevEleumll2R/ynNTJPysHQsQRgKleFh+9bmsErqnoIxO0q+NyM6KbT0Vk7aFDq0a1aKUC45SFWpr1KhRdMwxiMrMzCbY1guHSj13GleMxTINRzVyhQQAruzLFiQR3RETEHjhhRckahagIoM6BcgABMVDbTHKXUDDCorpeD6HVU0eyPTQOfkxjto2FZKhL7VqYAGUCxGJZszQcjSA1jBgZ6kXApdoB7N9Mj7LQxOzMuhR3qLagK2H3HxsXh7NytGMl0QroPr+jZs2SkR3ABHy4SlQMIaatVsRwR1kAFqfE6DzuabAeipYqxPG0+MsuzvKMshtkYmSkK/7bv139P77H8g+VvnBYiJOALkXQjomL5XuLsigWws8NIq3b7u99EKO5uiGFXotV8Nf60uLJhLImIhnPGTwEDnGqkiXX365hJ/FGiBY38zY0kWIspKykpgW2YsHy71VdCJnyq/ROGP8yPSeN4tGsOwacT6NS/G0/CdIiPItW7ZM39NKPRVo25oqN3olwfcqgi3TjIV6RZFHWrmq93RxlZboVnAYDqrUy+NExTq/CEgJv96QIUOo6xldqUf3HrLgykOPPCL3AXDWZ6RnSDTVRANywbdjQe6uuQWhke8n8c633hzqbdXyDIYfW658WAT4s88+049I/FbWIjKWtaTWvhWOUOUMResMPixUHSdzg0Mht9Ke8LMqA2IdYLRysbI3pjpi0MXKFStp26+/Srcaql9ECAXy9R6PRAHfjVrCx4o2pVLzAqDQO5OP5zf10sm52vIMOAc5QlGtkJVlyqdyNlZ6hDHdsiUWciJq3769bK1DZCUfkrjClSqRUrG2GUSGc6BUT0BWQnqtsEz6K4GTGnp0RU0MlNI1y2om8Y3nzJlDb7zxBr0xh4m3r7/xOr399tt00003STWLUnHgoIGySvrf//53+W2iIBmT8+GqbG3tPKyXB3MEC0+30rvGXXwdJLJkilVWxlEtlimfEu769etlu23bNlndx5Nudef4gVmGqgG7MwLUw5dLH2VW0SY2oEuYFdB/0gP0oL+Qvud7VHThU/UlGlQJmShg0WQsu4DFBvv370/9L2Xi7WX9L5PI+WeccYZ+J/PU/lRZL65zZ8SPSBxUV+R6fRAGApT/lU2S79xV9L6nihawDbiAZajovSZVskxDLAoYlF9psETSyk2D0m/Nt9/IPnDuud0lxL5TwGdiyS2s9NOJba0r/flCJ/P+ZM7hAFpxL3Lj43hulNjZw2GGqjlUtySgziUSeAPkBH/elgpNJnCrLPf5qSfLDctz9TJR37wC2sKKGW9mtUT5lJumcF8hTZr4jOwDWE4UJaIdQjRCKVBDGCk64LqdzwIFKXRkm2aON5OuQt3MUAnhJIyDMOzsZvO7AvS1vlIUMuSBXN1WpKildQyMZIxqBq35Zk3IcWpNKzdyqLdhFMvOTC8t92bRrJxMmpDloYeZ5vH+Km7BLfR46dJct2V+q3igZNSrVy9ZfgBLssINYxcast5NaZZDa3Ny6D8HILR+jytjMyXOmsJS5UOIe7RuQe1PaS9RzJ0EkhOR8U8vTKOr89zi4xvN1C+vEXUs1IZYQenqQ4mngIYaGmlYkvWII9APk1io78aAi7ZFqXQS04kHoJNZdhiaFq/cLFU+AFWsovoAaefqw4MgKFCQz5rP1RcY5We3DCGTSClmxTN8kuXKh+pDUX0Ai0pIUzoN2Ffn6huM8rNbhkpWkVDMnBl+aLny1WfUR2X7n4JJ2/6nlC8Jh2FqmySVLwnHEFb5lKGLoIdmA9hOUg5X7MtW/msjVcJbInaRMKDxAz6D1Xw6TSE+jNuw32APCUe6Kwsrje+3ew0MN2rUSPbTUtNqGcB2khrP1rBhQ9k2cjP3GamU6gEx8w6Ry5PGzGjBt1NdaeRuqMkr3DfYSUpeaW63xK50NeD0E3nV/gb7iHnKSKGGxDwxj0HDWve1YjJjWXg4h7H4MTq48VFOQTICC/LL1avpqgsuoFXNW1Kzcp+MrnCKKyUsN6vejILtNK9XL3rr6aepAWcQY9eYE4C80rngeH7WLNp85500vmVrchWXcAnkrLwwt7uodAc9edJpNHHJJ5ShVvyE8hkxbtw4KSHrHbnd4c8nKTy56g554RS179w5WFJaomsal4H4xxdCuPvuu2VVaXjZUfI5OacArGFNfwQgGjVyJL319tvUrFkzCvjZFkVVw9exBYz7AI4V1L3G/XC/q+sZxusK4Gv2q6/KDD0MkcISBCj5nKwp8H6MBUSkiK1bttBdo0dTiovTL1DzuwDjt6nvjvScQl3XzPtYC2Rf0T6aNu15enbys9WDTaB8RowaNSq4ceNG/ah+gJUveOSRR9bINfUB06dPD55++un6Uf3BtGnTgsOHD9eP6gfKK8qFJ1ZC/UyYQEHIuSrwD3IS3+MYKRsKy9LjuKJc48t8n92k+KqsrJSWLuZgAOHutZOMfGEwKsJwAOHutZMA6BR4MiJsnaqqDmydJFXlY1+2qfWPr1Ssv8Zbdew0KT4AGPqA+R67KcSDqdkTVvmSSCIhqKl7SeVLwj6oKlihXiuftohTEn9WhJSPTUN9r/4A0UKS+POgTpvPfCGJJKxGICXB1S4iza9cuVLmm8LZ+f7779P27cYQPfbDaGsgetbixYtDIXwRuHLdunUht4Qd2Lp1q8zTwHvVnJe6CHM5MBHfLkAOO3bsEBlBNpARHOmY5K5cSrHCpHuSMDUQbTR6I5YtWxbs2rUrXlGLnnzyyWDB3gL9zuiwfPny4BFHHBHT79U37C0sDE6cODEsb6Dvv/9e7ovmm+HMhZOZE0U/Exkgi3A81EUffPCB/O5AvKnrkydPDg4dOjTq9PP7/cEnnngiLA+gwYMHBzf/8IN+d3SAc3nY0GH7dzJHC36GbBESDQMSjHFavF7MfdcwYsQIGnv/2LhzT7SAfwlBeIYNHUrDhw8PRcI3o6rKvpIPTuADAVH7W7XSprQ3bdpUtok2jcCXihdoBgJ7Tp06lS668ELauXOnfjY6mNsVcSufSlyE+lJ4+OGHpard9P0m+vzzz6l58+bUpk0beuaZZ+izT6vjuNgBRH56+KGHpZqFABF8ccqUKRInZdeuXfTzzz/Ts88+S40ba+v+24EOHTpI4EwuOem5554LEWJWI1Yf4hnCPEDI3CuvvJJOaa8tjWCHWd6pUyfha/PmzaJkMBGefvppWU0Aff6INLtgwQL97jihFYDViKbaVdeZUSmWW7ZqJVu2GeS8Aie2nAdh1Ey0iKXaVbwtWbJE3tu6dWvZwjSwCrFWuweCsVr+4osv5FwkVai6J9ZqFwv67N69Wz+qRoWvInjTTTeFeEL1i3ujAapb8GRptQvwc2S7Z/du6tixYyg+i6pijdVvJFWOFUCJjP7EuXPnyvEvv/wiOdoYCwV8cwKF+HcSaql8NDBgogAIGtmxU0fZV91UiUSaK03SCv5VyEWRu4FbxncqWCWvuJQvqDdfMjMzKSsri3y+Mlq9ejXt/mO3nAfTAKo4BUyGTjSUcDgXi8K1aIHVI4jOO+882QKcmyVB0U9rR8IeCK4Ul5gIWExHAQGFGrob2p454F+FXBTBg8E1SChqKpf2oqjxIi7lU07gQw89VBJZDVoYNeoOcSPs2bNHFjdR9mC/fv3o3O5aYPBEQimTUnq4Dm6++WaJ9P7JJ5/Imhf33XsfcetXXEF2R/40QykX4vPBHgUQnQq1CGB35iguLRY7nqtIWYjw0QmPitsFo1KgeCoTx90DxR8uCPAfEKurBffOmzcPUgyRx+MJ7U+YMCGYn5+v3x0dYnW1TJo0KfR+jFOsy41w++2317BFIoUVNp+SO2yoYcOGhXiK1L1ihLo3VptP4aGHHhIe2p/aPsQPl3pyPpxNGAkg3zpdLfE245E7Ub2pResAY4kCF4crTSu27UJ5eblswRdakSNHjqRu3brRgw8+SN27d5draME99dRTNG/uPDm2HUhaxubvN8taJQBiNXc5vYvsO2ESoKYAvlmjhbuD/GArt23blhp5tMlSscByV4sCejPAIAxm+KiwuAmXNHTRhdpaa7fccgv16d1HXAh2ATYUAD8ZAnHDZfDmW2/S6LtGS0TQRx99VHoRYGSPHz/ekZ4YpVxc0skW4JKYsrOy9SP7AX8t14CShliuAcoIl9nFF18saayWuIgbegkYU7XLLTTZYpg7HsWJGORcEuQElfNAUXGRVGu4DuJSR78SOWKtdp+e+LS8k0vdYJs2bWpVGaxswcMPP1yu4z68B4i0urLK1fLbb7/VMFGU/KKtNq2qdo3AM6APl/TrF+Kv/+X9g9wI0e+IDJZXu6rBoXJtbm6uOJhVEHBmXCaLwNhXgAedha0fJRYIQQvAsXzBBRdQ00ytp4C/W7beg73Uvv0poVV/7G54KD7QOFPv5kR2dMEcM8ADTJPht90mx1jWYs7rc2jDd9qyZuobIkFCql0onYJa9gCKp4abH3zIwdS6dWtpqsNTriJuRsN4LDCu67t927Zai1JzYU+VldXdamqyvF1AwsI0wJL2CmeedVZokrxTMKYL0hFAlFn0Uqm0jiVqqjkzWaJ8qu8RUMxB8dRH5O7OFScvmuotW7WiJk2ayPlEA7nUk+GhnJwctvHmSKR8QAkBJQ5W98Z0Q9h9yh9oZ4mTn5dP3IoUuQBYiwNIdMYMB/jzMKrF+P2qAIHLBbae6huPSVamT7JE+VAsA0cffTSNvH2krCkBgDEMB4Khr9Dj3HPp8JaHy/4BGY9T/uhTfuyRx2ThFQCNCvRZQsDYokEEoMobPHgwHXmE/ati/vgj1vch8uktczjs7YZS9IULFsrgD6z/gYYhzhfu2yfrqtxzzz2ieFhloFev86Umixa1BizzC2ogFj8fGgLnn98TTxZ/EAswyHZecMSIEcFu3brJeUWrV6/WfxU5Yuvb1bY///xzjfeDt4EDB0pDw3geRn+0sKLBgbm/iocbbrhBGmixQqVXtA0Odd/rr78e4qV79+7BG2+8Mdi3bx85Vo0y0DfffCP3RwM0NOrs2411GD283M0ym9GUKVPFnYKqFfYARmk8+eST0qMAoPmOfYzosAOqUEUOZWGF3gveXnzxxZBbBb0uKAXVojV2wChrrD6kABeVk0tHqCoVWLRokfROzZ//nhyjUQZXCwYKG3250cDcqE2BBmIHAsHF0aNHSxR0VKW4FE2djuoMi/6hUYGRr2D42GOPlaFMx59wfMy+K4wVxNCib9d+K4oeC9DVh9HDIPj88H0woI87/jhZ5zYWIHEwVOuzpZ9RgzTErIoO6F9Gq7G8opwC/oAEUI9nkUSVXsj4yFAYwhZN+pWWldJPP/4kpgDSEFUv+uyxTtxhhx0msmqcHtvQM6xEes+Ye2j8w+MlcLwAymdErN1rZlT6Ky0bahSrn0/B+B0YrWvmK9bvtMrPZxXUd1jh58Nv8V2QlxXYb7VrFfiZskVsP1UaqHNOQeV+8IHWm5mvaEoHqwEejOQ0jDKBnFRr1wrezNWu5coXLiGdTFwjzHzUB77Ag5GcRl08JII3y5UviSTqAtoVRiSVLwnHkFS+JGyDuerer/I5bQCr94e2gZrHTqH6/fWDn7pQH/gy8mDmJ6zyqRaO2joFlVOED95Vg1GdNszV+1NSNPlYMZ/BClTzpTVenE4/QPEEXtS+QljuEAkUgBPUV+mTkRfY7peqdAp33nxOkfk3pnvxfgAz3lDqITJpIKBFAq3zd6Zn1KJIfmd6hvn7FV+YaB70+6m8tJT8LLPK8nKq9DFhW2u/onrfSOoebI375uuyv/9n+PRhWVXMI3qaMIoHjn8j73WmZbjvj1A+Yc8b9lHigReknRGhHg6FsWPHypg7DDdHh7uzZQxKuzSZ3I3O7b59+8pwo6DpI5wA+Nq4YQNt3bOHzr3kEkrhUhkZxJS5bQWSMq1BA/ruq9W07/tN1PmssyiFSxyn5QVZFRXtYyqm9z94P9RLUkv51EwzdD9hDoS5qLQbiPKOWfKY34BZ/uh/NOcgJ9CABbrw3/+mRdOn06N8jIoXXEFaSqB17Ruhzispq/1YngFgsip6Y3f260fXcWZFJHhTEtsOjOMsKiqS4WuzZs+qrXzwwcADjbH7119/fWg0bX0A+mMvvfRS6S92eqClES/Nnk1TrrmGvm7blqiwWNMCJ4Gpq5np9PwPP9DmCY/QU3eO1s7XA6D6H3XHKBr3wLhQ327I5oPiyZZLOjWkGz+AbjpFqoQrKy+T/ZLSEjnGfrj77SLFlw8R1rHdx/LayTbNDlClQ8S8/MG2aGEpwSKt9FWKHQqE+wa7SMmqlO1iczCmkPLxrfqepoAAoplj3ykKtbr1VmXoWG85OUWKD9hTgPZfK/jCL39nB+H9/N+l8SG8Kj5N/NtJIVnhWC/gFJTcal1IIgmrYSzggJDyJZGE3UgqXxKOwVLlMxerf3pY9Ll4jJH+V2CZ8kHx6qvdiFZXONR1PmLE+bl4O5oK0kAwUH1QwnCyiVteJlimfPW5wYKWFoAuHsxTgCsJglTnnQCSEW9PdWMKViqVu4nKmCpVa1W/x24oBYNs4CaBvEDqXDww/75WD0esE4gwqRiz06T7y/Q77KO/GBNkep7fUwIeRoN4JhDtK9pHmzZukgBG6Cn5Y9cuapqZKZNiunTpQh06dohp8g/w/Esv0bSBA2l1i1aUtqM0pFCRIj+DaLWnijZWVdKGch8V+/30V4+b2rnddIbPTS0Kq5U0EkCJU1s0oGd3bKcfH3yQJnJapqZFP+gBsflWfLlC5u+uXbtWzmH24dlnny2RqmIBJhDdPeZueujhh6yfQGSOzReOevToESzcV6j/InLENm9X4/2tt94Ky4uiO+64I+a4gdNefDF4Mj+jskUrzm7eYIAJ20hokTcr2MUVnidFy/ge3Bvpc/10SDDY4vDgJP7t0AcfDPoro4ubDKxfvz54wQUXhOUHNH/+fP3O6JDQCURqJAxiy9UFzMZH+Fc7sW/fPtmiNGdFk+7D07qcJufA6+OPP15n+H+rgdQDfCyCD8tKaIUeybU9Hw/NcNMVHk02WuAMLm1yC2hLllbyqd8mBPrDEY2gXbt29O6778pxl86n0ZgxY6hv3z5yjHnFGNyBsHIA649sI0XQVISHlC/elmpJidb1haIawRaxRVUHQtGN/tlx48aFgoUnGqrax3xTzq00ddo0GZgwYcIEevedd2nQoEHCI+K4QMC///673B+tQGNFBSvexW4XfcnvfzfDSxOLs2i6P5sWe7PoV75+tHYbLUnVujojrXpjAj8cXanGeNCIljVn3lyJIzNz1myRkYqtiLnKkFOkJplCqkn7QsoXb4NBlXwAIpcff/zxEvwbBPuxffv2MlhBdbfYBQwN69OnD2XqwYwgNOTgQYNukGMtkDnbW3qYNDsACVzNds90VzZ1KUqllmzboYvMwyLslptGE7I8pEVwIVpT6qMKlyazRGQLldf2FuyVYJBq4ZlRXEMgigMaHZDdkCFDZJI9oAoXIJq4zAnr4cDgRQUkqBH4ACS6XaWKEVB2vNfMg9utNTJU6Fw3G/mJhsreaSyqLrmp1IwLtYCP+dPPaz20RG3SqnkpkqELiYMqvDDkCcDCMxgChQwKqNINUanYZpd9AIvDACnmunQ/MJeUlimfMfYdVvNBYqvRMcaBAE4A71U8YAteEYUeQMwW2IIqx9vFIxQOhBIPb5SWKv+HPbhElxvQoZGH3H6tdEkkZyreHsLFGQsSY4FhXKXJWNNFCnPhY4nywV7gFqPsIy4L7KoBAwbQrbfeKoNAEfxQxUd2AogZiDXhELoN60mAr/vvv1+uIYDQjTfeKEoZd2j/KABFUsqkFA9YlF1FU4p9pJptndIaUgoXhKpUtBpKIVRJBxsZUEHBIRcAsfu++2697AOIt4gCJprMajbtLPkijNVCYBkAW0R+nz17tmyR0KeffjqNuH2ErcHAASXY77//ns4880w67bTTxAZEgB8ACrj444/pqKOOkntVmF87oRQP27leH/XhFi4aG7Co7sx0UyeunokLmRRdOa2GUp4mTZuwbdw7FOwbBQjsOgRVwhpsL05/kRYsWEhHHHGEXIdyRruaVEJsPjCBkLIYbTx06FChq6++Wr+quTSwuB4WX6mojL64TgQQOBJzQz5ctEgCINpV3RqBpIDi7fUQjcvcR/1zCwkuXDQ2rva4aKQ/E8Pz5L5Ec4fQbKNG3Sn7kA3cLXC7YFT7WX87i2677TYpHZUphWi0qXpDKFLUkjHn+BqIxcnMVWqQq7YgG+/6mWCwpLQkuG7duuAtt9wC2QVZAWW7Zs0auR7ps4F4o1SxkgU/++wzWfRv6dKloUVOFIFHLr31uyNHPE5mde+WLG/wArdLk5HOzx2Z7uCejJr3RUJWOJlZ6WrIRhErX3DkyJGh46lTp+q/iAxwLlu+3i6AeasIBG6cX5HuSZecA2MeULGaEQcZsLOkQY7929/+JmtIIOYxfFaffvqpXIMbaPLkybLOhF1AFYuvhwO5b0EuvevzU3M+RlU7IyeTHirOpJzi6vvsBJzI6IaELw9LcYEWLlwocy+M6atiMrMOyTYimD7GMiOnLiYQaBsRS5W9p5TQLii+sAXBSAbO6HqGmAfKW2+X8oEbVLUYSPBAeSEhK8KxguWTP/dm0YA8NzXgxqayBZ0A+r1hNiFONQhrraGAMTY41KoD0cCsI5Ypn7EkMyayj+1BLKisEEsg6Xig+Aq3xUKACvBt2YkFTXz0cpmPEIIcVvDanBw6szAtVM85pXiASj9jOrLpEwqR+49z/kHtTmwn+8Z0jxaWKB9aREYFA0Oqib7iyy9lvqbq80WYXMCcCxIBjGhZv746t4IvJazNm3+Q5a9UGFr0wCQa+GK8vZgbGI/uLZQSDz6C+VzinbSX5SWtWo2qYVn5cEAYh5oZ/aIIk4v16lTM5muvubZ6ZEociOvLlAKh1aiWsV+8eLH4gLDuLpYaQJGNJRLQbMc6XkcdfZT8RilBIqD4KuQExmpIWAIB/btwuSBW8WuvvUaXX36ZOFQxFAxQixnbkSl+Tw/Qaq5aVT/Qx2UlNC6jmMZkFtM9Ot3LNDKjkGZ6y6lKL5QTxZn65lWrVkk3GgoLKBwCqf/rX/+inj17ilmCLki4qnr30QYaxA1+cQ1E09pV1zlRwf1+qWvXrsHff/9d7j/Qc82ItrWrnr9t27awvJgJz48F0bZ21fUl3ix5L5d8tXgx03Ued7DCVfP3dVGsrV0lL25YhOVBUctWrYI//fST3BttGu53SJXZARgJjCuNY22zcECDA6Ml5r8337YVftTzmzRtSsOHD5f9cLj3vnulRIYT3E4oaw59CSj9sAgDuuxhDSs6ngnwsoYmVlrV8tpfIwJO55VsQsEhD8SShuYeDstGMqO/FJ5w9JXu3btXmuVoXBzEymccURIL0/GMZEa33p7cPcIXlkMAD+hCAmVnZ4ds01gQ60hmjFIpc2t9ugcCatzGZZE9V1rIcYxk5tJM7ORffv6Fdv2xi/xVfpERzCaMQgdiTcNwI5kts2ahbOh6wXDrXr160TnnnCO5RCkeEAvT8QJD5OGxx5LxsD9hvyBjIZdD8Ux5zxY09AdkREtmBJTBZJfUIA9kbjS+ep7Xk3r37i2+UaV4gJVpaF9Tqp7CiQwBdY+G6gNiMcvMMMv6f175nACSIBqqD4h3sDFgrmWSypeEY0gqXxKOIal8STiGsMqn6mZ/wC/7ThGa/kC4bbj77SLFR1DxI/+1xgH2nSLmTKKTgo8afJr4t5OMPJhRS/nQwa7G6mMkA1ooTpHywaU3TqfsnOwQXzgf7n67SPHlSWe+eOv2NiNq3YRS2zhLrjYZRN4sgpTS0z2Upk+KCvcNdpGSFQarYsCxEbWczOjbg1+nc+fO0tGMBzgFsAb/IeZeoGN75syZ1KxZsxoTXJwA+MJsN8RkfmfuXHqDzyGZwVXYqsQm4P0Yp/MU03pOv6kjR0ok+HCljp1AgYbJ+xjIsXLFSmqcoRUitZQPAwMQeDutHjANxUexDQUEYWK6KsadBiTT2OMhV4MGVGyBD8wqQDrplEIuzqAlpaWOp6ERWdlZslq5itVTS/mSSMIu1FK+pC4mkUgYzbhkyZeEQyD6f56ESQZHjgIKAAAAAElFTkSuQmCC)\n",
        "\n",
        "빨간 영역은 인접한 지역이 모두 해당 지역보다 높은 위험지역입니다.\n",
        "\n",
        "지역별 높이가 담긴 2차원 배열 height가 solution 함수의 매개변수로 주어질 때, 위험 지역이 몇 개인지 return 하도록 solution 함수를 완성해주세요.\n",
        "\n",
        "▣ 매개변수 설명\n",
        "지역별 높이가 담긴 2차원 배열 height가 solution 함수의 매개변수로 주어집니다.\n",
        "* 각 지역의 높이는 1 이상 50 이하인 자연수입니다.\n",
        "\n",
        "▣ return 값 설명\n",
        "위험지역이 몇 개인지 return 해주세요.\n",
        "\n",
        "▣ 예시\n",
        "\n",
        "    | height                                                   | return |\n",
        "    |----------------------------------------------------------|--------|\n",
        "    | [[3, 6, 2, 8], [7, 3, 4, 2], [8, 6, 7, 3], [5, 3, 2, 9]] | 5      |\n",
        "\n",
        "▣ 예시 설명\n",
        "문제에 나온 예와 같습니다.\n",
        "\n"
      ]
    },
    {
      "cell_type": "code",
      "metadata": {
        "id": "MtYoKzoKiKFw"
      },
      "source": [
        "#다음과 같이 import를 사용할 수 있습니다.\n",
        "#import math\n",
        "\n",
        "def solution(height):\n",
        "    #여기에 코드를 작성해주세요.\n",
        "    count = 0\n",
        "    return count\n",
        "\n",
        "#아래는 테스트케이스 출력을 해보기 위한 코드입니다.\n",
        "height = [[3, 6, 2, 8], [7, 3, 4, 2], [8, 6, 7, 3], [5, 3, 2, 9]]\n",
        "ret = solution(height)\n",
        "\n",
        "#[실행] 버튼을 누르면 출력 값을 볼 수 있습니다.\n",
        "print(\"solution 함수의 반환 값은\", ret, \"입니다.\")"
      ],
      "execution_count": null,
      "outputs": []
    },
    {
      "cell_type": "markdown",
      "metadata": {
        "id": "uqYEt7EiiKfE"
      },
      "source": [
        "### 문제 10.합격자 수\n",
        "\n",
        "XX 시험을 친 수험생들의 점수가 주어질 때, 합격자 수를 구하려 합니다. 시험에 합격하기 위해서는 커트라인 이상의 점수를 받아야 합니다.\n",
        "\n",
        "예를 들어 수험생들의 점수가 [80점, 90점, 55점, 60점, 59점]이고, 커트라인이 60점이라면 3명이 합격했습니다.\n",
        "\n",
        "수험생들의 시험 점수가 들어있는 배열 scores, 커트라인 점수 cutline이 매개변수로 주어질 때, 합격자 수를 return 하도록 solution 함수를 완성해주세요.\n",
        "\n",
        "\n",
        "▣ 매개변수 설명\n",
        "\n",
        "수험생들의 시험 점수가 들어있는 배열 scores, 커트라인 점수 cutline이 solution 함수의 매개변수로 주어집니다.\n",
        "* scores의 원소는 각 학생의 시험 점수를 나타내며 0 이상 100 이하의 정수입니다.\n",
        "* scores의 길이는 1 이상 100 이하입니다.\n",
        "* cutline은 0 이상 100 이하의 정수입니다.\n",
        "\n",
        "▣ return 값 설명\n",
        "\n",
        "합격자의 수를 return 합니다.\n",
        "\n",
        "▣ 예시\n",
        "\n",
        "    | scores               | cutline | result |\n",
        "    |----------------------|---------|--------|\n",
        "    | [80, 90, 55, 60, 59] | 60      | 3      |\n",
        "\n",
        "▣ 예시 설명\n",
        "\n",
        "예시 #1\n",
        "\n",
        "* 80점, 90점, 60점은 합격입니다.\n",
        "* 55점, 59점은 불합격입니다.\n",
        "\n",
        "따라서 3명이 합격했습니다.\n"
      ]
    },
    {
      "cell_type": "code",
      "metadata": {
        "id": "QgbcKOeyiiDT"
      },
      "source": [
        "# 다음과 같이 import를 사용할 수 있습니다.\n",
        "# import math\n",
        "\n",
        "def solution(scores, cutline):\n",
        "    # 여기에 코드를 작성해주세요.\n",
        "    answer = 0\n",
        "    return answer\n",
        "\n",
        "# 아래는 테스트케이스 출력을 해보기 위한 코드입니다.\n",
        "scores = [80, 90, 55, 60, 59]\n",
        "cutline = 60\n",
        "ret = solution(scores, cutline)\n",
        "\n",
        "#[실행] 버튼을 누르면 출력 값을 볼 수 있습니다.\n",
        "print(\"solution 함수의 반환 값은\", ret, \"입니다.\")"
      ],
      "execution_count": null,
      "outputs": []
    },
    {
      "cell_type": "code",
      "source": [],
      "metadata": {
        "id": "OPtg_FjoVFsf"
      },
      "execution_count": null,
      "outputs": []
    },
    {
      "cell_type": "markdown",
      "source": [
        "## Cospro 2급 5회"
      ],
      "metadata": {
        "id": "X6B9i0GUTc1E"
      }
    },
    {
      "cell_type": "markdown",
      "source": [
        "### 문제 9. 순위 구하기\n",
        "\n",
        "시험 점수에 따라 학생의 순위를 매기려 합니다. 동점자 순위는 가능한 순위 중 가장 높은 순위로 매깁니다.\n",
        "예를 들어 학생별 점수가 [90, 87, 87, 23, 35, 28, 12, 46]이면, 학생별 순위는 [1, 2, 2, 7, 5, 6, 8, 4]입니다.\n",
        "\n",
        "모든 학생의 점수를 담은 배열 score가 매개변수로 주어질 때, 순위를 담은 배열을 return 하도록 solution 함수를 작성해주세요.\n",
        "\n",
        "\n",
        "▣ 매개변수 설명\n",
        "\n",
        "모든 학생의 점수를 담은 배열 score가 solution 함수의 매개변수로 주어집니다.\n",
        "* 학생 수는 1명 이상 1,000명 이하입니다.\n",
        "* 점수는 1 이상 100 이하인 정수입니다.\n",
        "\n",
        "▣ return 값 설명\n",
        "\n",
        "* 순위를 담은 배열을 return 합니다.\n",
        "\n",
        "▣ 예시\n",
        "\n",
        "    | score                            |return                    |\n",
        "    |----------------------------------|--------------------------|\n",
        "    | [90, 87, 87, 23, 35, 28, 12, 46] | [1, 2, 2, 7, 5, 6, 8, 4] |\n",
        "    | [10, 20, 20, 30]                 | [4, 2, 2, 1]             |\n",
        "\n",
        "▣ 예시 설명\n",
        "\n",
        "예시 #1 : 문제에 나온 예와 같습니다.\n",
        "\n",
        "예시 #2 : 이들의 순위는 [4, 2, 2, 1]입니다.\n",
        "\n"
      ],
      "metadata": {
        "id": "DjYsEYQXSuhQ"
      }
    },
    {
      "cell_type": "code",
      "source": [
        "#다음과 같이 import를 사용할 수 있습니다.\n",
        "#import math\n",
        "\n",
        "def solution(score):\n",
        "\t# 여기에 코드를 작성해주세요.\n",
        "    answer = []\n",
        "    return answer\n",
        "\n",
        "#아래는 테스트케이스 출력을 해보기 위한 코드입니다.\n",
        "score1 = [90, 87, 87, 23, 35, 28, 12, 46]\n",
        "ret1 = solution(score1)\n",
        "\n",
        "#[실행] 버튼을 누르면 출력 값을 볼 수 있습니다.\n",
        "print(\"solution 함수의 반환 값은 \", ret1, \" 입니다.\")\n",
        "\n",
        "score2 = [10, 20, 20, 30]\n",
        "ret2 = solution(score2)\n",
        "\n",
        "#[실행] 버튼을 누르면 출력 값을 볼 수 있습니다.\n",
        "print(\"solution 함수의 반환 값은 \", ret2, \" 입니다.\")"
      ],
      "metadata": {
        "id": "p4g_iaByTVAR"
      },
      "execution_count": null,
      "outputs": []
    },
    {
      "cell_type": "markdown",
      "source": [
        "### 문제 10. 근무 시간표\n",
        "\n",
        "n명이 시간표에 따라 교대 근무에 들어갑니다. 이때 가장 오래 일한 사람이 몇 시간 일했는지 알아내려 합니다. 근무 순번은 첫 번째 사람부터 n번째 사람 순으로 합니다. n번 사람이 일을 한 뒤에는 다시 첫 번째 사람부터 일을 합니다.\n",
        "\n",
        "예를 들어 시간표가 [1, 5, 1, 9]이고 n이 3이면 첫 번째 사람은 1+9시간, 두 번째 사람은 5시간, 세 번째 사람은 1시간 근무합니다. 따라서 첫 번째 사람이 가장 오래 일했으며, 10시간 일했습니다.\n",
        "\n",
        "근무 시간표를 담은 배열 time_table과 사람 수 n이 매개변수로 주어질 때, 가장 오래 일한 사람은 몇 시간 일했는지 return 하도록 solution 함수를 작성해주세요.\n",
        "\n",
        "\n",
        "▣ 매개변수 설명\n",
        "\n",
        "시간표를 담은 배열 time_table과 사람 수 n이 solution 함수의 매개변수로 주어집니다.\n",
        "* time_table의 길이는 1 이상 100 이하입니다.\n",
        "* time_table의 원소는 1 이상 100 이하인 자연수입니다.\n",
        "* n은 1 이상 `time_table의 길이` 이하인 자연수입니다.\n",
        "\n",
        "▣ return 값 설명\n",
        "\n",
        "가장 오래 일한 사람이 몇 시간 일했는지 return 합니다.\n",
        "\n",
        "▣ 예시\n",
        "\n",
        "    | time_table           | n | return |\n",
        "    |----------------------|---|--------|\n",
        "    |[1, 5, 1, 9]          | 3 | 10     |\n",
        "    | [4, 8, 2, 5, 4, 6, 7]| 4 | 14     |\n",
        "\n",
        "▣ 예시 설명\n",
        "\n",
        "예시 #1\n",
        "\n",
        "앞선 예와 같습니다.\n",
        "\n",
        "예시 #2\n",
        "\n",
        "첫 번째 사람은 4+4시간만큼 근무를 합니다.\n",
        "두 번째 사람은 8+6시간만큼 근무를 합니다.\n",
        "세 번째 사람은 2+7시간만큼 근무를 합니다.\n",
        "네 번째 사람은 5시간만큼 근무를 합니다.\n",
        "따라서, 가장 오래 근무를 한 사람은 14시간 일했습니다.\n"
      ],
      "metadata": {
        "id": "VT_xZULvTVQp"
      }
    },
    {
      "cell_type": "code",
      "source": [
        "#다음과 같이 import를 사용할 수 있습니다.\n",
        "#import math\n",
        "\n",
        "def solution(time_table, n):\n",
        "    #여기에 코드를 작성해주세요.\n",
        "    answer = 0\n",
        "    return answer\n",
        "\n",
        "#아래는 테스트케이스 출력을 해보기 위한 코드입니다.\n",
        "time_table1 = [1, 5, 1, 9]\n",
        "n1 = 3\n",
        "ret1 = solution(time_table1, n1)\n",
        "\n",
        "#[실행] 버튼을 누르면 출력 값을 볼 수 있습니다.\n",
        "print(\"solution 함수의 반환 값은\", ret1, \"입니다.\")\n",
        "\n",
        "time_table2 = [4, 8, 2, 5, 4, 6, 7]\n",
        "n2 = 4\n",
        "ret2 = solution(time_table2, n2)\n",
        "\n",
        "#[실행] 버튼을 누르면 출력 값을 볼 수 있습니다.\n",
        "print(\"solution 함수의 반환 값은\", ret2, \"입니다.\")"
      ],
      "metadata": {
        "id": "5xUkEiM5Tjum"
      },
      "execution_count": null,
      "outputs": []
    },
    {
      "cell_type": "code",
      "source": [],
      "metadata": {
        "id": "zeWlEvhcTjIp"
      },
      "execution_count": null,
      "outputs": []
    },
    {
      "cell_type": "markdown",
      "source": [
        "## Cospro 2급 6회"
      ],
      "metadata": {
        "id": "kJCAFdiRTI64"
      }
    },
    {
      "cell_type": "markdown",
      "source": [
        "### 문제 3. 유니폼 주문\n",
        "\n",
        "단체 유니폼을 주문하려고 합니다. 사람들의 덩치를 수치로 표현할 때 주문해야 하는 유니폼의 사이즈는 다음과 같습니다.\n",
        "\n",
        "    | 덩치              | 사이즈 |\n",
        "    |-------------------|--------|\n",
        "    | 95 미만           | S      |\n",
        "    | 95 이상 100 미만  | M      |\n",
        "    | 100 이상 105 미만 | L      |\n",
        "    | 105 이상          | XL     |\n",
        "\n",
        "사람들의 덩치를 담은 배열 people이 매개변수로 주어질 때, 주문해야 하는 유니폼 사이즈의 수를 [S, M, L, XL] 순으로 배열에 담아 return 하도록 solution 함수를 작성해주세요.\n",
        "\n",
        "▣ 매개변수 설명\n",
        "\n",
        "사람들의 덩치를 담은 배열 people이 solution 함수의 매개변수로 주어집니다.\n",
        "* people의 길이는 1 이상 100 이하인 자연수입니다.\n",
        "* 사람들의 덩치는 80 이상 120 이하인 자연수입니다.\n",
        "\n",
        "▣ return 값 설명\n",
        "\n",
        "주문해야 하는 유니폼 사이즈의 수를 [S, M, L, XL] 순으로 배열에 담아 return 합니다.\n",
        "\n",
        "▣ 예시\n",
        "\n",
        "    | people                  | return       |\n",
        "    |-------------------------|--------------|\n",
        "    | [97, 102, 93, 100, 107] | [1, 1, 2, 1] |\n",
        "\n",
        "▣ 예시 설명\n",
        "\n",
        "- 3번째 사람은 S 사이즈를 입어야합니다.\n",
        "- 1번째 사람은 M 사이즈를 입어야합니다.\n",
        "- 2, 4번째 사람은 L 사이즈를 입어야합니다.\n",
        "- 5번째 사람은 XL 사이즈를 입어야합니다.\n"
      ],
      "metadata": {
        "id": "LOunludGa9MX"
      }
    },
    {
      "cell_type": "code",
      "source": [
        "#다음과 같이 import를 사용할 수 있습니다.\n",
        "#import math\n",
        "\n",
        "def solution(people):\n",
        "    #여기에 코드를 작성해주세요.\n",
        "    answer = [0 for _ in range(4)]\n",
        "    return answer\n",
        "\n",
        "#아래는 테스트케이스 출력을 해보기 위한 코드입니다.\n",
        "people = [97, 102, 93, 100, 107]\n",
        "ret = solution(people)\n",
        "\n",
        "#[실행] 버튼을 누르면 출력 값을 볼 수 있습니다.\n",
        "print(\"solution 함수의 반환 값은 \", ret, \" 입니다.\")"
      ],
      "metadata": {
        "id": "kx0-W7FXbO62"
      },
      "execution_count": null,
      "outputs": []
    },
    {
      "cell_type": "markdown",
      "source": [
        "### 문제 4. 카드 게임\n",
        "카드를 3장 뽑아 점수를 내는 게임을 하려고 합니다. 각 카드는 색이 칠해져 있고, 숫자가 적혀 있습니다.\n",
        "\n",
        "획득한 점수를 계산하는 규칙은 다음과 같습니다.\n",
        "1. 카드 3장의 색이 모두 같다면 획득한 점수는 적힌 숫자의 총합에 3을 곱한 값입니다.\n",
        "2. 카드 2장의 색이 같고, 1장의 색이 다르다면 획득한 점수는 적힌 숫자의 총합에 2를 곱한 값입니다.\n",
        "3. 카드 3장의 색이 모두 다르다면 획득한 점수는 적힌 숫자의 총합입니다.\n",
        "\n",
        "뽑은 카드의 색과 숫자를 문자열로 담은 2차원 배열 cards가 매개변수로 주어질 때, 획득한 총 점수를 return 하도록 solution 함수를 작성해주세요.\n",
        "\n",
        "\n",
        "▣ 매개변수 설명\n",
        "\n",
        "뽑은 카드의 색과 숫자를 문자열로 담은 2차원 배열 cards가 solution 함수의 매개변수로 주어집니다.\n",
        "* cards는 3x2 크기인 2차원 배열입니다.\n",
        "* cards의 각 원소는 [색, 숫자] 입니다.\n",
        "    * 카드의 색은 [\"red\", \"black\", \"blue\"] 중 하나입니다.\n",
        "    * 카드에 적힌 숫자는 1 이상 9 이하인 자연수입니다.\n",
        "\n",
        "▣ return 값 설명\n",
        "\n",
        "획득한 총 점수를 return 합니다.\n",
        "\n",
        "▣ 예제\n",
        "\n",
        "    | cards                                      \t | return |\n",
        "    |------------------------------------------------|--------|\n",
        "    | [[\"blue\", \"2\"], [\"red\", \"5\"], [\"black\", \"3\"]]  | 10 \t  |\n",
        "    | [[\"blue\", \"2\"], [\"blue\", \"5\"], [\"black\", \"3\"]] | 20 \t  |\n",
        "\n",
        "▣ 예제 설명\n",
        "\n",
        "예제 #1\n",
        "\n",
        "모든 카드 색이 모두 다르기 때문에 획득한 점수는 적힌 숫자의 총합인 10 입니다.\n",
        "\n",
        "예제 #2\n",
        "\n",
        "두 카드 색이 같고, 1장의 색이 다릅니다. 따라서’ 획득한 점수는 적힌 숫자의 총합에 2를 곱한 20 입니다.\n"
      ],
      "metadata": {
        "id": "aO-1h5SibPby"
      }
    },
    {
      "cell_type": "code",
      "source": [
        "#다음과 같이 import를 사용할 수 있습니다.\n",
        "#import math\n",
        "\n",
        "def solution(cards):\n",
        "    #여기에 코드를 작성해주세요.\n",
        "    answer = 0\n",
        "    return answer\n",
        "\n",
        "#아래는 테스트케이스 출력을 해보기 위한 코드입니다.\n",
        "cards1 = [[\"blue\", \"2\"], [\"red\", \"5\"], [\"black\", \"3\"]]\n",
        "ret1 = solution(cards1)\n",
        "\n",
        "#[실행] 버튼을 누르면 출력 값을 볼 수 있습니다.\n",
        "print(\"solution 함수의 반환 값은\", ret1, \"입니다.\")\n",
        "\n",
        "cards2 = [[\"blue\", \"2\"], [\"blue\", \"5\"], [\"black\", \"3\"]]\n",
        "ret2 = solution(cards2)\n",
        "\n",
        "#[실행] 버튼을 누르면 출력 값을 볼 수 있습니다.\n",
        "print(\"solution 함수의 반환 값은\", ret2, \"입니다.\")"
      ],
      "metadata": {
        "id": "edgMEBPoYk7N"
      },
      "execution_count": null,
      "outputs": []
    },
    {
      "cell_type": "code",
      "execution_count": null,
      "metadata": {
        "id": "gdBN_BOqSwFC"
      },
      "outputs": [],
      "source": []
    }
  ]
}