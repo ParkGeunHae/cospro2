{
  "nbformat": 4,
  "nbformat_minor": 0,
  "metadata": {
    "colab": {
      "provenance": [],
      "toc_visible": true,
      "include_colab_link": true
    },
    "kernelspec": {
      "name": "python3",
      "display_name": "Python 3"
    },
    "language_info": {
      "name": "python"
    }
  },
  "cells": [
    {
      "cell_type": "markdown",
      "metadata": {
        "id": "view-in-github",
        "colab_type": "text"
      },
      "source": [
        "<a href=\"https://colab.research.google.com/github/ParkGeunHae/cospro2/blob/main/Cospro_2%EA%B8%89_%ED%95%9C%EC%A4%84%EB%B0%94%EA%BE%B8%EA%B8%B0%EB%AC%B8%EC%A0%9C.ipynb\" target=\"_parent\"><img src=\"https://colab.research.google.com/assets/colab-badge.svg\" alt=\"Open In Colab\"/></a>"
      ]
    },
    {
      "cell_type": "markdown",
      "source": [
        "## Cospro 2급 1회"
      ],
      "metadata": {
        "id": "UP_vEKS-Xxuo"
      }
    },
    {
      "cell_type": "markdown",
      "metadata": {
        "id": "iSI7ZakLww1R"
      },
      "source": [
        "### 문제 7. 토익 성적\n",
        "\n",
        "A 대학에서는 수준별 영어 강의를 제공하고 있습니다. 초급 영어 강의는 토익시험에서 650점 이상 800점 미만의 성적을 취득한 학생만을 수강대상으로 하고 있습니다. 초급 영어 강의에 수강신청한 사람이 10명일 때, 이 중에서 몇명이 수강 대상에 해당하는지 확인하려합니다.\n",
        "\n",
        "수강신청자들의 토익 성적이 들어있는 배열 scores가 매개변수로 주어질 때, 수강 대상자들의 인원수를 return 하도록 solution 함수를 작성했습니다. 그러나, 코드 일부분이 잘못되어있기 때문에, 몇몇 입력에 대해서는 올바르게 동작하지 않습니다. 주어진 코드에서 _**한 줄**_만 변경해서 모든 입력에 대해 올바르게 동작하도록 수정해주세요.\n",
        "\n",
        "\n",
        "▣매개변수 설명\n",
        "\n",
        "수강신청자들의 토익 성적이 들어있는 배열 scores가 solution 함수의 매개변수로 주어집니다.\n",
        "* scores의 원소는 500 이상 990 이하의 정수입니다.\n",
        "* scores의 길이는 10입니다.\n",
        "\n",
        "▣return 값 설명\n",
        "\n",
        "수강 대상자들의 인원수를 return 해주세요.\n",
        "\n",
        "▣예시\n",
        "\n",
        "    | scores                                             | return |\n",
        "    |----------------------------------------------------|--------|\n",
        "    | [650, 722, 914, 558, 714, 803, 650, 679, 669, 800] | 6      |\n",
        "\n",
        "▣예시 설명\n",
        "\n",
        "    |점수     | 650 | 722 | 914 | 558 | 714 | 803 | 650 | 679 | 669 | 800 |\n",
        "    |---------|-----|-----|-----|-----|-----|-----|-----|-----|-----|-----|\n",
        "    |수강 대상| O   | O   | X   | X   | O   | X   | O   | O   | O   | X   |\n",
        "\n",
        "650점 이상 800점 미만의 성적을 취득한 학생이 수강대상이므로, 800점을 취득한 학생은 수강대상이 아닙니다.\n",
        "따라서, 6명이 수강 대상입니다.\n"
      ]
    },
    {
      "cell_type": "code",
      "metadata": {
        "id": "iobRGa5gxJWI"
      },
      "source": [
        "def solution(scores):\n",
        "    count = 0\n",
        "    for s in scores:\n",
        "        if 650 <= s or s < 800:\n",
        "            count += 1\n",
        "    return count\n",
        "\n",
        "#The following is code to output testcase. The code below is correct and you shall correct solution function.\n",
        "scores = [650, 722, 914, 558, 714, 803, 650, 679, 669, 800]\n",
        "ret = solution(scores)\n",
        "\n",
        "#Press Run button to receive output.\n",
        "print(\"Solution: return value of the function is\", ret, \".\")"
      ],
      "execution_count": null,
      "outputs": []
    },
    {
      "cell_type": "markdown",
      "metadata": {
        "id": "G2klo42XxJ8T"
      },
      "source": [
        "### 문제 8. 팰린드롬(palindrome)\n",
        "\n",
        "앞에서부터 읽을 때와 뒤에서부터 읽을 때 똑같은 단어 또는 문장을 팰린드롬(palindrome)이라고 합니다. 예를 들어서 racecar, noon은 팰린드롬 단어입니다.\n",
        "\n",
        "소문자 알파벳, 공백(\" \"), 그리고 마침표(\".\")로 이루어진 문장이 팰린드롬 문장인지 점검하려 합니다. 문장 내에서 알파벳만 추출하였을 때에 팰린드롬 단어이면 팰린드롬 문장입니다. 예를 들어, \"Never odd or even.\"과 같은 문장은 팰린드롬입니다.\n",
        "\n",
        "소문자 알파벳, 공백(\" \"), 그리고 마침표(\".\")로 이루어진 문장 sentence가 주어질 때 팰린드롬인지 아닌지를 return 하도록 solution 함수를 작성했습니다. 그러나, 코드 일부분이 잘못되어있기 때문에, 몇몇 입력에 대해서는 올바르게 동작하지 않습니다. 주어진 코드에서 _**한 줄**_만 변경해서 모든 입력에 대해 올바르게 동작하도록 수정해주세요.\n",
        "\n",
        "\n",
        "▣ 매개변수 설명\n",
        "\n",
        "소문자 알파벳, 공백(\" \"), 그리고 마침표(\".\")로 이루어진 문장 sentence가 solution 함수의 매개변수로 주어집니다.\n",
        "* sentence의 길이는 1이상 100이하입니다.\n",
        "* sentence에는 적어도 하나의 알파벳이 포함되어 있습니다.\n",
        "* setntence의 각 문자는 소문자 알파벳, 공백(\" \"), 또는 마침표(\".\")입니다.\n",
        "\n",
        "▣ return 값 설명\n",
        "\n",
        "주어진 문장이 팰린드롬인지 아닌지를 return 해주세요.\n",
        "\n",
        "▣ 예시\n",
        "\n",
        "    | sentence             \t| return |\n",
        "    |----------------------\t|--------|\n",
        "    | \"never odd or even.\" \t| true   |\n",
        "    | \"palindrome\"         \t| false  |\n",
        "\n",
        "▣ 예시 설명\n",
        "\n",
        "예시 #1\n",
        "\n",
        "알파벳과 숫자만 추출하여 소문자로 변환해보면 \"neveroddoreven\"이 되며 이 단어는 팰린드롬입니다.\n",
        "\n",
        "예시 #2\n",
        "\n",
        "문장의 맨 앞 문자인 \"p\"와 맨 뒤 문자인 \"e\"가 다르므로 팰린드롬이 아닙니다.\n"
      ]
    },
    {
      "cell_type": "code",
      "metadata": {
        "id": "7fEhEkPExYU0"
      },
      "source": [
        "def solution(sentence):\n",
        "    str = ''\n",
        "    for c in sentence:\n",
        "        if c != '.' or c != ' ':\n",
        "            str += c\n",
        "    size = len(str)\n",
        "    for i in range(size // 2):\n",
        "        if str[i] != str[size - 1 - i]:\n",
        "            return False\n",
        "    return True\n",
        "\n",
        "\n",
        "#The following is code to output testcase. The code below is correct and you shall correct solution function.\n",
        "sentence1 = \"never odd or even.\"\n",
        "ret1 = solution(sentence1)\n",
        "\n",
        "#Press Run button to receive output.\n",
        "print(\"Solution: return value of the function is\", ret1, \".\")\n",
        "\n",
        "sentence2 = \"palindrome\"\n",
        "ret2 = solution(sentence2)\n",
        "\n",
        "#Press Run button to receive output.\n",
        "print(\"Solution: return value of the function is\", ret2, \".\")"
      ],
      "execution_count": null,
      "outputs": []
    },
    {
      "cell_type": "markdown",
      "metadata": {
        "id": "XuZjscVDxhSw"
      },
      "source": [
        "### 문제 9.중복문자 제거\n",
        "\n",
        "알파벳 문자열이 주어질 때, 연속하는 중복 문자를 삭제하려고 합니다. 예를 들어, \"senteeeencccccceeee\"라는 문자열이 주어진다면, \"sentence\"라는 결과물이 나옵니다.\n",
        "\n",
        "영어 소문자 알파벳으로 이루어진 임의의 문자열 characters가 매개변수로 주어질 때, 연속하는 중복 문자들을 삭제한 결과를 return 하도록 solution 함수를 작성하였습니다. 그러나, 코드 일부분이 잘못되어있기 때문에, 코드가 올바르게 동작하지 않습니다. 주어진 코드에서 _**한 줄**_만 변경해서 모든 입력에 대해 올바르게 동작하도록 수정하세요.\n",
        "\n",
        "\n",
        "▣매개변수 설명\n",
        "\n",
        "영어 소문자 알파벳으로 이루어진 임의의 문자열 characters가 solution 함수의 매개변수로 주어집니다.\n",
        "* characters는 알파벳 소문자로만 이루어져있습니다.\n",
        "* characters의 길이는 10 이상 100 이하입니다.\n",
        "\n",
        "▣return 값 설명\n",
        "\n",
        "characters에서 연속하는 중복 문자를 제거한 문자열을 return 해주세요.\n",
        "\n",
        "▣예시\n",
        "\n",
        "    | characters            | return    |\n",
        "    |-----------------------|-----------|\n",
        "    | \"senteeeencccccceeee\" | \"sentence\"|\n"
      ]
    },
    {
      "cell_type": "code",
      "metadata": {
        "id": "a2LKG7_QxmbM"
      },
      "source": [
        "def solution(characters):\n",
        "    result = \"\"\n",
        "    result += characters[0]\n",
        "    for i in range(len(characters)):\n",
        "        if characters[i - 1] != characters[i]:\n",
        "            result += characters[i]\n",
        "    return result\n",
        "\n",
        "#The following is code to output testcase. The code below is correct and you shall correct solution function.\n",
        "characters = \"senteeeencccccceeee\"\n",
        "ret = solution(characters)\n",
        "\n",
        "#Press Run button to receive output.\n",
        "print(\"Solution: return value of the function is\", ret, \".\")"
      ],
      "execution_count": null,
      "outputs": []
    },
    {
      "cell_type": "markdown",
      "metadata": {
        "id": "kQLZWuVxxqKW"
      },
      "source": [
        "### 문제 10.평균보다 작은 수\n",
        "\n",
        "평균은 자료의 합을 자료의 개수로 나눈 값을 의미합니다. 자연수가 들어있는 배열의 평균을 구하고, 평균 이하인 숫자는 몇 개 있는지 구하려합니다.\n",
        "\n",
        "예를 들어 주어진 배열이 [1, 2, 3, 4, 5, 6, 7, 8, 9, 10]이라면, 평균은 5.5이므로 배열에서 평균 이하인 값은 5개입니다.\n",
        "\n",
        "자연수가 들어있는 배열 data가 매개변수로 주어질 때, 배열에 평균 이하인 값은 몇 개인지 return 하도록 solution 함수를 작성했습니다. 그러나, 코드 일부분이 잘못되어있기 때문에, 몇몇 입력에 대해서는 올바르게 동작하지 않습니다. 주어진 코드에서 한 줄만 변경해서 모든 입력에 대해 올바르게 동작하도록 수정하세요.\n",
        "\n",
        "\n",
        "\n",
        "▣ 매개변수 설명\n",
        "\n",
        "자연수가 들어있는 배열 data가 solution 함수의 매개변수로 주어집니다.\n",
        "\n",
        "* data의 길이는 10 이상 100 이하 정수입니다.\n",
        "* data의 원소는 1 이상 1,000 이하의 자연수입니다.\n",
        "\n",
        "▣ return 값 설명\n",
        "\n",
        "평균보다 값이 작은 자연수는 몇개인지 return 해주세요.\n",
        "\n",
        "▣ 예시\n",
        "\n",
        "    | data                            | return |\n",
        "    |---------------------------------|--------|\n",
        "    | [1, 2, 3, 4, 5, 6, 7, 8, 9, 10] | 5      |\n",
        "    | [1, 1, 1, 1, 1, 1, 1, 1, 1, 10] | 9      |\n",
        "\n",
        "▣ 예시 설명\n",
        "\n",
        "예시 #1\n",
        "\n",
        "자료의 합은 55이며, 자료의 개수는 10개입니다. 따라서 평균은 55 / 10 = 5.5입니다.\n",
        "주어진 배열에서 5.5보다 작은 숫자는 총 5개입니다.\n",
        "\n",
        "예시 #2\n",
        "\n",
        "자료의 합은 19이며, 자료의 개수는 10개입니다. 따라서 평균은 19 / 10 = 1.9입니다.\n",
        "주어진 배열에서 1.9보다 작은 숫자는 총 9개입니다.\n"
      ]
    },
    {
      "cell_type": "code",
      "metadata": {
        "id": "LAaltjKpx2SS"
      },
      "source": [
        "def solution(data):\n",
        "    total = sum(data)\n",
        "    average = len(data) / total\n",
        "    cnt = 0\n",
        "    for d in data:\n",
        "        if d <= average:\n",
        "            cnt += 1\n",
        "    return cnt\n",
        "\n",
        "\n",
        "#The following is code to output testcase. The code below is correct and you shall correct solution function.\n",
        "data1 = [1, 2, 3, 4, 5, 6, 7, 8, 9, 10]\n",
        "ret1 = solution(data1)\n",
        "\n",
        "#Press Run button to receive output.\n",
        "print(\"Solution: return value of the function is\", ret1, \".\")\n",
        "\n",
        "data2 = [1, 1, 1, 1, 1, 1, 1, 1, 1, 10]\n",
        "ret2 = solution(data2)\n",
        "\n",
        "#Press Run button to receive output.\n",
        "print(\"Solution: return value of the function is\", ret2, \".\")"
      ],
      "execution_count": null,
      "outputs": []
    },
    {
      "cell_type": "code",
      "execution_count": null,
      "metadata": {
        "id": "3yjC3NP2YAZZ"
      },
      "outputs": [],
      "source": []
    },
    {
      "cell_type": "code",
      "source": [],
      "metadata": {
        "id": "K81ysYmBZJqj"
      },
      "execution_count": null,
      "outputs": []
    },
    {
      "cell_type": "markdown",
      "source": [
        "## Cospro 2급 2회"
      ],
      "metadata": {
        "id": "jNG6bmLwYfTR"
      }
    },
    {
      "cell_type": "markdown",
      "metadata": {
        "id": "meDwxSKzy7i7"
      },
      "source": [
        "### 문제 7. 온도 환산\n",
        "\n",
        "화씨온도(℉)를 섭씨온도(℃)로, 섭씨온도(℃)를 화씨온도(℉)로 바꾸려고 합니다. 두 온도 사이의 환산 공식은 다음과 같습니다.\n",
        "\n",
        "[환산공식]\n",
        "\n",
        "* 화씨온도(℉)에서 섭씨온도(℃)로 환산 : (화씨온도 - 32) ÷ 1.8 = 섭씨온도\n",
        "* 섭씨온도(℃)에서 화씨온도(℉)로 환산 : (섭씨온도 x 1.8) + 32 = 화씨온도\n",
        "\n",
        "현재 온도 value와 현재 단위 unit이 매개변수로 주어질 때, 환산한 온도의 정수 부분을 return 하도록 solution 함수를 작성했습니다. 그러나, 코드 일부분이 잘못되어있기 때문에, 몇몇 입력에 대해서는 올바르게 동작하지 않습니다. 주어진 코드에서 _**한 줄**_만 변경해서 모든 입력에 대해 올바르게 동작하도록 수정하세요.\n",
        "\n",
        "\n",
        "▣ 매개변수 설명\n",
        "\n",
        "현재 온도 value와 현재 단위 unit이 solution 함수의 매개변수로 주어집니다.\n",
        "* unit은 화씨온도 \"F\"와 섭씨온도 \"C\" 둘 중 하나로 주어집니다.\n",
        "  * unit이 \"F\"인 경우 value는 화씨온도(℉)를 나타냅니다.\n",
        "  * unit이 \"C\"인 경우 value는 섭씨온도(℃)를 나타냅니다.\n",
        "* value는 -460 이상 1,000 이하의 정수입니다.\n",
        "\n",
        "▣ return 값 설명\n",
        "\n",
        "환산한 온도의 정수 부분을 return 해주세요.\n",
        "* unit이 \"F\"인 경우에는 화씨온도(℉)에서 섭씨온도(℃)로 환산해주세요.\n",
        "* unit이 \"C\"인 경우에는 섭씨온도(℃)에서 화씨온도(℉)로 환산해주세요.\n",
        "\n",
        "▣ 예시\n",
        "\n",
        "    | value | unit | return |\n",
        "    |-------|------|--------|\n",
        "    | 527   | \"C\"  | 980    |\n",
        "\n",
        "▣예시 설명\n",
        "\n",
        "unit이 \"C\" 이므로 주어진 value는 527℃를 나타냅니다. 이를 화씨온도(℉)로 환산하면 다음과 같습니다.\n",
        "(섭씨온도 x 1.8) + 32 = (527 x 1.8) + 32 = 980.6\n",
        "\n",
        "따라서 환산 결과는 980.6℉이며, 정수 부분만 return 하면 되므로 980을 return 하면 됩니다.\n"
      ]
    },
    {
      "cell_type": "code",
      "metadata": {
        "colab": {
          "base_uri": "https://localhost:8080/"
        },
        "id": "T3m_dWfKzOZw",
        "outputId": "70c485e0-54dc-48c9-ba67-9244d1d6151b"
      },
      "source": [
        "def solution(value, unit):\n",
        "    converted = 0\n",
        "    if unit == \"C\":\n",
        "        value = value * 1.8 + 32\n",
        "    if unit == \"F\":\n",
        "        value = value - 32 / 1.8\n",
        "    converted = int(value)\n",
        "    return converted\n",
        "\n",
        "#아래는 테스트케이스 출력을 해보기 위한 코드입니다. 아래 코드는 잘못된 부분이 없으니, solution함수만 수정하세요.\n",
        "value = 527\n",
        "unit = \"C\"\n",
        "ret = solution(value, unit)\n",
        "\n",
        "\n",
        "#[실행] 버튼을 누르면 출력 값을 볼 수 있습니다.\n",
        "print(\"solution 함수의 반환 값은\", ret, \"입니다.\")"
      ],
      "execution_count": null,
      "outputs": [
        {
          "output_type": "stream",
          "name": "stdout",
          "text": [
            "solution 함수의 반환 값은 980 입니다.\n"
          ]
        }
      ]
    },
    {
      "cell_type": "markdown",
      "metadata": {
        "id": "MvOUdIFSzUAZ"
      },
      "source": [
        "### 문제 8. 소수의 개수\n",
        "자연수의 각 자릿수 중에서 소수는 몇 개인지 구하려 합니다. 즉, 자연수를 각 자릿수별로 나누었을 때, 2, 3, 5, 7이 몇 개 있는지 구하려 합니다.\n",
        "\n",
        "예를 들어, 자연수가 29022531일 때, 각 자릿수 중 소수의 위치는 다음과 같습니다.\n",
        "\n",
        "    `2`90`2``2``5``3`1\n",
        "\n",
        "따라서 소수의 개수는 총 5개입니다.\n",
        "\n",
        "자연수 number가 매개변수로 주어질 때, number의 각 자릿수 중 소수는 몇 개인지 return 하도록 solution 함수를 작성했습니다. 그러나, 코드 일부분이 잘못되어있기 때문에, 몇몇 입력에 대해서는 올바르게 동작하지 않습니다. 주어진 코드에서 _**한 줄**_만 변경해서 모든 입력에 대해 올바르게 동작하도록 수정하세요.\n",
        "\n",
        "\n",
        "▣ 매개변수 설명\n",
        "\n",
        "자연수 number가 solution 함수의 매개변수로 주어집니다.\n",
        "* number는 1 이상 1,000,000,000 이하의 자연수입니다.\n",
        "\n",
        "▣ return 값 설명\n",
        "\n",
        "number의 각 자릿수 중 소수는 몇 개인지 return 해주세요.\n",
        "\n",
        "▣ 예시\n",
        "\n",
        "    | number   | return |\n",
        "    |----------|--------|\n",
        "    | 29022531 | 5      |\n"
      ]
    },
    {
      "cell_type": "code",
      "metadata": {
        "id": "BOzsEcJgz7gx"
      },
      "source": [
        "def solution(number):\n",
        "    count = 0\n",
        "    while number >= 0:\n",
        "        n = number % 10\n",
        "        if n == 2 or n == 3 or n == 5 or n == 7:\n",
        "            count += 1\n",
        "        number //= 10\n",
        "    return count\n",
        "\n",
        "#아래는 테스트케이스 출력을 해보기 위한 코드입니다. 아래 코드는 잘못된 부분이 없으니, solution함수만 수정하세요.\n",
        "number = 29022531\n",
        "ret = solution(number)\n",
        "\n",
        "\n",
        "#[실행] 버튼을 누르면 출력 값을 볼 수 있습니다.\n",
        "print(\"solution 함수의 반환 값은\", ret, \"입니다.\")"
      ],
      "execution_count": null,
      "outputs": []
    },
    {
      "cell_type": "markdown",
      "metadata": {
        "id": "vLL5ebztz_6G"
      },
      "source": [
        "### 문제 9. 투표 결과\n",
        "N명의 후보에 대해 투표한 결과가 들어있는 배열이 있습니다. 예를 들어 5명의 후보에 대해 투표를 진행한 결과가 [2, 5, 3, 4, 1, 5, 1, 5, 5, 3]이라면 순서대로 [2번, 5번, 3번, 4번, 1번, 5번, 1번, 5번, 5번, 3번] 후보에 투표했음을 나타냅니다. 이때, 정확히 K 표를 받은 후보는 총 몇 명인지 구하려 합니다.\n",
        "\n",
        "예를 들어 K = 2일 때, 위 투표 결과에서 정확히 2표를 받은 후보는 1번, 3번 후보로, 총 2명입니다.\n",
        "\n",
        "투표 결과가 들어있는 배열 votes, 후보의 수 N, 표의 개수 K가 매개변수로 주어질 때, K 표를 받은 후보는 몇 명인지 return 하도록 solution 함수를 작성했습니다. 그러나, 코드 일부분이 잘못되어있기 때문에, 몇몇 입력에 대해서는 올바르게 동작하지 않습니다. 주어진 코드에서 _**한 줄**_만 변경해서 모든 입력에 대해 올바르게 동작하도록 수정하세요.\n",
        "\n",
        "\n",
        "▣ 매개변수 설명\n",
        "\n",
        "투표 결과가 들어있는 배열 votes, 후보의 수 N, 표의 개수 K가 solution 함수의 매개변수로 주어집니다.\n",
        "* votes의 길이는 10 이상, 100 이하입니다.\n",
        "* votes의 원소는 1 이상, 전체 후보의 수 N 이하의 자연수입니다.\n",
        "* N은 3 이상 10 이하의 자연수입니다.\n",
        "* K는 0 이상 100 이하의 정수입니다.\n",
        "\n",
        "▣ return 값 설명\n",
        "\n",
        "K 표를 받은 후보는 몇 명인지 return 해주세요.\n",
        "\n",
        "▣예시\n",
        "\n",
        "        | votes                          | N | K | return |\n",
        "        |--------------------------------|---|---|--------|\n",
        "        | [2, 5, 3, 4, 1, 5, 1, 5, 5, 3] | 5 | 2 | 2      |\n",
        "\n",
        "▣예시 설명\n",
        "\n",
        "각 후보가 받은 표는 다음과 같습니다.\n",
        "* 1번 후보 : 2표\n",
        "* 2번 후보 : 1표\n",
        "* 3번 후보 : 2표\n",
        "* 4번 후보 : 1표\n",
        "* 5번 후보 : 4표\n",
        "\n",
        "따라서 2표를 받은 후보는 1번, 3번 후보로 총 2명입니다.\n",
        "\n"
      ]
    },
    {
      "cell_type": "code",
      "metadata": {
        "id": "yODFUbii0L2F"
      },
      "source": [
        "def solution(votes, N, K):\n",
        "    counter = [0 for _ in range(N + 1)]\n",
        "    for x in votes:\n",
        "        counter[x] += 1\n",
        "    answer = -1\n",
        "    for c in counter:\n",
        "        if c == K:\n",
        "            answer += 1\n",
        "    return answer\n",
        "\n",
        "#아래는 테스트케이스 출력을 해보기 위한 코드입니다. 아래 코드는 잘못된 부분이 없으니, solution함수만 수정하세요.\n",
        "votes = [2, 5, 3, 4, 1, 5, 1, 5, 5, 3]\n",
        "N = 5\n",
        "K = 2\n",
        "ret = solution(votes, N, K)\n",
        "\n",
        "\n",
        "#[실행] 버튼을 누르면 출력 값을 볼 수 있습니다.\n",
        "print(\"solution 함수의 반환 값은\", ret, \"입니다.\")"
      ],
      "execution_count": null,
      "outputs": []
    },
    {
      "cell_type": "markdown",
      "metadata": {
        "id": "13KakHas0O7i"
      },
      "source": [
        "### 문제 10. 백화점 상품권\n",
        "A 백화점에서는 고객의 구매금액에 따라 다음과 같이 상품권을 지급합니다.\n",
        "\n",
        "    | 구매 금액          | 상품권       |\n",
        "    |--------------------|--------------|\n",
        "    | 100만 원 이상 구매 | 5만 원 상품권 |\n",
        "    | 60만 원 이상 구매  | 3만 원 상품권 |\n",
        "    | 40만 원 이상 구매  | 2만 원 상품권 |\n",
        "    | 20만 원 이상 구매  | 1만 원 상품권 |\n",
        "\n",
        "이때, 상품권은 지급 가능한 가장 큰 금액으로 한 장만 지급합니다. 예를 들어 고객이 65만 원을 구매했다면, 3만 원 상품권 한 장만 지급합니다.\n",
        "\n",
        "고객들의 구매 금액이 들어있는 배열 purchase가 주어질 때, 고객들에게 지급해야 하는 상품권 총액을 return 하도록 solution 함수를 작성했습니다. 그러나, 코드 일부분이 잘못되어있기 때문에, 코드가 올바르게 동작하지 않습니다. 주어진 코드에서 _**한 줄**_만 변경해서 모든 입력에 대해 올바르게 동작하도록 수정해주세요.\n",
        "\n",
        "\n",
        "▣ 매개변수 설명\n",
        "\n",
        "고객들의 구매 금액이 들어있는 배열 purchase가 solution 함수의 매개변수로 주어집니다.\n",
        "* purchase의 길이는 1 이상 100 이하입니다.\n",
        "* purchase의 원소는 10 이상 1,500,000 이하의 자연수이며, 10원 단위로 주어집니다.\n",
        "\n",
        "▣ return 값 설명\n",
        "\n",
        "고객들에게 지급해야 하는 상품권 총액을 return 해주세요.\n",
        "\n",
        "▣ 예시\n",
        "\n",
        "    | purchase                                  | return |\n",
        "    |-------------------------------------------|--------|\n",
        "    | [150000, 210000, 399990, 990000, 1000000] | 100000 |\n",
        "\n",
        "▣예시 설명\n",
        "\n",
        "* 210,000원, 399,990원을 구매한 고객에게 1만 원 상품권을 지급해야 합니다.\n",
        "* 990,000원을 구매한 고객에게 3만 원 상품권을 지급해야 합니다.\n",
        "* 1,000,000원을 구매한 고객에게 5만 원 상품권을 지급해야 합니다.\n",
        "\n",
        "따라서 지급해야 하는 상품권은 1만 원 상품권 2장, 3만 원 상품권 1장, 5만 원 상품권 1장으로, 총액은 10만 원 입니다.\n"
      ]
    },
    {
      "cell_type": "code",
      "metadata": {
        "id": "AhBrFiHQ0bb9"
      },
      "source": [
        "def solution(purchase):\n",
        "    total = 0\n",
        "    for p in purchase:\n",
        "        if p >= 1000000:\n",
        "            total += 50000\n",
        "        elif p >= 600000:\n",
        "            total += 30000\n",
        "        elif p >= 400000:\n",
        "            total += 20000\n",
        "        else:\n",
        "            total += 10000\n",
        "    return total\n",
        "\n",
        "#아래는 테스트케이스 출력을 해보기 위한 코드입니다. 아래 코드는 잘못된 부분이 없으니, solution함수만 수정하세요.\n",
        "purchase = [150000, 210000, 399990, 990000, 1000000]\n",
        "ret = solution(purchase)\n",
        "\n",
        "\n",
        "#[실행] 버튼을 누르면 출력 값을 볼 수 있습니다.\n",
        "print(\"solution 함수의 반환 값은\", ret, \"입니다.\")"
      ],
      "execution_count": null,
      "outputs": []
    },
    {
      "cell_type": "code",
      "source": [],
      "metadata": {
        "id": "macqOW0DZJnv"
      },
      "execution_count": null,
      "outputs": []
    },
    {
      "cell_type": "code",
      "source": [],
      "metadata": {
        "id": "LI9XCvhDZzfj"
      },
      "execution_count": null,
      "outputs": []
    },
    {
      "cell_type": "markdown",
      "source": [
        "## Cospro 2급 3회"
      ],
      "metadata": {
        "id": "QJJVFBv4Zj2X"
      }
    },
    {
      "cell_type": "markdown",
      "metadata": {
        "id": "u4_z1d-9cKIH"
      },
      "source": [
        "### 문제 7. 주스 만들기\n",
        "\n",
        "주스 1잔을 만들려면 사과 3개와 당근 1개가 필요합니다. 그런데 키우는 토끼에게 먹이를 주기 위해 사과와 당근 종류에 상관없이 k개를 빼놓으려고 합니다. 주스는 최대한 많이 만들수록 좋습니다.\n",
        "\n",
        "사과 개수 num_apple과 당근 개수 num_carrot, 토끼에게 줄 먹이 개수 k가 주어질 때 주스를 최대 몇 잔 만들 수 있는지 return 하도록 solution 함수를 작성했습니다. 그러나, 코드 일부분이 잘못되어있기 때문에, 몇몇 입력에 대해서는 올바르게 동작하지 않습니다. 주어진 코드에서 _**한 줄**_만 변경해서 모든 입력에 대해 올바르게 동작하도록 수정하세요.\n",
        "\n",
        "\n",
        "▣ 매개변수 설명\n",
        "\n",
        "사과 개수 num_apple과 당근 개수 num_carrot, 토끼에게 줄 먹이 개수 k가 solution 함수의 매개변수로 주어집니다.\n",
        "* 사과 개수 num_apple과 당근 개수 num_carrot는 0 이상 200 이하인 정수입니다.\n",
        "* 토끼에게 줄 먹이 개수 k는 0 이상 `num_apple+num_carrot` 이하인 정수입니다.\n",
        "\n",
        "▣ return 값 설명\n",
        "\n",
        "주스를 최대 몇 잔 만들 수 있는지 return 해주세요.\n",
        "\n",
        "▣ 예시\n",
        "\n",
        "    | num_apple | num_carrot | k | return |\n",
        "    |-----------|------------|---|--------|\n",
        "    | 5         | 1          | 2 | 1      |\n",
        "    | 10        | 5          | 4 | 2      |\n",
        "\n",
        "▣ 예시 설명\n",
        "\n",
        "예시 #1\n",
        "\n",
        "사과 2개를 먹이로 주면 사과 3개, 당근 1개가 남습니다. 남은 재료로 주스를 1잔 만들 수 있습니다.\n",
        "\n",
        "예시 #2\n",
        "\n",
        "사과 2개와 당근 2개를 먹이로 주면 사과 8개, 당근 3개가 남습니다. 남은 재료로 주스를 2잔 만들 수 있습니다.\n",
        "\n"
      ]
    },
    {
      "cell_type": "code",
      "metadata": {
        "id": "HazI8DtCcYYb"
      },
      "source": [
        "def solution(num_apple, num_carrot, k):\n",
        "    answer = 0\n",
        "\n",
        "    if num_apple < num_carrot * 3:\n",
        "        answer = num_apple // 3\n",
        "    else:\n",
        "        answer = num_carrot\n",
        "\n",
        "    num_apple -= answer * 3\n",
        "    num_carrot -= answer\n",
        "\n",
        "    i = 0\n",
        "    while k - (num_apple + num_carrot + i) > 0:\n",
        "        if i % 4 == 0:\n",
        "            answer += 1\n",
        "        i = i + 1\n",
        "\n",
        "    return answer\n",
        "\n",
        "# 아래는 테스트케이스 출력을 해보기 위한 코드입니다. 아래 코드는 잘못된 부분이 없으니, solution함수만 수정하세요.\n",
        "num_apple1 = 5\n",
        "num_carrot1 = 1\n",
        "k1 = 2\n",
        "ret1 = solution(num_apple1, num_carrot1, k1)\n",
        "\n",
        "# [실행] 버튼을 누르면 출력 값을 볼 수 있습니다.\n",
        "print(\"solution 함수의 반환 값은\", ret1, \"입니다.\")\n",
        "\n",
        "num_apple2 = 10\n",
        "num_carrot2 = 5\n",
        "k2 = 4\n",
        "ret2 = solution(num_apple2, num_carrot2, k2)\n",
        "\n",
        "# [실행] 버튼을 누르면 출력 값을 볼 수 있습니다.\n",
        "print(\"solution 함수의 반환 값은\", ret2, \"입니다.\")"
      ],
      "execution_count": null,
      "outputs": []
    },
    {
      "cell_type": "markdown",
      "metadata": {
        "id": "BfmjFi35cdyP"
      },
      "source": [
        "### 문제 8. TV 시청 시간\n",
        "A씨가 하루에 TV를 두 대 이상 트는 시간을 알아내려합니다. A씨는 매일 세 프로그램을 시청합니다. 프로그램 방송 시간이 겹칠 때는 TV를 여러 대 켜서 모든 프로그램을 봅니다.\n",
        "\n",
        "예를 들어 두 프로그램 방송 시간대가 겹치면 TV를 두 대 켜고, 세 프로그램 방송 시간이 겹치면 TV를 세 대 켭니다.\n",
        "\n",
        "세 프로그램 방영 시작 시각과 끝 시각이 담긴 2차원 배열 programs가 매개변수로 주어질 때, 하루에 TV를 2대 이상 트는 총 시간을 return 하도록 solution 함수를 작성했습니다. 그러나, 코드 일부분이 잘못되어있기 때문에, 몇몇 입력에 대해서는 올바르게 동작하지 않습니다. 주어진 코드에서 _**한 줄**_만 변경해서 모든 입력에 대해 올바르게 동작하도록 수정하세요.\n",
        "\n",
        "\n",
        "▣ 매개변수 설명\n",
        "\n",
        "3개의 프로그램이 시작되는 시각과 끝나는 시각이 담긴 2차원 배열 programs가 solution 함수의 매개변수로 주어집니다.\n",
        "* programs의 행 길이는 항상 3입니다.\n",
        "* programs 배열의 각 원소는 각 프로그램의 방송 시간이 [시작 시각, 끝 시각] 형태로 들어있습니다.\n",
        "* 프로그램의 시작 시각과 끝 시각은 0 이상 24 이하의 정수입니다.\n",
        "* 프로그램의 시작 시각은 끝 시각보다 항상 빠릅니다.\n",
        "\n",
        "▣ return 값 설명\n",
        "\n",
        "A 씨가 TV를 2대 이상 트는 총 시간을 return 해주세요.\n",
        "\n",
        "▣ 예시\n",
        "\n",
        "    | programs            \t   | return |\n",
        "    |--------------------------|--------|\n",
        "    | [[1, 6], [3, 5], [2, 8]] | 4     |\n",
        "\n",
        "▣ 예시 설명\n",
        "\n",
        "- 2대의 TV를 트는 시간이 2시부터 3시까지, 5시부터 6시까지 총 2시간이고\n",
        "3대의 TV를 트는 시간이 3시부터 5시까지 총 2시간입니다.\n",
        "- 따라서 TV를 2대 이상 트는 시간은 총 4시간입니다.\n",
        "\n"
      ]
    },
    {
      "cell_type": "code",
      "metadata": {
        "id": "azdkppg8cmlP"
      },
      "source": [
        "def solution(programs):\n",
        "    answer = 0\n",
        "    used_tv = [0] * 25\n",
        "\n",
        "    for program in programs:\n",
        "        for i in range(program[0], program[1]):\n",
        "            used_tv[i] = used_tv[i] + 1\n",
        "\n",
        "    for i in used_tv:\n",
        "        if i >= 1:\n",
        "            answer = answer + 1\n",
        "    return answer\n",
        "\n",
        "#아래는 테스트케이스 출력을 해보기 위한 코드입니다. 아래 코드는 잘못된 부분이 없으니, solution함수만 수정하세요.\n",
        "programs = [[1, 6], [3, 5], [2, 8]]\n",
        "ret = solution(programs)\n",
        "\n",
        "#[실행] 버튼을 누르면 출력 값을 볼 수 있습니다.\n",
        "print(\"solution 함수의 반환 값은\", ret, \"입니다.\")"
      ],
      "execution_count": null,
      "outputs": []
    },
    {
      "cell_type": "markdown",
      "metadata": {
        "id": "ZErpWbiQcm4O"
      },
      "source": [
        "### 문제 9. 차량 2부제\n",
        "관공서 주차장에서는 차량 2부제를 실시합니다. 차량 2부제는 차량 번호 끝자리가 홀수인 차량은 홀수 일에만, 짝수인 차량은 짝수 일에만 주차장에 들어올 수 있도록 하는 제도입니다.\n",
        "\n",
        "며칠인지를 나타내는 day와 그날 주차장에 들어오려고 하는 차들의 번호를 담고 있는 배열 numbers가 매개변수로 주어질 때, 주차장에 들어올 수 있는 차량의 수를 return 하도록 solution 함수를 작성했습니다. 그러나, 코드 일부분이 잘못되어있기 때문에, 코드가 올바르게 동작하지 않습니다. 주어진 코드에서 _**한 줄**_만 변경해서 모든 입력에 대해 올바르게 동작하도록 수정해주세요.\n",
        "\n",
        "단, 중복되는 번호판 번호는 주어지지 않습니다.\n",
        "\n",
        "\n",
        "▣ 매개변수 설명\n",
        "\n",
        "며칠인지를 나타내는 day와 그날 주차장에 들어오려고 하는 차들의 번호를 담고 있는 배열 numbers가 solution 함수의 매개변수로 주어집니다.\n",
        "* day는 1 이상 31이하의 자연수입니다.\n",
        "* numbers의 길이는 1 이상 9,000 이하입니다.\n",
        "* numbers의 원소는 1,000 이상 9,999 이하의 자연수입니다.\n",
        "* numbers에는 차량 번호가 중복되어 들어있지 않습니다.\n",
        "\n",
        "▣ return값 설명\n",
        "\n",
        "주차장에 들어올 수 있는 차량의 수를 return 해주세요.\n",
        "\n",
        "▣ 예시\n",
        "\n",
        "    | day| numbers                              | return |\n",
        "    |----|--------------------------------------|--------|\n",
        "    | 17 | [3285, 1724, 4438, 2988, 3131, 2998] | 2      |\n",
        "\n",
        "▣ 예시 설명\n",
        "\n",
        "17일은 홀수 일이므로 홀수 번호 차량인 1724, 3131 총 2대의 차량만 주차장에 들어올 수 있습니다.\n"
      ]
    },
    {
      "cell_type": "code",
      "metadata": {
        "id": "I1OCqT9Rcuum"
      },
      "source": [
        "def solution(day, numbers):\n",
        "    count = 0\n",
        "    for number in numbers:\n",
        "        if number%2 != day%2:\n",
        "            count += 1\n",
        "    return count\n",
        "\n",
        "#아래는 테스트케이스 출력을 해보기 위한 코드입니다. 아래 코드는 잘못된 부분이 없으니, solution함수만 수정하세요.\n",
        "day = 17\n",
        "numbers = [3285, 1724, 4438, 2988, 3131, 2998]\n",
        "ret = solution(day, numbers)\n",
        "\n",
        "#[실행] 버튼을 누르면 출력 값을 볼 수 있습니다.\n",
        "print(\"solution 함수의 반환 값은\", ret, \"입니다.\")"
      ],
      "execution_count": null,
      "outputs": []
    },
    {
      "cell_type": "markdown",
      "metadata": {
        "id": "fKhw6tG_cvH6"
      },
      "source": [
        "### 문제 10. 2로 나누기\n",
        "\n",
        "배열 원소인 자신을 2로 나눈 값이 배열에 있는 수의 개수를 구하려고 합니다. 예를 들어, 배열이 [4, 8, 3, 6, 7]인 경우, 6/2 = 3, 8/2 =4이므로 자신을 2로 나눈 값이 배열에 들어있는 수의 개수는 총 2개입니다.\n",
        "숫자가 담긴 배열 arr가 주어졌을 때, 자신을 2로 나눈 값이 배열에 들어있는 수가 몇 개인지 return 하는 solution 함수를 작성했습니다. 그러나, 코드 일부분이 잘못되어있기 때문에, 코드가 올바르게 동작하지 않습니다. 주어진 코드에서 _**한 줄**_만 변경해서 모든 입력에 대해 올바르게 동작하도록 수정해주세요.\n",
        "\n",
        "\n",
        "▣ 매개변수 설명\n",
        "\n",
        "숫자가 담긴 배열 arr가 solution 함수의 매개변수로 주어집니다.\n",
        "* arr의 크기는 1 이상 1,000 이하입니다.\n",
        "* arr의 원소는 1,000 이하의 자연수입니다.\n",
        "\n",
        "▣ return 값 설명\n",
        "\n",
        "자신을 2로 나눈 값이 배열에 들어있는 수가 몇 개인지 return 해주세요.\n",
        "\n",
        "▣ 예시\n",
        "\n",
        "    | arr             |return |\n",
        "    |-----------------|-------|\n",
        "    | [4, 8, 3, 6, 7] |  2    |\n",
        "\n",
        "▣ 예시 설명\n",
        "\n",
        "- 4/2=2이고, 2는 배열에 없습니다.\n",
        "- 8/2=4이고 4는 4 이고 4는 배열에 존재합니다.\n",
        "- 3/2=1.5이고 1.5는 배열에 없습니다.\n",
        "- 6/2=3이고 3은 배열에 존재합니다.\n",
        "- 7/2=3.5이고 3.5는 배열에 없습니다.\n",
        "- 따라서 자신을 2로 나눈 값이 배열에 들어있는 수가 총 2개이므로 2를 return 합니다.\n"
      ]
    },
    {
      "cell_type": "code",
      "metadata": {
        "id": "XZ8hwtJTc8Pd"
      },
      "source": [
        "def solution(arr):\n",
        "    answer = 0\n",
        "    for i in arr:\n",
        "        for i/2 in arr:\n",
        "            answer += 1\n",
        "    return answer\n",
        "\n",
        "# 아래는 테스트케이스 출력을 해보기 위한 코드입니다. 아래 코드는 잘못된 부분이 없으니, solution함수만 수정하세요.\n",
        "arr = [4, 8, 3, 6, 7]\n",
        "ret = solution(arr)\n",
        "\n",
        "#[실행] 버튼을 누르면 출력 값을 볼 수 있습니다.\n",
        "print(\"solution 함수의 반환 값은\", ret, \"입니다.\")"
      ],
      "execution_count": null,
      "outputs": []
    },
    {
      "cell_type": "code",
      "source": [],
      "metadata": {
        "id": "atGnNtWbaSDB"
      },
      "execution_count": null,
      "outputs": []
    },
    {
      "cell_type": "markdown",
      "source": [
        "## Cospro 2급 4회"
      ],
      "metadata": {
        "id": "WrU1FgAyaBnm"
      }
    },
    {
      "cell_type": "markdown",
      "metadata": {
        "id": "hPv4RBYOe3C3"
      },
      "source": [
        "### 문제 5. 식단 총열량\n",
        "열량이 적힌 식단표가 있습니다.\n",
        "다이어트를 하는 A 씨는 오늘 먹는 열량이 그동안 먹은 식단의 열량 중 최솟값보다 큰 경우 운동을 하여 그 차이만큼을 소모합니다.\n",
        "\n",
        "예를 들어, 식단의 열량이 [713, 665, 873, 500, 751]이라면 둘째 날까지는 운동을 하지 않습니다. 셋째 날 식단의 열량이 873이고 그 전의 먹은 열량의 최솟값이 665이므로 208 열량을 소모하기 위한 운동을 합니다. 넷째 날은 운동을 하지 않고 다섯째 날 식단의 열량이 751이고 그 전의 먹은 열량의 최솟값이 500이므로 251 열량을 소모하기 위한 운동을 합니다. 따라서 운동으로 소모하는 총열량은 459입니다.\n",
        "\n",
        "식단의 열량을 담고 있는 배열 calorie가 매개변수로 주어질 때, 운동으로 소모하는 총열량을 return 하도록 solution 함수를 작성했습니다. 그러나, 코드 일부분이 잘못되어있기 때문에, 몇몇 입력에 대해서는 올바르게 동작하지 않습니다. 주어진 코드에서 <U>**한 줄**</U>만 변경해서 모든 입력에 대해 올바르게 동작하도록 수정하세요.\n",
        "\n",
        "\n",
        "▣ 매개변수 설명\n",
        "\n",
        "식단의 열량을 담고 있는 배열 calorie가 solution 함수의 매개변수로 주어집니다.\n",
        "* calorie의 각 원소는 0보다 크고 1,000보다 작거나 같은 자연수입니다.\n",
        "* calorie의 길이는 0보다 크고 100보다 작거나 같은 자연수입니다.\n",
        "\n",
        "▣ return 값 설명\n",
        "\n",
        "운동으로 소모하는 총열량을 return 해주세요.\n",
        "\n",
        "▣ 예시\n",
        "\n",
        "    | calorie                   | return |\n",
        "    |---------------------------|--------|\n",
        "    | [713, 665, 873, 500, 751] | 459     |\n",
        "\n",
        "▣ 예시 설명\n",
        "\n",
        "문제의 예와 같습니다.\n"
      ]
    },
    {
      "cell_type": "code",
      "metadata": {
        "id": "tb91gibgfC3A"
      },
      "source": [
        "def solution(calorie):\n",
        "    min_cal = 0\n",
        "    answer = 0\n",
        "    for cal in calorie:\n",
        "        if cal > min_cal:\n",
        "            answer += cal - min_cal\n",
        "        min_cal = min(min_cal, cal)\n",
        "    return answer\n",
        "\n",
        "# 아래는 테스트케이스 출력을 해보기 위한 코드입니다. 아래에는 잘못된 부분이 없으니, 위의 코드만 수정하세요.\n",
        "calorie = [713, 665, 873, 500, 751]\n",
        "ret = solution(calorie)\n",
        "\n",
        "# [실행] 버튼을 누르면 출력 값을 볼 수 있습니다.\n",
        "print(\"solution 함수의 반환 값은\", ret, \"입니다.\")"
      ],
      "execution_count": null,
      "outputs": []
    },
    {
      "cell_type": "markdown",
      "metadata": {
        "id": "MtpZIxtyfDQS"
      },
      "source": [
        "### 문제 6.포인트 사용\n",
        "적립된 포인트를 최대한으로 사용하려고 합니다. 포인트를 사용하는 규칙은 다음과 같습니다.\n",
        "\n",
        "* 포인트는 100포인트 단위로 사용합니다.\n",
        "* 1000포인트 이상 있을 때만 포인트를 사용할 수 있습니다.\n",
        "\n",
        "적립된 포인트 point가 매개변수로 주어질 때, 최대 몇 포인트를 쓸 수 있는지 return 하도록 solution 함수를 작성했습니다. 그러나, 코드 일부분이 잘못되어있기 때문에, 몇몇 입력에 대해서는 올바르게 동작하지 않습니다. 주어진 코드에서 <U>**한 줄**</U>만 변경해서 모든 입력에 대해 올바르게 동작하도록 수정하세요.\n",
        "\n",
        "\n",
        "▣ 매개변수 설명\n",
        "\n",
        "적립된 포인트 point가 solution함수의 매개변수로 주어집니다.\n",
        "* point는 0 이상 1,000,000 이하인 정수입니다.\n",
        "\n",
        "▣ return 값 설명\n",
        "\n",
        "최대 몇 포인트를 쓸 수 있는지 return합니다\n",
        "\n",
        "▣ 예시\n",
        "\n",
        "    | point | return |\n",
        "    |-------|--------|\n",
        "    | 2323  | 2300   |\n",
        "\n",
        "▣ 예시 설명\n",
        "\n",
        "적립된 포인트가 2323포인트라면 최대로 사용 가능한 포인트는 2300포인트입니다.\n",
        "\n"
      ]
    },
    {
      "cell_type": "code",
      "metadata": {
        "id": "7dnTNPvHfJwy"
      },
      "source": [
        "def solution(point):\n",
        "    if point < 1000:\n",
        "        return 0\n",
        "    return point * 100 // 100\n",
        "\n",
        "# 아래는 테스트케이스 출력을 해보기 위한 코드입니다. 아래에는 잘못된 부분이 없으니, 위의 코드만 수정하세요.\n",
        "point = 2323\n",
        "ret = solution(point)\n",
        "\n",
        "# [실행] 버튼을 누르면 출력 값을 볼 수 있습니다.\n",
        "print(\"solution 함수의 반환 값은\", ret, \"입니다.\")"
      ],
      "execution_count": null,
      "outputs": []
    },
    {
      "cell_type": "markdown",
      "metadata": {
        "id": "jUNGj-csfKGN"
      },
      "source": [
        "### 문제 7. 시험 점수\n",
        "중간시험 점수와 기말시험 점수가 있습니다. 이를 바탕으로 점수가 가장 많이 오른 학생의 점수 차이와 가장 많이 떨어진 학생의 점수 차이를 구하려 합니다. 이를 위해 다음과 같이 프로그램 구조를 작성했습니다.\n",
        "\n",
        "1. 각 학생에 대하여 기말고사 점수에서 중간고사 점수를 뺀 값의 최댓값을 구합니다.\n",
        "2. 각 학생에 대하여 기말고사 점수에서 중간고사 점수를 뺀 값의 최솟값을 구합니다.\n",
        "3. 1번과 2번 과정에서 구한 점수를 배열에 담아 return 합니다.\n",
        "\n",
        "예를 들어 중간시험 점수가 [20, 50, 40]이고, 기말시험 점수가 [10, 50, 70]이면, 학생의 시험 점수 차이는 [-10, 0, 30]입니다. 따라서 성적이 가장 많이 오른 학생은 30점이 올랐습니다. 그리고 성적이 가장 많이 떨어진 학생은 10점이 떨어졌습니다.\n",
        "\n",
        "학번순으로 중간시험 점수를 담은 배열 mid_scores와 학번순으로 기말시험 점수를 담은 배열 final_scores가 solution 함수의 매개변수로 주어집니다. 이 때 성적이 가장 많이 오른 학생의 점수 차이를 **배열 첫 번째 원소** 로, 성적이 가장 많이 떨어진 학생의 점수 차이를 **두 번째 원소** 로 담은 배열을 return 하도록 solution 함수를 작성했습니다. 그러나, 코드 일부분이 잘못되어있기 때문에, 몇몇 입력에 대해서는 올바르게 동작하지 않습니다. 주어진 코드에서 <U>**한 줄**</U>만 변경해서 모든 입력에 대해 올바르게 동작하도록 수정하세요.\n",
        "\n",
        "\n",
        "▣ 매개변수 설명\n",
        "\n",
        "학번순으로 중간시험 점수를 담은 배열 mid_scores와 학번순으로 기말시험 점수를 담은 배열 final_scores가 solution 함수의 매개변수로 주어집니다.\n",
        "* 시험 점수는 100 이하인 자연수입니다.\n",
        "* mid_scores의 길이는 5 이상 50 이하입니다.\n",
        "* 배열 mid_scores의 길이와 배열 final_scores의 길이는 같습니다.\n",
        "\n",
        "▣ return 값 설명\n",
        "\n",
        "성적이 가장 많이 오른 학생의 점수 차이를 **배열 첫 번째 원소** 로 하고,  성적이 가장 많이 떨어진 학생의 점수 차이를 **두 번째 원소** 로 담은 배열을 return 해주세요.\n",
        "* 점수가 오른 학생이 없으면 첫 번째 원소에 0을 넣고, 점수가 떨어진 학생이 없으면 두 번째 원소에 0을 넣도록 합니다.\n",
        "\n",
        "▣ 예시\n",
        "\n",
        "    | mid_scores   |final_scores |return   |\n",
        "    |--------------|-------------|---------|\n",
        "    | [20, 50, 40] | [10, 50, 70]|[30, -10]|\n"
      ]
    },
    {
      "cell_type": "code",
      "metadata": {
        "id": "2VvmsjDkh0Xk"
      },
      "source": [
        "def func_a(scores1, scores2):\n",
        "    answer = 0\n",
        "    for score1, score2 in zip(scores1, scores2):\n",
        "        answer = max(answer, score2 - score1)\n",
        "    return answer\n",
        "\n",
        "def func_b(scores1, scores2):\n",
        "    answer = 0\n",
        "    for score1, score2 in zip(scores1, scores2):\n",
        "        answer = min(answer, score1 - score2)\n",
        "    return answer\n",
        "\n",
        "def solution(mid_scores, final_scores):\n",
        "    up = func_a(mid_scores, final_scores)\n",
        "    down = func_b(mid_scores, final_scores)\n",
        "    answer = [up, down]\n",
        "    return answer\n",
        "\n",
        "# 아래는 테스트케이스 출력을 해보기 위한 코드입니다. 아래에는 잘못된 부분이 없으니, 위의 코드만 수정하세요.\n",
        "mid_scores = [20, 50, 40]\n",
        "final_scores = [10, 50, 70]\n",
        "ret = solution(mid_scores, final_scores)\n",
        "\n",
        "# [실행] 버튼을 누르면 출력 값을 볼 수 있습니다.\n",
        "print(\"solution 함수의 반환 값은\", ret, \"입니다.\")"
      ],
      "execution_count": null,
      "outputs": []
    },
    {
      "cell_type": "markdown",
      "metadata": {
        "id": "_WG4TPuJh0vd"
      },
      "source": [
        "### 문제 8. 투표 결과\n",
        "1번부터 n번까지의 후보에 대한 투표 결과가 주어질 때, 과반수를 득표한 후보자의 번호를 구하려고 합니다. 여기서 과반수란 절반이 넘는 수를 의미합니다.\n",
        "\n",
        "예를 들어, 1번부터 3번까지의 후보에 대한 투표 결과가 [1, 2, 1, 3, 1, 2, 1]이라면 순서대로 [1번, 2번, 1번, 3번, 1번, 2번, 1번] 후보에 투표했음을 나타내고, 이 경우 당선된 후보자의 번호는 1번입니다.\n",
        "\n",
        "후보의 수 n, 투표 결과가 담긴 배열 votes가 매개변수로 주어질 때, 과반수를 득표한 후보자의 번호를 return 하도록 solution 함수를 작성했습니다. 그러나, 코드 일부분이 잘못되어있기 때문에, 몇몇 입력에 대해서는 올바르게 작동하지 않습니다. 주어진 코드에서 <U>**한 줄**</U>만 변경해서 모든 입력에 대해 올바르게 동작하도록 수정하세요.\n",
        "\n",
        "\n",
        "▣ 매개변수 설명\n",
        "\n",
        "후보의 수 n, 투표 결과가 담긴 배열 votes가 solution 함수의 매개변수로 주어집니다.\n",
        "* n은 1 이상 100 이하의 자연수입니다.\n",
        "* votes의 길이는 1 이상 1,000 이하의 자연수입니다.\n",
        "* votes의 각 원소는 1 이상 n 이하의 자연수입니다.\n",
        "\n",
        "▣ return 값 설명\n",
        "\n",
        "과반수를 득표한 후보자의 번호를 return 해주세요.\n",
        "* 만약, 과반수를 득표한 후보자가 없다면 -1을 return 해주세요.\n",
        "\n",
        "▣ 예시\n",
        "\n",
        "    | n | votes           | return |\n",
        "    |---|-----------------|--------|\n",
        "    | 3 | [1,2,1,3,1,2,1] | 1      |\n",
        "    | 2 | [2,1,2,1,2,2,1] | 2      |\n",
        "\n",
        "▣ 예시 설명\n",
        "\n",
        "예시 #1\n",
        "\n",
        "1번부터 3번까지의 후보 3명이 있으며, 투표 결과는 [1, 2, 1, 3, 1, 2, 1]입니다.\n",
        "총 투표 수는 7표이며, 1번 후보가 4표, 2번 후보가 2표, 3번 후보가 1표씩 받았습니다.\n",
        "이 경우, 1번 후보가 과반수를 득표하였으므로 1을 return 합니다.\n",
        "\n",
        "예시 #2\n",
        "\n",
        "1번부터 2번까지의 후보 2명이 있으며, 투표 결과는 [2, 1, 2, 1, 2, 2, 1]입니다.\n",
        "총 투표 수는 7표이며, 1번 후보는 3표, 2번 후보는 4표를 받았습니다.\n",
        "이 경우, 2번 후보가 과반수를 득표하였으므로 2를 return 합니다.\n"
      ]
    },
    {
      "cell_type": "code",
      "metadata": {
        "id": "B9lsgAS5h64Z"
      },
      "source": [
        "def solution(n, votes):\n",
        "    arr = [0] * (n + 1)\n",
        "    for vote in votes:\n",
        "        arr[vote] += 1\n",
        "\n",
        "    for i in range(1, n+1):\n",
        "        if arr[i] > n/2:\n",
        "            return i\n",
        "    return -1\n",
        "\n",
        "# 아래는 테스트케이스 출력을 해보기 위한 코드입니다. 아래에는 잘못된 부분이 없으니, 위의 코드만 수정하세요.\n",
        "n1 = 3\n",
        "votes1 = [1, 2, 1, 3, 1, 2, 1]\n",
        "ret1 = solution(n1, votes1)\n",
        "\n",
        "# [실행] 버튼을 누르면 출력 값을 볼 수 있습니다.\n",
        "print(\"solution 함수의 반환 값은 \", ret1, \" 입니다.\")\n",
        "\n",
        "n2 = 2\n",
        "votes2 = [2, 1, 2, 1, 2, 2, 1]\n",
        "ret2 = solution(n2, votes2)\n",
        "\n",
        "# [실행] 버튼을 누르면 출력 값을 볼 수 있습니다.\n",
        "print(\"solution 함수의 반환 값은 \", ret2, \" 입니다.\")"
      ],
      "execution_count": null,
      "outputs": []
    },
    {
      "cell_type": "code",
      "source": [],
      "metadata": {
        "id": "y_KhQ5l6jgXf"
      },
      "execution_count": null,
      "outputs": []
    },
    {
      "cell_type": "markdown",
      "source": [
        "## Cospro 2급 5회"
      ],
      "metadata": {
        "id": "jlxLGg9tjAYb"
      }
    },
    {
      "cell_type": "markdown",
      "source": [
        "### 문제 5.장날\n",
        "\n",
        "O일장은 O일마다 열리는 시장을 뜻합니다. 예를 들어 오늘 4일장이 열렸다면, 다음 4일장은 4일 뒤에 열립니다. 오늘부터 a일장과 b일장 제도를 시행하려 합니다. 정수 a, b가 주어졌을 때, a일장과 b일장이 같이 열리는 날은 며칠에 한 번씩 있는지 구하려 합니다.\n",
        "\n",
        "예를 들어, a가 4이고 b가 6이라면 시장은 다음과 같이 열립니다.\n",
        "\n",
        "![image.png](data:image/png;base64,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)\n",
        "\n",
        "a와 b가 매개변수로 주어질 때, a일장과 b일장이 같이 열리는 날은 며칠에 한 번씩 있는지 return 하도록 solution 함수를 작성했습니다. 그러나, 그러나, 코드 일부분이 잘못되어있기 때문에, 몇몇 입력에 대해서는 올바르게 동작하지 않습니다. 주어진 코드에서 **한 줄**만 변경해서 모든 입력에 대해 올바르게 동작하도록 수정하세요.\n",
        "\n",
        "\n",
        "▣ 매개변수 설명\n",
        "\n",
        "a일장이 열리는 주기인 a와 b일장이 열리는 주기인 b가 solution 함수의 매개변수로 주어집니다.\n",
        "\n",
        "* a와 b는 1 이상 30 이하인 자연수입니다.\n",
        "\n",
        "▣ return 값 설명\n",
        "\n",
        "a일장과 b일장이 같이 열리는 날은 며칠에 한 번씩 있는지 return 해주세요.\n",
        "\n",
        "▣ 예시\n",
        "\n",
        "    | a   | b    | return |\n",
        "    |-----|------|--------|\n",
        "    | 4   | 6    | 12     |\n",
        "\n",
        "▣ 예시 설명\n",
        "\n",
        "문제의 예와 같습니다.\n"
      ],
      "metadata": {
        "id": "yOZLryyhRumP"
      }
    },
    {
      "cell_type": "code",
      "source": [
        "def solution(a, b):\n",
        "    answer = 0\n",
        "    for i in range(1, b + 1):\n",
        "        if (a * i) % b == 0:\n",
        "            answer = b * i\n",
        "            break\n",
        "    return answer\n",
        "\n",
        "#아래는 테스트케이스 출력을 해보기 위한 코드입니다. 아래에는 잘못된 부분이 없으니, 위의 코드만 수정하세요.\n",
        "a = 4\n",
        "b = 6\n",
        "ret = solution(a, b)\n",
        "\n",
        "#[실행] 버튼을 누르면 출력 값을 볼 수 있습니다.\n",
        "print(\"solution 함수의 반환 값은\", ret, \"입니다.\")"
      ],
      "metadata": {
        "id": "e26GNUPvSA3q"
      },
      "execution_count": null,
      "outputs": []
    },
    {
      "cell_type": "markdown",
      "source": [
        "### 문제 6.점수 구하기\n",
        "\n",
        "국어 시험 점수와 영어 시험 점수가 나왔습니다. 이때 국어, 영어, 수학 시험의 평균이 70점 이상이려면 수학 시험 점수가 최소 몇 점이어야 하는지 알고 싶습니다.\n",
        "\n",
        "국어 점수 korean과 영어 점수 english가 매개변수로 주어질 때, 평균 점수를 70점 이상 받기 위해 받아야 하는 수학 점수의 최솟값을 return 하도록 solution 함수를 작성했습니다. 그러나, 코드 일부분이 잘못되어있기 때문에, 몇몇 입력에 대해서는 올바르게 동작하지 않습니다. 주어진 코드에서 _**한 줄**_만 변경해서 모든 입력에 대해 올바르게 동작하도록 수정하세요.\n",
        "\n",
        "\n",
        "▣ 매개변수 설명\n",
        "\n",
        "국어 점수 korean과 영어 점수 english가 solution 함수의 매개변수로 주어집니다.\n",
        "* korean과 english는 0 이상 100 이하인 정수입니다.\n",
        "\n",
        "▣ return 값 설명\n",
        "\n",
        "평균 70점을 넘기기 위해 받아야 하는 수학 점수의 최솟값을 return 합니다.\n",
        "* 수학 점수를 100점을 받아도 평균 70점이 되지 않는 경우에는 -1을 return 합니다.\n",
        "\n",
        "▣ 예시\n",
        "\n",
        "    | korean | english | return |\n",
        "    |--------|---------|--------|\n",
        "    | 70 \t | 60  \t   | 80     |\n",
        "\n",
        "▣ 예시 설명\n",
        "\n",
        "국어 점수가 70점, 영어 점수가 60점입니다. 따라서 평균이 70점 이상을 받으려면 수학 시험에서 최소 80점을 받아야 합니다.\n",
        "\n"
      ],
      "metadata": {
        "id": "Qn3hAVzbSBLW"
      }
    },
    {
      "cell_type": "code",
      "source": [
        "def solution(korean, english):\n",
        "    answer = 0\n",
        "    math = 210 - korean + english\n",
        "    if math > 100:\n",
        "        answer = -1\n",
        "    else:\n",
        "        answer = math\n",
        "    return answer\n",
        "\n",
        "#아래는 테스트케이스 출력을 해보기 위한 코드입니다. 아래에는 잘못된 부분이 없으니 위의 코드만 수정하세요.\n",
        "korean = 70\n",
        "english = 60\n",
        "ret = solution(korean, english)\n",
        "\n",
        "#[실행] 버튼을 누르면 출력 값을 볼 수 있습니다.\n",
        "print(\"solution 함수의 반환 값은\", ret, \"입니다.\")"
      ],
      "metadata": {
        "id": "Xn5oGitQSJ6O"
      },
      "execution_count": null,
      "outputs": []
    },
    {
      "cell_type": "markdown",
      "source": [
        "### 문제 7. 계산시간\n",
        "XX 마트에선 구매할 물건이 3개 이하이면 소량 계산대에서, 그렇지 않으면 일반 계산대에서 계산해야 합니다. 두 계산대 모두 물건 한 개를 계산하는 데 1분이 걸립니다.\n",
        "\n",
        "손님들이 구매할 물건 수가 담긴 배열 stuffs가 매개변수로 주어질 때, 모든 물건을 계산하는 데 필요한 시간을 return 하도록 solution 함수를 작성했습니다. 그러나, 코드 일부분이 잘못되어있기 때문에, 몇몇 입력에 대해서는 올바르게 동작하지 않습니다. 주어진 코드에서 _**한 줄**_만 변경해서 모든 입력에 대해 올바르게 동작하도록 수정하세요.\n",
        "\n",
        "\n",
        "▣ 매개변수 설명\n",
        "\n",
        "손님들이 구매할 물건 수가 담긴 배열 stuffs가 solution 함수의 매개변수로 주어집니다.\n",
        "* 계산을 할 손님은 1명 이상 100명 이하입니다.\n",
        "* 손님이 구입할 물건은 1개 이상 20개 이하입니다.\n",
        "\n",
        "▣ return 값 설명\n",
        "\n",
        "모든 물건을 계산하는데 걸리는 시간을 return 해주세요.\n",
        "\n",
        "▣ 예시\n",
        "\n",
        "    | stuffs             | return |\n",
        "    |--------------------|--------|\n",
        "    | [5, 3, 4, 2, 3, 2] | 10     |\n",
        "\n",
        "▣ 예시 설명\n",
        "\n",
        "첫 번째 손님, 세 번째 손님은 일반 계산대에서 계산합니다. 이때 9분이 걸립니다.\n",
        "두 번째, 네 번째, 다섯 번째, 여섯 번째 손님은 소량 계산대에서 계산합니다. 이때 10분이 걸립니다.\n",
        "따라서 모든 물건을 계산하는데 걸리는 시간은 10분입니다.\n"
      ],
      "metadata": {
        "id": "vHAc3h1YSKU7"
      }
    },
    {
      "cell_type": "code",
      "source": [
        "def solution(stuffs):\n",
        "    answer = 0\n",
        "    small_counter, general_counter = 0, 0\n",
        "    for s in stuffs:\n",
        "        if s > 3:\n",
        "            general_counter += s\n",
        "        else:\n",
        "            small_counter += s\n",
        "    if small_counter < general_counter:\n",
        "        answer = small_counter\n",
        "    else:\n",
        "        answer = general_counter\n",
        "    return answer\n",
        "\n",
        "#아래는 테스트케이스 출력을 해보기 위한 코드입니다. 아래에는 잘못된 부분이 없으니 위의 코드만 수정하세요.\n",
        "stuffs = [5, 3, 4, 2, 3, 2]\n",
        "ret = solution(stuffs)\n",
        "\n",
        "#[실행] 버튼을 누르면 출력 값을 볼 수 있습니다.\n",
        "print(\"solution 함수의 반환 값은 \", ret, \" 입니다.\")"
      ],
      "metadata": {
        "id": "Dx4nbtmTSg5z"
      },
      "execution_count": null,
      "outputs": []
    },
    {
      "cell_type": "markdown",
      "source": [
        "### 문제 8. 상수도 요금\n",
        "\n",
        "상수도 요금을 계산하려 합니다. 가정용 상수도 사용요금 계산방법은 아래와 같습니다.\n",
        "\n",
        "    | 단계  | 사용량    | 요금  |\n",
        "    |-------|-----------|-------|\n",
        "    | 1단계 | 0~20톤    | 430원 |\n",
        "    | 2단계 | 21~30톤   | 570원 |\n",
        "    | 3단계 | 31톤 이상 | 840원 |\n",
        "\n",
        "사용료는 사용량에 따라 단계별로 적용됩니다. 예를 들어, 물을 35톤 사용했다면 다음과 같은 방식으로 계산합니다.\n",
        "\n",
        "* 1단계 적용 : 20톤 x 430원 = 8,600원\n",
        "* 2단계 적용 : 10톤 x 570원 = 5,700원\n",
        "* 3단계 적용 : 5톤 x 840원 = 4,200원\n",
        "\n",
        "총 사용요금 : 18,500원\n",
        "\n",
        "상수도 사용량 usage가 매개변수로 주어질 때, 사용요금을 return 하도록 solution 함수를 작성했습니다. 그러나, 코드 일부분이 잘못되어있기 때문에, 몇몇 입력에 대해서는 올바르게 동작하지 않습니다. 주어진 코드에서 **한 줄**만 변경해서 모든 입력에 대해 올바르게 동작하도록 수정하세요.\n",
        "\n",
        "\n",
        "▣ 매개변수 설명\n",
        "\n",
        "상수도 사용량 usage가 solution 함수의 매개변수로 주어집니다.\n",
        "* 상수도 사용량은 0톤 이상 100톤 이하인 정수입니다.\n",
        "\n",
        "▣ return 값 설명\n",
        "\n",
        "사용요금을 return 해주세요.\n",
        "\n",
        "▣ 예시\n",
        "\n",
        "    | usage | return |\n",
        "    |-------|--------|\n",
        "    | 35\t| 18500  |\n",
        "\n",
        "▣ 예시 설명\n",
        "\n",
        "문제에 나온 예와 같습니다.\n",
        "\n"
      ],
      "metadata": {
        "id": "jSoS3dszShLW"
      }
    },
    {
      "cell_type": "code",
      "source": [
        "def solution(usage):\n",
        "    answer = 0\n",
        "    if usage > 30:\n",
        "        answer = 20 * 430 + 10 * 570 + (usage - 20) * 840\n",
        "    elif usage > 20:\n",
        "        answer = 20 * 430 + (usage - 20) * 570\n",
        "    else:\n",
        "        answer = usage * 430\n",
        "    return answer\n",
        "\n",
        "#아래는 테스트케이스 출력을 해보기 위한 코드입니다. 아래에는 잘못된 부분이 없으니 위의 코드만 수정하세요.\n",
        "usage = 35\n",
        "ret = solution(usage)\n",
        "\n",
        "#[실행] 버튼을 누르면 출력 값을 볼 수 있습니다.\n",
        "print(\"solution 함수의 반환 값은\", ret, \"입니다.\")"
      ],
      "metadata": {
        "id": "trFL2QqWSuQG"
      },
      "execution_count": null,
      "outputs": []
    },
    {
      "cell_type": "code",
      "source": [],
      "metadata": {
        "id": "YsOcb4qBwQ6w"
      },
      "execution_count": null,
      "outputs": []
    },
    {
      "cell_type": "markdown",
      "source": [
        "## Cospro 2급 6회"
      ],
      "metadata": {
        "id": "ru7_8WhsvTnk"
      }
    },
    {
      "cell_type": "markdown",
      "source": [
        "### 문제 1. 기온 높았던 날\n",
        "\n",
        "n일 동안 매일매일의 평균 기온이 순서대로 들어있는 배열이 있습니다. 이때, A 번째 일과 B 번째 일 사이에서 A, B 번째 일보다 기온이 높았던 날은 총 며칠이었는지 구하려 합니다.\n",
        "\n",
        "n일 동안 매일매일의 평균 기온이 순서대로 들은 배열 temperature, 두 날짜를 나타내는 자연수 A, B가 매개변수로 주어질 때, A 번째 일과 B 번째 일 사이에서 두 날짜보다 기온이 높았던 날은 총 며칠인지 return 하도록 solution 함수를 작성했습니다. 그러나, 코드 일부분이 잘못되어있기 때문에, 몇몇 입력에 대해서는 올바르게 동작하지 않습니다. 주어진 코드에서 _**한 줄**_만 변경해서 모든 입력에 대해 올바르게 동작하도록 수정하세요.\n",
        "\n",
        "\n",
        "▣ 매개변수 설명\n",
        "\n",
        "n일 동안 매일매일의 평균 기온이 순서대로 들은 배열 temperature, 두 날짜를 나타내는 자연수 A, B가 solution 함수의 매개변수로 주어집니다.\n",
        "* temperature의 길이는 3 이상 30 이하입니다.\n",
        "* temperature의 원소는 -30 이상 50 이하인 정수입니다.\n",
        "* 날짜는 0번째 일부터 시작합니다.\n",
        "* 즉, temperature의 첫 번째 원소는 0번째 날, 두 번째 원소는 1번째 날 ... 을 의미합니다.\n",
        "* A, B는 날짜를 나타내는 정수이며, 0 이상 (temperature의 길이 - 1) 이하입니다.\n",
        "* A는 B보다 항상 작습니다.\n",
        "\n",
        "▣ return 값 설명\n",
        "\n",
        " A 번째 일과 B 번째 일 사이에서 두 날짜보다 기온이 높았던 날은 총 며칠인지 return 해주세요.\n",
        "\n",
        "▣ 예제\n",
        "\n",
        "    | temperature              | A | B | return |\n",
        "    |--------------------------|---|---|--------|\n",
        "    | [3, 2, 1, 5, 4, 3, 3, 2] | 1 | 6 | 2      |\n",
        "\n",
        "▣ 예제 설명\n",
        "\n",
        "예제 #1\n",
        "* 1번째 날 온도는 2입니다.\n",
        "* 6번째 날 온도는 3입니다.\n",
        "* 두 날짜 사이에서 두 날짜보다 기온이 높았던 날은 3번째, 4번째 날입니다.\n",
        "\n",
        "따라서 2를 return 하면 됩니다.\n"
      ],
      "metadata": {
        "id": "H3HNjQvwaoa0"
      }
    },
    {
      "cell_type": "code",
      "execution_count": null,
      "metadata": {
        "id": "Oua6YonvaA3g"
      },
      "outputs": [],
      "source": [
        "def solution(temperature, A, B):\n",
        "    answer = 0\n",
        "    for i in range(0, len(temperature)):\n",
        "        if temperature[i] > temperature[A] and temperature[i] > temperature[B]:\n",
        "            answer += 1\n",
        "    return answer\n",
        "\n",
        "#아래는 테스트케이스 출력을 해보기 위한 코드입니다. 아래에는 잘못된 부분이 없으니 위의 코드만 수정하세요.\n",
        "temperature = [3, 2, 1, 5, 4, 3, 3, 2]\n",
        "A = 1\n",
        "B = 6\n",
        "ret = solution(temperature, A, B)\n",
        "\n",
        "#[실행] 버튼을 누르면 출력 값을 볼 수 있습니다.\n",
        "print(\"solution 함수의 반환 값은\", ret, \"입니다.\")"
      ]
    },
    {
      "cell_type": "markdown",
      "source": [
        "### 문제 2. 종이나누기\n",
        "\n",
        "한 줄로 서 있는 사람들에게 종이를 다음과 같은 방법으로 나눠주려 합니다.\n",
        "\n",
        "* 종이 K 장을 맨 앞사람에게 줍니다.\n",
        "* 맨 앞사람은 자신이 필요한만큼 종이를 챙긴 후, 남은 종이를 뒷사람한테 전달합니다.\n",
        "* 뒷사람 또한 자신이 필요한만큼 종이를 챙긴 후, 남은 종이를 뒷사람에게 전달합니다.\n",
        "* 전달할 종이가 없거나, 모든 사람이 필요한 만큼 종이를 가질 때까지 계속해서 뒷사람에게 남은 종이를 전달합니다.\n",
        "\n",
        "한 줄로 서 있는 사람들이 각자 필요로 하는 종이 수가 순서대로 들어있는 배열 papers, 처음에 맨 앞사람에게 전달한 종이 수 K가 매개변수로 주어질 때, 필요한 만큼의 종이를 받은 사람은 모두 몇 명인지 return 하도록 solution 함수를 작성했습니다. 그러나, 코드 일부분이 잘못되어 있기 때문에 몇몇 입력에 대해서는 올바르게 동작하지 않습니다. 주어진 코드에서 _**한 줄**_만 변경해서 모든 입력에 대해 올바르게 동작하도록 수정하세요.\n",
        "\n",
        "\n",
        "▣ 매개변수 설명\n",
        "\n",
        "한 줄로 서 있는 사람들이 각자 필요로 하는 종이 수가 순서대로 들어있는 배열 papers, 처음에 맨 앞사람에게 전달한 종이 수 K가 solution 함수의 매개변수로 주어집니다\n",
        "* papers의 길이는 1 이상 20 이하입니다.\n",
        "* papers의 각 원소는 1 이상 20 이하인 자연수입니다.\n",
        "* K는 1 이상 400 이하인 자연수입니다.\n",
        "\n",
        "▣ return 값 설명\n",
        "\n",
        "필요한 만큼의 종이를 받은 사람은 모두 몇 명인지 return 해주세요.\n",
        "\n",
        "▣ 예시\n",
        "\n",
        "    | papers      \t  | K  | return |\n",
        "    |-----------------|----|--------|\n",
        "    | [2, 4, 3, 2, 1] | 10 | 3  \t|\n",
        "    | [2, 4, 3, 2, 1] | 14 | 5  \t|\n",
        "\n",
        "▣ 예시 설명\n",
        "\n",
        "예시 #1\n",
        "\n",
        "맨 앞 사람부터 순서대로 [2장, 4장, 3장, 2장, 1장]의 종이가 필요합니다.\n",
        "\n",
        "* 맨 앞사람이 종이 2장을 가지고 남은 8장을 뒷사람에게 넘깁니다.\n",
        "* 두 번째 사람이 종이 4장을 가지고 남은 4장을 뒷사람에게 넘깁니다.\n",
        "* 세 번째 사람이 종이 3장을 가지고 남은 1장을 뒷사람에게 넘깁니다.\n",
        "* 네 번째 사람은 종이 2장이 필요한데 넘어온 종이는 1장이므로 원하는 종이 개수만큼 가질 수 없습니다.\n",
        "* 나머지 사람들도 종이를 원하는 개수만큼 가질 수 없습니다.\n",
        "\n",
        "따라서 필요한 만큼의 종이를 받는 사람은 3명입니다.\n",
        "\n",
        "예시 #2\n",
        "\n",
        "모든 사람이 필요한 만큼의 종이를 받을 수 있습니다."
      ],
      "metadata": {
        "id": "1clnfooMax6r"
      }
    },
    {
      "cell_type": "code",
      "source": [
        "def solution(papers, K):\n",
        "    length = len(papers)\n",
        "    for i, paper in enumerate(papers):\n",
        "        K -= paper\n",
        "        if K < 0:\n",
        "            length = i\n",
        "    return length\n",
        "\n",
        "#아래는 테스트케이스 출력을 해보기 위한 코드입니다. 아래에는 잘못된 부분이 없으니 위의 코드만 수정하세요.\n",
        "papers1 = [2, 4, 2, 3, 1]\n",
        "K1 = 10\n",
        "ret1 = solution(papers1, K1)\n",
        "\n",
        "#[실행] 버튼을 누르면 출력 값을 볼 수 있습니다.\n",
        "print(\"solution 함수의 반환 값은\", ret1, \"입니다.\")\n",
        "\n",
        "papers2 = [2, 4, 2, 3, 1]\n",
        "K2 = 14\n",
        "ret2 = solution(papers2, K2)\n",
        "\n",
        "#[실행] 버튼을 누르면 출력 값을 볼 수 있습니다.\n",
        "print(\"solution 함수의 반환 값은\", ret2, \"입니다.\")"
      ],
      "metadata": {
        "id": "Kn3Q1DIxa8uO"
      },
      "execution_count": null,
      "outputs": []
    },
    {
      "cell_type": "markdown",
      "source": [
        "### 문제 5. 빈 병 교환\n",
        "\n",
        "X 마트에서는 빈 병 n개와 음료수 한 병을 교환해줍니다.\n",
        "\n",
        "예를 들어, 현재 가진 돈이 8원, 음료수 한 병은 2원이고 n이 4라면 음료수 4개를 살 수 있습니다. 음료수 네개를 다 마신 후, 남은 빈 병 4개를 가져가면 음료수를 한 병 더 받을 수 있습니다. 따라서 8원으로는 음료수를 총 5병 마실 수 있습니다.\n",
        "\n",
        "가진 돈 money, 음료수 한 병의 가격 price, 음료수 한 병과 교환하는데 필요한 빈 병의 수 n이 매개변수로 주어질 때, 마실 수 있는 총 음료수의 수를 return 하도록 solution 함수를 작성했습니다. 그러나, 코드 일부분이 잘못되어있기 때문에, 몇몇 입력에 대해서는 올바르게 동작하지 않습니다. 주어진 코드에서 _**한 줄**_만 변경해서 모든 입력에 대해 올바르게 동작하도록 수정하세요.\n",
        "\n",
        "\n",
        "▣ 매개변수 설명\n",
        "\n",
        "가진 돈 money, 음료수 한 병의 가격 price, 음료수 한 병과 교환하는데 필요한 빈 병의 수 n이 solution 함수의 매개변수로 주어집니다.\n",
        "* 가진 돈 money는 1 이상 1,000 이하인 자연수입니다.\n",
        "* 음료수 한 병의 가격 price는 1 이상 100 이하인 자연수입니다.\n",
        "* 음료수 한 병과 교환하는데 필요한 빈 병의  수 n은 3 이상 10 이하인 자연수입니다.\n",
        "\n",
        "▣ return 값 설명\n",
        "\n",
        "마실 수 있는 총 음료수의 수를 return 해주세요.\n",
        "\n",
        "▣ 예제\n",
        "\n",
        "    | money | price | n | return |\n",
        "    |-------|-------|---|--------|\n",
        "    | 8 \t| 2 \t| 4 | 5      |\n",
        "    | 6 \t| 2 \t| 2 | 5      |\n",
        "\n",
        "▣ 예제 설명\n",
        "\n",
        "예제 #1\n",
        "\n",
        "문제에 나온 예와 같습니다.\n",
        "\n",
        "예제 #2\n",
        "\n",
        "1. 6원으로 2원짜리 음료수 3개를 삽니다.\n",
        "2. 음료를 다 마시면 빈 병 3개가 남습니다. 이 중 빈 병 두개를 가져가 새 음료수 한 병과 교환합니다.\n",
        "3. 음료를 마시면 빈 병 2개가 남습니다. 이를 새 음료수 한 병으로 교환합니다.\n",
        "따라서 총 6원으로는 음료수 5병을 마실 수 있습니다.\n"
      ],
      "metadata": {
        "id": "kggwxDbzYlM5"
      }
    },
    {
      "cell_type": "code",
      "source": [
        "def solution(money, price, n):\n",
        "    answer = 0\n",
        "    empty_bottle = answer = money // price\n",
        "    while n <= empty_bottle:\n",
        "        empty_bottle = empty_bottle + n\n",
        "        answer += 1\n",
        "        empty_bottle += 1\n",
        "    return answer\n",
        "\n",
        "#아래는 테스트케이스 출력을 해보기 위한 코드입니다. 아래에는 잘못된 부분이 없으니 위의 코드만 수정하세요.\n",
        "money1 = 8\n",
        "price1 = 2\n",
        "n1 = 4\n",
        "ret1 = solution(money1, price1, n1)\n",
        "\n",
        "#[실행] 버튼을 누르면 출력 값을 볼 수 있습니다.\n",
        "print(\"solution 함수의 반환 값은\", ret1, \"입니다.\")\n",
        "\n",
        "money2 = 6\n",
        "price2 = 2\n",
        "n2 = 2\n",
        "ret2 = solution(money2, price2, n2)\n",
        "\n",
        "#[실행] 버튼을 누르면 출력 값을 볼 수 있습니다.\n",
        "print(\"solution 함수의 반환 값은\", ret2, \"입니다.\")"
      ],
      "metadata": {
        "id": "2lao4fG-ZZCG"
      },
      "execution_count": null,
      "outputs": []
    },
    {
      "cell_type": "markdown",
      "source": [
        "### 문제 9. 양말 만들기\n",
        "\n",
        "다양한 색을 가진 양말 중 같은 색을 가진 양말을 2개씩 묶어 한 쌍을 만드려고 합니다.\n",
        "\n",
        "예를 들어, 가지고 있는 양말의 색깔이 [빨강, 파랑, 빨강, 노랑, 파랑, 빨강] 이라면 아래 그림과 같이 2쌍을 만들 수 있습니다.\n",
        "\n",
        "![image.png](data:image/png;base64,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)\n",
        "\n",
        "양말 색을 숫자로 표현해서 담은 배열 socks가 매개변수로 주어질 때, 양말을 몇 쌍 만들 수 있는지 return 하도록 solution 함수를 작성했습니다. 그러나, 코드 일부분이 잘못되어있기 때문에, 몇몇 입력에 대해서는 올바르게 동작하지 않습니다. 주어진 코드에서 _**한 줄**_만 변경해서 모든 입력에 대해 올바르게 동작하도록 수정하세요.\n",
        "\n",
        "\n",
        "▣ 매개변수 설명\n",
        "\n",
        "양말 색을 숫자로 표현해서 담은 배열 socks가 solution 함수의 매개변수로 주어집니다.\n",
        "* 양말 색은 0 보다 크거나 같고 10 보다 작은 정수로 표현합니다.\n",
        "* 양말 수는 1개 이상 100개 이하입니다.\n",
        "\n",
        "▣ return 값 설명\n",
        "\n",
        "양말을 몇 쌍 만들 수 있는지 return 합니다.\n",
        "\n",
        "▣ 예시\n",
        "\n",
        "    | socks              | return |\n",
        "    |--------------------|--------|\n",
        "    | [1, 2, 1, 3, 2, 1] | 2      |\n",
        "\n",
        "▣ 예시 설명\n",
        "\n",
        "문제에 나온 예와 같습니다.\n"
      ],
      "metadata": {
        "id": "apj5JbBZZyey"
      }
    },
    {
      "cell_type": "code",
      "source": [
        "def solution(socks):\n",
        "    answer = 0\n",
        "    count = [0 for _ in range(10)]\n",
        "    for s in socks:\n",
        "        count[s] += 1\n",
        "    for c in count:\n",
        "        answer += (c % 2)\n",
        "    return answer\n",
        "\n",
        "#아래는 테스트케이스 출력을 해보기 위한 코드입니다. 아래에는 잘못된 부분이 없으니 위의 코드만 수정하세요.\n",
        "socks = [1, 2, 1, 3, 2, 1]\n",
        "ret = solution(socks)\n",
        "\n",
        "#[실행] 버튼을 누르면 출력 값을 볼 수 있습니다.\n",
        "print(\"solution 함수의 반환 값은\", ret, \"입니다.\")"
      ],
      "metadata": {
        "id": "xcMXI2prZ8E2"
      },
      "execution_count": null,
      "outputs": []
    },
    {
      "cell_type": "code",
      "source": [],
      "metadata": {
        "id": "Zpx_XMfavww3"
      },
      "execution_count": null,
      "outputs": []
    }
  ]
}