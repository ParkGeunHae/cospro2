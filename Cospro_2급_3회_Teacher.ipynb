{
  "nbformat": 4,
  "nbformat_minor": 0,
  "metadata": {
    "colab": {
      "provenance": [],
      "include_colab_link": true
    },
    "kernelspec": {
      "name": "python3",
      "display_name": "Python 3"
    },
    "language_info": {
      "name": "python"
    }
  },
  "cells": [
    {
      "cell_type": "markdown",
      "metadata": {
        "id": "view-in-github",
        "colab_type": "text"
      },
      "source": [
        "<a href=\"https://colab.research.google.com/github/ParkGeunHae/cospro2/blob/main/Cospro_2%EA%B8%89_3%ED%9A%8C_Teacher.ipynb\" target=\"_parent\"><img src=\"https://colab.research.google.com/assets/colab-badge.svg\" alt=\"Open In Colab\"/></a>"
      ]
    },
    {
      "cell_type": "markdown",
      "metadata": {
        "id": "f9wNLVf5vHo_"
      },
      "source": [
        "### 문제 1.등수구하기\n",
        "학생들의 시험 점수가 주어졌을 때, n번 학생이 몇 등인지 구하려 합니다. 학번은 0번부터 시작하며, 시험 점수는 학번순으로 주어집니다.\n",
        "\n",
        "![image.png](data:image/png;base64,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)\n",
        "\n",
        "예를 들어 학생 네 명의 시험 점수가 다음과 같은 경우\n",
        "\n",
        "3번 학생은 3등을 했습니다.\n",
        "\n",
        "이를 위해 다음과 같이 프로그램 구조를 작성했습니다.\n",
        "\n",
        "1. n번 학생의 점수를 변수에 저장합니다.\n",
        "2. 점수를 내림차순으로 정렬합니다.\n",
        "3. 배열의 첫 번째 원소부터 마지막 원소까지 순회하며 n번 학생의 점수를 찾습니다.\n",
        "   \n",
        "   3-1. 1번 단계에서 저장해둔 점수와 같은 점수를 찾으면 등수를 return 합니다.\n",
        "\n",
        "학생들의 시험 점수가 번호순으로 들은 배열 scores와 학번 n이 solution 함수의 매개변수로 주어질 때, n번 학생의 등수를 return 하도록 solution 함수를 작성하려 합니다. 위 구조를 참고하여 코드가 올바르게 동작하도록 빈칸에 주어진 func_a, func_b, func_c 함수와 매개변수를 알맞게 채워주세요.\n",
        "\n",
        "\n",
        "▣ 매개변수 설명\n",
        "\n",
        "학생들의 시험 점수가 번호순으로 들은 배열 scores와 학번 n이 solution 함수의 매개변수로 주어집니다.\n",
        "* scores의 길이는 1 이상 100 이하입니다.\n",
        "* 점수는 0점 이상 100점 이하이며 동점자는 없습니다.\n",
        "* n은 0 이상 (scores의 길이 - 1) 이하의 정수입니다.\n",
        "\n",
        "▣ return 값 설명\n",
        "\n",
        "n번 학생의 등수를 return 해주세요.\n",
        "\n",
        "▣ 예시\n",
        "\n",
        "    | scores           | n | result |\n",
        "    |------------------|---|--------|\n",
        "    | [20, 60, 98, 59] | 3 | 3      |\n",
        "\n",
        "▣ 예시 설명\n",
        "\n",
        "* 3번 학생의 점수는 59점입니다.\n",
        "* 점수를 내림차순으로 정렬하면 [98, 60, 59, 20]입니다.\n",
        "* 정렬된 점수에서 59는 3번째에 있습니다.\n",
        "\n",
        "따라서 3번 학생은 3등입니다.\n"
      ]
    },
    {
      "cell_type": "code",
      "source": [
        "scores = [20, 60, 98, 59]\n",
        "\n",
        "# 정렬 2가지방법\n",
        "# 1. list.sort() - *IN PLACE*, list에서만 사용할 수 있음, return이 None\n",
        "print(scores, id(scores))\n",
        "r = scores.sort(reverse=True)\n",
        "print(scores, id(scores), r)"
      ],
      "metadata": {
        "colab": {
          "base_uri": "https://localhost:8080/"
        },
        "id": "IxkjJtuwoVzl",
        "outputId": "886ab43d-2034-4954-b984-1af2b7fcec4b"
      },
      "execution_count": null,
      "outputs": [
        {
          "output_type": "stream",
          "name": "stdout",
          "text": [
            "[20, 60, 98, 59] 140072090766064\n",
            "[98, 60, 59, 20] 140072090766064 None\n"
          ]
        }
      ]
    },
    {
      "cell_type": "code",
      "source": [
        "scores = [20, 60, 98, 59]\n",
        "\n",
        "# 정렬 2가지방법\n",
        "# 2. sorted()\n",
        "print(scores, id(scores))\n",
        "# 새로운 list를 생성해서 반환, tuple, set 등에 모두 사용 -> list로 반환\n",
        "scores = sorted(scores, reverse=True)\n",
        "print(scores, id(scores))"
      ],
      "metadata": {
        "colab": {
          "base_uri": "https://localhost:8080/"
        },
        "id": "dm7RA_ECpFp1",
        "outputId": "f435bf81-07c6-40bf-aa59-f51532841c1b"
      },
      "execution_count": null,
      "outputs": [
        {
          "output_type": "stream",
          "name": "stdout",
          "text": [
            "[20, 60, 98, 59] 140072090898752\n",
            "[98, 60, 59, 20] 140072090730816\n"
          ]
        }
      ]
    },
    {
      "cell_type": "code",
      "source": [
        "scores = {20, 60, 98, 59}\n",
        "#scores.sort()\n",
        "r = sorted(scores)\n",
        "print(r)"
      ],
      "metadata": {
        "colab": {
          "base_uri": "https://localhost:8080/"
        },
        "id": "wn1zbP9zpz-Q",
        "outputId": "3309e9f4-5e3d-4d92-e117-4816549de18b"
      },
      "execution_count": null,
      "outputs": [
        {
          "output_type": "stream",
          "name": "stdout",
          "text": [
            "[20, 59, 60, 98]\n"
          ]
        }
      ]
    },
    {
      "cell_type": "code",
      "source": [
        "scores = [20, 60, 98, 59]\n",
        "score = 60\n",
        "scores.sort(reverse=True)  # 내림차순\n",
        "rank = 1  # 가장 높은 등수\n",
        "for s in scores:\n",
        "    if s == score:\n",
        "        r = rank\n",
        "    rank += 1\n",
        "    print(s, r)\n",
        "print(r)"
      ],
      "metadata": {
        "colab": {
          "base_uri": "https://localhost:8080/"
        },
        "id": "GJVHNUPbqKCg",
        "outputId": "c635a22f-be83-46d0-b6e1-ac25667b1b24"
      },
      "execution_count": null,
      "outputs": [
        {
          "output_type": "stream",
          "name": "stdout",
          "text": [
            "98 1\n",
            "60 2\n",
            "59 2\n",
            "20 2\n",
            "2\n"
          ]
        }
      ]
    },
    {
      "cell_type": "markdown",
      "source": [
        "아래의 내용이 실제 문제의 답입니다"
      ],
      "metadata": {
        "id": "CLVihH8XBRjc"
      }
    },
    {
      "cell_type": "code",
      "metadata": {
        "id": "fO2eX3PPFIAw",
        "colab": {
          "base_uri": "https://localhost:8080/"
        },
        "outputId": "a8d94380-1e7c-48f6-b365-16de37a70066"
      },
      "source": [
        "# 3. 등수를 return\n",
        "def func_a(scores, score):\n",
        "    rank = 1\n",
        "    for s in scores:\n",
        "        if s == score:\n",
        "            return rank\n",
        "        rank += 1\n",
        "    return 0  # 존재하지 않는 score 가 입력되었을 경우 반환값\n",
        "\n",
        "# 2. 점수를 내림차순으로 정렬\n",
        "def func_b(arr):\n",
        "    arr.sort(reverse=True)\n",
        "\n",
        "# 1. n번 학생의 점수를 변수에 저장\n",
        "def func_c(arr, n):\n",
        "    return arr[n]\n",
        "\n",
        "def solution(scores, n):\n",
        "    score = func_c(scores, n) # n번 학생의 점수를 변수에 저장\n",
        "    func_b(scores) # 점수를 내림차순으로 정렬\n",
        "    answer = func_a(scores, score) # 등수를 return\n",
        "    return answer\n",
        "\n",
        "#아래는 테스트케이스 출력을 해보기 위한 코드입니다.\n",
        "scores = [20, 60, 98, 59]\n",
        "n = 3\n",
        "ret = solution(scores, n)\n",
        "\n",
        "#[실행] 버튼을 누르면 출력 값을 볼 수 있습니다.\n",
        "print(\"solution 함수의 반환 값은\", ret, \"입니다.\")"
      ],
      "execution_count": null,
      "outputs": [
        {
          "output_type": "stream",
          "name": "stdout",
          "text": [
            "solution 함수의 반환 값은 0 입니다.\n"
          ]
        }
      ]
    },
    {
      "cell_type": "markdown",
      "metadata": {
        "id": "lLmjcmPy0qV5"
      },
      "source": [
        "### 문제 2.장학금\n",
        "\n",
        "모 학교에서는 학기가 끝날 때마다 장학금을 줍니다. 이때 장학생이 몇 명인지 구하려고 합니다. 장학금을 주는 조건은 다음과 같습니다.\n",
        "1. 이번 학기 성적이 80점 이상(100점 만점)이면서 석차가 상위 10% 이내인 학생\n",
        "2. 이번 학기 성적이 80점 이상이면서 1등인 학생\n",
        "3. 직전 학기 대비 성적이 가장 많이 오른 학생(여러 명인 경우 해당 학생 전부)\n",
        "\n",
        "단, 동점인 학생들은 등수가 같으며, 중복 수혜는 불가합니다.\n",
        "\n",
        "장학생이 몇 명인지 구하기 위해 다음과 같이 프로그램 구조를 작성했습니다.\n",
        "1. 이번 학기 성적을 기준으로 학생별 석차를 구합니다.\n",
        "2. 각 학생의 (이번 학기 성적 - 직전 학기 성적) 중 최댓값을 구합니다.\n",
        "3. 아래 조건을 만족하는 학생을 발견하면, 장학생 수를 1 증가시킵니다.\n",
        "    - 3-1. 이번 학기 성적이 80점 이상이고, 석차가 상위 10% 이내인 경우\n",
        "    - 3-2. 또는 이번 학기 성적이 80점 이상이고, 석차가 1등인 경우\n",
        "    - 3-3. 또는 (이번 학기 성적 - 직전 학기 성적)이 2단계에서 구한 값과 같고, 그 값이 양수인 경우\n",
        "4. 장학생 수를 return 합니다.\n",
        "\n",
        "학생들의 이번 학기 성적을 담고 있는 배열 current_grade, 직전 학기 성적을 담고 있는 배열 last_grade가 매개변수로 주어질 때, 장학생 수를 return 하도록 solution 함수를 작성하려 합니다. 위 구조를 참고하여 코드가 올바르게 동작할 수 있도록 빈칸에 주어진 func_a, func_b, func_c 함수와 매개변수를 알맞게 채워주세요.\n",
        "\n",
        "\n",
        "▣ 매개변수 설명\n",
        "\n",
        "학생들의 이번 학기 성적, 지난 학기 성적이 들어있는 배열 current_grade, last_grade가 solution 함수의 매개변수로 주어집니다.\n",
        "* current_grade의 길이와 last_grade의 길이는 같으며, 길이는 1 이상 200 이하입니다.\n",
        "* current_grade와 last_grade의 원소는 0 이상 100 이하인 정수입니다.\n",
        "\n",
        "▣ return 값 설명\n",
        "\n",
        "장학생 수를 return 해주세요.\n",
        "\n",
        "▣ 예시\n",
        "\n",
        "    | current_grade             | last_grade               | return |\n",
        "    |---------------------------|--------------------------|--------|\n",
        "    | [70, 100, 70, 80, 50, 95] | [35, 65, 80, 50, 20, 60] | 3      |\n",
        "\n",
        "▣ 예시 설명\n",
        "\n",
        "학생 수가 10명보다 적으므로, 1등이 장학금을 받습니다.\n",
        "직전 학기 대비 성적이 가장 많이 오른 학생은 다음과 같이 3명입니다.\n",
        "* 35 → 70점\n",
        "* 65 → 100점\n",
        "* 60 → 95점\n",
        "\n",
        "이때, 두 번째 학생은 이번 학기 1등 장학금을 이미 받아 중복 수혜가 불가하고, 나머지 두 학생은 장학금을 받을 수 있습니다. 따라서 장학금을 받는 학생은 총 3명입니다.\n"
      ]
    },
    {
      "cell_type": "code",
      "source": [
        "# 1. 석차 구하기\n",
        "def func_b(current_grade):\n",
        "    arr_length = len(current_grade)\n",
        "    rank = [1] * arr_length\n",
        "    print(rank)\n",
        "    for i in range(arr_length):      # i = 0, 1, 2, 3, 4, 5\n",
        "        for j in range(arr_length):  # j = 0, 1, 2, 3, 4, 5\n",
        "            #print(f'i={i}, j={j}')\n",
        "            if current_grade[i] < current_grade[j]:\n",
        "                rank[i] += 1\n",
        "        print(i, rank)\n",
        "    return rank\n",
        "\n",
        "current_grade = [70, 100, 70, 80, 50, 95]\n",
        "func_b(current_grade)  # [4, 1, 4, 3, 6, 2]"
      ],
      "metadata": {
        "colab": {
          "base_uri": "https://localhost:8080/"
        },
        "id": "029Bween4BW7",
        "outputId": "b2fbabbb-f6ea-4e80-d768-0dafbbd70f7d"
      },
      "execution_count": null,
      "outputs": [
        {
          "output_type": "stream",
          "name": "stdout",
          "text": [
            "[1, 1, 1, 1, 1, 1]\n",
            "0 [4, 1, 1, 1, 1, 1]\n",
            "1 [4, 1, 1, 1, 1, 1]\n",
            "2 [4, 1, 4, 1, 1, 1]\n",
            "3 [4, 1, 4, 3, 1, 1]\n",
            "4 [4, 1, 4, 3, 6, 1]\n",
            "5 [4, 1, 4, 3, 6, 2]\n"
          ]
        },
        {
          "output_type": "execute_result",
          "data": {
            "text/plain": [
              "[4, 1, 4, 3, 6, 2]"
            ]
          },
          "metadata": {},
          "execution_count": 28
        }
      ]
    },
    {
      "cell_type": "code",
      "source": [
        "max(100, 20)"
      ],
      "metadata": {
        "colab": {
          "base_uri": "https://localhost:8080/"
        },
        "id": "vQOxwosr5t3p",
        "outputId": "bcddf917-817d-44e8-bb2d-fd9ecf7ec195"
      },
      "execution_count": null,
      "outputs": [
        {
          "output_type": "execute_result",
          "data": {
            "text/plain": [
              "100"
            ]
          },
          "metadata": {},
          "execution_count": 31
        }
      ]
    },
    {
      "cell_type": "code",
      "source": [
        "# 2. 최대 차이값\n",
        "def func_c(current_grade, last_grade):\n",
        "    max_diff_grade = 1\n",
        "    for i in range(len(current_grade)):   # i = 0, 1, 2, 3, 4, 5\n",
        "        max_diff_grade = max(max_diff_grade, current_grade[i] - last_grade[i])\n",
        "        print(max_diff_grade)\n",
        "    return max_diff_grade\n",
        "\n",
        "current_grade = [70, 100, 70, 80, 50, 95]\n",
        "last_grade =    [35, 65, 80, 50, 20, 60]\n",
        "func_c(current_grade, last_grade)"
      ],
      "metadata": {
        "id": "50c4Vanl5cxX"
      },
      "execution_count": null,
      "outputs": []
    },
    {
      "cell_type": "code",
      "source": [
        "6 //10"
      ],
      "metadata": {
        "colab": {
          "base_uri": "https://localhost:8080/"
        },
        "id": "eZlO3ha66zNP",
        "outputId": "05539c21-dbc9-4b9b-f2e9-8421003a3977"
      },
      "execution_count": null,
      "outputs": [
        {
          "output_type": "execute_result",
          "data": {
            "text/plain": [
              "0"
            ]
          },
          "metadata": {},
          "execution_count": 33
        }
      ]
    },
    {
      "cell_type": "code",
      "source": [
        "# 3. 장학생 수 구하기\n",
        "def func_a(current_grade, last_grade, rank, max_diff_grade):\n",
        "    arr_length = len(current_grade)\n",
        "    count = 0\n",
        "    for i in range(arr_length):   # i=0,1,2,3,4,5\n",
        "        if current_grade[i] >= 80 and rank[i] <= arr_length // 10:\n",
        "            #print(current_grade[i], i)\n",
        "            count += 1\n",
        "        elif current_grade[i] >= 80 and rank[i] == 1:\n",
        "            #print(current_grade[i], i)\n",
        "            count += 1\n",
        "        elif max_diff_grade > 0 and max_diff_grade == current_grade[i] - last_grade[i]:\n",
        "            #print(current_grade[i], i)\n",
        "            count += 1\n",
        "    return count\n",
        "\n",
        "current_grade = [70, 100, 70, 80, 50, 95]\n",
        "last_grade = [35, 65, 80, 50, 20, 60]\n",
        "rank = func_b(current_grade)\n",
        "max_diff_grade = func_c(current_grade, last_grade)\n",
        "func_a(current_grade, last_grade, rank, max_diff_grade)"
      ],
      "metadata": {
        "id": "19i1I2VO6Oxq"
      },
      "execution_count": null,
      "outputs": []
    },
    {
      "cell_type": "markdown",
      "source": [
        "아래의 내용이 실제 문제입니다."
      ],
      "metadata": {
        "id": "viGXBiPtA0P3"
      }
    },
    {
      "cell_type": "code",
      "metadata": {
        "id": "J1xhVLT9l3DD",
        "colab": {
          "base_uri": "https://localhost:8080/"
        },
        "outputId": "c3383313-1f19-4662-878b-3cd5a7e8700e"
      },
      "source": [
        "# 3. 장학생 수 구하기\n",
        "def func_a(current_grade, last_grade, rank, max_diff_grade):\n",
        "    arr_length = len(current_grade)\n",
        "    count = 0\n",
        "    for i in range(arr_length):\n",
        "        if current_grade[i] >= 80 and rank[i] <= arr_length // 10:\n",
        "            count += 1\n",
        "        elif current_grade[i] >= 80 and rank[i] == 1:\n",
        "            count += 1\n",
        "        elif max_diff_grade > 0 and max_diff_grade == current_grade[i] - last_grade[i]:\n",
        "            count += 1\n",
        "    return count\n",
        "\n",
        "# 1. 석차 구하기\n",
        "def func_b(current_grade):\n",
        "    arr_length = len(current_grade)\n",
        "    rank = [1] * arr_length\n",
        "    for i in range(arr_length):\n",
        "        for j in range(arr_length):\n",
        "            if current_grade[i] < current_grade[j]:\n",
        "                rank[i] += 1\n",
        "    return rank\n",
        "\n",
        "# 2. 최대 차이값\n",
        "def func_c(current_grade, last_grade):\n",
        "    max_diff_grade = 1\n",
        "    for i in range(len(current_grade)):\n",
        "        max_diff_grade = max(max_diff_grade, current_grade[i] - last_grade[i])\n",
        "    return max_diff_grade\n",
        "\n",
        "def solution(current_grade, last_grade):\n",
        "    rank = func_b(current_grade)\n",
        "    max_diff_grade = func_c(current_grade, last_grade)\n",
        "    answer = func_a(current_grade, last_grade, rank, max_diff_grade)\n",
        "    return answer\n",
        "\n",
        "#아래는 테스트케이스 출력을 해보기 위한 코드입니다.\n",
        "current_grade = [70, 100, 70, 80, 50, 95]\n",
        "last_grade = [35, 65, 80, 50, 20, 60]\n",
        "ret = solution(current_grade, last_grade)\n",
        "\n",
        "#[실행] 버튼을 누르면 출력 값을 볼 수 있습니다.\n",
        "print(\"solution 함수의 반환 값은\", ret, \"입니다.\")"
      ],
      "execution_count": null,
      "outputs": [
        {
          "output_type": "stream",
          "name": "stdout",
          "text": [
            "solution 함수의 반환 값은 3 입니다.\n"
          ]
        }
      ]
    },
    {
      "cell_type": "markdown",
      "metadata": {
        "id": "4Wms0wlRl3um"
      },
      "source": [
        "### 문제 3. 체조선수 최종점수\n",
        "\n",
        "체조선수는 여러 심사위원의 점수 중 가장 높은 점수 하나와 가장 낮은 점수 하나를 제외하고 나머지 점수들의 평균을 계산하여 최종점수를 받습니다. _단, 이때 소수점 이하의 수는 버립니다._\n",
        "\n",
        "예를 들어, A 선수가 10명의 심사위원에게 [35, 28, 98, 34, 20, 50, 85, 74, 71, 7]의 점수를 받았습니다. 가장 높은 점수인 98점과 가장 낮은 점수인 7점을 제외하고 나머지 8명의 심사위원 점수 평균을 구하면 49.625점입니다. 여기서 소수점 이하의 수를 버리면 49점입니다.\n",
        "\n",
        "각 심사위원이 매긴 점수가 담긴 배열 scores가 매개 변수로 주어질 때, 이 선수가 받은 점수를 return 하도록 solution 함수를 작성해주세요.\n",
        "\n",
        "\n",
        "▣ 매개변수 설명\n",
        "\n",
        "심사위원이 준 점수가 들어있는 배열 scores가 solution 함수의 매개변수로 주어집니다.\n",
        "* scores의 길이는 3 이상 100 이하입니다.\n",
        "* 심사위원이 부여하는 점수의 범위는 0 이상 100 이하의 정수입니다.\n",
        "\n",
        "▣ return 값 설명\n",
        "\n",
        "심사위원이 준 점수 중 가장 높은 점수와 가장 낮은 점수를 제외한 점수의 평균에서 소수점을 버린 값을 return 합니다.\n",
        "\n",
        "▣ 예시\n",
        "\n",
        "    | scores                                  | return |\n",
        "    |-----------------------------------------|--------|\n",
        "    | [35, 28, 98, 34, 20, 50, 85, 74, 71, 7] | 49 \t   |\n",
        "    | [1, 1, 1, 1, 1]                     \t| 1  \t   |\n",
        "\n",
        "▣ 예시 설명\n",
        "\n",
        "예시 #1\n",
        "\n",
        "문제에 나온 예와 같습니다.\n",
        "\n",
        "예시 #2\n",
        "\n",
        "가장 높은 점수는 1점이며, 가장 낮은 점수도 1점입니다. 1점을 두 개 제외한 나머지 점수의 합은 3점이며, 평균은 1점이 됩니다.\n",
        "\n"
      ]
    },
    {
      "cell_type": "code",
      "metadata": {
        "id": "T5r-uf7TmF56",
        "colab": {
          "base_uri": "https://localhost:8080/"
        },
        "outputId": "bb31d472-97eb-4a9c-ab4a-46fd54132ba0"
      },
      "source": [
        "#다음과 같이 import를 사용할 수 있습니다.\n",
        "#import math\n",
        "\n",
        "def solution(scores):\n",
        "    #여기에 코드를 작성해주세요.\n",
        "    minValue = min(scores)\n",
        "    maxValue = max(scores)\n",
        "    #print(minValue, maxValue)\n",
        "    answer = (sum(scores) - minValue - maxValue) // (len(scores) - 2)\n",
        "    return answer\n",
        "\n",
        "#아래는 테스트케이스 출력을 해보기 위한 코드입니다.\n",
        "scores1 = [35, 28, 98, 34, 20, 50, 85, 74, 71, 7]\n",
        "ret1 = solution(scores1)\n",
        "\n",
        "#[실행] 버튼을 누르면 출력 값을 볼 수 있습니다.\n",
        "print(\"solution 함수의 반환 값은\", ret1, \"입니다.\")\n",
        "\n",
        "scores2 = [1, 1, 1, 1, 1]\n",
        "ret2 = solution(scores2)\n",
        "\n",
        "#[실행] 버튼을 누르면 출력 값을 볼 수 있습니다.\n",
        "print(\"solution 함수의 반환 값은\", ret2, \"입니다.\")"
      ],
      "execution_count": null,
      "outputs": [
        {
          "output_type": "stream",
          "name": "stdout",
          "text": [
            "solution 함수의 반환 값은 49 입니다.\n",
            "solution 함수의 반환 값은 1 입니다.\n"
          ]
        }
      ]
    },
    {
      "cell_type": "markdown",
      "metadata": {
        "id": "yb_3EeEAmGRX"
      },
      "source": [
        "### 문제 4.오타수정\n",
        "영어 단어를 외우기 위해 단어를 반복하여 타이핑합니다. 그런데, 타이핑하고 보니 오타가 많습니다. 오타를 수정하려면 문자를 몇 개 바꿔야 하는지 구하려 합니다.\n",
        "\n",
        "예를 들어, \"CODE\"라는 단어를 3번 타이핑했더니 [\"CODE\", \"COED\", \"CDEO\"] 가 적혀있었습니다.\n",
        "\n",
        "1. \"CODE\"는 바르게 적혔습니다.\n",
        "2. \"COED\"는 E와 D를 각각 D와 E로 바꾸면 됩니다.\n",
        "3. \"CDEO\"는 D, E, O를 각각 O, D, E로 바꾸면 됩니다.\n",
        "따라서 바꿔야 하는 문자는 총 5개입니다.\n",
        "\n",
        "타이핑한 단어를 담은 배열 words와 원래 치려 한 단어인 word가 주어질 때 바꿔야 하는 문자 개수를 return 하도록 solution 함수를 완성해주세요.\n",
        "\n",
        "\n",
        "▣ 매개변수 설명\n",
        "\n",
        "타이핑한 단어를 담은 배열 words와 원래 치려 한 단어인 word가 solution 함수의 매개변수로 주어집니다.\n",
        "* word는 10개 이하의 알파벳 대문자로만 이루어진 단어입니다.\n",
        "* words에 담긴 문자열의 길이는 word의 길이와 같으며 모든 문자열은 알파벳 대문자로만 이루어져 있습니다.\n",
        "* words에 담긴 문자열의 개수는 15 이하 자연수입니다.\n",
        "\n",
        "▣ return 값 설명\n",
        "\n",
        "바꾸어야 하는 문자 수를 return 해주세요.\n",
        "\n",
        "▣ 예시\n",
        "\n",
        "    | words            \t   | word   | return |\n",
        "    |--------------------------|--------|--------|\n",
        "    | [\"CODE\", \"COED\", \"CDEO\"] | \"CODE\" | 5      |\n",
        "\n",
        "▣ 예시 설명\n",
        "\n",
        "문제에 나온 예와 같습니다.\n",
        "\n"
      ]
    },
    {
      "cell_type": "code",
      "source": [
        "for x in zip([1, 2, 3], [3, 4, 5]):\n",
        "    print(x)"
      ],
      "metadata": {
        "colab": {
          "base_uri": "https://localhost:8080/"
        },
        "id": "uSHu0kDXKQsv",
        "outputId": "90605f3f-4498-4454-e3c7-6ad18216fcc5"
      },
      "execution_count": null,
      "outputs": [
        {
          "output_type": "stream",
          "name": "stdout",
          "text": [
            "(1, 3)\n",
            "(2, 4)\n",
            "(3, 5)\n"
          ]
        }
      ]
    },
    {
      "cell_type": "code",
      "source": [
        "for a, b in zip('COED', 'CODE'):\n",
        "    print(a, b)"
      ],
      "metadata": {
        "colab": {
          "base_uri": "https://localhost:8080/"
        },
        "id": "w1RVd7AaKgGs",
        "outputId": "747eceba-e211-47e8-d8a7-9da6bcc37ac1"
      },
      "execution_count": null,
      "outputs": [
        {
          "output_type": "stream",
          "name": "stdout",
          "text": [
            "C C\n",
            "O O\n",
            "E D\n",
            "D E\n"
          ]
        }
      ]
    },
    {
      "cell_type": "code",
      "metadata": {
        "id": "UpnN6W3Sbozi",
        "colab": {
          "base_uri": "https://localhost:8080/"
        },
        "outputId": "905bfce4-a063-45e2-8aa7-5b493ce94864"
      },
      "source": [
        "#다음과 같이 import를 사용할 수 있습니다.\n",
        "#import math\n",
        "\n",
        "def solution2(words, word):\n",
        "    count = 0\n",
        "    for w in words:\n",
        "        for i in range(len(w)):\n",
        "            if w[i] != word[i]:\n",
        "                count += 1\n",
        "    return count\n",
        "\n",
        "def solution(words, word):\n",
        "    count = 0\n",
        "    for w in words:\n",
        "        #print(w)\n",
        "        for a, b in zip(w, word):\n",
        "            if a != b:\n",
        "                count += 1\n",
        "    return count\n",
        "\n",
        "#아래는 테스트케이스 출력을 해보기 위한 코드입니다.\n",
        "words = [\"CODE\", \"COED\", \"CDEO\"]\n",
        "word = \"CODE\"\n",
        "ret = solution2(words, word)\n",
        "\n",
        "#[실행] 버튼을 누르면 출력 값을 볼 수 있습니다.\n",
        "print(\"solution 함수의 반환 값은\", ret, \"입니다.\")"
      ],
      "execution_count": null,
      "outputs": [
        {
          "output_type": "stream",
          "name": "stdout",
          "text": [
            "C C\n",
            "O O\n",
            "D D\n",
            "E E\n",
            "C C\n",
            "O O\n",
            "E D\n",
            "D E\n",
            "C C\n",
            "D O\n",
            "E D\n",
            "O E\n",
            "solution 함수의 반환 값은 5 입니다.\n"
          ]
        }
      ]
    },
    {
      "cell_type": "markdown",
      "metadata": {
        "id": "7w5Najrqbphf"
      },
      "source": [
        "### 문제 5. 교통비\n",
        "여행객들의 총 교통비를 계산하려고 합니다. 교통편은 \"Bus\", \"Ship\", \"Airplane\" 총 3가지입니다. 나이가 20살 이상이면 어른 요금을, 그렇지 않으면 어린이 요금을 받습니다. 각 교통편별 가격은 다음과 같습니다.\n",
        "\n",
        "    |          | 어른     |  어린이  |\n",
        "    |----------|----------|----------|\n",
        "    | Bus      | 40,000원 | 15,000원 |\n",
        "    | Ship     | 30,000원 | 13,000원 |\n",
        "    | Airplane | 70,000원 | 45,000원 |\n",
        "\n",
        "여행객들이 10명 이상인 경우 연령에 따라 할인을 받습니다.\n",
        "\n",
        "    | 어른 | 어린이 |\n",
        "    |------|--------|\n",
        "    | 10%  | 20%    |\n",
        "\n",
        "여행객들의 나이를 담고 있는 배열 member_age와 교통편인 transportation이 매개변수로 주어질 때, 총 교통비를 return 하도록 solution 함수를 작성하려 합니다. 빈칸을 채워 전체 코드를 완성해주세요.\n",
        "\n",
        "\n",
        "▣ 매개변수 설명\n",
        "\n",
        "여행객들의 나이를 담고 있는 배열 member_age와 교통편인  transportation이 solution 함수의 매개변수로 주어집니다.\n",
        "* member_age의 길이는 1 이상 1,000 이하입니다.\n",
        "* member_age의 원소는 1 이상 100 이하입니다.\n",
        "* transportation은 \"Bus\" 또는 \"Ship\" 또는 \"Airplane\" 입니다.\n",
        "\n",
        "▣ return값 설명\n",
        "\n",
        "교통비 총액을 return 해주세요.\n",
        "\n",
        "▣ 예시\n",
        "\n",
        "    | member_age                             | transportation | return |\n",
        "    |----------------------------------------|----------------|--------|\n",
        "    | [13, 33, 45, 11, 20]                   | \"Bus\"          | 150000 |\n",
        "    | [25, 11, 27, 56, 7, 19, 52, 31, 77, 8] | \"Ship\"         | 203600 |\n",
        "\n",
        "▣ 예시 설명\n",
        "\n",
        "예시 #1\n",
        "\n",
        "여행객들의 나이는 [13, 33, 45, 11, 20]이고 교통수단으로는 \"Bus\"를 이용하려합니다. 나이가 20살 미만인 인원은 2명으로 어린이 요금은 30,000원이고 나이가 20살 이상인 인원은 3명으로 어른 요금은 120,000원입니다. 따라서 교통비 총액은 150,000원입니다.\n",
        "\n",
        "예시 #2\n",
        "\n",
        "여행객들의 나이는 [25, 11, 27, 56, 7, 19, 52, 31, 77, 8]이고 교통수단으로는 \"Ship\"을 이용하려합니다. 여행객들이 10명 이상이므로 교통비가 할인됩니다. 나이가 20살 미만인 인원은 4명으로 어린이 요금은 41,600원이고 나이가 20살 이상인 인원은 6명으로 어른 요금은 162,000원입니다. 따라서 교통비 총액은 203,600원입니다.\n",
        "\n"
      ]
    },
    {
      "cell_type": "code",
      "source": [
        "30000*0.9*6, 13000*0.8*4, int"
      ],
      "metadata": {
        "colab": {
          "base_uri": "https://localhost:8080/"
        },
        "id": "IcQKBYl97lR4",
        "outputId": "e69bdf7b-f775-4477-cf86-5bcf87c692f9"
      },
      "execution_count": null,
      "outputs": [
        {
          "output_type": "execute_result",
          "data": {
            "text/plain": [
              "(162000.0, 41600.0)"
            ]
          },
          "metadata": {},
          "execution_count": 15
        }
      ]
    },
    {
      "cell_type": "code",
      "source": [
        "# 변경해 본 코드입니다.\n",
        "def solution(member_age, transportation):\n",
        "    expense = {'Bus': [40000, 15000],\n",
        "               'Ship': [30000, 13000],\n",
        "               'Airplane':[70000, 45000]}\n",
        "\n",
        "    adult_expense, child_expense = expense[transportation]  # name unpack\n",
        "\n",
        "    if len(member_age) >= 10:\n",
        "        adult_expense = int(adult_expense * 0.9)\n",
        "        child_expense = int(child_expense * 0.8)\n",
        "\n",
        "    return sum(adult_expense if age >= 20 else child_expense for age in member_age)\n",
        "\n",
        "\n",
        "#아래는 테스트케이스 출력을 해보기 위한 코드입니다.\n",
        "member_age1 = [13, 33, 45, 11, 20]\n",
        "transportation1 = \"Bus\"\n",
        "ret1 = solution(member_age1, transportation1)\n",
        "\n",
        "#[실행] 버튼을 누르면 출력 값을 볼 수 있습니다.\n",
        "print(\"solution 함수의 반환 값은\", ret1, \"입니다.\")\n",
        "\n",
        "member_age2 = [25, 11, 27, 56, 7, 19, 52, 31, 77, 8]\n",
        "transportation2 = \"Ship\"\n",
        "ret2 = solution(member_age2, transportation2)\n",
        "\n",
        "#[실행] 버튼을 누르면 출력 값을 볼 수 있습니다.\n",
        "print(\"solution 함수의 반환 값은\", ret2, \"입니다.\")"
      ],
      "metadata": {
        "colab": {
          "base_uri": "https://localhost:8080/"
        },
        "id": "RCnKe1Is8XQH",
        "outputId": "fbb4ab50-d871-458c-a83e-5b22a69f6592"
      },
      "execution_count": null,
      "outputs": [
        {
          "output_type": "stream",
          "name": "stdout",
          "text": [
            "solution 함수의 반환 값은 150000 입니다.\n",
            "solution 함수의 반환 값은 203600 입니다.\n"
          ]
        }
      ]
    },
    {
      "cell_type": "code",
      "metadata": {
        "id": "IJG5Qz_Rb27R",
        "colab": {
          "base_uri": "https://localhost:8080/"
        },
        "outputId": "0b8a6c20-9bea-4018-858d-f40660adf1b8"
      },
      "source": [
        "# 원래의 문제 & 풀이 입니다.\n",
        "def solution(member_age, transportation):\n",
        "\tif transportation == 'Bus':\n",
        "\t\tadult_expense = 40000\n",
        "\t\tchild_expense = 15000\n",
        "\telif transportation == 'Ship':\n",
        "\t\tadult_expense = 30000\n",
        "\t\tchild_expense = 13000\n",
        "\telif transportation == 'Airplane':\n",
        "\t\tadult_expense = 70000\n",
        "\t\tchild_expense = 45000\n",
        "\n",
        "\tif len(member_age) >= 10:\n",
        "\t\tadult_expense = int(adult_expense * 0.9)\n",
        "\t\tchild_expense = int(child_expense * 0.8)\n",
        "\n",
        "\ttotal_expenses = 0\n",
        "\tfor age in member_age:\n",
        "\t\tif age >= 20:\n",
        "\t\t\ttotal_expenses += adult_expense\n",
        "\t\telse:\n",
        "\t\t\ttotal_expenses += child_expense\n",
        "\n",
        "\treturn total_expenses\n",
        "\n",
        "\n",
        "#아래는 테스트케이스 출력을 해보기 위한 코드입니다.\n",
        "member_age1 = [13, 33, 45, 11, 20]\n",
        "transportation1 = \"Bus\"\n",
        "ret1 = solution(member_age1, transportation1)\n",
        "\n",
        "#[실행] 버튼을 누르면 출력 값을 볼 수 있습니다.\n",
        "print(\"solution 함수의 반환 값은\", ret1, \"입니다.\")\n",
        "\n",
        "member_age2 = [25, 11, 27, 56, 7, 19, 52, 31, 77, 8]\n",
        "transportation2 = \"Ship\"\n",
        "ret2 = solution(member_age2, transportation2)\n",
        "\n",
        "#[실행] 버튼을 누르면 출력 값을 볼 수 있습니다.\n",
        "print(\"solution 함수의 반환 값은\", ret2, \"입니다.\")"
      ],
      "execution_count": null,
      "outputs": [
        {
          "output_type": "stream",
          "name": "stdout",
          "text": [
            "solution 함수의 반환 값은 150000 입니다.\n",
            "solution 함수의 반환 값은 203600 입니다.\n"
          ]
        }
      ]
    },
    {
      "cell_type": "markdown",
      "metadata": {
        "id": "kplDtWsTb5aL"
      },
      "source": [
        "### 문제 6. 타일 칠하기\n",
        "\n",
        "타일을 'R', 'G', 'B' 색으로 칠하려 합니다. R 색으로는 3칸을 한 번에, G 색으로는 2칸을 한 번에 칠할 수 있으며, B 색으로는 1칸을 칠할 수 있습니다. 색은 R, G, B 순서로 한 번씩 번갈아 가면서 사용해야 하며, 타일의 길이를 넘겨서 칠할 수는 없습니다.\n",
        "\n",
        "예를 들어, 타일 길이가 11이면 \"RRRGGBRRRGG\"의 색으로 칠할 수 있습니다.\n",
        "\n",
        "타일 길이가 매개변수 tile_length로 주어질 때, 타일을 색칠한 순서를 문자열로 return하는 solution 함수를 작성하려 합니다. 빈칸을 채워 전체 코드를 완성해주세요.\n",
        "\n",
        "순서에 맞게 타일을 칠할 수 없다면 -1을 return 해주세요.\n",
        "\n",
        "\n",
        "▣ 매개변수 설명\n",
        "\n",
        "타일 길이 tile_length가 solution 함수의 매개변수로 주어집니다.\n",
        "\n",
        "* tile_length는 1,000 이하의 자연수입니다.\n",
        "\n",
        "▣ return 값 설명\n",
        "\n",
        "타일을 색칠한 순서를 문자열로 return 해주세요.\n",
        "* 순서에 맞게 타일을 칠할 수 없다면 -1을 return 해주세요.\n",
        "\n",
        "▣ 예시\n",
        "\n",
        "    | tile_length | answer       |\n",
        "    |-------------|--------------|\n",
        "    |11           | \"RRRGGBRRRGG\"|\n",
        "    |16           | \"-1\"         |\n",
        "\n",
        "▣ 예시 설명\n",
        "\n",
        "예시 #1\n",
        "\n",
        "다음과 같은 순서로 타일을 칠하면 됩니다.\n",
        "* 'R' - 3장\n",
        "* 'G' - 2장\n",
        "* 'B' - 1장\n",
        "* 'R' - 3장\n",
        "* 'G' - 2장\n",
        "\n",
        "따라서 \"RRRGGBRRRGG\"를 return 하면 됩니다.\n",
        "\n",
        "예시 #2\n",
        "\n",
        "타일 길이는 16입니다.\n",
        "'R', 'G', 'B' 순서대로 타일을 색칠하면 다음과 같습니다.\n",
        "\n",
        "    | 1 | 2 | 3 | 4 | 5 | 6 | 7 | 8 | 9 | 10 | 11 | 12 | 13 | 14 | 15 | 16 |\n",
        "    |---|---|---|---|---|---|---|---|---|----|----|----|----|----|----|----|\n",
        "    | R | R | R | G | G | B | R | R | R | G  | G  | B  | R  | R  | R  | -  |\n",
        "\n",
        "15번째 타일까지 칠하니 타일이 한 칸 남았습니다. G 색으로는 두 칸을 칠해야 하므로 타일을 더 칠할 수 없습니다. 따라서 \"-1\"을 return 합니다.\n"
      ]
    },
    {
      "cell_type": "code",
      "source": [
        "# 문자열 복제\n",
        "com = 'RRRGGB'\n",
        "com * 3"
      ],
      "metadata": {
        "colab": {
          "base_uri": "https://localhost:8080/",
          "height": 36
        },
        "id": "3IF2kDMKG4Yp",
        "outputId": "5dfa94fd-f2c6-43f1-bcd1-1583417cfbec"
      },
      "execution_count": null,
      "outputs": [
        {
          "output_type": "execute_result",
          "data": {
            "application/vnd.google.colaboratory.intrinsic+json": {
              "type": "string"
            },
            "text/plain": [
              "'RRRGGBRRRGGBRRRGGB'"
            ]
          },
          "metadata": {},
          "execution_count": 30
        }
      ]
    },
    {
      "cell_type": "code",
      "source": [
        "# slice\n",
        "com = 'RRRGGB'\n",
        "com[:3]"
      ],
      "metadata": {
        "colab": {
          "base_uri": "https://localhost:8080/",
          "height": 36
        },
        "id": "0gUKKJCWG7wg",
        "outputId": "6251ec6e-eb04-4d05-f0e6-09880442c0d4"
      },
      "execution_count": null,
      "outputs": [
        {
          "output_type": "execute_result",
          "data": {
            "application/vnd.google.colaboratory.intrinsic+json": {
              "type": "string"
            },
            "text/plain": [
              "'RRR'"
            ]
          },
          "metadata": {},
          "execution_count": 33
        }
      ]
    },
    {
      "cell_type": "code",
      "source": [
        "# 몫, 나머지와 문자열의 복제, slice 사용하기의 예\n",
        "com = 'RRRGGB'\n",
        "tile_length = 15\n",
        "m, n = divmod(tile_length, len(com))\n",
        "print(m, n)\n",
        "answer = com*m + com[:n]\n",
        "answer"
      ],
      "metadata": {
        "colab": {
          "base_uri": "https://localhost:8080/",
          "height": 55
        },
        "id": "9m9kg8KuGg8Z",
        "outputId": "8f692067-234d-415f-f5f2-f07cb2bc2152"
      },
      "execution_count": null,
      "outputs": [
        {
          "output_type": "stream",
          "name": "stdout",
          "text": [
            "2 3\n"
          ]
        },
        {
          "output_type": "execute_result",
          "data": {
            "application/vnd.google.colaboratory.intrinsic+json": {
              "type": "string"
            },
            "text/plain": [
              "'RRRGGBRRRGGBRRR'"
            ]
          },
          "metadata": {},
          "execution_count": 34
        }
      ]
    },
    {
      "cell_type": "code",
      "source": [
        "# 몫, 나머지와 문자열의 복제, slice 사용하기\n",
        "def solution(tile_length):\n",
        "    com = 'RRRGGB'\n",
        "    if tile_length%6 in [1, 2, 4]:\n",
        "        answer = '-1'\n",
        "    else:\n",
        "        m, n = divmod(tile_length, len(com))\n",
        "        answer = com*m + com[:n]\n",
        "\n",
        "    return answer"
      ],
      "metadata": {
        "id": "LgldELkTGZfN"
      },
      "execution_count": null,
      "outputs": []
    },
    {
      "cell_type": "code",
      "source": [
        "# or or ....   => in 연산으로 수정\n",
        "def solution(tile_length):\n",
        "    answer = ''\n",
        "    com = 'RRRGGB'\n",
        "    if tile_length%6 in [1, 2, 4]:\n",
        "        answer = '-1'\n",
        "    else:\n",
        "        for i in range(tile_length):\n",
        "            answer += com[i % 6]\n",
        "\n",
        "    return answer"
      ],
      "metadata": {
        "colab": {
          "base_uri": "https://localhost:8080/"
        },
        "id": "jCSKbODXGKd0",
        "outputId": "8f2fad8a-9d89-4b3f-ed0f-acc6a18105a4"
      },
      "execution_count": null,
      "outputs": [
        {
          "output_type": "stream",
          "name": "stdout",
          "text": [
            "solution 함수의 반환 값은  RRRGGBRRRGG  입니다.\n",
            "solution 함수의 반환 값은  -1  입니다.\n"
          ]
        }
      ]
    },
    {
      "cell_type": "code",
      "source": [
        "# 규칙 찾기\n",
        "com = 'RRRGGB'\n",
        "tile_length = 1  # -1\n",
        "tile_length = 2  # -1\n",
        "tile_length = 3  # 'RRR'\n",
        "tile_length = 4  # -1\n",
        "tile_length = 5  # 'RRRGG'\n",
        "tile_length = 6  # 'RRRGGB'\n",
        "tile_length = 6 + 1  # -1\n",
        "tile_length = 6 + 2  # -1\n",
        "tile_length = 6 + 3  # 'RRRGGBRRR'\n",
        "tile_length = 6 + 4  # -1\n",
        "tile_length = 6 + 5  # 'RRRGGBRRRGG'\n",
        "tile_length = 6 + 6  # 'RRRGGBRRRGGB'"
      ],
      "metadata": {
        "id": "MhzuATvfEpkV"
      },
      "execution_count": null,
      "outputs": []
    },
    {
      "cell_type": "code",
      "source": [
        "# com[i%6]의 원리 이해  - 이대로 써먹는 경우도 있으니 원리를 이해해 두세요!!!\n",
        "com = 'RRRGGB'\n",
        "tile_length = 9\n",
        "answer = ''\n",
        "for i in range(tile_length):\n",
        "    answer += com[i % 6]   # com[0]  com[1]  com[2]\n",
        "    print(answer)"
      ],
      "metadata": {
        "id": "RNd3JXAtFmpe"
      },
      "execution_count": null,
      "outputs": []
    },
    {
      "cell_type": "code",
      "metadata": {
        "id": "7NLP6QKQcEDi",
        "colab": {
          "base_uri": "https://localhost:8080/"
        },
        "outputId": "88800b82-73fe-47a3-fd5b-e39bac24a08a"
      },
      "source": [
        "# 기본 문제 풀이\n",
        "def solution(tile_length):\n",
        "    answer = ''\n",
        "    com = 'RRRGGB'\n",
        "    if tile_length%6 == 1 or tile_length%6 == 2 or tile_length%6 == 4:\n",
        "        answer = '-1'\n",
        "    else:\n",
        "        for i in range(tile_length):\n",
        "            answer += com[i % 6]\n",
        "\n",
        "    return answer\n",
        "\n",
        "#아래는 테스트케이스 출력을 해보기 위한 코드입니다.\n",
        "tile_length1 = 11\n",
        "ret1 = solution(tile_length1)\n",
        "\n",
        "#[실행] 버튼을 누르면 출력 값을 볼 수 있습니다.\n",
        "print(\"solution 함수의 반환 값은 \", ret1, \" 입니다.\")\n",
        "\n",
        "tile_length2 = 16\n",
        "ret2 = solution(tile_length2)\n",
        "\n",
        "#[실행] 버튼을 누르면 출력 값을 볼 수 있습니다.\n",
        "print(\"solution 함수의 반환 값은 \", ret2, \" 입니다.\")"
      ],
      "execution_count": null,
      "outputs": [
        {
          "output_type": "stream",
          "name": "stdout",
          "text": [
            "solution 함수의 반환 값은  RRRGGBRRRGG  입니다.\n",
            "solution 함수의 반환 값은  -1  입니다.\n"
          ]
        }
      ]
    },
    {
      "cell_type": "markdown",
      "metadata": {
        "id": "u4_z1d-9cKIH"
      },
      "source": [
        "### 문제 7. 주스 만들기\n",
        "\n",
        "주스 1잔을 만들려면 사과 3개와 당근 1개가 필요합니다. 그런데 키우는 토끼에게 먹이를 주기 위해 사과와 당근 종류에 상관없이 k개를 빼놓으려고 합니다. 주스는 최대한 많이 만들수록 좋습니다.\n",
        "\n",
        "사과 개수 num_apple과 당근 개수 num_carrot, 토끼에게 줄 먹이 개수 k가 주어질 때 주스를 최대 몇 잔 만들 수 있는지 return 하도록 solution 함수를 작성했습니다. 그러나, 코드 일부분이 잘못되어있기 때문에, 몇몇 입력에 대해서는 올바르게 동작하지 않습니다. 주어진 코드에서 _**한 줄**_만 변경해서 모든 입력에 대해 올바르게 동작하도록 수정하세요.\n",
        "\n",
        "\n",
        "▣ 매개변수 설명\n",
        "\n",
        "사과 개수 num_apple과 당근 개수 num_carrot, 토끼에게 줄 먹이 개수 k가 solution 함수의 매개변수로 주어집니다.\n",
        "* 사과 개수 num_apple과 당근 개수 num_carrot는 0 이상 200 이하인 정수입니다.\n",
        "* 토끼에게 줄 먹이 개수 k는 0 이상 `num_apple+num_carrot` 이하인 정수입니다.\n",
        "\n",
        "▣ return 값 설명\n",
        "\n",
        "주스를 최대 몇 잔 만들 수 있는지 return 해주세요.\n",
        "\n",
        "▣ 예시\n",
        "\n",
        "    | num_apple | num_carrot | k | return |\n",
        "    |-----------|------------|---|--------|\n",
        "    | 5         | 1          | 2 | 1      |\n",
        "    | 10        | 5          | 4 | 2      |\n",
        "\n",
        "▣ 예시 설명\n",
        "\n",
        "예시 #1\n",
        "\n",
        "사과 2개를 먹이로 주면 사과 3개, 당근 1개가 남습니다. 남은 재료로 주스를 1잔 만들 수 있습니다.\n",
        "\n",
        "예시 #2\n",
        "\n",
        "사과 2개와 당근 2개를 먹이로 주면 사과 8개, 당근 3개가 남습니다. 남은 재료로 주스를 2잔 만들 수 있습니다.\n",
        "\n"
      ]
    },
    {
      "cell_type": "code",
      "source": [
        "num_apple = 5\n",
        "num_carrot = 1\n",
        "k = 2\n",
        "\n",
        "# k를 고려하지 않고 만들 수 있는 주스의 최대 => answer\n",
        "if num_apple < num_carrot * 3:\n",
        "    answer = num_apple // 3\n",
        "else:\n",
        "    answer = num_carrot\n",
        "\n",
        "# 주스를 만들고 남은 사과와 당근의 개수 구하기\n",
        "num_apple -= answer * 3   # num_apple = num_apple - (answer * 3)\n",
        "num_carrot -= answer\n",
        "\n",
        "# 토끼에게 줄 먹이 개수 k를 고려해서 answer 수정하기\n",
        "# num_apple + num_carrot (남아 있는 사과와 당근개수의 합)\n",
        "# k - (num_apple + num_carrot + i) > 0 : 토끼에게 줄 충분한 양의 사과, 당근이 없음\n",
        "i = 0\n",
        "while k - (num_apple + num_carrot + i) > 0:\n",
        "    if i % 4 == 0:\n",
        "        answer -= 1   # 주스를 1개 포기하고, 사과3개, 당근 1개 (총 4개를 확보)\n",
        "    i = i + 1\n",
        "\n",
        "print(answer, num_apple, num_carrot)"
      ],
      "metadata": {
        "colab": {
          "base_uri": "https://localhost:8080/"
        },
        "id": "t4hvB-h2KxPq",
        "outputId": "7bf5ee4c-74e6-4408-8263-c37dc3625d0a"
      },
      "execution_count": null,
      "outputs": [
        {
          "output_type": "stream",
          "name": "stdout",
          "text": [
            "1 2 0\n"
          ]
        }
      ]
    },
    {
      "cell_type": "code",
      "source": [
        "# 코드를 수정해 본다면?\n",
        "# 하나씩 증가시키는 것이 아니라 4개씩 증가시키는 것으로 해서 좀 더 빠르게 답을 구할 수 있습니다.\n",
        "i = 0\n",
        "while k - (num_apple + num_carrot + i*4) > 0:\n",
        "    answer -= 1\n",
        "    i = i + 1"
      ],
      "metadata": {
        "id": "YLHlJP5XPXcG"
      },
      "execution_count": null,
      "outputs": []
    },
    {
      "cell_type": "code",
      "metadata": {
        "id": "HazI8DtCcYYb",
        "colab": {
          "base_uri": "https://localhost:8080/"
        },
        "outputId": "a343fdcf-2709-4b6c-c629-ab8ca07ed1f3"
      },
      "source": [
        "def solution(num_apple, num_carrot, k):\n",
        "    answer = 0\n",
        "\n",
        "    if num_apple < num_carrot * 3:\n",
        "        answer = num_apple // 3\n",
        "    else:\n",
        "        answer = num_carrot\n",
        "\n",
        "    num_apple -= answer * 3\n",
        "    num_carrot -= answer\n",
        "\n",
        "    i = 0\n",
        "    while k - (num_apple + num_carrot + i) > 0:\n",
        "        if i % 4 == 0:\n",
        "            answer -= 1\n",
        "        i = i + 1\n",
        "\n",
        "    return answer\n",
        "\n",
        "# 아래는 테스트케이스 출력을 해보기 위한 코드입니다. 아래 코드는 잘못된 부분이 없으니, solution함수만 수정하세요.\n",
        "num_apple1 = 5\n",
        "num_carrot1 = 1\n",
        "k1 = 2\n",
        "ret1 = solution(num_apple1, num_carrot1, k1)\n",
        "\n",
        "# [실행] 버튼을 누르면 출력 값을 볼 수 있습니다.\n",
        "print(\"solution 함수의 반환 값은\", ret1, \"입니다.\")\n",
        "\n",
        "num_apple2 = 10\n",
        "num_carrot2 = 5\n",
        "k2 = 4\n",
        "ret2 = solution(num_apple2, num_carrot2, k2)\n",
        "\n",
        "# [실행] 버튼을 누르면 출력 값을 볼 수 있습니다.\n",
        "print(\"solution 함수의 반환 값은\", ret2, \"입니다.\")"
      ],
      "execution_count": null,
      "outputs": [
        {
          "output_type": "stream",
          "name": "stdout",
          "text": [
            "solution 함수의 반환 값은 1 입니다.\n",
            "solution 함수의 반환 값은 2 입니다.\n"
          ]
        }
      ]
    },
    {
      "cell_type": "markdown",
      "metadata": {
        "id": "BfmjFi35cdyP"
      },
      "source": [
        "### 문제 8. TV 시청 시간\n",
        "A씨가 하루에 TV를 두 대 이상 트는 시간을 알아내려합니다. A씨는 매일 세 프로그램을 시청합니다. 프로그램 방송 시간이 겹칠 때는 TV를 여러 대 켜서 모든 프로그램을 봅니다.\n",
        "\n",
        "예를 들어 두 프로그램 방송 시간대가 겹치면 TV를 두 대 켜고, 세 프로그램 방송 시간이 겹치면 TV를 세 대 켭니다.\n",
        "\n",
        "세 프로그램 방영 시작 시각과 끝 시각이 담긴 2차원 배열 programs가 매개변수로 주어질 때, 하루에 TV를 2대 이상 트는 총 시간을 return 하도록 solution 함수를 작성했습니다. 그러나, 코드 일부분이 잘못되어있기 때문에, 몇몇 입력에 대해서는 올바르게 동작하지 않습니다. 주어진 코드에서 _**한 줄**_만 변경해서 모든 입력에 대해 올바르게 동작하도록 수정하세요.\n",
        "\n",
        "\n",
        "▣ 매개변수 설명\n",
        "\n",
        "3개의 프로그램이 시작되는 시각과 끝나는 시각이 담긴 2차원 배열 programs가 solution 함수의 매개변수로 주어집니다.\n",
        "* programs의 행 길이는 항상 3입니다.\n",
        "* programs 배열의 각 원소는 각 프로그램의 방송 시간이 [시작 시각, 끝 시각] 형태로 들어있습니다.\n",
        "* 프로그램의 시작 시각과 끝 시각은 0 이상 24 이하의 정수입니다.\n",
        "* 프로그램의 시작 시각은 끝 시각보다 항상 빠릅니다.\n",
        "\n",
        "▣ return 값 설명\n",
        "\n",
        "A 씨가 TV를 2대 이상 트는 총 시간을 return 해주세요.\n",
        "\n",
        "▣ 예시\n",
        "\n",
        "    | programs            \t   | return |\n",
        "    |--------------------------|--------|\n",
        "    | [[1, 6], [3, 5], [2, 8]] | 4     |\n",
        "\n",
        "▣ 예시 설명\n",
        "\n",
        "- 2대의 TV를 트는 시간이 2시부터 3시까지, 5시부터 6시까지 총 2시간이고\n",
        "3대의 TV를 트는 시간이 3시부터 5시까지 총 2시간입니다.\n",
        "- 따라서 TV를 2대 이상 트는 시간은 총 4시간입니다.\n",
        "\n"
      ]
    },
    {
      "cell_type": "code",
      "source": [
        "0 1 2 3 4 5 6 7 8 9 10 ... 24\n",
        "  1 1 1 1 1\n",
        "      1 1\n",
        "    1 1 1 1 1 1\n",
        "\n",
        "0 1 2 3 4 5 6 7 8 9 10 ... 24\n",
        "  1 2 3 3 2 1 1"
      ],
      "metadata": {
        "id": "dSgArkun4JG2"
      },
      "execution_count": null,
      "outputs": []
    },
    {
      "cell_type": "code",
      "source": [
        "list(range(1, 6))"
      ],
      "metadata": {
        "colab": {
          "base_uri": "https://localhost:8080/"
        },
        "id": "qpldST4d4wUk",
        "outputId": "13ad41be-b3a9-4b76-c149-c8bdb6b03f8f"
      },
      "execution_count": null,
      "outputs": [
        {
          "output_type": "execute_result",
          "data": {
            "text/plain": [
              "[1, 2, 3, 4, 5]"
            ]
          },
          "metadata": {},
          "execution_count": 1
        }
      ]
    },
    {
      "cell_type": "code",
      "source": [
        "programs = [[1, 6], [3, 5], [2, 8]]\n",
        "used_tv = [0] * 25\n",
        "for start, stop in programs:\n",
        "    for i in range(start, stop):\n",
        "        used_tv[i] += 1\n",
        "A = (1 for i in used_tv if i > 1)   # iterator\n",
        "list(A)"
      ],
      "metadata": {
        "colab": {
          "base_uri": "https://localhost:8080/"
        },
        "id": "jaQDr-ky51Pw",
        "outputId": "398cf961-a610-492d-bfd9-836cb6bfaee5"
      },
      "execution_count": null,
      "outputs": [
        {
          "output_type": "execute_result",
          "data": {
            "text/plain": [
              "[1, 1, 1, 1]"
            ]
          },
          "metadata": {},
          "execution_count": 7
        }
      ]
    },
    {
      "cell_type": "code",
      "metadata": {
        "id": "azdkppg8cmlP",
        "colab": {
          "base_uri": "https://localhost:8080/"
        },
        "outputId": "513763ce-0676-46cd-fd67-1cc4ecca81f8"
      },
      "source": [
        "def solution2(programs):\n",
        "\n",
        "    used_tv = [0] * 25\n",
        "    for start, stop in programs:\n",
        "        for i in range(start, stop):\n",
        "            used_tv[i] += 1\n",
        "\n",
        "    return sum(1 for i in used_tv if i > 1)\n",
        "\n",
        "def solution(programs):\n",
        "    answer = 0\n",
        "    used_tv = [0] * 25\n",
        "\n",
        "    for program in programs:\n",
        "        for i in range(program[0], program[1]):\n",
        "            used_tv[i] = used_tv[i] + 1\n",
        "\n",
        "    for i in used_tv:\n",
        "        if i > 1:\n",
        "            answer = answer + 1\n",
        "    return answer\n",
        "\n",
        "#아래는 테스트케이스 출력을 해보기 위한 코드입니다. 아래 코드는 잘못된 부분이 없으니, solution함수만 수정하세요.\n",
        "programs = [[1, 6], [3, 5], [2, 8]]\n",
        "ret = solution2(programs)\n",
        "\n",
        "#[실행] 버튼을 누르면 출력 값을 볼 수 있습니다.\n",
        "print(\"solution 함수의 반환 값은\", ret, \"입니다.\")"
      ],
      "execution_count": null,
      "outputs": [
        {
          "output_type": "stream",
          "name": "stdout",
          "text": [
            "solution 함수의 반환 값은 4 입니다.\n"
          ]
        }
      ]
    },
    {
      "cell_type": "markdown",
      "metadata": {
        "id": "ZErpWbiQcm4O"
      },
      "source": [
        "### 문제 9. 차량 2부제\n",
        "관공서 주차장에서는 차량 2부제를 실시합니다. 차량 2부제는 차량 번호 끝자리가 홀수인 차량은 홀수 일에만, 짝수인 차량은 짝수 일에만 주차장에 들어올 수 있도록 하는 제도입니다.\n",
        "\n",
        "며칠인지를 나타내는 day와 그날 주차장에 들어오려고 하는 차들의 번호를 담고 있는 배열 numbers가 매개변수로 주어질 때, 주차장에 들어올 수 있는 차량의 수를 return 하도록 solution 함수를 작성했습니다. 그러나, 코드 일부분이 잘못되어있기 때문에, 코드가 올바르게 동작하지 않습니다. 주어진 코드에서 _**한 줄**_만 변경해서 모든 입력에 대해 올바르게 동작하도록 수정해주세요.\n",
        "\n",
        "단, 중복되는 번호판 번호는 주어지지 않습니다.\n",
        "\n",
        "\n",
        "▣ 매개변수 설명\n",
        "\n",
        "며칠인지를 나타내는 day와 그날 주차장에 들어오려고 하는 차들의 번호를 담고 있는 배열 numbers가 solution 함수의 매개변수로 주어집니다.\n",
        "* day는 1 이상 31이하의 자연수입니다.\n",
        "* numbers의 길이는 1 이상 9,000 이하입니다.\n",
        "* numbers의 원소는 1,000 이상 9,999 이하의 자연수입니다.\n",
        "* numbers에는 차량 번호가 중복되어 들어있지 않습니다.\n",
        "\n",
        "▣ return값 설명\n",
        "\n",
        "주차장에 들어올 수 있는 차량의 수를 return 해주세요.\n",
        "\n",
        "▣ 예시\n",
        "\n",
        "    | day| numbers                              | return |\n",
        "    |----|--------------------------------------|--------|\n",
        "    | 17 | [3285, 1724, 4438, 2988, 3131, 2998] | 2      |\n",
        "\n",
        "▣ 예시 설명\n",
        "\n",
        "17일은 홀수 일이므로 홀수 번호 차량인 3285, 3131 총 2대의 차량만 주차장에 들어올 수 있습니다.\n"
      ]
    },
    {
      "cell_type": "code",
      "metadata": {
        "id": "I1OCqT9Rcuum",
        "colab": {
          "base_uri": "https://localhost:8080/"
        },
        "outputId": "8a3e4c41-f71f-4d09-b8e7-faf14eb5f752"
      },
      "source": [
        "def solution2(day, numbers):\n",
        "    odd_even = day % 2\n",
        "    return sum(1 for number in numbers if number%2 == odd_even)\n",
        "\n",
        "\n",
        "def solution(day, numbers):\n",
        "    count = 0\n",
        "    for number in numbers:\n",
        "        if number%2 == day%2:  # 홀수끼리, 짝수끼리 나머지가 같음\n",
        "            count += 1\n",
        "    return count\n",
        "\n",
        "#아래는 테스트케이스 출력을 해보기 위한 코드입니다. 아래 코드는 잘못된 부분이 없으니, solution함수만 수정하세요.\n",
        "day = 17\n",
        "numbers = [3285, 1724, 4438, 2988, 3131, 2998]\n",
        "ret = solution2(day, numbers)\n",
        "\n",
        "#[실행] 버튼을 누르면 출력 값을 볼 수 있습니다.\n",
        "print(\"solution 함수의 반환 값은\", ret, \"입니다.\")"
      ],
      "execution_count": null,
      "outputs": [
        {
          "output_type": "stream",
          "name": "stdout",
          "text": [
            "solution 함수의 반환 값은 2 입니다.\n"
          ]
        }
      ]
    },
    {
      "cell_type": "markdown",
      "metadata": {
        "id": "fKhw6tG_cvH6"
      },
      "source": [
        "### 문제 10. 2로 나누기\n",
        "\n",
        "배열 원소인 자신을 2로 나눈 값이 배열에 있는 수의 개수를 구하려고 합니다. 예를 들어, 배열이 [4, 8, 3, 6, 7]인 경우, 6/2 = 3, 8/2 =4이므로 자신을 2로 나눈 값이 배열에 들어있는 수의 개수는 총 2개입니다.\n",
        "숫자가 담긴 배열 arr가 주어졌을 때, 자신을 2로 나눈 값이 배열에 들어있는 수가 몇 개인지 return 하는 solution 함수를 작성했습니다. 그러나, 코드 일부분이 잘못되어있기 때문에, 코드가 올바르게 동작하지 않습니다. 주어진 코드에서 _**한 줄**_만 변경해서 모든 입력에 대해 올바르게 동작하도록 수정해주세요.\n",
        "\n",
        "\n",
        "▣ 매개변수 설명\n",
        "\n",
        "숫자가 담긴 배열 arr가 solution 함수의 매개변수로 주어집니다.\n",
        "* arr의 크기는 1 이상 1,000 이하입니다.\n",
        "* arr의 원소는 1,000 이하의 자연수입니다.\n",
        "\n",
        "▣ return 값 설명\n",
        "\n",
        "자신을 2로 나눈 값이 배열에 들어있는 수가 몇 개인지 return 해주세요.\n",
        "\n",
        "▣ 예시\n",
        "\n",
        "    | arr             |return |\n",
        "    |-----------------|-------|\n",
        "    | [4, 8, 3, 6, 7] |  2    |\n",
        "\n",
        "▣ 예시 설명\n",
        "\n",
        "- 4/2=2이고, 2는 배열에 없습니다.\n",
        "- 8/2=4이고 4는 4 이고 4는 배열에 존재합니다.\n",
        "- 3/2=1.5이고 1.5는 배열에 없습니다.\n",
        "- 6/2=3이고 3은 배열에 존재합니다.\n",
        "- 7/2=3.5이고 3.5는 배열에 없습니다.\n",
        "- 따라서 자신을 2로 나눈 값이 배열에 들어있는 수가 총 2개이므로 2를 return 합니다.\n"
      ]
    },
    {
      "cell_type": "code",
      "source": [
        "3 in [3, 4, 5]"
      ],
      "metadata": {
        "colab": {
          "base_uri": "https://localhost:8080/"
        },
        "id": "KzT_b1mSBn1r",
        "outputId": "37107acd-6474-44c1-d28a-4f1a06d750aa"
      },
      "execution_count": null,
      "outputs": [
        {
          "output_type": "execute_result",
          "data": {
            "text/plain": [
              "True"
            ]
          },
          "metadata": {},
          "execution_count": 16
        }
      ]
    },
    {
      "cell_type": "code",
      "source": [
        "3 in [4, 5, 6]"
      ],
      "metadata": {
        "colab": {
          "base_uri": "https://localhost:8080/"
        },
        "id": "YXfsm2o7BqzV",
        "outputId": "156fafeb-8ee1-40ca-d9d5-f407a38e208b"
      },
      "execution_count": null,
      "outputs": [
        {
          "output_type": "execute_result",
          "data": {
            "text/plain": [
              "False"
            ]
          },
          "metadata": {},
          "execution_count": 17
        }
      ]
    },
    {
      "cell_type": "code",
      "source": [
        "def solution3(arr):\n",
        "    number = [0] * 1001 # 특정 숫자가 arr에 있는지 없는지 표기, 0 (없음), 1 (있음) number[3] == 1\n",
        "    for i in arr:\n",
        "        number[i] = 1\n",
        "\n",
        "    return sum(1 for i in arr if not i%2 and number[i//2]==1)"
      ],
      "metadata": {
        "id": "EZGXG3YeGwJI"
      },
      "execution_count": null,
      "outputs": []
    },
    {
      "cell_type": "code",
      "metadata": {
        "id": "XZ8hwtJTc8Pd",
        "colab": {
          "base_uri": "https://localhost:8080/"
        },
        "outputId": "4fa72796-4c57-4717-f0e5-1639ce9c0c8b"
      },
      "source": [
        "def solution2(arr):\n",
        "    temp = set(arr)  # 성능 때문에 사용, list에서의 in연산은 느리고, set에서의 in연산은 빠르기 때문\n",
        "    return sum(1 for i in arr if i/2 in temp)\n",
        "\n",
        "def solution(arr):\n",
        "    answer = 0\n",
        "    for i in arr:\n",
        "        if i/2 in arr:\n",
        "            answer += 1\n",
        "    return answer\n",
        "\n",
        "# 아래는 테스트케이스 출력을 해보기 위한 코드입니다. 아래 코드는 잘못된 부분이 없으니, solution함수만 수정하세요.\n",
        "arr = [4, 8, 3, 6, 7]\n",
        "ret = solution3(arr)\n",
        "\n",
        "#[실행] 버튼을 누르면 출력 값을 볼 수 있습니다.\n",
        "print(\"solution 함수의 반환 값은\", ret, \"입니다.\")"
      ],
      "execution_count": null,
      "outputs": [
        {
          "output_type": "stream",
          "name": "stdout",
          "text": [
            "solution 함수의 반환 값은 2 입니다.\n"
          ]
        }
      ]
    }
  ]
}