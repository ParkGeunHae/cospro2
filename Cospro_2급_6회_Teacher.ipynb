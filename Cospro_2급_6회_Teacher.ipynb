{
  "nbformat": 4,
  "nbformat_minor": 0,
  "metadata": {
    "colab": {
      "provenance": [],
      "include_colab_link": true
    },
    "kernelspec": {
      "name": "python3",
      "display_name": "Python 3"
    },
    "language_info": {
      "name": "python"
    }
  },
  "cells": [
    {
      "cell_type": "markdown",
      "metadata": {
        "id": "view-in-github",
        "colab_type": "text"
      },
      "source": [
        "<a href=\"https://colab.research.google.com/github/ParkGeunHae/cospro2/blob/main/Cospro_2%EA%B8%89_6%ED%9A%8C_Teacher.ipynb\" target=\"_parent\"><img src=\"https://colab.research.google.com/assets/colab-badge.svg\" alt=\"Open In Colab\"/></a>"
      ]
    },
    {
      "cell_type": "markdown",
      "source": [
        "### 문제 1. 기온 높았던 날\n",
        "\n",
        "n일 동안 매일매일의 평균 기온이 순서대로 들어있는 배열이 있습니다. 이때, A 번째 일과 B 번째 일 사이에서 A, B 번째 일보다 기온이 높았던 날은 총 며칠이었는지 구하려 합니다.\n",
        "\n",
        "n일 동안 매일매일의 평균 기온이 순서대로 들은 배열 temperature, 두 날짜를 나타내는 자연수 A, B가 매개변수로 주어질 때, A 번째 일과 B 번째 일 사이에서 두 날짜보다 기온이 높았던 날은 총 며칠인지 return 하도록 solution 함수를 작성했습니다. 그러나, 코드 일부분이 잘못되어있기 때문에, 몇몇 입력에 대해서는 올바르게 동작하지 않습니다. 주어진 코드에서 _**한 줄**_만 변경해서 모든 입력에 대해 올바르게 동작하도록 수정하세요.\n",
        "\n",
        "\n",
        "▣ 매개변수 설명\n",
        "\n",
        "n일 동안 매일매일의 평균 기온이 순서대로 들은 배열 temperature, 두 날짜를 나타내는 자연수 A, B가 solution 함수의 매개변수로 주어집니다.\n",
        "* temperature의 길이는 3 이상 30 이하입니다.\n",
        "* temperature의 원소는 -30 이상 50 이하인 정수입니다.\n",
        "* 날짜는 0번째 일부터 시작합니다.\n",
        "* 즉, temperature의 첫 번째 원소는 0번째 날, 두 번째 원소는 1번째 날 ... 을 의미합니다.\n",
        "* A, B는 날짜를 나타내는 정수이며, 0 이상 (temperature의 길이 - 1) 이하입니다.\n",
        "* A는 B보다 항상 작습니다.\n",
        "\n",
        "▣ return 값 설명\n",
        "\n",
        " A 번째 일과 B 번째 일 사이에서 두 날짜보다 기온이 높았던 날은 총 며칠인지 return 해주세요.\n",
        "\n",
        "▣ 예제\n",
        "\n",
        "    | temperature              | A | B | return |\n",
        "    |--------------------------|---|---|--------|\n",
        "    | [3, 2, 1, 5, 4, 3, 3, 2] | 1 | 6 | 2      |\n",
        "\n",
        "▣ 예제 설명\n",
        "\n",
        "예제 #1\n",
        "* 1번째 날 온도는 2입니다.\n",
        "* 6번째 날 온도는 3입니다.\n",
        "* 두 날짜 사이에서 두 날짜보다 기온이 높았던 날은 3번째, 4번째 날입니다.\n",
        "\n",
        "따라서 2를 return 하면 됩니다.\n"
      ],
      "metadata": {
        "id": "H3HNjQvwaoa0"
      }
    },
    {
      "cell_type": "code",
      "source": [
        "# ^^  이전 문제 풀이에서 많이 해 보셨지만\n",
        "# 아래의 내용은 1개의 comprehension과 sum 함수로 해결할 수 있습니다"
      ],
      "metadata": {
        "id": "XmQfxjqWJyeO"
      },
      "execution_count": null,
      "outputs": []
    },
    {
      "cell_type": "code",
      "execution_count": null,
      "metadata": {
        "id": "Oua6YonvaA3g",
        "colab": {
          "base_uri": "https://localhost:8080/"
        },
        "outputId": "a5fee207-fa44-4787-dda1-4e3656010b82"
      },
      "outputs": [
        {
          "output_type": "stream",
          "name": "stdout",
          "text": [
            "solution 함수의 반환 값은 2 입니다.\n"
          ]
        }
      ],
      "source": [
        "def solution(temperature, A, B):\n",
        "    answer = 0\n",
        "    for i in range(A+1, B):  # i=0, 1, 2, .... n-1 => i= A+1, ... B-1\n",
        "        if temperature[i] > temperature[A] and temperature[i] > temperature[B]:\n",
        "            answer += 1\n",
        "    return answer\n",
        "\n",
        "#아래는 테스트케이스 출력을 해보기 위한 코드입니다. 아래에는 잘못된 부분이 없으니 위의 코드만 수정하세요.\n",
        "temperature = [3, 2, 1, 5, 4, 3, 3, 2]\n",
        "A = 1\n",
        "B = 6\n",
        "ret = solution(temperature, A, B)\n",
        "\n",
        "#[실행] 버튼을 누르면 출력 값을 볼 수 있습니다.\n",
        "print(\"solution 함수의 반환 값은\", ret, \"입니다.\")"
      ]
    },
    {
      "cell_type": "markdown",
      "source": [
        "### 문제 2. 종이나누기\n",
        "\n",
        "한 줄로 서 있는 사람들에게 종이를 다음과 같은 방법으로 나눠주려 합니다.\n",
        "\n",
        "* 종이 K 장을 맨 앞사람에게 줍니다.\n",
        "* 맨 앞사람은 자신이 필요한만큼 종이를 챙긴 후, 남은 종이를 뒷사람한테 전달합니다.\n",
        "* 뒷사람 또한 자신이 필요한만큼 종이를 챙긴 후, 남은 종이를 뒷사람에게 전달합니다.\n",
        "* 전달할 종이가 없거나, 모든 사람이 필요한 만큼 종이를 가질 때까지 계속해서 뒷사람에게 남은 종이를 전달합니다.\n",
        "\n",
        "한 줄로 서 있는 사람들이 각자 필요로 하는 종이 수가 순서대로 들어있는 배열 papers, 처음에 맨 앞사람에게 전달한 종이 수 K가 매개변수로 주어질 때, 필요한 만큼의 종이를 받은 사람은 모두 몇 명인지 return 하도록 solution 함수를 작성했습니다. 그러나, 코드 일부분이 잘못되어 있기 때문에 몇몇 입력에 대해서는 올바르게 동작하지 않습니다. 주어진 코드에서 _**한 줄**_만 변경해서 모든 입력에 대해 올바르게 동작하도록 수정하세요.\n",
        "\n",
        "\n",
        "▣ 매개변수 설명\n",
        "\n",
        "한 줄로 서 있는 사람들이 각자 필요로 하는 종이 수가 순서대로 들어있는 배열 papers, 처음에 맨 앞사람에게 전달한 종이 수 K가 solution 함수의 매개변수로 주어집니다\n",
        "* papers의 길이는 1 이상 20 이하입니다.\n",
        "* papers의 각 원소는 1 이상 20 이하인 자연수입니다.\n",
        "* K는 1 이상 400 이하인 자연수입니다.\n",
        "\n",
        "▣ return 값 설명\n",
        "\n",
        "필요한 만큼의 종이를 받은 사람은 모두 몇 명인지 return 해주세요.\n",
        "\n",
        "▣ 예시\n",
        "\n",
        "    | papers      \t  | K  | return |\n",
        "    |-----------------|----|--------|\n",
        "    | [2, 4, 3, 2, 1] | 10 | 3  \t|\n",
        "    | [2, 4, 3, 2, 1] | 14 | 5  \t|\n",
        "\n",
        "▣ 예시 설명\n",
        "\n",
        "예시 #1\n",
        "\n",
        "맨 앞 사람부터 순서대로 [2장, 4장, 3장, 2장, 1장]의 종이가 필요합니다.\n",
        "\n",
        "* 맨 앞사람이 종이 2장을 가지고 남은 8장을 뒷사람에게 넘깁니다.\n",
        "* 두 번째 사람이 종이 4장을 가지고 남은 4장을 뒷사람에게 넘깁니다.\n",
        "* 세 번째 사람이 종이 3장을 가지고 남은 1장을 뒷사람에게 넘깁니다.\n",
        "* 네 번째 사람은 종이 2장이 필요한데 넘어온 종이는 1장이므로 원하는 종이 개수만큼 가질 수 없습니다.\n",
        "* 나머지 사람들도 종이를 원하는 개수만큼 가질 수 없습니다.\n",
        "\n",
        "따라서 필요한 만큼의 종이를 받는 사람은 3명입니다.\n",
        "\n",
        "예시 #2\n",
        "\n",
        "모든 사람이 필요한 만큼의 종이를 받을 수 있습니다."
      ],
      "metadata": {
        "id": "1clnfooMax6r"
      }
    },
    {
      "cell_type": "code",
      "source": [
        "papers = [2, 4, 2, 3, 1]\n",
        "K = 10\n",
        "for i, paper in enumerate(papers):\n",
        "    print(i, paper)"
      ],
      "metadata": {
        "colab": {
          "base_uri": "https://localhost:8080/"
        },
        "id": "KH0icqR1NDQI",
        "outputId": "241de117-877a-4bb1-c365-a25aa2eb7bbf"
      },
      "execution_count": null,
      "outputs": [
        {
          "output_type": "stream",
          "name": "stdout",
          "text": [
            "0 2\n",
            "1 4\n",
            "2 2\n",
            "3 3\n",
            "4 1\n"
          ]
        }
      ]
    },
    {
      "cell_type": "code",
      "source": [
        "def solution(papers, K):\n",
        "    length = len(papers)  # 전체 사람의 인원 수\n",
        "    for i, paper in enumerate(papers):\n",
        "        K -= paper\n",
        "        if K <= 0:\n",
        "            return i    # 중간에 종이가 고갈된 경우\n",
        "    return length\n",
        "\n",
        "#아래는 테스트케이스 출력을 해보기 위한 코드입니다. 아래에는 잘못된 부분이 없으니 위의 코드만 수정하세요.\n",
        "papers1 = [2, 4, 2, 3, 1]\n",
        "K1 = 10\n",
        "ret1 = solution(papers1, K1)\n",
        "\n",
        "#[실행] 버튼을 누르면 출력 값을 볼 수 있습니다.\n",
        "print(\"solution 함수의 반환 값은\", ret1, \"입니다.\")\n",
        "\n",
        "papers2 = [2, 4, 2, 3, 1]\n",
        "K2 = 14\n",
        "ret2 = solution(papers2, K2)\n",
        "\n",
        "#[실행] 버튼을 누르면 출력 값을 볼 수 있습니다.\n",
        "print(\"solution 함수의 반환 값은\", ret2, \"입니다.\")"
      ],
      "metadata": {
        "id": "Kn3Q1DIxa8uO",
        "colab": {
          "base_uri": "https://localhost:8080/"
        },
        "outputId": "a59a5e85-b639-48a8-f3ac-35f23a3ab545"
      },
      "execution_count": null,
      "outputs": [
        {
          "output_type": "stream",
          "name": "stdout",
          "text": [
            "solution 함수의 반환 값은 3 입니다.\n",
            "solution 함수의 반환 값은 5 입니다.\n"
          ]
        }
      ]
    },
    {
      "cell_type": "markdown",
      "source": [
        "### 문제 3. 유니폼 주문\n",
        "\n",
        "단체 유니폼을 주문하려고 합니다. 사람들의 덩치를 수치로 표현할 때 주문해야 하는 유니폼의 사이즈는 다음과 같습니다.\n",
        "\n",
        "    | 덩치              | 사이즈 |\n",
        "    |-------------------|--------|\n",
        "    | 95 미만           | S      |\n",
        "    | 95 이상 100 미만  | M      |\n",
        "    | 100 이상 105 미만 | L      |\n",
        "    | 105 이상          | XL     |\n",
        "\n",
        "사람들의 덩치를 담은 배열 people이 매개변수로 주어질 때, 주문해야 하는 유니폼 사이즈의 수를 [S, M, L, XL] 순으로 배열에 담아 return 하도록 solution 함수를 작성해주세요.\n",
        "\n",
        "▣ 매개변수 설명\n",
        "\n",
        "사람들의 덩치를 담은 배열 people이 solution 함수의 매개변수로 주어집니다.\n",
        "* people의 길이는 1 이상 100 이하인 자연수입니다.\n",
        "* 사람들의 덩치는 80 이상 120 이하인 자연수입니다.\n",
        "\n",
        "▣ return 값 설명\n",
        "\n",
        "주문해야 하는 유니폼 사이즈의 수를 [S, M, L, XL] 순으로 배열에 담아 return 합니다.\n",
        "\n",
        "▣ 예시\n",
        "\n",
        "    | people                  | return       |\n",
        "    |-------------------------|--------------|\n",
        "    | [97, 102, 93, 100, 107] | [1, 1, 2, 1] |\n",
        "\n",
        "▣ 예시 설명\n",
        "\n",
        "- 3번째 사람은 S 사이즈를 입어야합니다.\n",
        "- 1번째 사람은 M 사이즈를 입어야합니다.\n",
        "- 2, 4번째 사람은 L 사이즈를 입어야합니다.\n",
        "- 5번째 사람은 XL 사이즈를 입어야합니다.\n"
      ],
      "metadata": {
        "id": "LOunludGa9MX"
      }
    },
    {
      "cell_type": "code",
      "source": [
        "#80 이상 120 이하\n",
        "| 95 미만           | S      |\n",
        "| 95 이상 100 미만  | M      |\n",
        "| 100 이상 105 미만 | L      |\n",
        "| 105 이상          | XL     |\n",
        "80 - 94 : S\n",
        "95 - 99 : M\n",
        "100 - 104 : L\n",
        "105 - 120 : XL"
      ],
      "metadata": {
        "id": "FuOjGEQo2Ntk"
      },
      "execution_count": null,
      "outputs": []
    },
    {
      "cell_type": "code",
      "source": [
        "for x in [80/5, 94/5, 95/5, 99/5, 100/5, 104/5, 105/5, 120/5]:\n",
        "    print(int(x) - 16, end=' ')\n",
        "# size//5 - 16\n",
        "# 0, 1, 2 : S\n",
        "# 3 : M\n",
        "# 4 : L\n",
        "# 5, 6, 7, 8 : XL"
      ],
      "metadata": {
        "colab": {
          "base_uri": "https://localhost:8080/"
        },
        "id": "NwGrV98y2c7H",
        "outputId": "1f5488c7-a0b7-44db-ee86-29d874350a5c"
      },
      "execution_count": null,
      "outputs": [
        {
          "output_type": "stream",
          "name": "stdout",
          "text": [
            "0 2 3 3 4 4 5 8 "
          ]
        }
      ]
    },
    {
      "cell_type": "code",
      "source": [
        "#다음과 같이 import를 사용할 수 있습니다.\n",
        "#import math\n",
        "def solution3(people):\n",
        "    answer = [0] * 4  # 0:S, 1:M, 2:L, 3:XL\n",
        "    no = [0, 0, 0, 1, 2, 3, 3, 3, 3]\n",
        "    for size in people:\n",
        "        t = no[size//5 - 16]\n",
        "        answer[t] += 1\n",
        "    return answer\n",
        "\n",
        "def solution2(people):\n",
        "    answer = [0] * 4  # 0:S, 1:M, 2:L, 3:XL\n",
        "    for size in people:\n",
        "        no = 0 if size < 95 else 1 if size < 100 else 2 if size < 105 else 3\n",
        "        answer[no] += 1\n",
        "    return answer\n",
        "\n",
        "\n",
        "def solution(people):\n",
        "    #여기에 코드를 작성해주세요.\n",
        "    answer = [0] * 4  # 0:S, 1:M, 2:L, 3:XL\n",
        "    for size in people:\n",
        "        if size < 95:\n",
        "            answer[0] += 1\n",
        "        elif size < 100:\n",
        "            answer[1] += 1\n",
        "        elif size < 105:\n",
        "            answer[2] += 1\n",
        "        else:\n",
        "            answer[3] += 1\n",
        "    return answer\n",
        "\n",
        "#아래는 테스트케이스 출력을 해보기 위한 코드입니다.\n",
        "people = [97, 102, 93, 100, 107]\n",
        "ret = solution3(people)\n",
        "\n",
        "#[실행] 버튼을 누르면 출력 값을 볼 수 있습니다.\n",
        "print(\"solution 함수의 반환 값은 \", ret, \" 입니다.\")"
      ],
      "metadata": {
        "id": "kx0-W7FXbO62",
        "colab": {
          "base_uri": "https://localhost:8080/"
        },
        "outputId": "6b26efaa-e3ef-490b-8628-ef39e54e9ffd"
      },
      "execution_count": null,
      "outputs": [
        {
          "output_type": "stream",
          "name": "stdout",
          "text": [
            "solution 함수의 반환 값은  [1, 1, 2, 1]  입니다.\n"
          ]
        }
      ]
    },
    {
      "cell_type": "markdown",
      "source": [
        "## 문제 4. 카드 게임\n",
        "카드를 3장 뽑아 점수를 내는 게임을 하려고 합니다. 각 카드는 색이 칠해져 있고, 숫자가 적혀 있습니다.\n",
        "\n",
        "획득한 점수를 계산하는 규칙은 다음과 같습니다.\n",
        "1. 카드 3장의 색이 모두 같다면 획득한 점수는 적힌 숫자의 총합에 3을 곱한 값입니다.\n",
        "2. 카드 2장의 색이 같고, 1장의 색이 다르다면 획득한 점수는 적힌 숫자의 총합에 2를 곱한 값입니다.\n",
        "3. 카드 3장의 색이 모두 다르다면 획득한 점수는 적힌 숫자의 총합입니다.\n",
        "\n",
        "뽑은 카드의 색과 숫자를 문자열로 담은 2차원 배열 cards가 매개변수로 주어질 때, 획득한 총 점수를 return 하도록 solution 함수를 작성해주세요.\n",
        "\n",
        "\n",
        "▣ 매개변수 설명\n",
        "\n",
        "뽑은 카드의 색과 숫자를 문자열로 담은 2차원 배열 cards가 solution 함수의 매개변수로 주어집니다.\n",
        "* cards는 3x2 크기인 2차원 배열입니다.\n",
        "* cards의 각 원소는 [색, 숫자] 입니다.\n",
        "    * 카드의 색은 [\"red\", \"black\", \"blue\"] 중 하나입니다.\n",
        "    * 카드에 적힌 숫자는 1 이상 9 이하인 자연수입니다.\n",
        "\n",
        "▣ return 값 설명\n",
        "\n",
        "획득한 총 점수를 return 합니다.\n",
        "\n",
        "▣ 예제\n",
        "\n",
        "    | cards                                      \t | return |\n",
        "    |------------------------------------------------|--------|\n",
        "    | [[\"blue\", \"2\"], [\"red\", \"5\"], [\"black\", \"3\"]]  | 10 \t  |\n",
        "    | [[\"blue\", \"2\"], [\"blue\", \"5\"], [\"black\", \"3\"]] | 20 \t  |\n",
        "\n",
        "▣ 예제 설명\n",
        "\n",
        "예제 #1\n",
        "\n",
        "모든 카드 색이 모두 다르기 때문에 획득한 점수는 적힌 숫자의 총합인 10 입니다.\n",
        "\n",
        "예제 #2\n",
        "\n",
        "두 카드 색이 같고, 1장의 색이 다릅니다. 따라서’ 획득한 점수는 적힌 숫자의 총합에 2를 곱한 20 입니다.\n"
      ],
      "metadata": {
        "id": "aO-1h5SibPby"
      }
    },
    {
      "cell_type": "code",
      "source": [
        "#다음과 같이 import를 사용할 수 있습니다.\n",
        "#import math\n",
        "\n",
        "def solution(cards):\n",
        "    #여기에 코드를 작성해주세요.\n",
        "    answer = 0\n",
        "    data = {'red':0, 'blue':0, 'black':0} # 색의 발생 횟수\n",
        "    for color, num in cards:\n",
        "        data[color] += 1\n",
        "        answer += int(num)\n",
        "    #print(data.values(), max(data.values()))\n",
        "    return answer * max(data.values())\n",
        "\n",
        "#아래는 테스트케이스 출력을 해보기 위한 코드입니다.\n",
        "cards1 = [[\"blue\", \"2\"], [\"red\", \"5\"], [\"black\", \"3\"]]\n",
        "ret1 = solution(cards1)\n",
        "\n",
        "#[실행] 버튼을 누르면 출력 값을 볼 수 있습니다.\n",
        "print(\"solution 함수의 반환 값은\", ret1, \"입니다.\")\n",
        "\n",
        "cards2 = [[\"blue\", \"2\"], [\"blue\", \"5\"], [\"black\", \"3\"]]\n",
        "ret2 = solution(cards2)\n",
        "\n",
        "#[실행] 버튼을 누르면 출력 값을 볼 수 있습니다.\n",
        "print(\"solution 함수의 반환 값은\", ret2, \"입니다.\")"
      ],
      "metadata": {
        "id": "edgMEBPoYk7N",
        "colab": {
          "base_uri": "https://localhost:8080/"
        },
        "outputId": "5072f1fb-a14e-44ca-a2d8-1804bcbe2eaf"
      },
      "execution_count": null,
      "outputs": [
        {
          "output_type": "stream",
          "name": "stdout",
          "text": [
            "solution 함수의 반환 값은 10 입니다.\n",
            "solution 함수의 반환 값은 20 입니다.\n"
          ]
        }
      ]
    },
    {
      "cell_type": "markdown",
      "source": [
        "## 문제 5. 빈 병 교환\n",
        "\n",
        "X 마트에서는 빈 병 n개와 음료수 한 병을 교환해줍니다.\n",
        "\n",
        "예를 들어, 현재 가진 돈이 8원, 음료수 한 병은 2원이고 n이 4라면 음료수 4개를 살 수 있습니다. 음료수 네개를 다 마신 후, 남은 빈 병 4개를 가져가면 음료수를 한 병 더 받을 수 있습니다. 따라서 8원으로는 음료수를 총 5병 마실 수 있습니다.\n",
        "\n",
        "가진 돈 money, 음료수 한 병의 가격 price, 음료수 한 병과 교환하는데 필요한 빈 병의 수 n이 매개변수로 주어질 때, 마실 수 있는 총 음료수의 수를 return 하도록 solution 함수를 작성했습니다. 그러나, 코드 일부분이 잘못되어있기 때문에, 몇몇 입력에 대해서는 올바르게 동작하지 않습니다. 주어진 코드에서 _**한 줄**_만 변경해서 모든 입력에 대해 올바르게 동작하도록 수정하세요.\n",
        "\n",
        "\n",
        "▣ 매개변수 설명\n",
        "\n",
        "가진 돈 money, 음료수 한 병의 가격 price, 음료수 한 병과 교환하는데 필요한 빈 병의 수 n이 solution 함수의 매개변수로 주어집니다.\n",
        "* 가진 돈 money는 1 이상 1,000 이하인 자연수입니다.\n",
        "* 음료수 한 병의 가격 price는 1 이상 100 이하인 자연수입니다.\n",
        "* 음료수 한 병과 교환하는데 필요한 빈 병의  수 n은 3 이상 10 이하인 자연수입니다.\n",
        "\n",
        "▣ return 값 설명\n",
        "\n",
        "마실 수 있는 총 음료수의 수를 return 해주세요.\n",
        "\n",
        "▣ 예제\n",
        "\n",
        "    | money | price | n | return |\n",
        "    |-------|-------|---|--------|\n",
        "    | 8 \t| 2 \t| 4 | 5      |\n",
        "    | 6 \t| 2 \t| 2 | 5      |\n",
        "\n",
        "▣ 예제 설명\n",
        "\n",
        "예제 #1\n",
        "\n",
        "문제에 나온 예와 같습니다.\n",
        "\n",
        "예제 #2\n",
        "\n",
        "1. 6원으로 2원짜리 음료수 3개를 삽니다.\n",
        "2. 음료를 다 마시면 빈 병 3개가 남습니다. 이 중 빈 병 두개를 가져가 새 음료수 한 병과 교환합니다.\n",
        "3. 음료를 마시면 빈 병 2개가 남습니다. 이를 새 음료수 한 병으로 교환합니다.\n",
        "따라서 총 6원으로는 음료수 5병을 마실 수 있습니다.\n"
      ],
      "metadata": {
        "id": "kggwxDbzYlM5"
      }
    },
    {
      "cell_type": "code",
      "source": [
        "def solution(money, price, n):\n",
        "    answer = 0\n",
        "    empty_bottle = answer = money // price\n",
        "    # 빈병으로 새로운 음료를 구매할 수 있는 동안\n",
        "    while n <= empty_bottle:\n",
        "        # 빈병을 사용해 음료 1개 구매\n",
        "        empty_bottle = empty_bottle - n\n",
        "        # 음료개수 1개 증가\n",
        "        answer += 1\n",
        "        # 빈병 1개 증가\n",
        "        empty_bottle += 1\n",
        "    return answer\n",
        "\n",
        "#아래는 테스트케이스 출력을 해보기 위한 코드입니다. 아래에는 잘못된 부분이 없으니 위의 코드만 수정하세요.\n",
        "money1 = 8\n",
        "price1 = 2\n",
        "n1 = 4\n",
        "ret1 = solution(money1, price1, n1)\n",
        "\n",
        "#[실행] 버튼을 누르면 출력 값을 볼 수 있습니다.\n",
        "print(\"solution 함수의 반환 값은\", ret1, \"입니다.\")\n",
        "\n",
        "money2 = 6\n",
        "price2 = 2\n",
        "n2 = 2\n",
        "ret2 = solution(money2, price2, n2)\n",
        "\n",
        "#[실행] 버튼을 누르면 출력 값을 볼 수 있습니다.\n",
        "print(\"solution 함수의 반환 값은\", ret2, \"입니다.\")"
      ],
      "metadata": {
        "id": "2lao4fG-ZZCG",
        "colab": {
          "base_uri": "https://localhost:8080/"
        },
        "outputId": "333468f9-6633-42b4-ccdc-ba04cbaf8963"
      },
      "execution_count": null,
      "outputs": [
        {
          "output_type": "stream",
          "name": "stdout",
          "text": [
            "solution 함수의 반환 값은 5 입니다.\n",
            "solution 함수의 반환 값은 5 입니다.\n"
          ]
        }
      ]
    },
    {
      "cell_type": "markdown",
      "source": [
        "## 문제 6. 회원가입\n",
        "X 사이트에서는 회원가입을 할 때 다음의 규칙을 지켜 비밀번호를 생성해야 합니다.\n",
        "1. 한 개 이상의 알파벳 대문자를 포함해야 합니다.\n",
        "2. 두 개 이상의 알파벳 소문자를 포함해야 합니다.\n",
        "3. 두 개 이상의 숫자를 포함해야 합니다.\n",
        "\n",
        "생성하고자 하는 비밀번호 password가 매개변수로 주어질 때, 생성가능한 비밀번호면 true를 그렇지 않으면 false를 return 하도록 solution 함수를 작성하려 합니다. 빈칸을 채워 전체 코드를 완성해주세요.\n",
        "\n",
        "\n",
        "▣ 매개변수 설명\n",
        "\n",
        "생성하고자 하는 비밀번호 password가 solution 함수의 매개변수로 주어집니다.\n",
        "* password는 알파벳 대문자, 소문자, 숫자로만 이루어진 문자열입니다.\n",
        "* password의 길이는 5 이상 15 이하입니다.\n",
        "\n",
        "▣ return 값 설명\n",
        "\n",
        "생성가능한 비밀번호면 true를 그렇지 않으면 false를 return 합니다.\n",
        "\n",
        "▣ 예시\n",
        "\n",
        "    | password     | return |\n",
        "    |--------------|--------|\n",
        "    | \"helloworld\" | false  |\n",
        "    | \"Hello123\"   | true   |\n",
        "\n",
        "▣ 예시 설명\n",
        "예시 #1\n",
        "알파벳 대문자와 숫자를 포함하지 않았습니다.\n",
        "\n",
        "예시 #2\n",
        "알파벳 대문자 1개, 알파벳 소문자 4개, 숫자 3개를 포함했으므로 생성할 수 있습니다.\n",
        "\n"
      ],
      "metadata": {
        "id": "QjBPYmVxYv8W"
      }
    },
    {
      "cell_type": "code",
      "source": [
        "ord('A'), ord('B'), ord('C'), ord('Z')"
      ],
      "metadata": {
        "colab": {
          "base_uri": "https://localhost:8080/"
        },
        "id": "jbsTpAJy9X4t",
        "outputId": "93154132-8a8c-45e9-b1e1-878b6de5a6ac"
      },
      "execution_count": null,
      "outputs": [
        {
          "output_type": "execute_result",
          "data": {
            "text/plain": [
              "(65, 66, 67, 90)"
            ]
          },
          "metadata": {},
          "execution_count": 21
        }
      ]
    },
    {
      "cell_type": "code",
      "source": [
        "ord('a'), ord('b'), ord('c'), ord('z')"
      ],
      "metadata": {
        "colab": {
          "base_uri": "https://localhost:8080/"
        },
        "id": "Vr8ZHwiY9fgm",
        "outputId": "986d949e-599a-4417-8376-55d820e79913"
      },
      "execution_count": null,
      "outputs": [
        {
          "output_type": "execute_result",
          "data": {
            "text/plain": [
              "(97, 98, 99, 122)"
            ]
          },
          "metadata": {},
          "execution_count": 22
        }
      ]
    },
    {
      "cell_type": "code",
      "source": [
        "ord('0'), ord('1'), ord('2'), ord('9')"
      ],
      "metadata": {
        "colab": {
          "base_uri": "https://localhost:8080/"
        },
        "id": "6CdX29cS9iYK",
        "outputId": "c08bc0dc-75eb-4c1f-85ac-0948e5ec05db"
      },
      "execution_count": null,
      "outputs": [
        {
          "output_type": "execute_result",
          "data": {
            "text/plain": [
              "(48, 49, 50, 57)"
            ]
          },
          "metadata": {},
          "execution_count": 23
        }
      ]
    },
    {
      "cell_type": "code",
      "source": [
        "#isdecimal  islower  isupper  # dir(str)"
      ],
      "metadata": {
        "id": "J4ylb6o8-dnz"
      },
      "execution_count": null,
      "outputs": []
    },
    {
      "cell_type": "code",
      "source": [
        "help(str.islower)"
      ],
      "metadata": {
        "colab": {
          "base_uri": "https://localhost:8080/"
        },
        "id": "Iks56mrr-spD",
        "outputId": "c04ced82-69c2-44da-a48b-55371f559964"
      },
      "execution_count": null,
      "outputs": [
        {
          "output_type": "stream",
          "name": "stdout",
          "text": [
            "Help on method_descriptor:\n",
            "\n",
            "islower(self, /)\n",
            "    Return True if the string is a lowercase string, False otherwise.\n",
            "    \n",
            "    A string is lowercase if all cased characters in the string are lowercase and\n",
            "    there is at least one cased character in the string.\n",
            "\n"
          ]
        }
      ]
    },
    {
      "cell_type": "code",
      "source": [
        "def solution2(password):\n",
        "    capital_count, small_count, digit_count = 0, 0, 0\n",
        "    for p in password:\n",
        "        if p.isupper():\n",
        "            capital_count += 1\n",
        "        elif p.islower():\n",
        "            small_count += 1\n",
        "        elif p.isdecimal():   # 문제에서 대문자, 소문자, 숫자만 있다고 했으니 else로 변경해도 됩니다.\n",
        "            digit_count += 1\n",
        "    answer = capital_count>0 and small_count>1 and digit_count>1\n",
        "    return answer\n",
        "\n",
        "\n",
        "def solution(password):\n",
        "    capital_count, small_count, digit_count = 0, 0, 0\n",
        "    for p in password:\n",
        "        if p >= 'A' and p <= 'Z':\n",
        "            capital_count += 1\n",
        "        elif p >= 'a' and p <= 'z':\n",
        "            small_count += 1\n",
        "        elif p >= '0' and p <= '9':\n",
        "            digit_count += 1\n",
        "    if capital_count>0 and small_count>1 and digit_count>1:\n",
        "        answer = True\n",
        "    else:\n",
        "        answer = False\n",
        "    return answer\n",
        "\n",
        "#아래는 테스트케이스 출력을 해보기 위한 코드입니다.\n",
        "password1 = \"helloworld\"\n",
        "ret1 = solution2(password1)\n",
        "\n",
        "#[실행] 버튼을 누르면 출력 값을 볼 수 있습니다.\n",
        "print(\"solution 함수의 반환 값은\", ret1, \"입니다.\")\n",
        "\n",
        "password2 = \"Hello123\"\n",
        "ret2 = solution2(password2)\n",
        "\n",
        "#[실행] 버튼을 누르면 출력 값을 볼 수 있습니다.\n",
        "print(\"solution 함수의 반환 값은\", ret2, \"입니다.\")"
      ],
      "metadata": {
        "id": "rLrILXInYvvV",
        "colab": {
          "base_uri": "https://localhost:8080/"
        },
        "outputId": "d18befdd-6b71-404b-f2a4-7e646ee3bf84"
      },
      "execution_count": null,
      "outputs": [
        {
          "output_type": "stream",
          "name": "stdout",
          "text": [
            "solution 함수의 반환 값은 False 입니다.\n",
            "solution 함수의 반환 값은 True 입니다.\n"
          ]
        }
      ]
    },
    {
      "cell_type": "markdown",
      "source": [
        "## 문제 7. 의자, 책상 구매\n",
        "\n",
        "예산 내에서 의자와 책상을 하나씩 사려고 합니다. 이때, 의자와 책상 가격의 합이 가장 크게 사려고 합니다.\n",
        "\n",
        "예를 들어, 돈을 7원을 가지고 있고 의자의 가격이 [2, 5], 책상의 가격이 [4, 3, 5]일 때, 첫번째 의자와 세번째 책상을 구매하면 가격의 합이 7원이고, 이때 의자와 책상 가격의 합이 가장 큽니다.\n",
        "\n",
        "예산 money, 의자의 가격이 담긴 배열 chairs, 책상의 가격이 담긴 배열 desks가 매개변수로 주어집니다. 이때 예산으로 감당할 수 있는 의자와 책상 가격 합의 최댓값을 return 하도록 solution 함수를 작성하려 합니다. 빈칸을 채워 전체 코드를 완성해주세요.\n",
        "\n",
        "\n",
        "▣ 매개변수 설명\n",
        "\n",
        "예산 money, 의자의 가격이 담긴 배열 chairs, 책상의 가격이 담긴 배열 desks가 solution 함수의 매개변수로 주어집니다.\n",
        "* 예산 money는 1 이상 1,000 이하인 자연수입니다.\n",
        "* 의자와 책상의 가격은 1 이상 1,000 이하인 자연수입니다.\n",
        "* chairs와 desks의 길이는 1 이상 100 이하입니다.\n",
        "\n",
        "▣ return 값 설명\n",
        "\n",
        "의자와 책상을 하나씩 살때, 예산으로 감당할 수 있는 의자와 책상 가격 합의 최댓값을 return 합니다.\n",
        "* 단, 가지고 있는 금액으로 의자와 책상을 하나씩 살 수 없는 경우에는 0을 return 합니다.\n",
        "\n",
        "▣ 예제\n",
        "\n",
        "    | money | chairs | desks     | return |\n",
        "    |-------|--------|-----------|--------|\n",
        "    | 7 \t| [2, 5] | [4, 3, 5] | 7      |\n",
        "    | 7 \t| [3]\t | [5]       | 0      |\n",
        "\n",
        "▣ 예제 설명\n",
        "\n",
        "예제 #1\n",
        "\n",
        "문제에 나온 예와 같습니다.\n",
        "\n",
        "예제 #2\n",
        "\n",
        "3원짜리 의자와 5원짜리 책상을 구매하면 8원이 듭니다. 이는 예산 7원을 초과하기 때문에 0을 return 합니다.\n"
      ],
      "metadata": {
        "id": "37daRFBTZZtk"
      }
    },
    {
      "cell_type": "code",
      "source": [
        "chairs = [2, 5]\n",
        "desks = [4, 3, 5]\n",
        "for chair in chairs:\n",
        "    for desk in desks:\n",
        "        print(chair, desk)"
      ],
      "metadata": {
        "colab": {
          "base_uri": "https://localhost:8080/"
        },
        "id": "qugVFJqmAYLe",
        "outputId": "e0efa47c-bf27-4535-8337-7dd34183ee1f"
      },
      "execution_count": null,
      "outputs": [
        {
          "output_type": "stream",
          "name": "stdout",
          "text": [
            "2 4\n",
            "2 3\n",
            "2 5\n",
            "5 4\n",
            "5 3\n",
            "5 5\n"
          ]
        }
      ]
    },
    {
      "cell_type": "code",
      "source": [
        "def solution(money, chairs, desks):\n",
        "    answer = 0\n",
        "    for chair in chairs:\n",
        "        for desk in desks:\n",
        "            price = chair + desk\n",
        "            if answer < price and price <= money:\n",
        "                answer = price\n",
        "    return answer\n",
        "\n",
        "#아래는 테스트케이스 출력을 해보기 위한 코드입니다.\n",
        "money1 = 7\n",
        "chairs1 = [2, 5]\n",
        "desks1 = [4, 3, 5]\n",
        "ret1 = solution(money1, chairs1, desks1)\n",
        "\n",
        "#[실행] 버튼을 누르면 출력 값을 볼 수 있습니다.\n",
        "print(\"solution 함수의 반환 값은\", ret1, \"입니다.\")\n",
        "\n",
        "money2 = 7\n",
        "chairs2 = [3]\n",
        "desks2 = [5]\n",
        "ret2 = solution(money2, chairs2, desks2)\n",
        "\n",
        "#[실행] 버튼을 누르면 출력 값을 볼 수 있습니다.\n",
        "print(\"solution 함수의 반환 값은\", ret2, \"입니다.\")"
      ],
      "metadata": {
        "id": "lMVYMXPLZj13",
        "colab": {
          "base_uri": "https://localhost:8080/"
        },
        "outputId": "0da2246f-c456-41aa-824c-fafbb756352f"
      },
      "execution_count": null,
      "outputs": [
        {
          "output_type": "stream",
          "name": "stdout",
          "text": [
            "solution 함수의 반환 값은 7 입니다.\n",
            "solution 함수의 반환 값은 0 입니다.\n"
          ]
        }
      ]
    },
    {
      "cell_type": "markdown",
      "source": [
        "## 문제 8. 뒤집은 수와의 차\n",
        "\n",
        "주어진 수와 주어진 수를 뒤집은 수와의 차를 계산하려고 합니다.\n",
        "\n",
        "예를 들어, 주어진 수가 120인 경우 이를 뒤집으면 021입니다. 십진수에서 앞의 0은 제거해야하므로 120을 뒤집은 수는 21입니다. 따라서 120과 21의 차는 99 입니다.\n",
        "\n",
        "이를 계산하기 위해 다음과 같이 프로그램 구조를 작성했습니다.\n",
        "\n",
        "1. 주어진 수의 자릿수를 구합니다.\n",
        "2. 구한 자릿수를 이용하여 주어진 수를 거꾸로 뒤집습니다.\n",
        "3. 주어진 수와 뒤집은 수의 차이를 구합니다.\n",
        "\n",
        "수 number가 주어질 때, 주어진 수와 주어진 수를 뒤집은 수와의 차를 return 하도록 solution 함수를 작성하려 합니다. 위 구조를 참고하여 코드가 올바르게 동작할 수 있도록 빈칸에 주어진 func_a, func_b, func_c 함수와 매개변수를 알맞게 채워주세요.\n",
        "\n",
        "\n",
        "▣ 매개변수 설명\n",
        "\n",
        "수 number가 solution 함수의 매개변수로 주어집니다.\n",
        "* 수 number는 1 이상 10,000 이하인 정수입니다.\n",
        "\n",
        "▣ return 값 설명\n",
        "\n",
        "주어진 수 number와 number를 뒤집은 수와의 차를 return 합니다.\n",
        "\n",
        "▣ 예제\n",
        "\n",
        "    | number | return |\n",
        "    |--------|--------|\n",
        "    | 120\t | 99 \t  |\n",
        "    | 23 \t | 9  \t  |\n",
        "\n",
        "▣ 예제 설명\n",
        "\n",
        "예제 #1\n",
        "\n",
        "문제에 나온 예와 같습니다.\n",
        "\n",
        "예제 #2\n",
        "\n",
        "23을 반대로 뒤집으면 32가 되고 이때 두 수의 차는 9 입니다.\n"
      ],
      "metadata": {
        "id": "ArGlvFcvZkJO"
      }
    },
    {
      "cell_type": "code",
      "source": [
        "# 1.주어진 수의 자릿수를 구합니다.\n",
        "# 2.구한 자릿수를 이용하여 주어진 수를 거꾸로 뒤집습니다.\n",
        "# 3.주어진 수와 뒤집은 수의 차이를 구합니다."
      ],
      "metadata": {
        "id": "BOjRRANFBP49"
      },
      "execution_count": null,
      "outputs": []
    },
    {
      "cell_type": "code",
      "source": [
        "number = 120\n",
        "len(str(number)), int(str(number)[::-1])"
      ],
      "metadata": {
        "colab": {
          "base_uri": "https://localhost:8080/"
        },
        "id": "yprXxZlgCkK0",
        "outputId": "fed15fd1-a4ba-4b5f-960e-4cd3cdb724d8"
      },
      "execution_count": null,
      "outputs": [
        {
          "output_type": "execute_result",
          "data": {
            "text/plain": [
              "(3, 21)"
            ]
          },
          "metadata": {},
          "execution_count": 37
        }
      ]
    },
    {
      "cell_type": "code",
      "source": [
        "def func_d(number):\n",
        "    ret = 0\n",
        "    while number > 0:\n",
        "        temp = number % 10    # temp = 3, temp = 2, temp = 1\n",
        "        number = number // 10 # number = 12, number = 1, number = 0\n",
        "        ret = ret * 10 + temp # ret = 3, ret = 32, ret = 321\n",
        "    return ret\n",
        "\n",
        "func_d(123)"
      ],
      "metadata": {
        "colab": {
          "base_uri": "https://localhost:8080/"
        },
        "id": "UXPU5PCFDlMR",
        "outputId": "8e54780a-8a0d-430d-96e7-6dbe5eac9a06"
      },
      "execution_count": null,
      "outputs": [
        {
          "output_type": "execute_result",
          "data": {
            "text/plain": [
              "321"
            ]
          },
          "metadata": {},
          "execution_count": 40
        }
      ]
    },
    {
      "cell_type": "code",
      "source": [
        "# 3.주어진 수와 뒤집은 수의 차이를 구합니다.\n",
        "def func_a(number1, number2):\n",
        "    return abs(number1 - number2)\n",
        "\n",
        "# 1.주어진 수의 자릿수를 구합니다.\n",
        "def func_b(number):\n",
        "    return len(str(number))\n",
        "\n",
        "# 2.구한 자릿수를 이용하여 주어진 수를 거꾸로 뒤집습니다.\n",
        "def func_c(number, digit):\n",
        "    return int(str(number)[::-1])\n",
        "\n",
        "def func_d(number):\n",
        "    ret = 0\n",
        "    while number > 0:\n",
        "        temp = number % 10\n",
        "        number = number // 10\n",
        "        ret = ret * 10 + temp\n",
        "    return ret\n",
        "\n",
        "def solution(number):\n",
        "    answer = 0\n",
        "    #digit = func_b(number)\n",
        "    #convert_number = func_c(number, digit)\n",
        "    convert_number = func_d(number)\n",
        "    answer = func_a(number, convert_number)\n",
        "    return answer\n",
        "\n",
        "#아래는 테스트케이스 출력을 해보기 위한 코드입니다.\n",
        "number1 = 120\n",
        "ret1 = solution(number1)\n",
        "\n",
        "#[실행] 버튼을 누르면 출력 값을 볼 수 있습니다.\n",
        "print(\"solution 함수의 반환 값은\", ret1, \"입니다.\")\n",
        "\n",
        "number2 = 23\n",
        "ret2 = solution(number2)\n",
        "\n",
        "#[실행] 버튼을 누르면 출력 값을 볼 수 있습니다.\n",
        "print(\"solution 함수의 반환 깂은\", ret2, \"입니다.\")"
      ],
      "metadata": {
        "colab": {
          "base_uri": "https://localhost:8080/"
        },
        "id": "F8Ck_p0YCQob",
        "outputId": "bedb6718-f194-4d27-d33e-5562b13eb720"
      },
      "execution_count": null,
      "outputs": [
        {
          "output_type": "stream",
          "name": "stdout",
          "text": [
            "solution 함수의 반환 값은 99 입니다.\n",
            "solution 함수의 반환 깂은 9 입니다.\n"
          ]
        }
      ]
    },
    {
      "cell_type": "code",
      "source": [
        "# 3.주어진 수와 뒤집은 수의 차이를 구합니다.\n",
        "def func_a(number1, number2):\n",
        "    ret = 0\n",
        "    if number1 > number2:\n",
        "        ret = number1 - number2\n",
        "    else:\n",
        "        ret = number2 - number1\n",
        "    return ret\n",
        "\n",
        "# 1.주어진 수의 자릿수를 구합니다.\n",
        "def func_b(number):\n",
        "    ret = 0\n",
        "    while number != 0:\n",
        "        number = number // 10\n",
        "        ret += 1\n",
        "    return ret\n",
        "\n",
        "# 2.구한 자릿수를 이용하여 주어진 수를 거꾸로 뒤집습니다.\n",
        "def func_c(number, digit):\n",
        "    ret = 0\n",
        "    for i in range(digit):\n",
        "        temp = number % 10\n",
        "        number = number // 10\n",
        "        ret = ret * 10 + temp\n",
        "    return ret\n",
        "\n",
        "def solution(number):\n",
        "    answer = 0\n",
        "    digit = func_b(number)\n",
        "    convert_number = func_c(number, digit)\n",
        "    answer = func_a(number, convert_number)\n",
        "    return answer\n",
        "\n",
        "#아래는 테스트케이스 출력을 해보기 위한 코드입니다.\n",
        "number1 = 120\n",
        "ret1 = solution(number1)\n",
        "\n",
        "#[실행] 버튼을 누르면 출력 값을 볼 수 있습니다.\n",
        "print(\"solution 함수의 반환 값은\", ret1, \"입니다.\")\n",
        "\n",
        "number2 = 23\n",
        "ret2 = solution(number2)\n",
        "\n",
        "#[실행] 버튼을 누르면 출력 값을 볼 수 있습니다.\n",
        "print(\"solution 함수의 반환 깂은\", ret2, \"입니다.\")"
      ],
      "metadata": {
        "id": "u_FF7SQxZyPl",
        "colab": {
          "base_uri": "https://localhost:8080/"
        },
        "outputId": "754b1034-8cf2-4d0b-82d3-6f0184bc08b8"
      },
      "execution_count": null,
      "outputs": [
        {
          "output_type": "stream",
          "name": "stdout",
          "text": [
            "solution 함수의 반환 값은 99 입니다.\n",
            "solution 함수의 반환 깂은 9 입니다.\n"
          ]
        }
      ]
    },
    {
      "cell_type": "markdown",
      "source": [
        "## 문제 9. 양말 만들기\n",
        "\n",
        "다양한 색을 가진 양말 중 같은 색을 가진 양말을 2개씩 묶어 한 쌍을 만드려고 합니다.\n",
        "\n",
        "예를 들어, 가지고 있는 양말의 색깔이 [빨강, 파랑, 빨강, 노랑, 파랑, 빨강] 이라면 아래 그림과 같이 2쌍을 만들 수 있습니다.\n",
        "\n",
        "![image.png](data:image/png;base64,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)\n",
        "\n",
        "양말 색을 숫자로 표현해서 담은 배열 socks가 매개변수로 주어질 때, 양말을 몇 쌍 만들 수 있는지 return 하도록 solution 함수를 작성했습니다. 그러나, 코드 일부분이 잘못되어있기 때문에, 몇몇 입력에 대해서는 올바르게 동작하지 않습니다. 주어진 코드에서 _**한 줄**_만 변경해서 모든 입력에 대해 올바르게 동작하도록 수정하세요.\n",
        "\n",
        "\n",
        "▣ 매개변수 설명\n",
        "\n",
        "양말 색을 숫자로 표현해서 담은 배열 socks가 solution 함수의 매개변수로 주어집니다.\n",
        "* 양말 색은 0 보다 크거나 같고 10 보다 작은 정수로 표현합니다.\n",
        "* 양말 수는 1개 이상 100개 이하입니다.\n",
        "\n",
        "▣ return 값 설명\n",
        "\n",
        "양말을 몇 쌍 만들 수 있는지 return 합니다.\n",
        "\n",
        "▣ 예시\n",
        "\n",
        "    | socks              | return |\n",
        "    |--------------------|--------|\n",
        "    | [1, 2, 1, 3, 2, 1] | 2      |\n",
        "\n",
        "▣ 예시 설명\n",
        "\n",
        "문제에 나온 예와 같습니다.\n"
      ],
      "metadata": {
        "id": "apj5JbBZZyey"
      }
    },
    {
      "cell_type": "code",
      "source": [
        "def solution(socks):\n",
        "    answer = 0\n",
        "    count = [0] * 10  # [0 for _ in range(10)]\n",
        "    for s in socks:\n",
        "        count[s] += 1\n",
        "\n",
        "    for c in count:\n",
        "        answer += (c // 2)  # 수정 부분\n",
        "    return answer\n",
        "\n",
        "#아래는 테스트케이스 출력을 해보기 위한 코드입니다. 아래에는 잘못된 부분이 없으니 위의 코드만 수정하세요.\n",
        "socks = [1, 2, 1, 3, 2, 1]\n",
        "ret = solution(socks)\n",
        "\n",
        "#[실행] 버튼을 누르면 출력 값을 볼 수 있습니다.\n",
        "print(\"solution 함수의 반환 값은\", ret, \"입니다.\")"
      ],
      "metadata": {
        "id": "xcMXI2prZ8E2",
        "colab": {
          "base_uri": "https://localhost:8080/"
        },
        "outputId": "5a8824d7-b8ae-494a-e78f-432c38b6561f"
      },
      "execution_count": null,
      "outputs": [
        {
          "output_type": "stream",
          "name": "stdout",
          "text": [
            "[0, 3, 2, 1, 0, 0, 0, 0, 0, 0]\n",
            "solution 함수의 반환 값은 2 입니다.\n"
          ]
        }
      ]
    },
    {
      "cell_type": "markdown",
      "source": [
        "## 문제 10. 불량 사과 상자\n",
        "\n",
        "불량 사과 상자가 몇 박스인지 알아보려 합니다. 사과 한 박스의 표준 무게는 weight이며, 표준 무게와 비교해 무게가 오차 10% 이내인 사과 박스는 정상품으로, 오차가 그보다 많은 사과 박스는 불량품으로 판정합니다.\n",
        "\n",
        "예를 들어, 표준 무게가 600이라면 무게가 540 이상 660 이하인 사과 상자만 정상품입니다. 판정해야 할 사과 상자의 무게가 각각 [653, 670, 533, 540, 660]로 주어진다면 무게가 670, 533인 상자는 불량품입니다. 따라서 주어진 상자 중 불량품은 2개입니다.\n",
        "\n",
        "표준 무게 weight와 판정해야 할 사과 상자의 무게가 담긴 배열 boxes가 매개변수로 주어질 때, 불량품 개수를 return 하도록 solution 함수를 작성하려 합니다. 빈칸을 채워 전체 코드를 완성해주세요.\n",
        "\n",
        "\n",
        "▣ 매개변수 설명\n",
        "\n",
        "표준 무게 weight와 판정해야 할 사과 상자의 무게가 담긴 배열 boxes가 solution 함수의 매개변수로 주어집니다.\n",
        "* 표준 무게는 500 이상 10,000 이하입니다.\n",
        "* 표준 무게는 항상 10으로 나누어 떨어집니다.\n",
        "* 판정해야 할 사과 상자의 개수는 1개 이상 20개 이하입니다.\n",
        "* 판정해야 할 사과 상자의 무게는 400 이상 12,000 이하입니다.\n",
        "\n",
        "▣ return 값 설명\n",
        "\n",
        "불량품 개수를 return 해주세요.\n",
        "\n",
        "▣ 예시\n",
        "\n",
        "    | weight | boxes                    | return |\n",
        "    |--------|--------------------------|--------|\n",
        "    | 600\t| [653, 670, 533, 540, 660] | 2      |\n",
        "\n",
        "▣ 예시 설명\n",
        "\n",
        "문제에 나온 예와 같습니다.\n"
      ],
      "metadata": {
        "id": "sPU5LAPeZ8sl"
      }
    },
    {
      "cell_type": "code",
      "source": [
        "def solution2(weight, boxes):\n",
        "    Low, High = weight*0.9, weight*1.1\n",
        "    return sum(1 for x in boxes if Low > x or High < x)\n",
        "\n",
        "def solution(weight, boxes):\n",
        "    answer = 0\n",
        "    for x in boxes:\n",
        "        if weight*0.9 > x or weight*1.1 < x:  # 불량 상자일 조건\n",
        "            answer += 1\n",
        "    return answer\n",
        "\n",
        "#아래는 테스트케이스 출력을 해보기 위한 코드입니다.\n",
        "weight = 600\n",
        "boxes = [653, 670, 533, 540, 660]\n",
        "ret = solution(weight, boxes)\n",
        "\n",
        "#[실행] 버튼을 누르면 출력 값을 볼 수 있습니다.\n",
        "print(\"solution 함수의 반환 값은\", ret, \"입니다.\")"
      ],
      "metadata": {
        "id": "OgQyNKZnZ9Db",
        "colab": {
          "base_uri": "https://localhost:8080/"
        },
        "outputId": "bdd72667-6f01-48cb-f4e4-6dad1d59754b"
      },
      "execution_count": null,
      "outputs": [
        {
          "output_type": "stream",
          "name": "stdout",
          "text": [
            "540.0 660.0\n",
            "solution 함수의 반환 값은 2 입니다.\n"
          ]
        }
      ]
    }
  ]
}